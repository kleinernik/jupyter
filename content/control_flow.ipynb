{
  "metadata": {
    "language_info": {
      "codemirror_mode": {
        "name": "javascript"
      },
      "file_extension": ".js",
      "mimetype": "text/javascript",
      "name": "javascript",
      "nbconvert_exporter": "javascript",
      "pygments_lexer": "javascript",
      "version": "es2017"
    },
    "kernelspec": {
      "name": "javascript",
      "display_name": "JavaScript",
      "language": "javascript"
    }
  },
  "nbformat_minor": 4,
  "nbformat": 4,
  "cells": [
    {
      "cell_type": "markdown",
      "source": "# Control flow\n\n## if",
      "metadata": {}
    },
    {
      "cell_type": "code",
      "source": "const a = 1;\nconst b = 2;\n\nif(a < b) {\n  console.log('a is smaller')\n} else if(a === b) {\n  console.log('they are equal')\n} else {\n  console.log('a is bigger')\n}",
      "metadata": {
        "trusted": true
      },
      "execution_count": 28,
      "outputs": [
        {
          "execution_count": 28,
          "output_type": "execute_result",
          "data": {},
          "metadata": {}
        },
        {
          "event": "stream",
          "name": "stdout",
          "text": "a is smaller\n",
          "output_type": "stream"
        }
      ]
    },
    {
      "cell_type": "code",
      "source": "if (true) console.log('Yes'); else console.log('No');",
      "metadata": {
        "trusted": true
      },
      "execution_count": 29,
      "outputs": [
        {
          "execution_count": 29,
          "output_type": "execute_result",
          "data": {},
          "metadata": {}
        },
        {
          "event": "stream",
          "name": "stdout",
          "text": "Yes\n",
          "output_type": "stream"
        }
      ]
    },
    {
      "cell_type": "code",
      "source": "true ? console.log('Yes') : console.log('No');",
      "metadata": {
        "trusted": true
      },
      "execution_count": 30,
      "outputs": [
        {
          "execution_count": 30,
          "output_type": "execute_result",
          "data": {},
          "metadata": {}
        },
        {
          "event": "stream",
          "name": "stdout",
          "text": "Yes\n",
          "output_type": "stream"
        }
      ]
    },
    {
      "cell_type": "markdown",
      "source": "## switch",
      "metadata": {}
    },
    {
      "cell_type": "code",
      "source": "function dayOfTheWeek(num) {\n  switch (num) {\n    case 1:\n        return 'Monday';\n    case 2:\n        return 'Tuesday';\n    case 3:\n        return 'Wednesday';\n    case 4:\n        return 'Thursday';\n    case 5:\n        return 'Friday';\n    case 6:\n        return 'Saturday';\n    default:\n        return 'Sunday';\n  }\n}\n\ndayOfTheWeek(7)",
      "metadata": {
        "trusted": true
      },
      "execution_count": 31,
      "outputs": [
        {
          "execution_count": 31,
          "output_type": "execute_result",
          "data": {
            "text/plain": "Sunday"
          },
          "metadata": {}
        }
      ]
    },
    {
      "cell_type": "markdown",
      "source": "Ohne `return` oder `break` wird der nächste case ausgewertet! `return` geht nur innerhalb von functionen (early return).",
      "metadata": {}
    },
    {
      "cell_type": "code",
      "source": "function dayOfTheWeek(num) {\n  let day;\n  switch (num) {\n    case 1:\n        day = 'Monday';\n    case 2:\n        day = 'Tuesday';\n    case 3:\n        day = 'Wednesday';\n    case 4:\n        day = 'Thursday';\n    case 5:\n        day = 'Friday';\n    case 6:\n        day = 'Saturday';\n    default:\n        day = 'Sunday';\n  }\n  return day;\n}\n\ndayOfTheWeek(3)",
      "metadata": {
        "trusted": true
      },
      "execution_count": 32,
      "outputs": [
        {
          "execution_count": 32,
          "output_type": "execute_result",
          "data": {
            "text/plain": "Sunday"
          },
          "metadata": {}
        }
      ]
    },
    {
      "cell_type": "markdown",
      "source": "richtig wäre:",
      "metadata": {}
    },
    {
      "cell_type": "code",
      "source": "function dayOfTheWeek(num) {\n  let day;\n  switch (num) {\n    case 1:\n        day = 'Monday';\n        break;\n    case 2:\n        day = 'Tuesday';\n        break;\n    case 3:\n        day = 'Wednesday';\n        break;\n    case 4:\n        day = 'Thursday';\n        break;\n    case 5:\n        day = 'Friday';\n        break;\n    case 6:\n        day = 'Saturday';\n        break;\n    default:\n        day = 'Sunday';\n        break;\n  }\n  return day;\n}\n\ndayOfTheWeek(3)",
      "metadata": {
        "trusted": true
      },
      "execution_count": 33,
      "outputs": [
        {
          "execution_count": 33,
          "output_type": "execute_result",
          "data": {
            "text/plain": "Wednesday"
          },
          "metadata": {}
        }
      ]
    },
    {
      "cell_type": "code",
      "source": "function isWeekDay(name) {\n  switch (name) {\n    case 'Monday':\n    case 'Tuesday':\n    case 'Wednesday':\n    case 'Thursday':\n    case 'Friday':\n      return true;\n    case 'Saturday':\n    case 'Sunday':\n      return false;\n    default:\n      throw new Error('Illegal value: ' + name);\n  }\n}\n\nisWeekDay('Monday');",
      "metadata": {
        "trusted": true
      },
      "execution_count": 34,
      "outputs": [
        {
          "execution_count": 34,
          "output_type": "execute_result",
          "data": {
            "text/plain": true
          },
          "metadata": {}
        }
      ]
    },
    {
      "cell_type": "markdown",
      "source": "## while",
      "metadata": {}
    },
    {
      "cell_type": "code",
      "source": "const arr = ['a', 'b', 'c'];\nwhile (arr.length > 0) {\n    const elem = arr.shift();\n    console.log(elem);\n}",
      "metadata": {
        "trusted": true
      },
      "execution_count": 35,
      "outputs": [
        {
          "execution_count": 35,
          "output_type": "execute_result",
          "data": {},
          "metadata": {}
        },
        {
          "event": "stream",
          "name": "stdout",
          "text": "a\nb\nc\n",
          "output_type": "stream"
        }
      ]
    },
    {
      "cell_type": "markdown",
      "source": "## do-while",
      "metadata": {}
    },
    {
      "cell_type": "code",
      "source": "let input;\ndo {\n    input = prompt('Enter text:');\n    console.log(input);\n} while (input !== ':q');",
      "metadata": {
        "trusted": true
      },
      "execution_count": 36,
      "outputs": [
        {
          "execution_count": 36,
          "output_type": "execute_result",
          "data": {},
          "metadata": {}
        },
        {
          "event": "stream",
          "name": "stdout",
          "text": ":q\n",
          "output_type": "stream"
        }
      ]
    },
    {
      "cell_type": "markdown",
      "source": "## for",
      "metadata": {}
    },
    {
      "cell_type": "code",
      "source": "for(let i = 0; i < 10; i++) console.log(i)",
      "metadata": {
        "trusted": true
      },
      "execution_count": 37,
      "outputs": [
        {
          "execution_count": 37,
          "output_type": "execute_result",
          "data": {},
          "metadata": {}
        },
        {
          "event": "stream",
          "name": "stdout",
          "text": "0\n1\n2\n3\n4\n5\n6\n7\n8\n9\n",
          "output_type": "stream"
        }
      ]
    },
    {
      "cell_type": "markdown",
      "source": "## for-of",
      "metadata": {}
    },
    {
      "cell_type": "code",
      "source": "const names = ['Niklas', 'Klein'];\nfor(const name of names) {\n    console.log(name)\n}",
      "metadata": {
        "trusted": true
      },
      "execution_count": 38,
      "outputs": [
        {
          "execution_count": 38,
          "output_type": "execute_result",
          "data": {},
          "metadata": {}
        },
        {
          "event": "stream",
          "name": "stdout",
          "text": "Niklas\nKlein\n",
          "output_type": "stream"
        }
      ]
    },
    {
      "cell_type": "markdown",
      "source": "Hinweis, bei for-of kann die variable mit const deklariert werden darf dann in der Iteration der Schleife nicht mehr geändert werden.",
      "metadata": {}
    },
    {
      "cell_type": "code",
      "source": "const names = ['Niklas', 'Klein'];\nfor(const [index, name] of names.entries()) {\n    console.log(index, name)\n}",
      "metadata": {
        "trusted": true
      },
      "execution_count": 39,
      "outputs": [
        {
          "execution_count": 39,
          "output_type": "execute_result",
          "data": {},
          "metadata": {}
        },
        {
          "event": "stream",
          "name": "stdout",
          "text": "0 Niklas\n1 Klein\n",
          "output_type": "stream"
        }
      ]
    },
    {
      "cell_type": "markdown",
      "source": "Es gibt auch for-in, dass sollte nicht genommen werden ein Array iteriert wird, weil es über die Schlüssel (Keys) der Eigenschaften interiert. Bei Objekten ist das ok.",
      "metadata": {}
    },
    {
      "cell_type": "code",
      "source": "const array = ['a', 'b', 'c'];\narray.propKey = 'property value';\n\nfor(const key in array) {\n    console.log(key);\n}",
      "metadata": {
        "trusted": true
      },
      "execution_count": 40,
      "outputs": [
        {
          "execution_count": 40,
          "output_type": "execute_result",
          "data": {},
          "metadata": {}
        },
        {
          "event": "stream",
          "name": "stdout",
          "text": "0\n1\n2\npropKey\n",
          "output_type": "stream"
        }
      ]
    },
    {
      "cell_type": "code",
      "source": "const person = {\n    firstname: 'Niklas',\n    lastname: 'Klein'\n}\n\nfor(const key in person) {\n    console.log(key, person[key])\n}",
      "metadata": {
        "trusted": true
      },
      "execution_count": 41,
      "outputs": [
        {
          "execution_count": 41,
          "output_type": "execute_result",
          "data": {},
          "metadata": {}
        },
        {
          "event": "stream",
          "name": "stdout",
          "text": "firstname Niklas\nlastname Klein\n",
          "output_type": "stream"
        }
      ]
    },
    {
      "cell_type": "markdown",
      "source": "## Break und Continue\n\nMit `break` kann immer der Schleifendurchlauf vorzeitig abgebrochen werden. Mit `continue` dirkt der nächste Durchlauf gestartet werden, ohne das der Rest des Rumpfs evaluiert wird.",
      "metadata": {}
    },
    {
      "cell_type": "code",
      "source": "for (const x of ['a', 'b', 'c']) {\n    console.log(x);\n    if (x === 'b') break;\n    console.log('---')\n}",
      "metadata": {
        "trusted": true
      },
      "execution_count": 42,
      "outputs": [
        {
          "execution_count": 42,
          "output_type": "execute_result",
          "data": {},
          "metadata": {}
        },
        {
          "event": "stream",
          "name": "stdout",
          "text": "a\n---\nb\n",
          "output_type": "stream"
        }
      ]
    },
    {
      "cell_type": "code",
      "source": "const lines = [\n    'Normal line',\n    '# Comment',\n    'Another normal line',\n];\nfor (const line of lines) {\n    if (line.startsWith('#')) continue;\n    console.log(line);\n}",
      "metadata": {
        "trusted": true
      },
      "execution_count": 43,
      "outputs": [
        {
          "execution_count": 43,
          "output_type": "execute_result",
          "data": {},
          "metadata": {}
        },
        {
          "event": "stream",
          "name": "stdout",
          "text": "Normal line\nAnother normal line\n",
          "output_type": "stream"
        }
      ]
    },
    {
      "cell_type": "markdown",
      "source": "Es gibt auch labeled `break` - das behandeln wir nicht.",
      "metadata": {}
    },
    {
      "cell_type": "markdown",
      "source": "# Ausnahmebehandlung",
      "metadata": {}
    },
    {
      "cell_type": "code",
      "source": "function hups() { throw new Error('Hups');\n}\nhups();",
      "metadata": {
        "trusted": true
      },
      "execution_count": 44,
      "outputs": [
        {
          "ename": "Error",
          "evalue": "Hups",
          "traceback": [
            "Error: Hups\n    at hups (eval at <anonymous> (eval at s (https://kleinernik.github.io/jupyter/build/1013.37ec5b5.js:1:1)), <anonymous>:1:25)\n    at eval (eval at <anonymous> (eval at s (https://kleinernik.github.io/jupyter/build/1013.37ec5b5.js:1:1)), <anonymous>:3:1)\n    at eval (<anonymous>)\n    at s.eval [as _evalFunc] (eval at s (https://kleinernik.github.io/jupyter/build/1013.37ec5b5.js:1:1), <anonymous>:3:15)\n    at s._eval (https://kleinernik.github.io/jupyter/build/1013.37ec5b5.js:1:2501)\n    at s.executeRequest (https://kleinernik.github.io/jupyter/build/1013.37ec5b5.js:1:1372)\n    at s._execute (https://kleinernik.github.io/jupyter/build/6433.a5fc382.js:1:6015)\n    at s.handleMessage (https://kleinernik.github.io/jupyter/build/6433.a5fc382.js:1:2290)\n    at https://kleinernik.github.io/jupyter/build/6433.a5fc382.js:1:10032\n    at https://kleinernik.github.io/jupyter/build/6433.a5fc382.js:1:9106"
          ],
          "output_type": "error"
        }
      ]
    },
    {
      "cell_type": "code",
      "source": "function hups() { throw new Error('Hups');\n}\n\nfunction catchHups() {\n    try {\n        hups()\n    } catch(error) {\n        console.log(`we've got an error here: ${error}`)\n    } finally {\n        console.log(`done`)\n    }\n}\n\ncatchHups();",
      "metadata": {
        "trusted": true
      },
      "execution_count": 45,
      "outputs": [
        {
          "execution_count": 45,
          "output_type": "execute_result",
          "data": {},
          "metadata": {}
        },
        {
          "event": "stream",
          "name": "stdout",
          "text": "we've got an error here: Error: Hups\ndone\n",
          "output_type": "stream"
        }
      ]
    },
    {
      "cell_type": "code",
      "source": "",
      "metadata": {},
      "execution_count": null,
      "outputs": []
    }
  ]
}
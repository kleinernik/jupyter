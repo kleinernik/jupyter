{
  "metadata": {
    "language_info": {
      "codemirror_mode": {
        "name": "javascript"
      },
      "file_extension": ".js",
      "mimetype": "text/javascript",
      "name": "javascript",
      "nbconvert_exporter": "javascript",
      "pygments_lexer": "javascript",
      "version": "es2017"
    },
    "kernelspec": {
      "name": "javascript",
      "display_name": "JavaScript",
      "language": "javascript"
    }
  },
  "nbformat_minor": 4,
  "nbformat": 4,
  "cells": [
    {
      "cell_type": "markdown",
      "source": "# Typen\n\nJavaScript hat grundsätzlich zwei Arten von Typen:\n\n1. primitive Typen\n2. Objekte\n\n## Primitive Typen\n\nEs gibt die folgenden primitiven Typen:\n\n1. boolean\n2. number\n3. string\n4. symbol\n5. undefined\n6. null\n7. bigint\n\nAlle anderen Werte sind vom Typ `object`.\n\nDer `typeof`-Operator kann verwendet werden, um zu Prüfen, welchen Typ ein Wert hat. Er gibt einen _string_ zurück.",
      "metadata": {}
    },
    {
      "cell_type": "code",
      "source": "typeof false === 'boolean'",
      "metadata": {
        "trusted": true
      },
      "execution_count": 8,
      "outputs": [
        {
          "execution_count": 8,
          "output_type": "execute_result",
          "data": {
            "text/plain": true
          },
          "metadata": {}
        }
      ]
    },
    {
      "cell_type": "code",
      "source": "typeof true",
      "metadata": {
        "trusted": true
      },
      "execution_count": 2,
      "outputs": [
        {
          "execution_count": 2,
          "output_type": "execute_result",
          "data": {
            "text/plain": "boolean"
          },
          "metadata": {}
        }
      ]
    },
    {
      "cell_type": "code",
      "source": "typeof 1",
      "metadata": {
        "trusted": true
      },
      "execution_count": 3,
      "outputs": [
        {
          "execution_count": 3,
          "output_type": "execute_result",
          "data": {
            "text/plain": "number"
          },
          "metadata": {}
        }
      ]
    },
    {
      "cell_type": "code",
      "source": "typeof 1n",
      "metadata": {
        "trusted": true
      },
      "execution_count": 4,
      "outputs": [
        {
          "execution_count": 4,
          "output_type": "execute_result",
          "data": {
            "text/plain": "bigint"
          },
          "metadata": {}
        }
      ]
    },
    {
      "cell_type": "code",
      "source": "typeof Symbol('mySymbol')",
      "metadata": {
        "trusted": true
      },
      "execution_count": 5,
      "outputs": [
        {
          "execution_count": 5,
          "output_type": "execute_result",
          "data": {
            "text/plain": "symbol"
          },
          "metadata": {}
        }
      ]
    },
    {
      "cell_type": "code",
      "source": "typeof undefined",
      "metadata": {
        "trusted": true
      },
      "execution_count": 6,
      "outputs": [
        {
          "execution_count": 6,
          "output_type": "execute_result",
          "data": {
            "text/plain": "undefined"
          },
          "metadata": {}
        }
      ]
    },
    {
      "cell_type": "markdown",
      "source": "Achtung, aus historischen Gründen funktioniert das für `null` nicht wie erwartet:",
      "metadata": {}
    },
    {
      "cell_type": "code",
      "source": "typeof null",
      "metadata": {
        "trusted": true
      },
      "execution_count": 7,
      "outputs": [
        {
          "execution_count": 7,
          "output_type": "execute_result",
          "data": {
            "text/plain": "object"
          },
          "metadata": {}
        }
      ]
    },
    {
      "cell_type": "markdown",
      "source": "## Objekte\n\nAlle anderen Werte sind Objekte.",
      "metadata": {}
    },
    {
      "cell_type": "code",
      "source": "typeof []",
      "metadata": {
        "trusted": true
      },
      "execution_count": 10,
      "outputs": [
        {
          "execution_count": 10,
          "output_type": "execute_result",
          "data": {
            "text/plain": "object"
          },
          "metadata": {}
        }
      ]
    },
    {
      "cell_type": "code",
      "source": "typeof {fistName: 'Niklas'}",
      "metadata": {
        "trusted": true
      },
      "execution_count": 11,
      "outputs": [
        {
          "execution_count": 11,
          "output_type": "execute_result",
          "data": {
            "text/plain": "object"
          },
          "metadata": {}
        }
      ]
    },
    {
      "cell_type": "markdown",
      "source": "## Unterschiede\n\n### Pass by value vs. pass by referenz\n\nPrimitive Werte werden immer als Wert übergeben (_pass by value_), d.h. wenn ein primitiver Wert einer Variable zugewiesen wird, oder einer Funktion übergeben wird, dann wird der Wert kopiert:",
      "metadata": {}
    },
    {
      "cell_type": "code",
      "source": "let x1 = 1;\nlet x2 = x1; // Wert von x1 wird kopiert\n\nx1 = 2;\nconsole.log(x2)",
      "metadata": {
        "trusted": true
      },
      "execution_count": 16,
      "outputs": [
        {
          "execution_count": 16,
          "output_type": "execute_result",
          "data": {},
          "metadata": {}
        },
        {
          "event": "stream",
          "name": "stdout",
          "text": "1\n",
          "output_type": "stream"
        }
      ]
    },
    {
      "cell_type": "markdown",
      "source": "Objekte werden als _Referenz_ übergeben (_pass by referenz_), dass kann man sich vorstellen wie ein Zeiger, dessen Wert kopiert wird, der zeigt dann immer noch auf das selbe Objekt:",
      "metadata": {}
    },
    {
      "cell_type": "code",
      "source": "let o1 = {name: 'Niklas'};\nlet o2 = o1; // o2 zeigt auf o1\n\no1.name = 'Niklas Klein';\n\nconsole.log(o2.name);",
      "metadata": {
        "trusted": true
      },
      "execution_count": 17,
      "outputs": [
        {
          "execution_count": 17,
          "output_type": "execute_result",
          "data": {},
          "metadata": {}
        },
        {
          "event": "stream",
          "name": "stdout",
          "text": "Niklas Klein\n",
          "output_type": "stream"
        }
      ]
    },
    {
      "cell_type": "markdown",
      "source": "### Vergleichen\n\nPrimitive Werte werden bzgl. ihrers Inhalts verglichen:",
      "metadata": {}
    },
    {
      "cell_type": "code",
      "source": "let x1 = 1;\nlet x2 = 1;\n\nx1 === x2;",
      "metadata": {
        "trusted": true
      },
      "execution_count": 18,
      "outputs": [
        {
          "execution_count": 18,
          "output_type": "execute_result",
          "data": {
            "text/plain": true
          },
          "metadata": {}
        }
      ]
    },
    {
      "cell_type": "markdown",
      "source": "Objekte werden hinsichtlich ihrer Referenz verglichen; d.h. nur wenn es das selbe Object ist, ist es auch gleich.",
      "metadata": {}
    },
    {
      "cell_type": "code",
      "source": "let o1 = {name: 'Niklas'};\nlet o2 = {name: 'Niklas'};\n\no1 === o2;",
      "metadata": {
        "trusted": true
      },
      "execution_count": 21,
      "outputs": [
        {
          "execution_count": 21,
          "output_type": "execute_result",
          "data": {
            "text/plain": false
          },
          "metadata": {}
        }
      ]
    },
    {
      "cell_type": "code",
      "source": "let o1 = {name: 'Niklas'};\nlet o2 = o1;\n\no1 === o2;",
      "metadata": {
        "trusted": true
      },
      "execution_count": 22,
      "outputs": [
        {
          "execution_count": 22,
          "output_type": "execute_result",
          "data": {
            "text/plain": true
          },
          "metadata": {}
        }
      ]
    },
    {
      "cell_type": "markdown",
      "source": "### Unterschiede zu Java\n\nAnders als in Java haben primitive Werte Eigenschaften, diese sind unveränderlich (_immutable_).",
      "metadata": {}
    },
    {
      "cell_type": "code",
      "source": "const str = 'Niklas';\nconsole.log(str.length);",
      "metadata": {
        "trusted": true
      },
      "execution_count": 24,
      "outputs": [
        {
          "execution_count": 24,
          "output_type": "execute_result",
          "data": {},
          "metadata": {}
        },
        {
          "event": "stream",
          "name": "stdout",
          "text": "6\n",
          "output_type": "stream"
        }
      ]
    },
    {
      "cell_type": "markdown",
      "source": "## Objekte\n\nObjekte werden u.a. mit dem Objekt-Literal (`{}`) erzeugt.",
      "metadata": {}
    },
    {
      "cell_type": "code",
      "source": "const person = {\n    firstName: 'Niklas',\n    lastName: 'Klein'\n}",
      "metadata": {
        "trusted": true
      },
      "execution_count": 29,
      "outputs": [
        {
          "execution_count": 29,
          "output_type": "execute_result",
          "data": {},
          "metadata": {}
        }
      ]
    },
    {
      "cell_type": "markdown",
      "source": "Objekte sind vom Typ `object`\n",
      "metadata": {}
    },
    {
      "cell_type": "code",
      "source": "const person = {\n    firstName: 'Niklas',\n    lastName: 'Klein'\n}\ntypeof person",
      "metadata": {
        "trusted": true
      },
      "execution_count": 32,
      "outputs": [
        {
          "execution_count": 32,
          "output_type": "execute_result",
          "data": {
            "text/plain": "object"
          },
          "metadata": {}
        }
      ]
    },
    {
      "cell_type": "markdown",
      "source": "Ein mit dem Array-Literal erzeugtes Array (`[]`) ist auch ein Objekt",
      "metadata": {}
    },
    {
      "cell_type": "code",
      "source": "typeof []",
      "metadata": {
        "trusted": true
      },
      "execution_count": 33,
      "outputs": [
        {
          "execution_count": 33,
          "output_type": "execute_result",
          "data": {
            "text/plain": "object"
          },
          "metadata": {}
        }
      ]
    },
    {
      "cell_type": "markdown",
      "source": "Objekte sind per default veränderlich, d.h. die Eingeschaften können geschrieben werden",
      "metadata": {}
    },
    {
      "cell_type": "code",
      "source": "const myArray = [1, 2, 3, 4];\nconsole.log(myArray.length);\n\nmyArray.length = 2;\nconsole.log(myArray)\n",
      "metadata": {
        "trusted": true
      },
      "execution_count": 34,
      "outputs": [
        {
          "execution_count": 34,
          "output_type": "execute_result",
          "data": {},
          "metadata": {}
        },
        {
          "event": "stream",
          "name": "stdout",
          "text": "4\n1,2\n",
          "output_type": "stream"
        }
      ]
    },
    {
      "cell_type": "markdown",
      "source": "## `instanceof`",
      "metadata": {}
    },
    {
      "cell_type": "markdown",
      "source": "Während mit `typeof`bei Objekten nur festgestellt werden kann, ob sie den Typ `object` haben, kann mit `instanceof` festgestellt werden, von welcher Klasse sie erzeugt wurde.",
      "metadata": {}
    },
    {
      "cell_type": "code",
      "source": "typeof []",
      "metadata": {
        "trusted": true
      },
      "execution_count": 36,
      "outputs": [
        {
          "execution_count": 36,
          "output_type": "execute_result",
          "data": {
            "text/plain": "object"
          },
          "metadata": {}
        }
      ]
    },
    {
      "cell_type": "code",
      "source": "[] instanceof Array",
      "metadata": {
        "trusted": true
      },
      "execution_count": 38,
      "outputs": [
        {
          "execution_count": 38,
          "output_type": "execute_result",
          "data": {
            "text/plain": true
          },
          "metadata": {}
        }
      ]
    },
    {
      "cell_type": "code",
      "source": "const person = {\n    firstName: 'Niklas',\n    lastName: 'Klein'\n}\nperson instanceof Object",
      "metadata": {
        "trusted": true
      },
      "execution_count": 39,
      "outputs": [
        {
          "execution_count": 39,
          "output_type": "execute_result",
          "data": {
            "text/plain": true
          },
          "metadata": {}
        }
      ]
    },
    {
      "cell_type": "markdown",
      "source": "`person` wurde mit dem Objekt-Literal erzeugt und nicht mit einer speziellen Klasse, daher ist es eine Instanz von `Object` und vom Typ `object`.\n\nFunktionen sind auch Objekte:",
      "metadata": {}
    },
    {
      "cell_type": "code",
      "source": "(function() {}) instanceof Function",
      "metadata": {
        "trusted": true
      },
      "execution_count": 40,
      "outputs": [
        {
          "execution_count": 40,
          "output_type": "execute_result",
          "data": {
            "text/plain": true
          },
          "metadata": {}
        }
      ]
    },
    {
      "cell_type": "markdown",
      "source": "## Primitive Werte und Klassen\n\nZu jedem primitiven Typ gibt es eine Kontruktor-Funktion - das war der Vorläufer von Klassen in JavaScript. Praktisch verhalten sich die Konsturktorfunktionen fast wie Klassen (aber nicht mit `new` nutzen, dass geht zwar, macht aber was anderes als man denkt).",
      "metadata": {}
    },
    {
      "cell_type": "code",
      "source": "Number('123')",
      "metadata": {
        "trusted": true
      },
      "execution_count": 42,
      "outputs": [
        {
          "execution_count": 42,
          "output_type": "execute_result",
          "data": {
            "text/plain": 123
          },
          "metadata": {}
        }
      ]
    },
    {
      "cell_type": "code",
      "source": "Boolean('true')",
      "metadata": {
        "trusted": true
      },
      "execution_count": 44,
      "outputs": [
        {
          "execution_count": 44,
          "output_type": "execute_result",
          "data": {
            "text/plain": true
          },
          "metadata": {}
        }
      ]
    },
    {
      "cell_type": "code",
      "source": "String('test')",
      "metadata": {
        "trusted": true
      },
      "execution_count": 45,
      "outputs": [
        {
          "execution_count": 45,
          "output_type": "execute_result",
          "data": {
            "text/plain": "test"
          },
          "metadata": {}
        }
      ]
    },
    {
      "cell_type": "markdown",
      "source": "Die Konstruktor-Funktionen haben mehrere praktische Aufgaben:\n\n1. Wie oben gesehen, um `strings` zu dem Typ umzuwandeln.\n2. Um Werte von einem Typ zu `strings` umzuwandeln\n3. Kontainer für typspezifische Hilfsfunktionen",
      "metadata": {}
    },
    {
      "cell_type": "code",
      "source": "Number.isInteger(1)",
      "metadata": {
        "trusted": true
      },
      "execution_count": 47,
      "outputs": [
        {
          "execution_count": 47,
          "output_type": "execute_result",
          "data": {
            "text/plain": true
          },
          "metadata": {}
        }
      ]
    },
    {
      "cell_type": "code",
      "source": "Number.isInteger(1.1)",
      "metadata": {
        "trusted": true
      },
      "execution_count": 48,
      "outputs": [
        {
          "execution_count": 48,
          "output_type": "execute_result",
          "data": {
            "text/plain": false
          },
          "metadata": {}
        }
      ]
    },
    {
      "cell_type": "markdown",
      "source": "## Typumwandlung\n\nDie Konsturktor-Funktion kann, wie oben gesehen, für expliziete Typumwandlung genutzt werden:",
      "metadata": {}
    },
    {
      "cell_type": "code",
      "source": "Boolean(0)",
      "metadata": {
        "trusted": true
      },
      "execution_count": 50,
      "outputs": [
        {
          "execution_count": 50,
          "output_type": "execute_result",
          "data": {
            "text/plain": false
          },
          "metadata": {}
        }
      ]
    },
    {
      "cell_type": "code",
      "source": "Boolean(1)",
      "metadata": {
        "trusted": true
      },
      "execution_count": 51,
      "outputs": [
        {
          "execution_count": 51,
          "output_type": "execute_result",
          "data": {
            "text/plain": true
          },
          "metadata": {}
        }
      ]
    },
    {
      "cell_type": "code",
      "source": "Boolean('test')",
      "metadata": {
        "trusted": true
      },
      "execution_count": 52,
      "outputs": [
        {
          "execution_count": 52,
          "output_type": "execute_result",
          "data": {
            "text/plain": true
          },
          "metadata": {}
        }
      ]
    },
    {
      "cell_type": "code",
      "source": "Boolean('false')",
      "metadata": {
        "trusted": true
      },
      "execution_count": 53,
      "outputs": [
        {
          "execution_count": 53,
          "output_type": "execute_result",
          "data": {
            "text/plain": true
          },
          "metadata": {}
        }
      ]
    },
    {
      "cell_type": "markdown",
      "source": "### Automatische Typumwandung (_coercion_)",
      "metadata": {}
    },
    {
      "cell_type": "code",
      "source": "'2' * '3'",
      "metadata": {
        "trusted": true
      },
      "execution_count": 55,
      "outputs": [
        {
          "execution_count": 55,
          "output_type": "execute_result",
          "data": {
            "text/plain": 6
          },
          "metadata": {}
        }
      ]
    },
    {
      "cell_type": "markdown",
      "source": "## `undefined` und `null`\n\nIn Java gibt es nur einen \"non-value\"; einen Wert der für Nicht steht. In JavaScript gibt es zwei:\n\n1. `undefined` - bei uninitialisierten Variablen oder nicht-existenten Objekteigenschaften\n2. `null` - als Ausdruck von beabsichtigter Anwesenheit eines Werts",
      "metadata": {}
    },
    {
      "cell_type": "code",
      "source": "let x;\nx === undefined;",
      "metadata": {
        "trusted": true
      },
      "execution_count": 59,
      "outputs": [
        {
          "execution_count": 59,
          "output_type": "execute_result",
          "data": {
            "text/plain": true
          },
          "metadata": {}
        }
      ]
    },
    {
      "cell_type": "code",
      "source": "let x = null;\nx === undefined;",
      "metadata": {
        "trusted": true
      },
      "execution_count": 58,
      "outputs": [
        {
          "execution_count": 58,
          "output_type": "execute_result",
          "data": {
            "text/plain": false
          },
          "metadata": {}
        }
      ]
    },
    {
      "cell_type": "code",
      "source": "let x = null;\nx === null;",
      "metadata": {
        "trusted": true
      },
      "execution_count": 60,
      "outputs": [
        {
          "execution_count": 60,
          "output_type": "execute_result",
          "data": {
            "text/plain": true
          },
          "metadata": {}
        }
      ]
    },
    {
      "cell_type": "markdown",
      "source": "Wenn Funktionen zu wenig Parameter übergeben bekommen, sind diese `undefined` - die Funktione kann ohne das eine Exception geworfen wird, aufgerufen werden.",
      "metadata": {}
    },
    {
      "cell_type": "code",
      "source": "function func(x) { return x;}\n\nfunc() === undefined;",
      "metadata": {
        "trusted": true
      },
      "execution_count": 62,
      "outputs": [
        {
          "execution_count": 62,
          "output_type": "execute_result",
          "data": {
            "text/plain": true
          },
          "metadata": {}
        }
      ]
    },
    {
      "cell_type": "markdown",
      "source": "Nicht-existente Eigenschaften von Objekten sind `undefined`",
      "metadata": {}
    },
    {
      "cell_type": "code",
      "source": "const person = {\n    firstName: 'Niklas',\n    lastName: 'Klein'\n}\nperson.age === undefined",
      "metadata": {
        "trusted": true
      },
      "execution_count": 63,
      "outputs": [
        {
          "execution_count": 63,
          "output_type": "execute_result",
          "data": {
            "text/plain": true
          },
          "metadata": {}
        }
      ]
    },
    {
      "cell_type": "markdown",
      "source": "### Test auf `undefined` oder `null`",
      "metadata": {}
    },
    {
      "cell_type": "code",
      "source": "let x;\nif (x !== undefined && x !== null) {\n    console.log('x has a value')\n} else {\n    console.log('x has no value')\n}",
      "metadata": {
        "trusted": true
      },
      "execution_count": 65,
      "outputs": [
        {
          "execution_count": 65,
          "output_type": "execute_result",
          "data": {},
          "metadata": {}
        },
        {
          "event": "stream",
          "name": "stdout",
          "text": "x has no value\n",
          "output_type": "stream"
        }
      ]
    },
    {
      "cell_type": "markdown",
      "source": "## nullish coalescing operator (??)\n\nEs gibt einen Operator speziell für `undefined` und `null`",
      "metadata": {}
    },
    {
      "cell_type": "code",
      "source": "let x = null ?? 'default';\nconsole.log(x);",
      "metadata": {
        "trusted": true
      },
      "execution_count": 69,
      "outputs": [
        {
          "execution_count": 69,
          "output_type": "execute_result",
          "data": {},
          "metadata": {}
        },
        {
          "event": "stream",
          "name": "stdout",
          "text": "default\n",
          "output_type": "stream"
        }
      ]
    },
    {
      "cell_type": "code",
      "source": "let x = undefined ?? 'default';\nconsole.log(x);",
      "metadata": {
        "trusted": true
      },
      "execution_count": 70,
      "outputs": [
        {
          "execution_count": 70,
          "output_type": "execute_result",
          "data": {},
          "metadata": {}
        },
        {
          "event": "stream",
          "name": "stdout",
          "text": "default\n",
          "output_type": "stream"
        }
      ]
    },
    {
      "cell_type": "code",
      "source": "let x = 1 ?? 'default';\nconsole.log(x);",
      "metadata": {
        "trusted": true
      },
      "execution_count": 71,
      "outputs": [
        {
          "execution_count": 71,
          "output_type": "execute_result",
          "data": {},
          "metadata": {}
        },
        {
          "event": "stream",
          "name": "stdout",
          "text": "1\n",
          "output_type": "stream"
        }
      ]
    },
    {
      "cell_type": "markdown",
      "source": "## Boolean\n\nWahrheitswerte",
      "metadata": {}
    },
    {
      "cell_type": "code",
      "source": "typeof true",
      "metadata": {
        "trusted": true
      },
      "execution_count": 72,
      "outputs": [
        {
          "execution_count": 72,
          "output_type": "execute_result",
          "data": {
            "text/plain": "boolean"
          },
          "metadata": {}
        }
      ]
    },
    {
      "cell_type": "code",
      "source": "typeof false",
      "metadata": {
        "trusted": true
      },
      "execution_count": 73,
      "outputs": [
        {
          "execution_count": 73,
          "output_type": "execute_result",
          "data": {
            "text/plain": "boolean"
          },
          "metadata": {}
        }
      ]
    },
    {
      "cell_type": "markdown",
      "source": "### Umwandlung zu `boolean`",
      "metadata": {}
    },
    {
      "cell_type": "code",
      "source": "Boolean(1)",
      "metadata": {
        "trusted": true
      },
      "execution_count": 74,
      "outputs": [
        {
          "execution_count": 74,
          "output_type": "execute_result",
          "data": {
            "text/plain": true
          },
          "metadata": {}
        }
      ]
    },
    {
      "cell_type": "code",
      "source": "1 ? true : false",
      "metadata": {
        "trusted": true
      },
      "execution_count": 77,
      "outputs": [
        {
          "execution_count": 77,
          "output_type": "execute_result",
          "data": {
            "text/plain": true
          },
          "metadata": {}
        }
      ]
    },
    {
      "cell_type": "code",
      "source": "!!'test'",
      "metadata": {
        "trusted": true
      },
      "execution_count": 80,
      "outputs": [
        {
          "execution_count": 80,
          "output_type": "execute_result",
          "data": {
            "text/plain": true
          },
          "metadata": {}
        }
      ]
    },
    {
      "cell_type": "markdown",
      "source": "### Falsy / Truthy",
      "metadata": {}
    },
    {
      "cell_type": "code",
      "source": "if('test') {\n    console.log('Ist wahr')\n}",
      "metadata": {
        "trusted": true
      },
      "execution_count": 84,
      "outputs": [
        {
          "execution_count": 84,
          "output_type": "execute_result",
          "data": {},
          "metadata": {}
        },
        {
          "event": "stream",
          "name": "stdout",
          "text": "Ist wahr\n",
          "output_type": "stream"
        }
      ]
    },
    {
      "cell_type": "markdown",
      "source": "In JavaScript gibt sind alle Werte, egal von welchem Typ, also nicht nur Typ Boolean, entweder _falsy_ oder _truthy_.\n\n_Falsy_ sind alle Werte x für die Boolean(x) `false` ergibt.\n\n_Truthy_ sind alle Werte x für die Boolean(x) `true` ergibt.\n\nIn Kontexten wo ein `boolean` erwartet wird, wie in der Bedingung von `if`, macht JavaScript sozusagen im Hintergrund diese Typ-Konversion. Für das `if`-Beispiel ist die Bedingung nicht nur für `true` erfüllt, sondern für alles was _truthy_ ist.",
      "metadata": {}
    },
    {
      "cell_type": "code",
      "source": "const tabs = (x) => JSON.stringify(x)?.length < 3 ? '\\t\\t' : '\\t';\n\n[undefined, null, 0, NaN, 1, 2, 3, '', 'test', {}]\n    .map((x) => `x = ${JSON.stringify(x)}${tabs(x)} Boolean(x) = ${Boolean(x)}`)\n    .join(\"\\n\")",
      "metadata": {
        "trusted": true
      },
      "execution_count": 112,
      "outputs": [
        {
          "execution_count": 112,
          "output_type": "execute_result",
          "data": {
            "text/plain": "x = undefined\t Boolean(x) = false\nx = null\t Boolean(x) = false\nx = 0\t\t Boolean(x) = false\nx = null\t Boolean(x) = false\nx = 1\t\t Boolean(x) = true\nx = 2\t\t Boolean(x) = true\nx = 3\t\t Boolean(x) = true\nx = \"\"\t\t Boolean(x) = false\nx = \"test\"\t Boolean(x) = true\nx = {}\t\t Boolean(x) = true"
          },
          "metadata": {}
        }
      ]
    },
    {
      "cell_type": "markdown",
      "source": "Die Liste der _falsy_ Werte ist also (alles Andere ist _truthy_):\n\n* undefined\n* null\n* false\n* 0\n* NaN\n* 0n\n* ''",
      "metadata": {}
    },
    {
      "cell_type": "markdown",
      "source": "### Nutzen von _Falsy_/_truthy_ \n\n1. Prüfung ob eine Objekteigenschaft oder eine Variable existiert.\n2. Prüfung ob ein Parameter übergeben wurde.",
      "metadata": {}
    },
    {
      "cell_type": "code",
      "source": "const person = {};\n\nif(person.name) {console.log('Hat einen Namen')};",
      "metadata": {
        "trusted": true
      },
      "execution_count": 114,
      "outputs": [
        {
          "execution_count": 114,
          "output_type": "execute_result",
          "data": {},
          "metadata": {}
        }
      ]
    },
    {
      "cell_type": "markdown",
      "source": "Wir in der Praxis häufig verwendet, aber Achtung, funktioniert nicht, falls jemand `null`, `0` oder `NaN` usw. heißt.",
      "metadata": {}
    },
    {
      "cell_type": "markdown",
      "source": "### Conditional Operator",
      "metadata": {}
    },
    {
      "cell_type": "code",
      "source": "true ? 'yes' : 'no'",
      "metadata": {
        "trusted": true
      },
      "execution_count": 116,
      "outputs": [
        {
          "execution_count": 116,
          "output_type": "execute_result",
          "data": {
            "text/plain": "yes"
          },
          "metadata": {}
        }
      ]
    },
    {
      "cell_type": "code",
      "source": "false ? 'yes' : 'no'",
      "metadata": {
        "trusted": true
      },
      "execution_count": 117,
      "outputs": [
        {
          "execution_count": 117,
          "output_type": "execute_result",
          "data": {
            "text/plain": "no"
          },
          "metadata": {}
        }
      ]
    },
    {
      "cell_type": "code",
      "source": "0 ? 'yes' : 'no'",
      "metadata": {
        "trusted": true
      },
      "execution_count": 118,
      "outputs": [
        {
          "execution_count": 118,
          "output_type": "execute_result",
          "data": {
            "text/plain": "no"
          },
          "metadata": {}
        }
      ]
    },
    {
      "cell_type": "markdown",
      "source": "### Binäre Logische Operatoren `&&` und `||`\n\nDie Operanden werden als booleans ausgewertet, aber unverändert zurückgegeben.\n\nDie Operatoren sind \"kurzschließend\" (short-circuiting), d.h. wenn der erste Operand schon das Ergebniss entscheidet, dann wird der zweite Operand nicht evaluiert.",
      "metadata": {}
    },
    {
      "cell_type": "code",
      "source": "0 || 'test'",
      "metadata": {
        "trusted": true
      },
      "execution_count": 119,
      "outputs": [
        {
          "execution_count": 119,
          "output_type": "execute_result",
          "data": {
            "text/plain": "test"
          },
          "metadata": {}
        }
      ]
    },
    {
      "cell_type": "code",
      "source": "1 && true",
      "metadata": {
        "trusted": true
      },
      "execution_count": 122,
      "outputs": [
        {
          "execution_count": 122,
          "output_type": "execute_result",
          "data": {
            "text/plain": true
          },
          "metadata": {}
        }
      ]
    },
    {
      "cell_type": "code",
      "source": "true && 1",
      "metadata": {
        "trusted": true
      },
      "execution_count": 123,
      "outputs": [
        {
          "execution_count": 123,
          "output_type": "execute_result",
          "data": {
            "text/plain": 1
          },
          "metadata": {}
        }
      ]
    },
    {
      "cell_type": "markdown",
      "source": "### Veraltetet Nutzen von `||`\n\nOft wird `||` verwendet um default-Werte anzugeben, dazu wird heute der `??` Operator verwendet",
      "metadata": {}
    },
    {
      "cell_type": "markdown",
      "source": "### Unnärer Logischer Operator `!`\n\nDer Not Operator `!` negiert den Operand. D.h. wenn der Operand _truthy_ ist, wird `false` zurückgegeben, sonst `true`",
      "metadata": {}
    },
    {
      "cell_type": "code",
      "source": "!0",
      "metadata": {
        "trusted": true
      },
      "execution_count": 124,
      "outputs": [
        {
          "execution_count": 124,
          "output_type": "execute_result",
          "data": {
            "text/plain": true
          },
          "metadata": {}
        }
      ]
    },
    {
      "cell_type": "code",
      "source": "!''",
      "metadata": {
        "trusted": true
      },
      "execution_count": 125,
      "outputs": [
        {
          "execution_count": 125,
          "output_type": "execute_result",
          "data": {
            "text/plain": true
          },
          "metadata": {}
        }
      ]
    },
    {
      "cell_type": "code",
      "source": "!1",
      "metadata": {
        "trusted": true
      },
      "execution_count": 126,
      "outputs": [
        {
          "execution_count": 126,
          "output_type": "execute_result",
          "data": {
            "text/plain": false
          },
          "metadata": {}
        }
      ]
    },
    {
      "cell_type": "markdown",
      "source": "## Zahlen\n\nDer JavaScript Typ `number` ist intern eine 64-bit Fließkommazahl (Float nach IEEE 754); das was in Java in `double` ist.\n\nDie Nachkommastellen von Ganzzahlen werden dann einfach nicht angegeben (also das `.0`).",
      "metadata": {}
    },
    {
      "cell_type": "code",
      "source": "1 === 1.0",
      "metadata": {
        "trusted": true
      },
      "execution_count": 128,
      "outputs": [
        {
          "execution_count": 128,
          "output_type": "execute_result",
          "data": {
            "text/plain": true
          },
          "metadata": {}
        }
      ]
    },
    {
      "cell_type": "markdown",
      "source": "### Literale\n\nLitarale für Ganzzahlen (Integer) zur Angabe mit anderer Basis:\n\n* 0b für Basis 2 (binär)\n* 0o für Basis 8 (octal)\n* 0x für Basis 16 (hex)",
      "metadata": {}
    },
    {
      "cell_type": "code",
      "source": "10 === 0x0A",
      "metadata": {
        "trusted": true
      },
      "execution_count": 130,
      "outputs": [
        {
          "execution_count": 130,
          "output_type": "execute_result",
          "data": {
            "text/plain": true
          },
          "metadata": {}
        }
      ]
    },
    {
      "cell_type": "code",
      "source": "0b00000010 == 2",
      "metadata": {
        "trusted": true
      },
      "execution_count": 131,
      "outputs": [
        {
          "execution_count": 131,
          "output_type": "execute_result",
          "data": {
            "text/plain": true
          },
          "metadata": {}
        }
      ]
    },
    {
      "cell_type": "markdown",
      "source": "Fließkommazahlen / Floats können nur zur Basis 10 angegeben werden, aber es kann ein Exponent angegben werden mit dem postfix `eN`.\n\n`eN` bedeutet x10^N",
      "metadata": {}
    },
    {
      "cell_type": "code",
      "source": "11.0",
      "metadata": {
        "trusted": true
      },
      "execution_count": 133,
      "outputs": [
        {
          "execution_count": 133,
          "output_type": "execute_result",
          "data": {
            "text/plain": 11
          },
          "metadata": {}
        }
      ]
    },
    {
      "cell_type": "code",
      "source": "3e-2 === 0.03",
      "metadata": {
        "trusted": true
      },
      "execution_count": 134,
      "outputs": [
        {
          "execution_count": 134,
          "output_type": "execute_result",
          "data": {
            "text/plain": true
          },
          "metadata": {}
        }
      ]
    },
    {
      "cell_type": "markdown",
      "source": "Da Zahlen auch Eingeschaften und Methoden haben, der `.` aber schon als Dezimalpunkt verwendet wird, muss man etwas aufpassen, wenn man die Methoden aufrufen will:",
      "metadata": {}
    },
    {
      "cell_type": "code",
      "source": "(1).toString()",
      "metadata": {
        "trusted": true
      },
      "execution_count": 135,
      "outputs": [
        {
          "execution_count": 135,
          "output_type": "execute_result",
          "data": {
            "text/plain": "1"
          },
          "metadata": {}
        }
      ]
    },
    {
      "cell_type": "code",
      "source": "1..toString()",
      "metadata": {
        "trusted": true
      },
      "execution_count": 136,
      "outputs": [
        {
          "execution_count": 136,
          "output_type": "execute_result",
          "data": {
            "text/plain": "1"
          },
          "metadata": {}
        }
      ]
    },
    {
      "cell_type": "code",
      "source": "1 .toString()",
      "metadata": {
        "trusted": true
      },
      "execution_count": 137,
      "outputs": [
        {
          "execution_count": 137,
          "output_type": "execute_result",
          "data": {
            "text/plain": "1"
          },
          "metadata": {}
        }
      ]
    },
    {
      "cell_type": "markdown",
      "source": "### Unterstrich zur optischen Trennung\n\nSeit ES2021 kann ein `_` verwendet werden:",
      "metadata": {}
    },
    {
      "cell_type": "code",
      "source": "1_000_000",
      "metadata": {
        "trusted": true
      },
      "execution_count": 138,
      "outputs": [
        {
          "execution_count": 138,
          "output_type": "execute_result",
          "data": {
            "text/plain": 1000000
          },
          "metadata": {}
        }
      ]
    },
    {
      "cell_type": "code",
      "source": "0xFF_FF",
      "metadata": {
        "trusted": true
      },
      "execution_count": 139,
      "outputs": [
        {
          "execution_count": 139,
          "output_type": "execute_result",
          "data": {
            "text/plain": 65535
          },
          "metadata": {}
        }
      ]
    },
    {
      "cell_type": "markdown",
      "source": "Achtung, geht nicht beim Parsen von Zahlen mit Number usw.:",
      "metadata": {}
    },
    {
      "cell_type": "code",
      "source": "Number('1_000')",
      "metadata": {
        "trusted": true
      },
      "execution_count": 140,
      "outputs": [
        {
          "execution_count": 140,
          "output_type": "execute_result",
          "data": {
            "text/plain": null
          },
          "metadata": {}
        }
      ]
    },
    {
      "cell_type": "markdown",
      "source": "### Binäre Operatoren\n\n|Operator  |Name          |Beispiel      |\n| :-       | :-           | :-           |\n|n + m     |Addition      |3 + 4 → 7    |\n|n - m     |Substraktion  |9 - 1 → 8    |\n|n * m     |Multiplikation|2 * 2 → 4    |\n|n / m     |Division      |5.5 / 5 → 1.1|    \n|n % m     |Rest          | -8 % 5 → -3 |\n|n ** m    |Potenzierung  | 2 ** 2 → 16 |",
      "metadata": {}
    },
    {
      "cell_type": "code",
      "source": "let n = 7;\nlet m = -4;\n['+', '-', '*', '/', '%', '**'].map((op) => {\n    const expression = `${n} ${op} ${m}`;\n    return `${expression} = ${eval(expression)}`\n})\n.join('\\n');",
      "metadata": {
        "trusted": true
      },
      "execution_count": 162,
      "outputs": [
        {
          "execution_count": 162,
          "output_type": "execute_result",
          "data": {
            "text/plain": "7 + -4 = 3\n7 - -4 = 11\n7 * -4 = -28\n7 / -4 = -1.75\n7 % -4 = 3\n7 ** -4 = 0.00041649312786339027"
          },
          "metadata": {}
        }
      ]
    },
    {
      "cell_type": "code",
      "source": "16 ** -4",
      "metadata": {
        "trusted": true
      },
      "execution_count": 161,
      "outputs": [
        {
          "execution_count": 161,
          "output_type": "execute_result",
          "data": {
            "text/plain": 0.0000152587890625
          },
          "metadata": {}
        }
      ]
    },
    {
      "cell_type": "markdown",
      "source": "### Unäre Operatoren\n\n`+` und `-`",
      "metadata": {}
    },
    {
      "cell_type": "code",
      "source": "+(-1)",
      "metadata": {
        "trusted": true
      },
      "execution_count": 163,
      "outputs": [
        {
          "execution_count": 163,
          "output_type": "execute_result",
          "data": {
            "text/plain": -1
          },
          "metadata": {}
        }
      ]
    },
    {
      "cell_type": "code",
      "source": "-(-1)",
      "metadata": {
        "trusted": true
      },
      "execution_count": 164,
      "outputs": [
        {
          "execution_count": 164,
          "output_type": "execute_result",
          "data": {
            "text/plain": 1
          },
          "metadata": {}
        }
      ]
    },
    {
      "cell_type": "markdown",
      "source": "### Inkrementieren `++` / Dekrementieren `--`",
      "metadata": {}
    },
    {
      "cell_type": "code",
      "source": "let x = 0;\nconsole.log([x++, x]);",
      "metadata": {
        "trusted": true
      },
      "execution_count": 169,
      "outputs": [
        {
          "execution_count": 169,
          "output_type": "execute_result",
          "data": {},
          "metadata": {}
        },
        {
          "event": "stream",
          "name": "stdout",
          "text": "0,1\n",
          "output_type": "stream"
        }
      ]
    },
    {
      "cell_type": "code",
      "source": "let x = 0;\nconsole.log([++x, x]);",
      "metadata": {
        "trusted": true
      },
      "execution_count": 170,
      "outputs": [
        {
          "execution_count": 170,
          "output_type": "execute_result",
          "data": {},
          "metadata": {}
        },
        {
          "event": "stream",
          "name": "stdout",
          "text": "1,1\n",
          "output_type": "stream"
        }
      ]
    },
    {
      "cell_type": "code",
      "source": "let x = 1;\nconsole.log([x--, x]);",
      "metadata": {
        "trusted": true
      },
      "execution_count": 174,
      "outputs": [
        {
          "execution_count": 174,
          "output_type": "execute_result",
          "data": {},
          "metadata": {}
        },
        {
          "event": "stream",
          "name": "stdout",
          "text": "1,0\n",
          "output_type": "stream"
        }
      ]
    },
    {
      "cell_type": "code",
      "source": "let x = 1;\nconsole.log([--x, x]);",
      "metadata": {
        "trusted": true
      },
      "execution_count": 173,
      "outputs": [
        {
          "execution_count": 173,
          "output_type": "execute_result",
          "data": {},
          "metadata": {}
        },
        {
          "event": "stream",
          "name": "stdout",
          "text": "0,0\n",
          "output_type": "stream"
        }
      ]
    },
    {
      "cell_type": "markdown",
      "source": "Geht auch mit Objekteigenschaften",
      "metadata": {}
    },
    {
      "cell_type": "code",
      "source": "const person = {name: 'Niklas', age: '41'};\n++person.age;\nconsole.log(JSON.stringify(person))",
      "metadata": {
        "trusted": true
      },
      "execution_count": 175,
      "outputs": [
        {
          "execution_count": 175,
          "output_type": "execute_result",
          "data": {},
          "metadata": {}
        },
        {
          "event": "stream",
          "name": "stdout",
          "text": "{\"name\":\"Niklas\",\"age\":42}\n",
          "output_type": "stream"
        }
      ]
    },
    {
      "cell_type": "markdown",
      "source": "### Typkonvertierung zu number\n\n1. `Number(x)`\n2. `+value`",
      "metadata": {}
    },
    {
      "cell_type": "code",
      "source": "Number('1')",
      "metadata": {
        "trusted": true
      },
      "execution_count": 176,
      "outputs": [
        {
          "execution_count": 176,
          "output_type": "execute_result",
          "data": {
            "text/plain": 1
          },
          "metadata": {}
        }
      ]
    },
    {
      "cell_type": "code",
      "source": "+'1'",
      "metadata": {
        "trusted": true
      },
      "execution_count": 177,
      "outputs": [
        {
          "execution_count": 177,
          "output_type": "execute_result",
          "data": {
            "text/plain": 1
          },
          "metadata": {}
        }
      ]
    },
    {
      "cell_type": "code",
      "source": "const tabs = (x) => JSON.stringify(x)?.length < 3 ? '\\t\\t' : '\\t';\n\n[undefined, null, 0, NaN, 1, 2, 3, '', 'test', {}]\n    .map((x) => `x = ${JSON.stringify(x)}${tabs(x)} Number(x) = ${Number(x)}`)\n    .join(\"\\n\")",
      "metadata": {
        "trusted": true
      },
      "execution_count": 178,
      "outputs": [
        {
          "execution_count": 178,
          "output_type": "execute_result",
          "data": {
            "text/plain": "x = undefined\t Number(x) = NaN\nx = null\t Number(x) = 0\nx = 0\t\t Number(x) = 0\nx = null\t Number(x) = NaN\nx = 1\t\t Number(x) = 1\nx = 2\t\t Number(x) = 2\nx = 3\t\t Number(x) = 3\nx = \"\"\t\t Number(x) = 0\nx = \"test\"\t Number(x) = NaN\nx = {}\t\t Number(x) = NaN"
          },
          "metadata": {}
        }
      ]
    },
    {
      "cell_type": "markdown",
      "source": "Bei Objekten ist dies über die valueOf-Methode konfigurierbar",
      "metadata": {}
    },
    {
      "cell_type": "code",
      "source": "const person = {\n    name: 'Niklas',\n    age: '41',\n    valueOf() {\n        return this.age;\n    }\n};\nconsole.log(Number(person))",
      "metadata": {
        "trusted": true
      },
      "execution_count": 180,
      "outputs": [
        {
          "execution_count": 180,
          "output_type": "execute_result",
          "data": {},
          "metadata": {}
        },
        {
          "event": "stream",
          "name": "stdout",
          "text": "41\n",
          "output_type": "stream"
        }
      ]
    },
    {
      "cell_type": "markdown",
      "source": "### Fehlerwerte `NaN` und `infinity`\n\n`NaN` steht für \"Not a Number\" und entsteht wenn versucht wird, etwas zu `number` zu konvertieren, dass nicht sinnvoll zu einer Zahl konvertierbar ist.\n\n`Infinity` / `-Infinity` entsteht wenn durch Rechnoperation der Wertebereich von Float64 \"gesprengt\" wird und bei Division durch 0.",
      "metadata": {}
    },
    {
      "cell_type": "code",
      "source": "console.log(Number('blub'));",
      "metadata": {
        "trusted": true
      },
      "execution_count": 183,
      "outputs": [
        {
          "execution_count": 183,
          "output_type": "execute_result",
          "data": {},
          "metadata": {}
        },
        {
          "event": "stream",
          "name": "stdout",
          "text": "NaN\n",
          "output_type": "stream"
        }
      ]
    },
    {
      "cell_type": "code",
      "source": "console.log(2 ** 1024);",
      "metadata": {
        "trusted": true
      },
      "execution_count": 184,
      "outputs": [
        {
          "execution_count": 184,
          "output_type": "execute_result",
          "data": {},
          "metadata": {}
        },
        {
          "event": "stream",
          "name": "stdout",
          "text": "Infinity\n",
          "output_type": "stream"
        }
      ]
    },
    {
      "cell_type": "code",
      "source": "console.log(2 / 0);",
      "metadata": {
        "trusted": true
      },
      "execution_count": 185,
      "outputs": [
        {
          "execution_count": 185,
          "output_type": "execute_result",
          "data": {},
          "metadata": {}
        },
        {
          "event": "stream",
          "name": "stdout",
          "text": "Infinity\n",
          "output_type": "stream"
        }
      ]
    },
    {
      "cell_type": "code",
      "source": "console.log(-2 / 0);",
      "metadata": {
        "trusted": true
      },
      "execution_count": 186,
      "outputs": [
        {
          "execution_count": 186,
          "output_type": "execute_result",
          "data": {},
          "metadata": {}
        },
        {
          "event": "stream",
          "name": "stdout",
          "text": "-Infinity\n",
          "output_type": "stream"
        }
      ]
    },
    {
      "cell_type": "markdown",
      "source": "### Bitweise\n\nNur der Vollständigkeit halber aufgeführt:\n\n* `~N` N bitweise Negieren\n* `n & m` bitweises Und\n* `n | m` bitweises Oder\n* `n ^ m` bitweises Xor (Ausschließendes Oder)\n* `n << m` n um m Bit nach Links schieben\n* `n >> m` n um m Bit nach Rechts schieben, inkl. dabei das Vorzeichen zu beachten\n* `n >>> m` n um m Bit nach Rechts schieben, ohne das Vorzeichen zu beachten\n\nAufpassen, Verwechselungsgefahr mit boolschen Operatoren `&&` und `||`.\n",
      "metadata": {}
    },
    {
      "cell_type": "code",
      "source": "const x = 0b1111_1111 >> 2\n\nconsole.log(x === 0b11_1111)",
      "metadata": {
        "trusted": true
      },
      "execution_count": 190,
      "outputs": [
        {
          "execution_count": 190,
          "output_type": "execute_result",
          "data": {},
          "metadata": {}
        },
        {
          "event": "stream",
          "name": "stdout",
          "text": "true\n",
          "output_type": "stream"
        }
      ]
    },
    {
      "cell_type": "markdown",
      "source": "### Das `Math`-Objekt\n\nDas `Math`-Objekt stellt diverse Methoden für Zahlen bereit.\n\n[Math-Referenz bei MDM](https://developer.mozilla.org/de/docs/Web/JavaScript/Reference/Global_Objects/Math)",
      "metadata": {}
    },
    {
      "cell_type": "code",
      "source": "Math.sqrt(9)",
      "metadata": {
        "trusted": true
      },
      "execution_count": 192,
      "outputs": [
        {
          "execution_count": 192,
          "output_type": "execute_result",
          "data": {
            "text/plain": 3
          },
          "metadata": {}
        }
      ]
    },
    {
      "cell_type": "code",
      "source": "Math.ceil(2.1)",
      "metadata": {
        "trusted": true
      },
      "execution_count": 193,
      "outputs": [
        {
          "execution_count": 193,
          "output_type": "execute_result",
          "data": {
            "text/plain": 3
          },
          "metadata": {}
        }
      ]
    },
    {
      "cell_type": "code",
      "source": "Math.floor(2.1)",
      "metadata": {
        "trusted": true
      },
      "execution_count": 194,
      "outputs": [
        {
          "execution_count": 194,
          "output_type": "execute_result",
          "data": {
            "text/plain": 2
          },
          "metadata": {}
        }
      ]
    },
    {
      "cell_type": "code",
      "source": "Math.round(2.4)",
      "metadata": {
        "trusted": true
      },
      "execution_count": 195,
      "outputs": [
        {
          "execution_count": 195,
          "output_type": "execute_result",
          "data": {
            "text/plain": 2
          },
          "metadata": {}
        }
      ]
    },
    {
      "cell_type": "code",
      "source": "Math.round(2.5)",
      "metadata": {
        "trusted": true
      },
      "execution_count": 196,
      "outputs": [
        {
          "execution_count": 196,
          "output_type": "execute_result",
          "data": {
            "text/plain": 3
          },
          "metadata": {}
        }
      ]
    },
    {
      "cell_type": "code",
      "source": "Math.trunc(-2.9)",
      "metadata": {
        "trusted": true
      },
      "execution_count": 197,
      "outputs": [
        {
          "execution_count": 197,
          "output_type": "execute_result",
          "data": {
            "text/plain": -2
          },
          "metadata": {}
        }
      ]
    },
    {
      "cell_type": "code",
      "source": "Math.floor(-2.9)",
      "metadata": {
        "trusted": true
      },
      "execution_count": 199,
      "outputs": [
        {
          "execution_count": 199,
          "output_type": "execute_result",
          "data": {
            "text/plain": -3
          },
          "metadata": {}
        }
      ]
    },
    {
      "cell_type": "code",
      "source": "Math.abs(-3)",
      "metadata": {
        "trusted": true
      },
      "execution_count": 200,
      "outputs": [
        {
          "execution_count": 200,
          "output_type": "execute_result",
          "data": {
            "text/plain": 3
          },
          "metadata": {}
        }
      ]
    },
    {
      "cell_type": "code",
      "source": "Math.max(4, 5)",
      "metadata": {
        "trusted": true
      },
      "execution_count": 201,
      "outputs": [
        {
          "execution_count": 201,
          "output_type": "execute_result",
          "data": {
            "text/plain": 5
          },
          "metadata": {}
        }
      ]
    },
    {
      "cell_type": "code",
      "source": "Math.min(4, 5, -3 , -10)",
      "metadata": {
        "trusted": true
      },
      "execution_count": 202,
      "outputs": [
        {
          "execution_count": 202,
          "output_type": "execute_result",
          "data": {
            "text/plain": -10
          },
          "metadata": {}
        }
      ]
    },
    {
      "cell_type": "code",
      "source": "Math.random()",
      "metadata": {
        "trusted": true
      },
      "execution_count": 203,
      "outputs": [
        {
          "execution_count": 203,
          "output_type": "execute_result",
          "data": {
            "text/plain": 0.8248404799747555
          },
          "metadata": {}
        }
      ]
    },
    {
      "cell_type": "markdown",
      "source": "### Bigint\n\nWenn die 53 Bit, die bei `number` für Integer zur Verfügung stehen, nicht reichen, dann gibt es Bigint, dieser wird eingegeben indem ein `n` an die Zahl angehangen wird:\n\n`10n` oder `0xFFn`\n\nAlle Operatoren für `number` können auch genutzt werden, aber in der Regel müssen alle Operanden vom Typ BigInt sein.",
      "metadata": {}
    },
    {
      "cell_type": "code",
      "source": "",
      "metadata": {
        "trusted": true
      },
      "execution_count": 204,
      "outputs": [
        {
          "ename": "TypeError",
          "evalue": "Do not know how to serialize a BigInt",
          "traceback": [
            "TypeError: Do not know how to serialize a BigInt\n    at JSON.stringify (<anonymous>)\n    at t.serialize (http://127.0.0.1:8000/build/3676.ab58092.js:1:45907)\n    at sendMessage [as _sendMessage] (http://127.0.0.1:8000/build/6433.a5fc382.js:1:10531)\n    at s.publishExecuteResult (http://127.0.0.1:8000/build/6433.a5fc382.js:1:3749)\n    at s.executeRequest (http://127.0.0.1:8000/build/1013.37ec5b5.js:1:1393)\n    at s._execute (http://127.0.0.1:8000/build/6433.a5fc382.js:1:6015)\n    at s.handleMessage (http://127.0.0.1:8000/build/6433.a5fc382.js:1:2290)\n    at http://127.0.0.1:8000/build/6433.a5fc382.js:1:10032\n    at http://127.0.0.1:8000/build/6433.a5fc382.js:1:9106\n    at d.<anonymous> (http://127.0.0.1:8000/build/6433.a5fc382.js:1:7792)"
          ],
          "output_type": "error"
        }
      ]
    },
    {
      "cell_type": "code",
      "source": "",
      "metadata": {},
      "execution_count": null,
      "outputs": []
    }
  ]
}
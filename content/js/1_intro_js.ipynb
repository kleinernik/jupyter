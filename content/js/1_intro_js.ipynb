{
 "cells": [
  {
   "cell_type": "markdown",
   "metadata": {},
   "source": [
    "# Überblick über die Syntax von JavaScript"
   ]
  },
  {
   "cell_type": "markdown",
   "metadata": {},
   "source": [
    "## Kommentare"
   ]
  },
  {
   "cell_type": "code",
   "execution_count": 1,
   "metadata": {},
   "outputs": [],
   "source": [
    "// Kommentar mit einer Zeile"
   ]
  },
  {
   "cell_type": "code",
   "execution_count": 2,
   "metadata": {},
   "outputs": [],
   "source": [
    "/*\n",
    "Mehrzeiliges Kommentar\n",
    "macht ebenfalls einfach nichts\n",
    "*/"
   ]
  },
  {
   "cell_type": "markdown",
   "metadata": {},
   "source": [
    "## Primitive Werte"
   ]
  },
  {
   "cell_type": "markdown",
   "metadata": {},
   "source": [
    "### Boolean (Boolsche Werte)"
   ]
  },
  {
   "cell_type": "code",
   "execution_count": 6,
   "metadata": {},
   "outputs": [
    {
     "name": "stdout",
     "output_type": "stream",
     "text": [
      "\u001b[33mtrue\u001b[39m\n"
     ]
    }
   ],
   "source": [
    "true"
   ]
  },
  {
   "cell_type": "code",
   "execution_count": 4,
   "metadata": {},
   "outputs": [
    {
     "name": "stdout",
     "output_type": "stream",
     "text": [
      "\u001b[33mfalse\u001b[39m\n"
     ]
    }
   ],
   "source": [
    "false"
   ]
  },
  {
   "cell_type": "markdown",
   "metadata": {},
   "source": [
    "### Zahlen\n",
    "\n",
    "JavaScript hat einen Zahlentyp für Ganzahlen und Fließkommazahlen, der einfach `Number`heißt."
   ]
  },
  {
   "cell_type": "code",
   "execution_count": 13,
   "metadata": {},
   "outputs": [
    {
     "name": "stdout",
     "output_type": "stream",
     "text": [
      "\u001b[33m1.4\u001b[39m\n"
     ]
    }
   ],
   "source": [
    "1.4"
   ]
  },
  {
   "cell_type": "code",
   "execution_count": 8,
   "metadata": {},
   "outputs": [
    {
     "name": "stdout",
     "output_type": "stream",
     "text": [
      "\u001b[33m-1\u001b[39m\n"
     ]
    }
   ],
   "source": [
    "-1"
   ]
  },
  {
   "cell_type": "code",
   "execution_count": 11,
   "metadata": {},
   "outputs": [
    {
     "name": "stdout",
     "output_type": "stream",
     "text": [
      "\u001b[33m-0\u001b[39m\n"
     ]
    }
   ],
   "source": [
    "-0"
   ]
  },
  {
   "cell_type": "markdown",
   "metadata": {},
   "source": [
    "Für große Ganzzahlen die nicht in die 53 Bit passen, die mit einem Float64 abgebildet werden können, gib es BigInt. Dort wird bei der Eingabe ein `n` nachgestellt, z.B.: `17n`."
   ]
  },
  {
   "cell_type": "markdown",
   "metadata": {},
   "source": [
    "### Zeichenketten (Strings)"
   ]
  },
  {
   "cell_type": "code",
   "execution_count": 18,
   "metadata": {},
   "outputs": [
    {
     "name": "stdout",
     "output_type": "stream",
     "text": [
      "Test\n"
     ]
    }
   ],
   "source": [
    "\"Test\""
   ]
  },
  {
   "cell_type": "markdown",
   "metadata": {},
   "source": [
    "Es können einfache oder doppelte Anführungszeichen verwendet werden. Das ist hilfreich, wenn Eins von Beidem im Text vorkommt, dann muss mann nicht _escapen_."
   ]
  },
  {
   "cell_type": "code",
   "execution_count": 22,
   "metadata": {},
   "outputs": [
    {
     "name": "stdout",
     "output_type": "stream",
     "text": [
      "'Test'\\\n"
     ]
    }
   ],
   "source": [
    "'\\'Test\\''"
   ]
  },
  {
   "cell_type": "code",
   "execution_count": 24,
   "metadata": {},
   "outputs": [
    {
     "name": "stdout",
     "output_type": "stream",
     "text": [
      "\"Test\"\n"
     ]
    }
   ],
   "source": [
    "'\"Test\"'"
   ]
  },
  {
   "cell_type": "markdown",
   "metadata": {},
   "source": [
    "Zusätzlich sind \"`\" (Backticks) verwendbar, damit kann eine Interpolation stattfinden."
   ]
  },
  {
   "cell_type": "code",
   "execution_count": 27,
   "metadata": {},
   "outputs": [
    {
     "name": "stdout",
     "output_type": "stream",
     "text": [
      "Interpolation eines Werts: 42\n"
     ]
    }
   ],
   "source": [
    "`Interpolation eines Werts: ${42}`"
   ]
  },
  {
   "cell_type": "markdown",
   "metadata": {},
   "source": [
    "Buchstaben (Chars) gibt es nicht als separaten Typ, dafür werden auch Strings verwendet."
   ]
  },
  {
   "cell_type": "markdown",
   "metadata": {},
   "source": [
    "## Operatoren\n",
    "(Nicht vollständig, erstmal nur die Wichtigsten)"
   ]
  },
  {
   "cell_type": "markdown",
   "metadata": {},
   "source": [
    "### Für Boolsche Werte"
   ]
  },
  {
   "cell_type": "code",
   "execution_count": 28,
   "metadata": {},
   "outputs": [
    {
     "name": "stdout",
     "output_type": "stream",
     "text": [
      "\u001b[33mfalse\u001b[39m\n"
     ]
    }
   ],
   "source": [
    "true && false // und"
   ]
  },
  {
   "cell_type": "code",
   "execution_count": 32,
   "metadata": {},
   "outputs": [
    {
     "name": "stdout",
     "output_type": "stream",
     "text": [
      "\u001b[33mtrue\u001b[39m\n"
     ]
    }
   ],
   "source": [
    "true || false // oder"
   ]
  },
  {
   "cell_type": "code",
   "execution_count": 34,
   "metadata": {},
   "outputs": [
    {
     "name": "stdout",
     "output_type": "stream",
     "text": [
      "\u001b[33mtrue\u001b[39m\n"
     ]
    }
   ],
   "source": [
    "!false // nicht"
   ]
  },
  {
   "cell_type": "markdown",
   "metadata": {},
   "source": [
    "### Für Zahlen"
   ]
  },
  {
   "cell_type": "code",
   "execution_count": 35,
   "metadata": {},
   "outputs": [
    {
     "name": "stdout",
     "output_type": "stream",
     "text": [
      "\u001b[33m7\u001b[39m\n"
     ]
    }
   ],
   "source": [
    "3 + 4"
   ]
  },
  {
   "cell_type": "code",
   "execution_count": 36,
   "metadata": {},
   "outputs": [
    {
     "name": "stdout",
     "output_type": "stream",
     "text": [
      "\u001b[33m-1\u001b[39m\n"
     ]
    }
   ],
   "source": [
    "3 - 4"
   ]
  },
  {
   "cell_type": "code",
   "execution_count": 37,
   "metadata": {},
   "outputs": [
    {
     "name": "stdout",
     "output_type": "stream",
     "text": [
      "\u001b[33m4\u001b[39m\n"
     ]
    }
   ],
   "source": [
    "2 * 2"
   ]
  },
  {
   "cell_type": "code",
   "execution_count": 38,
   "metadata": {},
   "outputs": [
    {
     "name": "stdout",
     "output_type": "stream",
     "text": [
      "\u001b[33m1\u001b[39m\n"
     ]
    }
   ],
   "source": [
    "2 / 2"
   ]
  },
  {
   "cell_type": "code",
   "execution_count": 39,
   "metadata": {},
   "outputs": [
    {
     "name": "stdout",
     "output_type": "stream",
     "text": [
      "\u001b[33m16\u001b[39m\n"
     ]
    }
   ],
   "source": [
    "2 ** 4 // hoch"
   ]
  },
  {
   "cell_type": "markdown",
   "metadata": {},
   "source": [
    "### Für Zeichenketten"
   ]
  },
  {
   "cell_type": "code",
   "execution_count": 41,
   "metadata": {},
   "outputs": [
    {
     "name": "stdout",
     "output_type": "stream",
     "text": [
      "Hallo Welt\n"
     ]
    }
   ],
   "source": [
    "'Hallo' + ' ' + 'Welt'"
   ]
  },
  {
   "cell_type": "markdown",
   "metadata": {},
   "source": [
    "### Vergleichsoperatoren"
   ]
  },
  {
   "cell_type": "code",
   "execution_count": 42,
   "metadata": {},
   "outputs": [
    {
     "name": "stdout",
     "output_type": "stream",
     "text": [
      "\u001b[33mtrue\u001b[39m\n"
     ]
    }
   ],
   "source": [
    "3 < 4"
   ]
  },
  {
   "cell_type": "code",
   "execution_count": 49,
   "metadata": {},
   "outputs": [
    {
     "name": "stdout",
     "output_type": "stream",
     "text": [
      "\u001b[33mtrue\u001b[39m\n"
     ]
    }
   ],
   "source": [
    "4 >= 4"
   ]
  },
  {
   "cell_type": "code",
   "execution_count": 47,
   "metadata": {
    "tags": []
   },
   "outputs": [
    {
     "name": "stdout",
     "output_type": "stream",
     "text": [
      "\u001b[33mtrue\u001b[39m\n"
     ]
    }
   ],
   "source": [
    "4 === 4"
   ]
  },
  {
   "cell_type": "code",
   "execution_count": 51,
   "metadata": {},
   "outputs": [
    {
     "name": "stdout",
     "output_type": "stream",
     "text": [
      "\u001b[33mfalse\u001b[39m\n"
     ]
    }
   ],
   "source": [
    "4 !== 4"
   ]
  },
  {
   "cell_type": "code",
   "execution_count": null,
   "metadata": {},
   "outputs": [],
   "source": [
    "\"b\" > \"a\""
   ]
  },
  {
   "cell_type": "markdown",
   "metadata": {},
   "source": [
    "Es gibt auch den `==` Operator, dieser sollte vermieden werden. Wir sprechen darüber wenn wir über _Coercion_ sprechen."
   ]
  },
  {
   "cell_type": "markdown",
   "metadata": {},
   "source": [
    "# Variablendeklaration"
   ]
  },
  {
   "cell_type": "markdown",
   "metadata": {},
   "source": [
    "## Konstanten"
   ]
  },
  {
   "cell_type": "code",
   "execution_count": 52,
   "metadata": {},
   "outputs": [],
   "source": [
    "const answer = 42;"
   ]
  },
  {
   "cell_type": "code",
   "execution_count": 53,
   "metadata": {},
   "outputs": [
    {
     "name": "stderr",
     "output_type": "stream",
     "text": [
      "2:1 - Cannot assign to 'answer' because it is a constant.\n"
     ]
    }
   ],
   "source": [
    "const answer = 42;\n",
    "answer = 43;"
   ]
  },
  {
   "cell_type": "markdown",
   "metadata": {},
   "source": [
    "## Variablen"
   ]
  },
  {
   "cell_type": "code",
   "execution_count": 56,
   "metadata": {},
   "outputs": [
    {
     "name": "stdout",
     "output_type": "stream",
     "text": [
      "\u001b[33mtrue\u001b[39m\n"
     ]
    }
   ],
   "source": [
    "let myVar; // Deklaration\n",
    "myVar = 3; // Zuweisung\n",
    "myVar = true;"
   ]
  },
  {
   "cell_type": "code",
   "execution_count": 57,
   "metadata": {},
   "outputs": [],
   "source": [
    "let myVar2 = 3; // Deklaration und Initialisierung in einem Schritt"
   ]
  },
  {
   "cell_type": "markdown",
   "metadata": {},
   "source": [
    "## Funktionen"
   ]
  },
  {
   "cell_type": "code",
   "execution_count": 59,
   "metadata": {},
   "outputs": [
    {
     "name": "stdout",
     "output_type": "stream",
     "text": [
      "Hello World\n"
     ]
    }
   ],
   "source": [
    "function add(a, b) {\n",
    "    return a + b;\n",
    "}\n",
    "add(\"Hello\", \" World\")"
   ]
  },
  {
   "cell_type": "code",
   "execution_count": 60,
   "metadata": {},
   "outputs": [
    {
     "name": "stdout",
     "output_type": "stream",
     "text": [
      "\u001b[33m3\u001b[39m\n"
     ]
    }
   ],
   "source": [
    "const add2 = (a, b) => { return a + b};\n",
    "add2(1, 2)"
   ]
  },
  {
   "cell_type": "code",
   "execution_count": 61,
   "metadata": {},
   "outputs": [
    {
     "name": "stdout",
     "output_type": "stream",
     "text": [
      "\u001b[33m5\u001b[39m\n"
     ]
    }
   ],
   "source": [
    "const add3 = (a, b) => a + b; // Kurzform, wenn der Funktionsrumpf nur einen Ausdruck enthält\n",
    "// Das Ergebniss des Ausdrucks ist der return-Wert\n",
    "add3(2, 3)"
   ]
  },
  {
   "cell_type": "markdown",
   "metadata": {},
   "source": [
    "# Objekte"
   ]
  },
  {
   "cell_type": "code",
   "execution_count": 65,
   "metadata": {},
   "outputs": [
    {
     "name": "stdout",
     "output_type": "stream",
     "text": [
      "Niklas Klein\n"
     ]
    }
   ],
   "source": [
    "// Objekt-Literal {}\n",
    "const niklas = {\n",
    "    firstName: 'Niklas',\n",
    "    lastName: 'Klein',\n",
    "    getFullName() {\n",
    "        let firstName = \"nik\"\n",
    "        return `${this.firstName} ${this.lastName}`\n",
    "    }\n",
    "}\n",
    "\n",
    "niklas.getFullName();"
   ]
  },
  {
   "cell_type": "code",
   "execution_count": 66,
   "metadata": {},
   "outputs": [
    {
     "name": "stdout",
     "output_type": "stream",
     "text": [
      "Klein\n"
     ]
    }
   ],
   "source": [
    "const niklas = {\n",
    "    firstName: 'Niklas',\n",
    "    lastName: 'Klein',\n",
    "    getFullName() {\n",
    "        return `${this.firstName} ${this.lastName}`\n",
    "    }\n",
    "}\n",
    "\n",
    "niklas.lastName;"
   ]
  },
  {
   "cell_type": "markdown",
   "metadata": {},
   "source": [
    "## Unterschiede zu Java\n",
    "\n",
    "* Keine Klasse definiert, aber direkt ein Objekt\n",
    "* Keine Access-Modifier\n",
    "* Keine Typen für Attribute\n",
    "* Variablen, Konstanten und Funktionen außerhalb von Klassen definiert\n",
    "* ..."
   ]
  },
  {
   "cell_type": "markdown",
   "metadata": {},
   "source": [
    "# Arrays"
   ]
  },
  {
   "cell_type": "code",
   "execution_count": 69,
   "metadata": {},
   "outputs": [
    {
     "name": "stdout",
     "output_type": "stream",
     "text": [
      "\u001b[33m2\u001b[39m\n"
     ]
    }
   ],
   "source": [
    "// Array-Literal []\n",
    "const myArray = [1, 2, 3, true, \"string\", [1, 2]]\n",
    "myArray[1]"
   ]
  },
  {
   "cell_type": "code",
   "execution_count": 71,
   "metadata": {},
   "outputs": [
    {
     "name": "stdout",
     "output_type": "stream",
     "text": [
      "[ \u001b[33m1\u001b[39m, \u001b[33m2\u001b[39m, \u001b[33m3\u001b[39m, \u001b[33m4\u001b[39m, \u001b[33m5\u001b[39m ]\n"
     ]
    }
   ],
   "source": [
    "const myArray = [1, 2, 3, 4]\n",
    "myArray.push(5)\n",
    "myArray"
   ]
  },
  {
   "cell_type": "markdown",
   "metadata": {},
   "source": [
    "`myArray` ist doch eine Konstante, warum kann man dort etwas ändern? Wenn in einer Konstanten nicht primitive Typen gespeichert sind, kann man zwar keinen ganz neuen Wert zufügen, aber die Objekte oder Arrays können geändert werden."
   ]
  },
  {
   "cell_type": "code",
   "execution_count": 77,
   "metadata": {},
   "outputs": [
    {
     "name": "stderr",
     "output_type": "stream",
     "text": [
      "3:27 - Type '(a: any, b: any) => number' is not assignable to type 'number'.\n"
     ]
    }
   ],
   "source": [
    "let myArray = [1, 2, 3, 4]\n",
    "const fun = (a, b) => 1\n",
    "myArray = [1, 2, 3, 4, 5, fun] // das geht also nicht"
   ]
  },
  {
   "cell_type": "markdown",
   "metadata": {},
   "source": [
    "# Kontrollfluss"
   ]
  },
  {
   "cell_type": "code",
   "execution_count": 78,
   "metadata": {},
   "outputs": [],
   "source": [
    "let x = 1;\n",
    "if (x > 0 ) {\n",
    "    x = -x;\n",
    "} else {\n",
    "    x = x * 2\n",
    "}"
   ]
  },
  {
   "cell_type": "code",
   "execution_count": 80,
   "metadata": {},
   "outputs": [
    {
     "name": "stdout",
     "output_type": "stream",
     "text": [
      "\u001b[33m0\u001b[39m\n",
      "\u001b[33m1\u001b[39m\n",
      "\u001b[33m2\u001b[39m\n",
      "\u001b[33m3\u001b[39m\n",
      "\u001b[33m4\u001b[39m\n",
      "\u001b[33m5\u001b[39m\n",
      "\u001b[33m6\u001b[39m\n",
      "\u001b[33m7\u001b[39m\n",
      "\u001b[33m8\u001b[39m\n",
      "\u001b[33m9\u001b[39m\n"
     ]
    }
   ],
   "source": [
    "for(let x = 0; x < 10; x++) {\n",
    "    console.log(x) // so funktioniert Ausgabe. Was in Java System.out.println() wäre\n",
    "}"
   ]
  },
  {
   "cell_type": "markdown",
   "metadata": {},
   "source": [
    "# Klassen\n",
    "\n",
    "```javascript\n",
    "class Person {\n",
    "    constructor(name) {\n",
    "        this.name = name;\n",
    "    }\n",
    "}\n",
    "\n",
    "const niklas = new Person('niklas');\n",
    "niklas.name;\n",
    "```"
   ]
  },
  {
   "cell_type": "markdown",
   "metadata": {},
   "source": [
    "# Module\n",
    "\n",
    "Module sind Dateien, die zusammenhängende Funktionalitäten bereitstellen.\n",
    "\n",
    "Z.B. eine Datei math.mjs, mit folgendem Inhalt:\n",
    "\n",
    "```javascript\n",
    "export function add(a, b) {\n",
    "    return a + b;\n",
    "}\n",
    "```\n",
    "\n",
    "Dann kann in einer anderen Datei das Modul importiert werden:\n",
    "\n",
    "```javascript\n",
    "import * as math from 'math'\n",
    "\n",
    "math.add(a, b);\n",
    "```\n"
   ]
  },
  {
   "cell_type": "markdown",
   "metadata": {},
   "source": [
    "# Ausnahmebehandlung"
   ]
  },
  {
   "cell_type": "code",
   "execution_count": null,
   "metadata": {},
   "outputs": [],
   "source": [
    "function hups() { throw new Error('Hups');\n",
    "}\n",
    "hups()"
   ]
  },
  {
   "cell_type": "code",
   "execution_count": 81,
   "metadata": {},
   "outputs": [
    {
     "name": "stdout",
     "output_type": "stream",
     "text": [
      "we've got an error here: Error: Hups\n"
     ]
    }
   ],
   "source": [
    "function hups() { throw new Error('Hups');\n",
    "}\n",
    "\n",
    "function catchHups() {\n",
    "    try {\n",
    "        hups()\n",
    "    } catch(error) {\n",
    "        console.log(`we've got an error here: ${error}`)\n",
    "    }\n",
    "}\n",
    "\n",
    "catchHups()"
   ]
  },
  {
   "cell_type": "markdown",
   "metadata": {},
   "source": [
    "# Variablennamen und Objektattributsnamen (Identifier)\n",
    "\n",
    "Erlaubt sind:\n",
    "\n",
    "* Unicode Buchstaben, A-Z, a-z usw.\n",
    "* `$`\n",
    "* `_`\n",
    "* Unicode Zahlen, 0-9 usw. (Aber keine Zahl am Anfang)\n",
    "\n",
    "`if`, `true`, `for` könnenn nicht in Variablennamen vorkommen, aber in Objektattributsnamen"
   ]
  },
  {
   "cell_type": "markdown",
   "metadata": {},
   "source": [
    "# Semikolons\n",
    "\n",
    "Um Anweisungen abzuschließen werden Semikolons verwendet, wie in Java.\n",
    "Allerdings können diese auch in viellen Fällen weggelassen werden, JavaScript fügt die beim Parsen wieder ein. (Automatic Semicolon Insertion genannt.)\n",
    "Die Regeln dazu sind komplex und dies kann zu unerwarteten Bugs führen, daher sollten Sie besser einfach Semikolons verwenden.\n",
    "\n",
    "Nach einer `}` ist kein Semikolon nötig."
   ]
  },
  {
   "cell_type": "code",
   "execution_count": 82,
   "metadata": {},
   "outputs": [
    {
     "name": "stdout",
     "output_type": "stream",
     "text": [
      "\u001b[33m3\u001b[39m\n"
     ]
    }
   ],
   "source": [
    "const a = 1\n",
    "const b = 2\n",
    "const c = a + b\n",
    "console.log(c)"
   ]
  },
  {
   "cell_type": "code",
   "execution_count": 83,
   "metadata": {},
   "outputs": [
    {
     "name": "stdout",
     "output_type": "stream",
     "text": [
      "\u001b[33m3\u001b[39m\n"
     ]
    }
   ],
   "source": [
    "// oder eben\n",
    "const a = 1;\n",
    "const b = 2;\n",
    "const c = a + b;\n",
    "console.log(c);"
   ]
  },
  {
   "cell_type": "markdown",
   "metadata": {},
   "source": [
    "Achtung, nach einem `return` darf kein Zeilenumbruch stehen, sonst fügt ASI dort ein `;` ein, so das nichts \"returned\" wird."
   ]
  },
  {
   "cell_type": "markdown",
   "metadata": {},
   "source": [
    "# Ausdrücke / Expressions\n",
    "\n",
    "Ausdrücke können evaluiert werden, so dass ein neuer Wert erzeugt wird, z.B.:"
   ]
  },
  {
   "cell_type": "code",
   "execution_count": null,
   "metadata": {},
   "outputs": [],
   "source": [
    "1 + 1"
   ]
  },
  {
   "cell_type": "markdown",
   "metadata": {},
   "source": [
    "Die Parameter von Funktionen müssen Ausdrücke sein, z.B.:"
   ]
  },
  {
   "cell_type": "code",
   "execution_count": null,
   "metadata": {},
   "outputs": [],
   "source": [
    "console.log(1 + 1);"
   ]
  },
  {
   "cell_type": "markdown",
   "metadata": {},
   "source": [
    "# Anweisungen / Statements\n",
    "\n",
    "Anweisungen sind etwas, was ausgeführt werden kann und dann eine Art Aktion durchführt, z.B.:"
   ]
  },
  {
   "cell_type": "code",
   "execution_count": null,
   "metadata": {},
   "outputs": [],
   "source": [
    "let x = 1 + 1;"
   ]
  },
  {
   "cell_type": "markdown",
   "metadata": {},
   "source": [
    "Der Rumpf von Funktionen muss ein Ausdruck sein, z.B.:\n",
    "\n",
    "```javascript\n",
    "function add(a, b) {\n",
    "    return a + b;\n",
    "}\n",
    "```\n"
   ]
  },
  {
   "cell_type": "markdown",
   "metadata": {},
   "source": [
    "# Blöcke"
   ]
  },
  {
   "cell_type": "code",
   "execution_count": 84,
   "metadata": {},
   "outputs": [
    {
     "name": "stdout",
     "output_type": "stream",
     "text": [
      "\u001b[33m0\u001b[39m\n"
     ]
    }
   ],
   "source": [
    "let a = 10;\n",
    "while (a > 0) a--; // einzelne Anweisung als Rumpf (Body)\n",
    "a"
   ]
  },
  {
   "cell_type": "code",
   "execution_count": 87,
   "metadata": {},
   "outputs": [
    {
     "name": "stdout",
     "output_type": "stream",
     "text": [
      "\u001b[33m9\u001b[39m\n",
      "\u001b[33m8\u001b[39m\n",
      "\u001b[33m7\u001b[39m\n",
      "\u001b[33m6\u001b[39m\n",
      "\u001b[33m5\u001b[39m\n",
      "\u001b[33m4\u001b[39m\n",
      "\u001b[33m3\u001b[39m\n",
      "\u001b[33m2\u001b[39m\n",
      "\u001b[33m1\u001b[39m\n",
      "\u001b[33m0\u001b[39m\n"
     ]
    }
   ],
   "source": [
    "let a = 10;\n",
    "while (a > 0) { // Blöcke (in geschweiften Klammern) sind auch Anweisungen\n",
    "    a--; \n",
    "    {\n",
    "        let a = 2;\n",
    "    }\n",
    "\n",
    "console.log(a)}\n"
   ]
  },
  {
   "cell_type": "markdown",
   "metadata": {},
   "source": [
    "Achtung sowohl Blöcke als auch Objektliterale werden mit geschweiften Klammern erzeugt. Was von beidem ist kontektabhängig.\n",
    "\n",
    "Da wo ein Ausdruck erwartet wird, ist es das Objektliteral; da wo eine Anweisung erwartet wird, ist es dein Block."
   ]
  },
  {
   "cell_type": "markdown",
   "metadata": {},
   "source": [
    "# Strict Mode\n",
    "\n",
    "Ab der Version ECMAScript 5 hat JavsScript zwei Modi, \"strict\" (default für Module und Classen) und \"sloppy\" (default für Code-Fragmente).\n",
    "\n",
    "Mit `'use strict';` als erste Zeile in einem JavaScript-Script kann der strikte Modus aktiviert werden (falls es nicht ohnehin ein Modul ist). Sie sollten immer den strikten Modus verwenden, dieser schützt vor diversen Problemfällen.\n",
    "\n",
    "## Undeklarierte Variablen\n",
    "\n",
    "Im \"sloppy\"-Modus können Sie Zuweisungen zu einer Variable schreiben (z.B. Tippfehler) und es wird dann automatisch eine globale Variable erzeugt.\n",
    "\n",
    "## Block-Scope vs. Function-Scope\n",
    "\n",
    "Mit dem \"strict\"-Modus sind Variablen nur in dem umschließenden Block gültig, im \"sloppy\"-Modus im gesammten Funktionsrumpf.\n",
    "\n",
    "## Änderung von unveränderlichen Daten (immutable)\n",
    "\n",
    "Im \"sloppy\"-Modus erhalten Sie keine Fehlermeldung, wenn Sie Daten ändern wollen, die nicht veränderbar sind."
   ]
  },
  {
   "cell_type": "code",
   "execution_count": null,
   "metadata": {},
   "outputs": [],
   "source": []
  }
 ],
 "metadata": {
  "kernelspec": {
   "display_name": "JavaScript",
   "language": "javascript",
   "name": "jslab"
  },
  "language_info": {
   "file_extension": ".js",
   "mimetype": "text/javascript",
   "name": "javascript",
   "version": ""
  }
 },
 "nbformat": 4,
 "nbformat_minor": 4
}

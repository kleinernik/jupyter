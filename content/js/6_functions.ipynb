{
  "metadata": {
    "kernelspec": {
      "name": "javascript",
      "display_name": "JavaScript (Web Worker)",
      "language": "javascript"
    },
    "language_info": {
      "codemirror_mode": {
        "name": "javascript"
      },
      "file_extension": ".js",
      "mimetype": "text/javascript",
      "name": "javascript",
      "nbconvert_exporter": "javascript",
      "pygments_lexer": "javascript",
      "version": "es2017"
    }
  },
  "nbformat_minor": 4,
  "nbformat": 4,
  "cells": [
    {
      "cell_type": "markdown",
      "source": "# Funktionen\n\n## Deklaration",
      "metadata": {}
    },
    {
      "cell_type": "code",
      "source": "function sayHey() {\n    console.log('Hey')\n}\n\nsayHey();",
      "metadata": {
        "trusted": true
      },
      "outputs": [
        {
          "name": "stdout",
          "text": "Hey\n",
          "output_type": "stream"
        },
        {
          "execution_count": 1,
          "output_type": "execute_result",
          "data": {},
          "metadata": {}
        }
      ],
      "execution_count": 1
    },
    {
      "cell_type": "markdown",
      "source": "## Ausdruck",
      "metadata": {}
    },
    {
      "cell_type": "code",
      "source": "const sayHo = function() {\n    console.log('Ho')\n}\n\nsayHo();",
      "metadata": {
        "trusted": true
      },
      "outputs": [
        {
          "name": "stdout",
          "text": "Ho\n",
          "output_type": "stream"
        },
        {
          "execution_count": 2,
          "output_type": "execute_result",
          "data": {},
          "metadata": {}
        }
      ],
      "execution_count": 2
    },
    {
      "cell_type": "code",
      "source": "const sayHeyHo = () => console.log('HeyHo')\n\nsayHeyHo();",
      "metadata": {
        "trusted": true
      },
      "outputs": [
        {
          "name": "stdout",
          "text": "HeyHo\n",
          "output_type": "stream"
        },
        {
          "execution_count": 3,
          "output_type": "execute_result",
          "data": {},
          "metadata": {}
        }
      ],
      "execution_count": 3
    },
    {
      "cell_type": "code",
      "source": "const func = function myFunc() {\n    console.log(myFunc)\n}\n\nfunc();",
      "metadata": {
        "trusted": true
      },
      "outputs": [
        {
          "name": "stdout",
          "text": "function myFunc() {\n    console.log(myFunc)\n}\n",
          "output_type": "stream"
        },
        {
          "execution_count": 4,
          "output_type": "execute_result",
          "data": {},
          "metadata": {}
        }
      ],
      "execution_count": 4
    },
    {
      "cell_type": "markdown",
      "source": "## Teile der Funktionsdeklaration",
      "metadata": {}
    },
    {
      "cell_type": "code",
      "source": "function add(x, y) {\n    return x + y;\n}",
      "metadata": {
        "trusted": true
      },
      "outputs": [
        {
          "execution_count": 5,
          "output_type": "execute_result",
          "data": {},
          "metadata": {}
        }
      ],
      "execution_count": 5
    },
    {
      "cell_type": "markdown",
      "source": "`add` ist der Name der Funktion\n\n`add(x, y)` ist der Kopf der Funktion (head)\n\n`x` und `y` sind die Parameter\n\ndanach, ich den geschweiften Klammern kommt der Rumpf der Funkion (body)\n\nmit `return` wird ein Wert zurückgegeben.",
      "metadata": {}
    },
    {
      "cell_type": "markdown",
      "source": "## Early Return\n\nMit `return` wird sofort ein Wert zurückgegeben und der Rest der Funktion nicht weiter ausgeführt.\n",
      "metadata": {}
    },
    {
      "cell_type": "code",
      "source": "function biggerThenFive(a) {\n    let r;\n    if(a > 5) {\n        r = true;\n    } else {\n        r = false;\n    }\n    return r;\n}\n\nbiggerThenFive(6);",
      "metadata": {
        "trusted": true
      },
      "outputs": [
        {
          "execution_count": 6,
          "output_type": "execute_result",
          "data": {
            "text/plain": "true"
          },
          "metadata": {}
        }
      ],
      "execution_count": 6
    },
    {
      "cell_type": "code",
      "source": "function biggerThenFive(a) {\n    if(a > 5) return true;\n    return false;\n}\n\nbiggerThenFive(6);",
      "metadata": {
        "trusted": true
      },
      "outputs": [
        {
          "execution_count": 7,
          "output_type": "execute_result",
          "data": {
            "text/plain": "true"
          },
          "metadata": {}
        }
      ],
      "execution_count": 7
    },
    {
      "cell_type": "code",
      "source": "function biggerThenFive(a) {\n    return a > 5;\n}\n\nbiggerThenFive(6);",
      "metadata": {
        "trusted": true
      },
      "outputs": [
        {
          "execution_count": 8,
          "output_type": "execute_result",
          "data": {
            "text/plain": "true"
          },
          "metadata": {}
        }
      ],
      "execution_count": 8
    },
    {
      "cell_type": "code",
      "source": "const biggerThenFive = (a) => a > 5\n\nbiggerThenFive(6);",
      "metadata": {
        "trusted": true
      },
      "outputs": [
        {
          "execution_count": 9,
          "output_type": "execute_result",
          "data": {
            "text/plain": "true"
          },
          "metadata": {}
        }
      ],
      "execution_count": 9
    },
    {
      "cell_type": "markdown",
      "source": "## Parameter\n\nParameter sind Teil der Funktionsdeklaration, Argumente sind konkrete Werte mit denen die Funktion aufgerufen wird und die Parameter belegt werden.",
      "metadata": {}
    },
    {
      "cell_type": "code",
      "source": "function add(x, y) {\n    return x + y;\n}\n\nadd(3, 4);",
      "metadata": {
        "trusted": true
      },
      "outputs": [
        {
          "execution_count": 10,
          "output_type": "execute_result",
          "data": {
            "text/plain": "7"
          },
          "metadata": {}
        }
      ],
      "execution_count": 10
    },
    {
      "cell_type": "markdown",
      "source": "`x` und `y` sind die Parameter, `3` und `4` die Argumente. Das Argument `3` wird an den Parameter `x` gebunden.",
      "metadata": {}
    },
    {
      "cell_type": "markdown",
      "source": "### Zu viele Parameter\n\n... werden ignoriert.",
      "metadata": {}
    },
    {
      "cell_type": "code",
      "source": "function add(x, y) {\n    return x + y;\n}\n\nadd(3, 4, 5, 6);",
      "metadata": {
        "trusted": true
      },
      "outputs": [
        {
          "execution_count": 11,
          "output_type": "execute_result",
          "data": {
            "text/plain": "7"
          },
          "metadata": {}
        }
      ],
      "execution_count": 11
    },
    {
      "cell_type": "markdown",
      "source": "### Zu wenig Parameter\n\nFehlende sind dann `undefined`.",
      "metadata": {}
    },
    {
      "cell_type": "code",
      "source": "function add(x, y) {\n    return x + y;\n}\n\nadd(3);",
      "metadata": {
        "trusted": true
      },
      "outputs": [
        {
          "execution_count": 12,
          "output_type": "execute_result",
          "data": {
            "text/plain": "NaN"
          },
          "metadata": {}
        }
      ],
      "execution_count": 12
    },
    {
      "cell_type": "code",
      "source": "function add(x, y) {\n    if(typeof a === 'undefined' || typeof b === 'undefined') throw new Error('Missing Arguments')\n    return x + y;\n}\n\nadd(3, 4, 5, 6);",
      "metadata": {
        "trusted": true
      },
      "outputs": [
        {
          "ename": "Error",
          "evalue": "Missing Arguments",
          "traceback": [
            "Error: Missing Arguments\n    at add (eval at execute (https://kleinernik.github.io/jupyter/extensions/@jupyterlite/javascript-kernel-extension/static/866.3b1a6f7f40404e931e61.js?v=3b1a6f7f40404e931e61:2:13351), <anonymous>:2:68)\n    at eval (eval at execute (https://kleinernik.github.io/jupyter/extensions/@jupyterlite/javascript-kernel-extension/static/866.3b1a6f7f40404e931e61.js?v=3b1a6f7f40404e931e61:2:13351), <anonymous>:6:1)\n    at eval (<anonymous>)\n    at Object.execute (https://kleinernik.github.io/jupyter/extensions/@jupyterlite/javascript-kernel-extension/static/866.3b1a6f7f40404e931e61.js?v=3b1a6f7f40404e931e61:2:13351)\n    at o (https://kleinernik.github.io/jupyter/extensions/@jupyterlite/javascript-kernel-extension/static/866.3b1a6f7f40404e931e61.js?v=3b1a6f7f40404e931e61:2:10215)"
          ],
          "output_type": "error"
        }
      ],
      "execution_count": 13
    },
    {
      "cell_type": "markdown",
      "source": "## Default Parameter",
      "metadata": {}
    },
    {
      "cell_type": "code",
      "source": "function add(x = 1, y = 1) {\n    return x + y;\n}\n\nadd(3);",
      "metadata": {
        "trusted": true
      },
      "outputs": [
        {
          "execution_count": 13,
          "output_type": "execute_result",
          "data": {
            "text/plain": "4"
          },
          "metadata": {}
        }
      ],
      "execution_count": 14
    },
    {
      "cell_type": "markdown",
      "source": "## \"Rest\"-Parameter\n\n`...` vor dem letzten Parameter \"sammelt\" alle zusätzlich gegebenen Argumente in einem Array.\n\nAn anderen Stellen ist `...` der Spread-Operator, der aus einem Array wieder eine Argument-Liste macht.",
      "metadata": {}
    },
    {
      "cell_type": "code",
      "source": "function add(x, ...y) {\n    console.log(y)\n    if(y.length === 0) return x;\n    return x + add(...y);\n}\n\nadd(3, 3, 5, 6);",
      "metadata": {
        "trusted": true
      },
      "outputs": [
        {
          "name": "stdout",
          "text": "3,5,6\n5,6\n6\n\n",
          "output_type": "stream"
        },
        {
          "execution_count": 14,
          "output_type": "execute_result",
          "data": {
            "text/plain": "17"
          },
          "metadata": {}
        }
      ],
      "execution_count": 15
    },
    {
      "cell_type": "code",
      "source": "function add(x = 1, y = 1) {\n    return x + y;\n}\n\nconst myArray = [1, 3]\n\nadd(...myArray);",
      "metadata": {
        "trusted": true
      },
      "outputs": [
        {
          "execution_count": 15,
          "output_type": "execute_result",
          "data": {
            "text/plain": "4"
          },
          "metadata": {}
        }
      ],
      "execution_count": 16
    },
    {
      "cell_type": "markdown",
      "source": "## Funktionen als Parameter",
      "metadata": {}
    },
    {
      "cell_type": "code",
      "source": "function map(x, mapper) {\n    return mapper(x);\n}\n\nmap(2, (x) => x * x)",
      "metadata": {
        "trusted": true
      },
      "outputs": [
        {
          "execution_count": 16,
          "output_type": "execute_result",
          "data": {
            "text/plain": "4"
          },
          "metadata": {}
        }
      ],
      "execution_count": 17
    },
    {
      "cell_type": "code",
      "source": "function map(x, mapper) {\n    return mapper(x);\n}\n\nconst timesFour = (x) =>  map(x, (x) => x * 4 )\n\ntimesFour(4)",
      "metadata": {
        "trusted": true
      },
      "outputs": [
        {
          "execution_count": 17,
          "output_type": "execute_result",
          "data": {
            "text/plain": "16"
          },
          "metadata": {}
        }
      ],
      "execution_count": 18
    }
  ]
}
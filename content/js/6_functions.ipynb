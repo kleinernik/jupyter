{
 "cells": [
  {
   "cell_type": "markdown",
   "metadata": {},
   "source": [
    "# Funktionen\n",
    "\n",
    "## Deklaration"
   ]
  },
  {
   "cell_type": "code",
   "execution_count": 1,
   "metadata": {},
   "outputs": [
    {
     "name": "stdout",
     "output_type": "stream",
     "text": [
      "Hey\n"
     ]
    }
   ],
   "source": [
    "function sayHey() {\n",
    "    console.log('Hey')\n",
    "}\n",
    "\n",
    "sayHey();"
   ]
  },
  {
   "cell_type": "markdown",
   "metadata": {},
   "source": [
    "## Ausdruck"
   ]
  },
  {
   "cell_type": "code",
   "execution_count": 2,
   "metadata": {},
   "outputs": [
    {
     "name": "stdout",
     "output_type": "stream",
     "text": [
      "Ho\n"
     ]
    }
   ],
   "source": [
    "const sayHo = function() {\n",
    "    console.log('Ho')\n",
    "}\n",
    "\n",
    "sayHo();"
   ]
  },
  {
   "cell_type": "code",
   "execution_count": 3,
   "metadata": {},
   "outputs": [
    {
     "name": "stdout",
     "output_type": "stream",
     "text": [
      "HeyHo\n"
     ]
    }
   ],
   "source": [
    "const sayHeyHo = () => console.log('HeyHo')\n",
    "\n",
    "sayHeyHo();"
   ]
  },
  {
   "cell_type": "code",
   "execution_count": 4,
   "metadata": {},
   "outputs": [
    {
     "name": "stdout",
     "output_type": "stream",
     "text": [
      "\u001b[36m[Function: myFunc]\u001b[39m\n"
     ]
    }
   ],
   "source": [
    "const func = function myFunc() {\n",
    "    console.log(myFunc)\n",
    "}\n",
    "\n",
    "func();"
   ]
  },
  {
   "cell_type": "markdown",
   "metadata": {},
   "source": [
    "## Teile der Funktionsdeklaration"
   ]
  },
  {
   "cell_type": "code",
   "execution_count": 5,
   "metadata": {},
   "outputs": [],
   "source": [
    "function add(x, y) {\n",
    "    return x + y;\n",
    "}"
   ]
  },
  {
   "cell_type": "markdown",
   "metadata": {},
   "source": [
    "`add` ist der Name der Funktion\n",
    "\n",
    "`add(x, y)` ist der Kopf der Funktion (head)\n",
    "\n",
    "`x` und `y` sind die Parameter\n",
    "\n",
    "danach, ich den geschweiften Klammern kommt der Rumpf der Funkion (body)\n",
    "\n",
    "mit `return` wird ein Wert zurückgegeben."
   ]
  },
  {
   "cell_type": "markdown",
   "metadata": {},
   "source": [
    "## Early Return\n",
    "\n",
    "Mit `return` wird sofort ein Wert zurückgegeben und der Rest der Funktion nicht weiter ausgeführt.\n"
   ]
  },
  {
   "cell_type": "code",
   "execution_count": 6,
   "metadata": {},
   "outputs": [
    {
     "name": "stdout",
     "output_type": "stream",
     "text": [
      "\u001b[33mtrue\u001b[39m\n"
     ]
    }
   ],
   "source": [
    "function biggerThenFive(a) {\n",
    "    let r;\n",
    "    if(a > 5) {\n",
    "        r = true;\n",
    "    } else {\n",
    "        r = false;\n",
    "    }\n",
    "    return r;\n",
    "}\n",
    "\n",
    "biggerThenFive(6);"
   ]
  },
  {
   "cell_type": "code",
   "execution_count": 7,
   "metadata": {},
   "outputs": [
    {
     "name": "stdout",
     "output_type": "stream",
     "text": [
      "\u001b[33mtrue\u001b[39m\n"
     ]
    }
   ],
   "source": [
    "function biggerThenFive(a) {\n",
    "    if(a > 5) return true;\n",
    "    return false;\n",
    "}\n",
    "\n",
    "biggerThenFive(6);"
   ]
  },
  {
   "cell_type": "code",
   "execution_count": 8,
   "metadata": {},
   "outputs": [
    {
     "name": "stdout",
     "output_type": "stream",
     "text": [
      "\u001b[33mtrue\u001b[39m\n"
     ]
    }
   ],
   "source": [
    "function biggerThenFive(a) {\n",
    "    return a > 5;\n",
    "}\n",
    "\n",
    "biggerThenFive(6);"
   ]
  },
  {
   "cell_type": "code",
   "execution_count": 9,
   "metadata": {},
   "outputs": [
    {
     "name": "stdout",
     "output_type": "stream",
     "text": [
      "\u001b[33mtrue\u001b[39m\n"
     ]
    }
   ],
   "source": [
    "const biggerThenFive = (a) => a > 5\n",
    "\n",
    "biggerThenFive(6);"
   ]
  },
  {
   "cell_type": "markdown",
   "metadata": {},
   "source": [
    "## Parameter\n",
    "\n",
    "Parameter sind Teil der Funktionsdeklaration, Argumente sind konkrete Werte mit denen die Funktion aufgerufen wird und die Parameter belegt werden."
   ]
  },
  {
   "cell_type": "code",
   "execution_count": 10,
   "metadata": {},
   "outputs": [
    {
     "name": "stdout",
     "output_type": "stream",
     "text": [
      "\u001b[33m7\u001b[39m\n"
     ]
    }
   ],
   "source": [
    "function add(x, y) {\n",
    "    return x + y;\n",
    "}\n",
    "\n",
    "add(3, 4);"
   ]
  },
  {
   "cell_type": "markdown",
   "metadata": {},
   "source": [
    "`x` und `y` sind die Parameter, `3` und `4` die Argumente. Das Argument `3` wird an den Parameter `x` gebunden."
   ]
  },
  {
   "cell_type": "markdown",
   "metadata": {},
   "source": [
    "### Zu viele Parameter\n",
    "\n",
    "... werden ignoriert."
   ]
  },
  {
   "cell_type": "code",
   "execution_count": 11,
   "metadata": {},
   "outputs": [
    {
     "name": "stderr",
     "output_type": "stream",
     "text": [
      "5:11 - Expected 0-2 arguments, but got 4.\n"
     ]
    }
   ],
   "source": [
    "function add(x, y) {\n",
    "    return x + y;\n",
    "}\n",
    "\n",
    "add(3, 4, 5, 6);"
   ]
  },
  {
   "cell_type": "markdown",
   "metadata": {},
   "source": [
    "### Zu wenig Parameter\n",
    "\n",
    "Fehlende sind dann `undefined`."
   ]
  },
  {
   "cell_type": "code",
   "execution_count": 12,
   "metadata": {},
   "outputs": [
    {
     "data": {
      "text/plain": [
       "NaN"
      ]
     },
     "execution_count": 12,
     "metadata": {},
     "output_type": "execute_result"
    }
   ],
   "source": [
    "function add(x, y) {\n",
    "    return x + y;\n",
    "}\n",
    "\n",
    "add(3);"
   ]
  },
  {
   "cell_type": "code",
   "execution_count": 13,
   "metadata": {},
   "outputs": [
    {
     "ename": "Error",
     "evalue": "Missing Arguments",
     "output_type": "error",
     "traceback": [
      "Error: Missing Arguments\n    at add (eval at execute (https://kleinernik.github.io/jupyter/extensions/@jupyterlite/javascript-kernel-extension/static/866.3b1a6f7f40404e931e61.js?v=3b1a6f7f40404e931e61:2:13351), <anonymous>:2:68)\n    at eval (eval at execute (https://kleinernik.github.io/jupyter/extensions/@jupyterlite/javascript-kernel-extension/static/866.3b1a6f7f40404e931e61.js?v=3b1a6f7f40404e931e61:2:13351), <anonymous>:6:1)\n    at eval (<anonymous>)\n    at Object.execute (https://kleinernik.github.io/jupyter/extensions/@jupyterlite/javascript-kernel-extension/static/866.3b1a6f7f40404e931e61.js?v=3b1a6f7f40404e931e61:2:13351)\n    at o (https://kleinernik.github.io/jupyter/extensions/@jupyterlite/javascript-kernel-extension/static/866.3b1a6f7f40404e931e61.js?v=3b1a6f7f40404e931e61:2:10215)"
     ]
    }
   ],
   "source": [
    "function add(x, y) {\n",
    "    if(typeof a === 'undefined' || typeof b === 'undefined') throw new Error('Missing Arguments')\n",
    "    return x + y;\n",
    "}\n",
    "\n",
    "add(3, 4, 5, 6);"
   ]
  },
  {
   "cell_type": "markdown",
   "metadata": {},
   "source": [
    "## Default Parameter"
   ]
  },
  {
   "cell_type": "code",
   "execution_count": 14,
   "metadata": {},
   "outputs": [
    {
     "data": {
      "text/plain": [
       "4"
      ]
     },
     "execution_count": 13,
     "metadata": {},
     "output_type": "execute_result"
    }
   ],
   "source": [
    "function add(x = 1, y = 1) {\n",
    "    return x + y;\n",
    "}\n",
    "\n",
    "add(3);"
   ]
  },
  {
   "cell_type": "markdown",
   "metadata": {},
   "source": [
    "## \"Rest\"-Parameter\n",
    "\n",
    "`...` vor dem letzten Parameter \"sammelt\" alle zusätzlich gegebenen Argumente in einem Array.\n",
    "\n",
    "An anderen Stellen ist `...` der Spread-Operator, der aus einem Array wieder eine Argument-Liste macht."
   ]
  },
  {
   "cell_type": "code",
   "execution_count": 15,
   "metadata": {},
   "outputs": [
    {
     "name": "stdout",
     "output_type": "stream",
     "text": [
      "3,5,6\n",
      "5,6\n",
      "6\n",
      "\n"
     ]
    },
    {
     "data": {
      "text/plain": [
       "17"
      ]
     },
     "execution_count": 14,
     "metadata": {},
     "output_type": "execute_result"
    }
   ],
   "source": [
    "function add(x, ...y) {\n",
    "    console.log(y)\n",
    "    if(y.length === 0) return x;\n",
    "    return x + add(...y);\n",
    "}\n",
    "\n",
    "add(3, 3, 5, 6);"
   ]
  },
  {
   "cell_type": "code",
   "execution_count": 16,
   "metadata": {},
   "outputs": [
    {
     "data": {
      "text/plain": [
       "4"
      ]
     },
     "execution_count": 15,
     "metadata": {},
     "output_type": "execute_result"
    }
   ],
   "source": [
    "function add(x = 1, y = 1) {\n",
    "    return x + y;\n",
    "}\n",
    "\n",
    "const myArray = [1, 3]\n",
    "\n",
    "add(...myArray);"
   ]
  },
  {
   "cell_type": "markdown",
   "metadata": {},
   "source": [
    "## Funktionen als Parameter"
   ]
  },
  {
   "cell_type": "code",
   "execution_count": 17,
   "metadata": {},
   "outputs": [
    {
     "data": {
      "text/plain": [
       "4"
      ]
     },
     "execution_count": 16,
     "metadata": {},
     "output_type": "execute_result"
    }
   ],
   "source": [
    "function map(x, mapper) {\n",
    "    return mapper(x);\n",
    "}\n",
    "\n",
    "map(2, (x) => x * x)"
   ]
  },
  {
   "cell_type": "code",
   "execution_count": 18,
   "metadata": {},
   "outputs": [
    {
     "data": {
      "text/plain": [
       "16"
      ]
     },
     "execution_count": 17,
     "metadata": {},
     "output_type": "execute_result"
    }
   ],
   "source": [
    "function map(x, mapper) {\n",
    "    return mapper(x);\n",
    "}\n",
    "\n",
    "const timesFour = (x) =>  map(x, (x) => x * 4 )\n",
    "\n",
    "timesFour(4)"
   ]
  }
 ],
 "metadata": {
  "kernelspec": {
   "display_name": "JavaScript",
   "language": "javascript",
   "name": "jslab"
  },
  "language_info": {
   "file_extension": ".js",
   "mimetype": "text/javascript",
   "name": "javascript",
   "version": ""
  }
 },
 "nbformat": 4,
 "nbformat_minor": 4
}

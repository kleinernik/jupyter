{
 "cells": [
  {
   "cell_type": "markdown",
   "metadata": {},
   "source": [
    "# Typen - Fortsetzung\n",
    "\n",
    "## Zeichenketten (strings)"
   ]
  },
  {
   "cell_type": "code",
   "execution_count": 1,
   "metadata": {},
   "outputs": [
    {
     "name": "stdout",
     "output_type": "stream",
     "text": [
      "string\n"
     ]
    }
   ],
   "source": [
    "typeof 'test'"
   ]
  },
  {
   "cell_type": "code",
   "execution_count": 2,
   "metadata": {},
   "outputs": [
    {
     "name": "stdout",
     "output_type": "stream",
     "text": [
      "string\n"
     ]
    }
   ],
   "source": [
    "typeof \"test's\""
   ]
  },
  {
   "cell_type": "code",
   "execution_count": 7,
   "metadata": {},
   "outputs": [
    {
     "name": "stdout",
     "output_type": "stream",
     "text": [
      "string\n"
     ]
    }
   ],
   "source": [
    "let x = 42;\n",
    "typeof `test ${x}`"
   ]
  },
  {
   "cell_type": "markdown",
   "metadata": {},
   "source": [
    "JavaScript strings sind UTF-16 "
   ]
  },
  {
   "cell_type": "code",
   "execution_count": 8,
   "metadata": {},
   "outputs": [
    {
     "name": "stdout",
     "output_type": "stream",
     "text": [
      "\u001b[33m1\u001b[39m ☺\n"
     ]
    }
   ],
   "source": [
    "const smiley = '☺';\n",
    "console.log(smiley.length, smiley)"
   ]
  },
  {
   "cell_type": "markdown",
   "metadata": {},
   "source": [
    "### Literale\n",
    "\n",
    "Strings können in einfache oder doppelte Anführungszeichen gesetzt werden. Der Backslash `\\` wird für das \"Escapen\" benutzt.\n",
    "\n",
    "Der Backtick ist das Templateliteral."
   ]
  },
  {
   "cell_type": "code",
   "execution_count": null,
   "metadata": {},
   "outputs": [],
   "source": [
    "\"Niklas' Auto\""
   ]
  },
  {
   "cell_type": "code",
   "execution_count": null,
   "metadata": {},
   "outputs": [],
   "source": [
    "'Ich sagte \"Hallo Welt\"'"
   ]
  },
  {
   "cell_type": "code",
   "execution_count": null,
   "metadata": {},
   "outputs": [],
   "source": [
    "const answer = 42;\n",
    "\n",
    "console.log(`the answer to everything is ${42}`)"
   ]
  },
  {
   "cell_type": "markdown",
   "metadata": {},
   "source": [
    "Templates können mit `String.raw` \"getagged\" werden, dann wird der Backslash als normales Zeichen behandet:"
   ]
  },
  {
   "cell_type": "code",
   "execution_count": null,
   "metadata": {},
   "outputs": [],
   "source": [
    "String.raw`\\ \\n\\t${42}`"
   ]
  },
  {
   "cell_type": "markdown",
   "metadata": {},
   "source": [
    "### Zu string konvertieren"
   ]
  },
  {
   "cell_type": "code",
   "execution_count": 9,
   "metadata": {},
   "outputs": [
    {
     "name": "stdout",
     "output_type": "stream",
     "text": [
      "null\n"
     ]
    }
   ],
   "source": [
    "String(null)"
   ]
  },
  {
   "cell_type": "code",
   "execution_count": 10,
   "metadata": {},
   "outputs": [
    {
     "name": "stdout",
     "output_type": "stream",
     "text": [
      "123\n"
     ]
    }
   ],
   "source": [
    "String(123)"
   ]
  },
  {
   "cell_type": "markdown",
   "metadata": {},
   "source": [
    "### Auf einzelnen Buchstaben eines Strings zugreifen"
   ]
  },
  {
   "cell_type": "code",
   "execution_count": 11,
   "metadata": {},
   "outputs": [
    {
     "name": "stdout",
     "output_type": "stream",
     "text": [
      "N\n"
     ]
    }
   ],
   "source": [
    "const myString = 'Niklas'\n",
    "\n",
    "console.log(myString[0])"
   ]
  },
  {
   "cell_type": "code",
   "execution_count": 14,
   "metadata": {},
   "outputs": [
    {
     "name": "stdout",
     "output_type": "stream",
     "text": [
      "a\n"
     ]
    }
   ],
   "source": [
    "const myString = 'Niklas'\n",
    "\n",
    "console.log(myString.at(-2))"
   ]
  },
  {
   "cell_type": "markdown",
   "metadata": {},
   "source": [
    "### Teilstrings"
   ]
  },
  {
   "cell_type": "code",
   "execution_count": 15,
   "metadata": {},
   "outputs": [
    {
     "name": "stdout",
     "output_type": "stream",
     "text": [
      "Nik\n"
     ]
    }
   ],
   "source": [
    "'Niklas'.slice(0,3)"
   ]
  },
  {
   "cell_type": "markdown",
   "metadata": {},
   "source": [
    "### Concatenation"
   ]
  },
  {
   "cell_type": "code",
   "execution_count": 16,
   "metadata": {},
   "outputs": [
    {
     "name": "stdout",
     "output_type": "stream",
     "text": [
      "Niklas Klein\n"
     ]
    }
   ],
   "source": [
    "'Niklas' + ' ' + 'Klein'"
   ]
  },
  {
   "cell_type": "code",
   "execution_count": 20,
   "metadata": {},
   "outputs": [
    {
     "name": "stdout",
     "output_type": "stream",
     "text": [
      "Niklas Klein\n"
     ]
    }
   ],
   "source": [
    "['Niklas', 'Klein'].join(' ')"
   ]
  },
  {
   "cell_type": "markdown",
   "metadata": {},
   "source": [
    "### Weitere Methoden"
   ]
  },
  {
   "cell_type": "code",
   "execution_count": 21,
   "metadata": {},
   "outputs": [
    {
     "name": "stdout",
     "output_type": "stream",
     "text": [
      "\u001b[33mtrue\u001b[39m\n"
     ]
    }
   ],
   "source": [
    "'Niklas'.includes('i')"
   ]
  },
  {
   "cell_type": "code",
   "execution_count": 22,
   "metadata": {},
   "outputs": [
    {
     "name": "stdout",
     "output_type": "stream",
     "text": [
      "\u001b[33mtrue\u001b[39m\n"
     ]
    }
   ],
   "source": [
    "'Niklas'.startsWith('N')"
   ]
  },
  {
   "cell_type": "code",
   "execution_count": 23,
   "metadata": {},
   "outputs": [
    {
     "name": "stdout",
     "output_type": "stream",
     "text": [
      "\u001b[33mtrue\u001b[39m\n"
     ]
    }
   ],
   "source": [
    "'Niklas'.endsWith('s')"
   ]
  },
  {
   "cell_type": "code",
   "execution_count": 24,
   "metadata": {},
   "outputs": [
    {
     "name": "stdout",
     "output_type": "stream",
     "text": [
      "\u001b[33m3\u001b[39m\n"
     ]
    }
   ],
   "source": [
    "'Niklas Klein'.indexOf('l')"
   ]
  },
  {
   "cell_type": "code",
   "execution_count": 25,
   "metadata": {},
   "outputs": [
    {
     "name": "stdout",
     "output_type": "stream",
     "text": [
      "\u001b[33m8\u001b[39m\n"
     ]
    }
   ],
   "source": [
    "'Niklas Klein'.lastIndexOf('l')"
   ]
  },
  {
   "cell_type": "code",
   "execution_count": 37,
   "metadata": {},
   "outputs": [
    {
     "name": "stdout",
     "output_type": "stream",
     "text": [
      "[ \u001b[32m'Nik'\u001b[39m, \u001b[32m'as K'\u001b[39m, \u001b[32m'ein'\u001b[39m ]\n"
     ]
    }
   ],
   "source": [
    "'Niklas Klein'.split('l')"
   ]
  },
  {
   "cell_type": "code",
   "execution_count": 28,
   "metadata": {},
   "outputs": [
    {
     "name": "stdout",
     "output_type": "stream",
     "text": [
      "[\"Niklas\",\"Klein\"]\n"
     ]
    }
   ],
   "source": [
    "JSON.stringify('Niklas Klein'.split(/\\s/)) // Regulärer Ausdruck"
   ]
  },
  {
   "cell_type": "code",
   "execution_count": 29,
   "metadata": {},
   "outputs": [
    {
     "name": "stdout",
     "output_type": "stream",
     "text": [
      "**********\n"
     ]
    }
   ],
   "source": [
    "'*'.repeat(10)"
   ]
  },
  {
   "cell_type": "code",
   "execution_count": 30,
   "metadata": {},
   "outputs": [
    {
     "name": "stdout",
     "output_type": "stream",
     "text": [
      "NIKLAS\n"
     ]
    }
   ],
   "source": [
    "'Niklas'.toUpperCase()"
   ]
  },
  {
   "cell_type": "code",
   "execution_count": 31,
   "metadata": {},
   "outputs": [
    {
     "name": "stdout",
     "output_type": "stream",
     "text": [
      "niklas\n"
     ]
    }
   ],
   "source": [
    "'Niklas'.toLowerCase()"
   ]
  },
  {
   "cell_type": "code",
   "execution_count": 32,
   "metadata": {},
   "outputs": [
    {
     "name": "stdout",
     "output_type": "stream",
     "text": [
      "Niklas-Klein\n"
     ]
    }
   ],
   "source": [
    "'Niklas Klein'.replace(/\\s/, '-')"
   ]
  },
  {
   "cell_type": "code",
   "execution_count": 33,
   "metadata": {},
   "outputs": [
    {
     "name": "stdout",
     "output_type": "stream",
     "text": [
      "Niklas Klein\n"
     ]
    }
   ],
   "source": [
    "' Niklas Klein '.trim()"
   ]
  },
  {
   "cell_type": "markdown",
   "metadata": {},
   "source": [
    "### Serialisieren zu String\n",
    "\n",
    "Objekte und Arrays haben \"eingebaute\" toString-Methoden, die auch überschrieben werden können.\n",
    "\n",
    "Diese sind nicht besonders hilfreich. Mit der Ausnahme von Bigint, ist die JavaScript Object Notation (JSON) eine bessere Lösung.\n",
    "\n",
    "JSON kann auch von vielen anderen Sprachen gelesen und geschrieben werden."
   ]
  },
  {
   "cell_type": "code",
   "execution_count": 36,
   "metadata": {},
   "outputs": [
    {
     "name": "stdout",
     "output_type": "stream",
     "text": [
      "{\"firstname\":\"Niklas\",\"lastname\":\"Klein\"}\n"
     ]
    }
   ],
   "source": [
    "const person = {\n",
    "    firstname: 'Niklas',\n",
    "    lastname: 'Klein'\n",
    "};\n",
    "\n",
    "JSON.stringify(person);"
   ]
  },
  {
   "cell_type": "code",
   "execution_count": 38,
   "metadata": {},
   "outputs": [
    {
     "name": "stdout",
     "output_type": "stream",
     "text": [
      "Niklas\n"
     ]
    }
   ],
   "source": [
    "const personString = '{\"firstname\":\"Niklas\",\"lastname\":\"Klein\"}';\n",
    "\n",
    "const person = JSON.parse(personString);\n",
    "\n",
    "person.firstname"
   ]
  },
  {
   "cell_type": "markdown",
   "metadata": {},
   "source": [
    "### Strings vergleichen\n",
    "\n",
    "`===`, `<`, `<=`. `>`, `>=`"
   ]
  },
  {
   "cell_type": "code",
   "execution_count": 39,
   "metadata": {},
   "outputs": [
    {
     "name": "stdout",
     "output_type": "stream",
     "text": [
      "\u001b[33mtrue\u001b[39m\n"
     ]
    }
   ],
   "source": [
    "'Niklas' === 'Niklas'"
   ]
  },
  {
   "cell_type": "code",
   "execution_count": 40,
   "metadata": {},
   "outputs": [
    {
     "name": "stdout",
     "output_type": "stream",
     "text": [
      "\u001b[33mtrue\u001b[39m\n"
     ]
    }
   ],
   "source": [
    "'a' < 'b'"
   ]
  },
  {
   "cell_type": "code",
   "execution_count": 41,
   "metadata": {},
   "outputs": [
    {
     "name": "stdout",
     "output_type": "stream",
     "text": [
      "\u001b[33mfalse\u001b[39m\n"
     ]
    }
   ],
   "source": [
    "'a' < 'B'"
   ]
  },
  {
   "cell_type": "markdown",
   "metadata": {},
   "source": [
    "Es wird nicht alphabetisch vergleichen, sondern der Codepoint."
   ]
  },
  {
   "cell_type": "code",
   "execution_count": null,
   "metadata": {},
   "outputs": [],
   "source": [
    "'B'.codePointAt(0)"
   ]
  },
  {
   "cell_type": "code",
   "execution_count": null,
   "metadata": {},
   "outputs": [],
   "source": [
    "'a'.codePointAt(0)"
   ]
  },
  {
   "cell_type": "markdown",
   "metadata": {},
   "source": [
    "So kann alphabetisch sortiert werden:"
   ]
  },
  {
   "cell_type": "code",
   "execution_count": null,
   "metadata": {},
   "outputs": [],
   "source": [
    "let strings = [ 'a', 'A', 'd', 'C', 'Cde', 'Cab' ];\n",
    "const collator = new Intl.Collator('de');\n",
    "strings.sort((a, b) => collator.compare(a, b)); \n",
    "console.log(strings);"
   ]
  },
  {
   "cell_type": "code",
   "execution_count": null,
   "metadata": {},
   "outputs": [],
   "source": [
    "let strings = [ 'a', 'A', 'd', 'C', 'Cde', 'Cab' ];\n",
    "strings.sort((a, b) => a.localeCompare(b)); \n",
    "console.log(strings);"
   ]
  }
 ],
 "metadata": {
  "kernelspec": {
   "display_name": "JavaScript",
   "language": "javascript",
   "name": "jslab"
  },
  "language_info": {
   "file_extension": ".js",
   "mimetype": "text/javascript",
   "name": "javascript",
   "version": ""
  }
 },
 "nbformat": 4,
 "nbformat_minor": 4
}

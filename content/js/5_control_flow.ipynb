{
 "cells": [
  {
   "cell_type": "markdown",
   "metadata": {},
   "source": [
    "# Control flow\n",
    "\n",
    "## if"
   ]
  },
  {
   "cell_type": "code",
   "execution_count": 18,
   "metadata": {},
   "outputs": [
    {
     "name": "stderr",
     "output_type": "stream",
     "text": [
      "6:11 - This comparison appears to be unintentional because the types '1' and '2' have no overlap.\n"
     ]
    }
   ],
   "source": [
    "const a = 1;\n",
    "const b = 2;\n",
    "\n",
    "if(a < b) {\n",
    "  console.log('a is smaller')\n",
    "} else if(a === b) {\n",
    "  console.log('they are equal')\n",
    "} else {\n",
    "  console.log('a is bigger')\n",
    "}"
   ]
  },
  {
   "cell_type": "code",
   "execution_count": null,
   "metadata": {},
   "outputs": [],
   "source": [
    "if (true) console.log('Yes'); else console.log('No');"
   ]
  },
  {
   "cell_type": "code",
   "execution_count": 19,
   "metadata": {},
   "outputs": [
    {
     "name": "stdout",
     "output_type": "stream",
     "text": [
      "Yes\n"
     ]
    }
   ],
   "source": [
    "true ? console.log('Yes') : console.log('No');"
   ]
  },
  {
   "cell_type": "markdown",
   "metadata": {},
   "source": [
    "## switch"
   ]
  },
  {
   "cell_type": "code",
   "execution_count": 20,
   "metadata": {},
   "outputs": [
    {
     "name": "stdout",
     "output_type": "stream",
     "text": [
      "Sunday\n"
     ]
    }
   ],
   "source": [
    "function dayOfTheWeek(num) {\n",
    "  switch (num) {\n",
    "    case 1:\n",
    "        return 'Monday';\n",
    "    case 2:\n",
    "        return 'Tuesday';\n",
    "    case 3:\n",
    "        return 'Wednesday';\n",
    "    case 4:\n",
    "        return 'Thursday';\n",
    "    case 5:\n",
    "        return 'Friday';\n",
    "    case 6:\n",
    "        return 'Saturday';\n",
    "    default:\n",
    "        return 'Sunday';\n",
    "  }\n",
    "}\n",
    "\n",
    "dayOfTheWeek(7)"
   ]
  },
  {
   "cell_type": "markdown",
   "metadata": {},
   "source": [
    "Ohne `return` oder `break` wird der nächste case ausgewertet! `return` geht nur innerhalb von functionen (early return)."
   ]
  },
  {
   "cell_type": "code",
   "execution_count": 21,
   "metadata": {},
   "outputs": [
    {
     "name": "stdout",
     "output_type": "stream",
     "text": [
      "Sunday\n"
     ]
    }
   ],
   "source": [
    "function dayOfTheWeek(num) {\n",
    "  let day;\n",
    "  switch (num) {\n",
    "    case 1:\n",
    "        day = 'Monday';\n",
    "    case 2:\n",
    "        day = 'Tuesday';\n",
    "    case 3:\n",
    "        day = 'Wednesday';\n",
    "    case 4:\n",
    "        day = 'Thursday';\n",
    "    case 5:\n",
    "        day = 'Friday';\n",
    "    case 6:\n",
    "        day = 'Saturday';\n",
    "    default:\n",
    "        day = 'Sunday';\n",
    "  }\n",
    "  return day;\n",
    "}\n",
    "\n",
    "dayOfTheWeek(3)"
   ]
  },
  {
   "cell_type": "markdown",
   "metadata": {},
   "source": [
    "richtig wäre:"
   ]
  },
  {
   "cell_type": "code",
   "execution_count": 22,
   "metadata": {},
   "outputs": [
    {
     "name": "stdout",
     "output_type": "stream",
     "text": [
      "Wednesday\n"
     ]
    }
   ],
   "source": [
    "function dayOfTheWeek(num) {\n",
    "  let day;\n",
    "  switch (num) {\n",
    "    case 1:\n",
    "        day = 'Monday';\n",
    "        break;\n",
    "    case 2:\n",
    "        day = 'Tuesday';\n",
    "        break;\n",
    "    case 3:\n",
    "        day = 'Wednesday';\n",
    "        break;\n",
    "    case 4:\n",
    "        day = 'Thursday';\n",
    "        break;\n",
    "    case 5:\n",
    "        day = 'Friday';\n",
    "        break;\n",
    "    case 6:\n",
    "        day = 'Saturday';\n",
    "        break;\n",
    "    default:\n",
    "        day = 'Sunday';\n",
    "        break;\n",
    "  }\n",
    "  return day;\n",
    "}\n",
    "\n",
    "dayOfTheWeek(3)"
   ]
  },
  {
   "cell_type": "code",
   "execution_count": 23,
   "metadata": {},
   "outputs": [
    {
     "name": "stdout",
     "output_type": "stream",
     "text": [
      "\u001b[33mtrue\u001b[39m\n"
     ]
    }
   ],
   "source": [
    "function isWeekDay(name) {\n",
    "  switch (name) {\n",
    "    case 'Monday':\n",
    "    case 'Tuesday':\n",
    "    case 'Wednesday':\n",
    "    case 'Thursday':\n",
    "    case 'Friday':\n",
    "      return true;\n",
    "    case 'Saturday':\n",
    "    case 'Sunday':\n",
    "      return false;\n",
    "    default:\n",
    "      throw new Error('Illegal value: ' + name);\n",
    "  }\n",
    "}\n",
    "\n",
    "isWeekDay('Monday');"
   ]
  },
  {
   "cell_type": "markdown",
   "metadata": {},
   "source": [
    "## while"
   ]
  },
  {
   "cell_type": "code",
   "execution_count": 24,
   "metadata": {},
   "outputs": [
    {
     "name": "stdout",
     "output_type": "stream",
     "text": [
      "a\n",
      "b\n",
      "c\n"
     ]
    }
   ],
   "source": [
    "const arr = ['a', 'b', 'c'];\n",
    "while (arr.length > 0) {\n",
    "    const elem = arr.shift();\n",
    "    console.log(elem);\n",
    "}"
   ]
  },
  {
   "cell_type": "markdown",
   "metadata": {},
   "source": [
    "## do-while"
   ]
  },
  {
   "cell_type": "code",
   "execution_count": 25,
   "metadata": {},
   "outputs": [
    {
     "name": "stderr",
     "output_type": "stream",
     "text": [
      "3:13 - Cannot find name 'prompt'.\n"
     ]
    }
   ],
   "source": [
    "let input;\n",
    "do {\n",
    "    input = prompt('Enter text:');\n",
    "    console.log(input);\n",
    "} while (input !== ':q');"
   ]
  },
  {
   "cell_type": "markdown",
   "metadata": {},
   "source": [
    "## for"
   ]
  },
  {
   "cell_type": "code",
   "execution_count": 26,
   "metadata": {},
   "outputs": [
    {
     "name": "stdout",
     "output_type": "stream",
     "text": [
      "\u001b[33m0\u001b[39m\n",
      "\u001b[33m1\u001b[39m\n",
      "\u001b[33m2\u001b[39m\n",
      "\u001b[33m3\u001b[39m\n",
      "\u001b[33m4\u001b[39m\n",
      "\u001b[33m5\u001b[39m\n",
      "\u001b[33m6\u001b[39m\n",
      "\u001b[33m7\u001b[39m\n",
      "\u001b[33m8\u001b[39m\n",
      "\u001b[33m9\u001b[39m\n"
     ]
    }
   ],
   "source": [
    "for(let i = 0; i < 10; i++) console.log(i)"
   ]
  },
  {
   "cell_type": "markdown",
   "metadata": {},
   "source": [
    "## for-of"
   ]
  },
  {
   "cell_type": "code",
   "execution_count": 27,
   "metadata": {},
   "outputs": [
    {
     "name": "stdout",
     "output_type": "stream",
     "text": [
      "Niklas\n",
      "Klein\n"
     ]
    }
   ],
   "source": [
    "const names = ['Niklas', 'Klein'];\n",
    "for(const name of names) {\n",
    "    console.log(name)\n",
    "}"
   ]
  },
  {
   "cell_type": "markdown",
   "metadata": {},
   "source": [
    "Hinweis, bei for-of kann die variable mit const deklariert werden darf dann in der Iteration der Schleife nicht mehr geändert werden."
   ]
  },
  {
   "cell_type": "code",
   "execution_count": 28,
   "metadata": {},
   "outputs": [
    {
     "name": "stdout",
     "output_type": "stream",
     "text": [
      "\u001b[33m0\u001b[39m Niklas\n",
      "\u001b[33m1\u001b[39m Klein\n"
     ]
    }
   ],
   "source": [
    "const names = ['Niklas', 'Klein'];\n",
    "for(const [index, name] of names.entries()) {\n",
    "    console.log(index, name)\n",
    "}"
   ]
  },
  {
   "cell_type": "markdown",
   "metadata": {},
   "source": [
    "Es gibt auch for-in, dass sollte nicht genommen werden ein Array iteriert wird, weil es über die Schlüssel (Keys) der Eigenschaften interiert. Bei Objekten ist das ok."
   ]
  },
  {
   "cell_type": "code",
   "execution_count": 29,
   "metadata": {},
   "outputs": [
    {
     "name": "stderr",
     "output_type": "stream",
     "text": [
      "2:7 - Property 'propKey' does not exist on type 'string[]'.\n"
     ]
    }
   ],
   "source": [
    "const array = ['a', 'b', 'c'];\n",
    "array.propKey = 'property value';\n",
    "\n",
    "for(const key in array) {\n",
    "    console.log(key);\n",
    "}"
   ]
  },
  {
   "cell_type": "code",
   "execution_count": null,
   "metadata": {},
   "outputs": [],
   "source": [
    "const person = {\n",
    "    firstname: 'Niklas',\n",
    "    lastname: 'Klein'\n",
    "}\n",
    "\n",
    "for(const key in person) {\n",
    "    console.log(key, person[key])\n",
    "}"
   ]
  },
  {
   "cell_type": "markdown",
   "metadata": {},
   "source": [
    "## Break und Continue\n",
    "\n",
    "Mit `break` kann immer der Schleifendurchlauf vorzeitig abgebrochen werden. Mit `continue` dirkt der nächste Durchlauf gestartet werden, ohne das der Rest des Rumpfs evaluiert wird."
   ]
  },
  {
   "cell_type": "code",
   "execution_count": 30,
   "metadata": {},
   "outputs": [
    {
     "name": "stdout",
     "output_type": "stream",
     "text": [
      "a\n",
      "---\n",
      "b\n"
     ]
    }
   ],
   "source": [
    "for (const x of ['a', 'b', 'c']) {\n",
    "    console.log(x);\n",
    "    if (x === 'b') break;\n",
    "    console.log('---')\n",
    "}"
   ]
  },
  {
   "cell_type": "code",
   "execution_count": 31,
   "metadata": {},
   "outputs": [
    {
     "name": "stdout",
     "output_type": "stream",
     "text": [
      "Normal line\n",
      "Another normal line\n"
     ]
    }
   ],
   "source": [
    "const lines = [\n",
    "    'Normal line',\n",
    "    '# Comment',\n",
    "    'Another normal line',\n",
    "];\n",
    "for (const line of lines) {\n",
    "    if (line.startsWith('#')) continue;\n",
    "    console.log(line);\n",
    "}"
   ]
  },
  {
   "cell_type": "markdown",
   "metadata": {},
   "source": [
    "Es gibt auch labeled `break` - das behandeln wir nicht."
   ]
  },
  {
   "cell_type": "markdown",
   "metadata": {},
   "source": [
    "# Ausnahmebehandlung"
   ]
  },
  {
   "cell_type": "code",
   "execution_count": 32,
   "metadata": {},
   "outputs": [
    {
     "name": "stderr",
     "output_type": "stream",
     "text": [
      "evalmachine.<anonymous>:4\n",
      "    throw new Error('Hups');\n",
      "    ^\n",
      "\n",
      "Error: Hups\n",
      "    at hups (evalmachine.<anonymous>:4:11)\n",
      "    at evalmachine.<anonymous>:7:22\n",
      "    at evalmachine.<anonymous>:9:3\n",
      "\u001b[90m    at sigintHandlersWrap (node:vm:270:12)\u001b[39m\n",
      "\u001b[90m    at Script.runInThisContext (node:vm:127:14)\u001b[39m\n",
      "\u001b[90m    at Object.runInThisContext (node:vm:307:38)\u001b[39m\n",
      "    at Object.execute (/Users/kleinernik/.asdf/installs/nodejs/18.16.0/lib/node_modules/\u001b[4mtslab\u001b[24m/dist/executor.js:160:38)\n",
      "    at JupyterHandlerImpl.handleExecuteImpl (/Users/kleinernik/.asdf/installs/nodejs/18.16.0/lib/node_modules/\u001b[4mtslab\u001b[24m/dist/jupyter.js:223:38)\n",
      "    at /Users/kleinernik/.asdf/installs/nodejs/18.16.0/lib/node_modules/\u001b[4mtslab\u001b[24m/dist/jupyter.js:181:57\n",
      "    at async JupyterHandlerImpl.handleExecute (/Users/kleinernik/.asdf/installs/nodejs/18.16.0/lib/node_modules/\u001b[4mtslab\u001b[24m/dist/jupyter.js:181:21)\n"
     ]
    }
   ],
   "source": [
    "function hups() { throw new Error('Hups');\n",
    "}\n",
    "hups();"
   ]
  },
  {
   "cell_type": "code",
   "execution_count": 33,
   "metadata": {},
   "outputs": [
    {
     "name": "stdout",
     "output_type": "stream",
     "text": [
      "we've got an error here: Error: Hups\n",
      "done\n"
     ]
    }
   ],
   "source": [
    "function hups() { throw new Error('Hups');\n",
    "}\n",
    "\n",
    "function catchHups() {\n",
    "    try {\n",
    "        hups()\n",
    "    } catch(error) {\n",
    "        console.log(`we've got an error here: ${error}`)\n",
    "    } finally {\n",
    "        console.log(`done`)\n",
    "    }\n",
    "}\n",
    "\n",
    "catchHups();"
   ]
  }
 ],
 "metadata": {
  "kernelspec": {
   "display_name": "JavaScript",
   "language": "javascript",
   "name": "jslab"
  },
  "language_info": {
   "file_extension": ".js",
   "mimetype": "text/javascript",
   "name": "javascript",
   "version": ""
  }
 },
 "nbformat": 4,
 "nbformat_minor": 4
}

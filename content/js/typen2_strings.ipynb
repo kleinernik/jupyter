{
  "metadata": {
    "language_info": {
      "codemirror_mode": {
        "name": "javascript"
      },
      "file_extension": ".js",
      "mimetype": "text/javascript",
      "name": "javascript",
      "nbconvert_exporter": "javascript",
      "pygments_lexer": "javascript",
      "version": "es2017"
    },
    "kernelspec": {
      "name": "javascript",
      "display_name": "JavaScript",
      "language": "javascript"
    }
  },
  "nbformat_minor": 4,
  "nbformat": 4,
  "cells": [
    {
      "cell_type": "markdown",
      "source": "# Typen - Fortsetzung\n\n## Zeichenketten (strings)",
      "metadata": {}
    },
    {
      "cell_type": "code",
      "source": "typeof 'test'",
      "metadata": {
        "trusted": true
      },
      "execution_count": 61,
      "outputs": [
        {
          "execution_count": 61,
          "output_type": "execute_result",
          "data": {
            "text/plain": "string"
          },
          "metadata": {}
        }
      ]
    },
    {
      "cell_type": "code",
      "source": "typeof \"test\"",
      "metadata": {
        "trusted": true
      },
      "execution_count": 62,
      "outputs": [
        {
          "execution_count": 62,
          "output_type": "execute_result",
          "data": {
            "text/plain": "string"
          },
          "metadata": {}
        }
      ]
    },
    {
      "cell_type": "code",
      "source": "typeof `test`",
      "metadata": {
        "trusted": true
      },
      "execution_count": 63,
      "outputs": [
        {
          "execution_count": 63,
          "output_type": "execute_result",
          "data": {
            "text/plain": "string"
          },
          "metadata": {}
        }
      ]
    },
    {
      "cell_type": "markdown",
      "source": "JavaScript strings sind UTF-16 ",
      "metadata": {}
    },
    {
      "cell_type": "code",
      "source": "const smiley = '☺';\nconsole.log(smiley.length, smiley)",
      "metadata": {
        "trusted": true
      },
      "execution_count": 64,
      "outputs": [
        {
          "execution_count": 64,
          "output_type": "execute_result",
          "data": {},
          "metadata": {}
        },
        {
          "event": "stream",
          "name": "stdout",
          "text": "1 ☺\n",
          "output_type": "stream"
        }
      ]
    },
    {
      "cell_type": "markdown",
      "source": "### Literale\n\nStrings können in einfache oder doppelte Anführungszeichen gesetzt werden. Der Backslash `\\` wird für das \"Escapen\" benutzt.\n\nDer Backtick ist das Templateliteral.",
      "metadata": {}
    },
    {
      "cell_type": "code",
      "source": "\"Niklas' Auto\"",
      "metadata": {
        "trusted": true
      },
      "execution_count": 65,
      "outputs": [
        {
          "execution_count": 65,
          "output_type": "execute_result",
          "data": {
            "text/plain": "Niklas' Auto"
          },
          "metadata": {}
        }
      ]
    },
    {
      "cell_type": "code",
      "source": "'Ich sagte \"Hallo Welt\"'",
      "metadata": {
        "trusted": true
      },
      "execution_count": 66,
      "outputs": [
        {
          "execution_count": 66,
          "output_type": "execute_result",
          "data": {
            "text/plain": "Ich sagte \"Hallo Welt\""
          },
          "metadata": {}
        }
      ]
    },
    {
      "cell_type": "code",
      "source": "const answer = 42;\n\nconsole.log(`the answer to everything is ${42}`)",
      "metadata": {
        "trusted": true
      },
      "execution_count": 67,
      "outputs": [
        {
          "execution_count": 67,
          "output_type": "execute_result",
          "data": {},
          "metadata": {}
        },
        {
          "event": "stream",
          "name": "stdout",
          "text": "the answer to everything is 42\n",
          "output_type": "stream"
        }
      ]
    },
    {
      "cell_type": "markdown",
      "source": "Templates können mit `String.raw` \"getagged\" werden, dann wird der Backslash als normales Zeichen behandet:",
      "metadata": {}
    },
    {
      "cell_type": "code",
      "source": "String.raw`\\ \\n\\t${42}`",
      "metadata": {
        "trusted": true
      },
      "execution_count": 68,
      "outputs": [
        {
          "execution_count": 68,
          "output_type": "execute_result",
          "data": {
            "text/plain": "\\ \\n\\t42"
          },
          "metadata": {}
        }
      ]
    },
    {
      "cell_type": "markdown",
      "source": "### Zu string konvertieren",
      "metadata": {}
    },
    {
      "cell_type": "code",
      "source": "String(null)",
      "metadata": {
        "trusted": true
      },
      "execution_count": 69,
      "outputs": [
        {
          "execution_count": 69,
          "output_type": "execute_result",
          "data": {
            "text/plain": "null"
          },
          "metadata": {}
        }
      ]
    },
    {
      "cell_type": "code",
      "source": "String(123)",
      "metadata": {
        "trusted": true
      },
      "execution_count": 70,
      "outputs": [
        {
          "execution_count": 70,
          "output_type": "execute_result",
          "data": {
            "text/plain": "123"
          },
          "metadata": {}
        }
      ]
    },
    {
      "cell_type": "markdown",
      "source": "### Auf einzelnen Buchstaben eines Strings zugreifen",
      "metadata": {}
    },
    {
      "cell_type": "code",
      "source": "const myString = 'Niklas'\n\nconsole.log(myString[0])",
      "metadata": {
        "trusted": true
      },
      "execution_count": 71,
      "outputs": [
        {
          "execution_count": 71,
          "output_type": "execute_result",
          "data": {},
          "metadata": {}
        },
        {
          "event": "stream",
          "name": "stdout",
          "text": "N\n",
          "output_type": "stream"
        }
      ]
    },
    {
      "cell_type": "code",
      "source": "const myString = 'Niklas'\n\nconsole.log(myString.at(3))",
      "metadata": {
        "trusted": true
      },
      "execution_count": 72,
      "outputs": [
        {
          "execution_count": 72,
          "output_type": "execute_result",
          "data": {},
          "metadata": {}
        },
        {
          "event": "stream",
          "name": "stdout",
          "text": "l\n",
          "output_type": "stream"
        }
      ]
    },
    {
      "cell_type": "markdown",
      "source": "### Teilstrings",
      "metadata": {}
    },
    {
      "cell_type": "code",
      "source": "'Niklas'.slice(0,3)",
      "metadata": {
        "trusted": true
      },
      "execution_count": 73,
      "outputs": [
        {
          "execution_count": 73,
          "output_type": "execute_result",
          "data": {
            "text/plain": "Nik"
          },
          "metadata": {}
        }
      ]
    },
    {
      "cell_type": "markdown",
      "source": "### Concatenation",
      "metadata": {}
    },
    {
      "cell_type": "code",
      "source": "'Niklas' + ' ' + 'Klein'",
      "metadata": {
        "trusted": true
      },
      "execution_count": 74,
      "outputs": [
        {
          "execution_count": 74,
          "output_type": "execute_result",
          "data": {
            "text/plain": "Niklas Klein"
          },
          "metadata": {}
        }
      ]
    },
    {
      "cell_type": "code",
      "source": "['Niklas', 'Klein'].join(' ')",
      "metadata": {
        "trusted": true
      },
      "execution_count": 75,
      "outputs": [
        {
          "execution_count": 75,
          "output_type": "execute_result",
          "data": {
            "text/plain": "Niklas Klein"
          },
          "metadata": {}
        }
      ]
    },
    {
      "cell_type": "markdown",
      "source": "### Weitere Methoden",
      "metadata": {}
    },
    {
      "cell_type": "code",
      "source": "'Niklas'.includes('i')",
      "metadata": {
        "trusted": true
      },
      "execution_count": 76,
      "outputs": [
        {
          "execution_count": 76,
          "output_type": "execute_result",
          "data": {
            "text/plain": true
          },
          "metadata": {}
        }
      ]
    },
    {
      "cell_type": "code",
      "source": "'Niklas'.startsWith('N')",
      "metadata": {
        "trusted": true
      },
      "execution_count": 77,
      "outputs": [
        {
          "execution_count": 77,
          "output_type": "execute_result",
          "data": {
            "text/plain": true
          },
          "metadata": {}
        }
      ]
    },
    {
      "cell_type": "code",
      "source": "'Niklas'.endsWith('s')",
      "metadata": {
        "trusted": true
      },
      "execution_count": 78,
      "outputs": [
        {
          "execution_count": 78,
          "output_type": "execute_result",
          "data": {
            "text/plain": true
          },
          "metadata": {}
        }
      ]
    },
    {
      "cell_type": "code",
      "source": "'Niklas Klein'.indexOf('l')",
      "metadata": {
        "trusted": true
      },
      "execution_count": 79,
      "outputs": [
        {
          "execution_count": 79,
          "output_type": "execute_result",
          "data": {
            "text/plain": 3
          },
          "metadata": {}
        }
      ]
    },
    {
      "cell_type": "code",
      "source": "'Niklas Klein'.lastIndexOf('l')",
      "metadata": {
        "trusted": true
      },
      "execution_count": 80,
      "outputs": [
        {
          "execution_count": 80,
          "output_type": "execute_result",
          "data": {
            "text/plain": 8
          },
          "metadata": {}
        }
      ]
    },
    {
      "cell_type": "code",
      "source": "JSON.stringify('Niklas Klein'.split(' '))",
      "metadata": {
        "trusted": true
      },
      "execution_count": 81,
      "outputs": [
        {
          "execution_count": 81,
          "output_type": "execute_result",
          "data": {
            "text/plain": "[\"Niklas\",\"Klein\"]"
          },
          "metadata": {}
        }
      ]
    },
    {
      "cell_type": "code",
      "source": "JSON.stringify('Niklas Klein'.split(/\\s/)) // Regulärer Ausdruck",
      "metadata": {
        "trusted": true
      },
      "execution_count": 82,
      "outputs": [
        {
          "execution_count": 82,
          "output_type": "execute_result",
          "data": {
            "text/plain": "[\"Niklas\",\"Klein\"]"
          },
          "metadata": {}
        }
      ]
    },
    {
      "cell_type": "code",
      "source": "'*'.repeat(10)",
      "metadata": {
        "trusted": true
      },
      "execution_count": 83,
      "outputs": [
        {
          "execution_count": 83,
          "output_type": "execute_result",
          "data": {
            "text/plain": "**********"
          },
          "metadata": {}
        }
      ]
    },
    {
      "cell_type": "code",
      "source": "'Niklas'.toUpperCase()",
      "metadata": {
        "trusted": true
      },
      "execution_count": 84,
      "outputs": [
        {
          "execution_count": 84,
          "output_type": "execute_result",
          "data": {
            "text/plain": "NIKLAS"
          },
          "metadata": {}
        }
      ]
    },
    {
      "cell_type": "code",
      "source": "'Niklas'.toLowerCase()",
      "metadata": {
        "trusted": true
      },
      "execution_count": 85,
      "outputs": [
        {
          "execution_count": 85,
          "output_type": "execute_result",
          "data": {
            "text/plain": "niklas"
          },
          "metadata": {}
        }
      ]
    },
    {
      "cell_type": "code",
      "source": "'Niklas Klein'.replace(/\\s/, '-')",
      "metadata": {
        "trusted": true
      },
      "execution_count": 86,
      "outputs": [
        {
          "execution_count": 86,
          "output_type": "execute_result",
          "data": {
            "text/plain": "Niklas-Klein"
          },
          "metadata": {}
        }
      ]
    },
    {
      "cell_type": "code",
      "source": "' Niklas Klein '.trim()",
      "metadata": {
        "trusted": true
      },
      "execution_count": 87,
      "outputs": [
        {
          "execution_count": 87,
          "output_type": "execute_result",
          "data": {
            "text/plain": "Niklas Klein"
          },
          "metadata": {}
        }
      ]
    },
    {
      "cell_type": "markdown",
      "source": "### Serialisieren zu String\n\nObjekte und Arrays haben \"eingebaute\" toString-Methoden, die auch überschrieben werden können.\n\nDiese sind nicht besonders hilfreich. Mit der Ausnahme von Bigint, ist die JavaScript Object Notation (JSON) eine bessere Lösung.\n\nJSON kann auch von vielen anderen Sprachen gelesen und geschrieben werden.",
      "metadata": {}
    },
    {
      "cell_type": "code",
      "source": "const person = {\n    firstname: 'Niklas',\n    lastname: 'Klein'\n};\n\nJSON.stringify(person);",
      "metadata": {
        "trusted": true
      },
      "execution_count": 88,
      "outputs": [
        {
          "execution_count": 88,
          "output_type": "execute_result",
          "data": {
            "text/plain": "{\"firstname\":\"Niklas\",\"lastname\":\"Klein\"}"
          },
          "metadata": {}
        }
      ]
    },
    {
      "cell_type": "code",
      "source": "const personString = '{\"firstname\":\"Niklas\",\"lastname\":\"Klein\"}';\n\nconst person = JSON.parse(personString);\n\nperson.firstname",
      "metadata": {
        "trusted": true
      },
      "execution_count": 89,
      "outputs": [
        {
          "execution_count": 89,
          "output_type": "execute_result",
          "data": {
            "text/plain": "Niklas"
          },
          "metadata": {}
        }
      ]
    },
    {
      "cell_type": "markdown",
      "source": "### Strings vergleichen\n\n`===`, `<`, `<=`. `>`, `>=`",
      "metadata": {}
    },
    {
      "cell_type": "code",
      "source": "'Niklas' === 'Niklas'",
      "metadata": {
        "trusted": true
      },
      "execution_count": 90,
      "outputs": [
        {
          "execution_count": 90,
          "output_type": "execute_result",
          "data": {
            "text/plain": true
          },
          "metadata": {}
        }
      ]
    },
    {
      "cell_type": "code",
      "source": "'a' < 'b'",
      "metadata": {
        "trusted": true
      },
      "execution_count": 91,
      "outputs": [
        {
          "execution_count": 91,
          "output_type": "execute_result",
          "data": {
            "text/plain": true
          },
          "metadata": {}
        }
      ]
    },
    {
      "cell_type": "code",
      "source": "'a' < 'B'",
      "metadata": {
        "trusted": true
      },
      "execution_count": 92,
      "outputs": [
        {
          "execution_count": 92,
          "output_type": "execute_result",
          "data": {
            "text/plain": false
          },
          "metadata": {}
        }
      ]
    },
    {
      "cell_type": "markdown",
      "source": "Es wird nicht alphabetisch vergleichen, sondern der Codepoint.",
      "metadata": {}
    },
    {
      "cell_type": "code",
      "source": "'B'.codePointAt(0)",
      "metadata": {
        "trusted": true
      },
      "execution_count": 93,
      "outputs": [
        {
          "execution_count": 93,
          "output_type": "execute_result",
          "data": {
            "text/plain": 66
          },
          "metadata": {}
        }
      ]
    },
    {
      "cell_type": "code",
      "source": "'a'.codePointAt(0)",
      "metadata": {
        "trusted": true
      },
      "execution_count": 94,
      "outputs": [
        {
          "execution_count": 94,
          "output_type": "execute_result",
          "data": {
            "text/plain": 97
          },
          "metadata": {}
        }
      ]
    },
    {
      "cell_type": "markdown",
      "source": "So kann alphabetisch sortiert werden:",
      "metadata": {}
    },
    {
      "cell_type": "code",
      "source": "let strings = [ 'a', 'A', 'd', 'C', 'Cde', 'Cab' ];\nconst collator = new Intl.Collator('de');\nstrings.sort((a, b) => collator.compare(a, b)); \nconsole.log(strings);",
      "metadata": {
        "trusted": true
      },
      "execution_count": 95,
      "outputs": [
        {
          "execution_count": 95,
          "output_type": "execute_result",
          "data": {},
          "metadata": {}
        },
        {
          "event": "stream",
          "name": "stdout",
          "text": "a,A,C,Cab,Cde,d\n",
          "output_type": "stream"
        }
      ]
    },
    {
      "cell_type": "code",
      "source": "let strings = [ 'a', 'A', 'd', 'C', 'Cde', 'Cab' ];\nstrings.sort((a, b) => a.localeCompare(b)); \nconsole.log(strings);",
      "metadata": {
        "trusted": true
      },
      "execution_count": 96,
      "outputs": [
        {
          "execution_count": 96,
          "output_type": "execute_result",
          "data": {},
          "metadata": {}
        },
        {
          "event": "stream",
          "name": "stdout",
          "text": "a,A,C,Cab,Cde,d\na is smaller\nYes\nYes\na\nb\nc\n:q\n0\n1\n2\n3\n4\n5\n6\n7\n8\n9\nNiklas\nKlein\n0 Niklas\n1 Klein\n0\n1\n2\npropKey\nfirstname Niklas\nlastname Klein\na\n---\nb\nNormal line\nAnother normal line\nwe've got an error here: Error: Hups\ndone\nHey\nHo\nHeyHo\nfunction myFunc() {\n    console.log(myFunc)\n}\n3,5,6\n5,6\n6\n\n",
          "output_type": "stream"
        }
      ]
    },
    {
      "cell_type": "code",
      "source": "",
      "metadata": {},
      "execution_count": null,
      "outputs": []
    }
  ]
}
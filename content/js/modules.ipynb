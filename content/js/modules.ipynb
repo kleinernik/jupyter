{
  "metadata": {
    "language_info": {
      "codemirror_mode": {
        "name": "javascript"
      },
      "file_extension": ".js",
      "mimetype": "text/javascript",
      "name": "javascript",
      "nbconvert_exporter": "javascript",
      "pygments_lexer": "javascript",
      "version": "es2017"
    },
    "kernelspec": {
      "name": "javascript",
      "display_name": "JavaScript",
      "language": "javascript"
    }
  },
  "nbformat_minor": 4,
  "nbformat": 4,
  "cells": [
    {
      "cell_type": "markdown",
      "source": "# Module\n\nModule sind Datein mit Code und werden zur Code-Organisation verwendet.\n\nIn einer .js oder .mjs Datei können Funktionen und Konstanten exportiert werden, d.h. sie können in anderen Module importiert werden.",
      "metadata": {}
    },
    {
      "cell_type": "markdown",
      "source": "```javascript\nexport function f() {}\nexport const one = 1;\nexport {foo, b as bar};\n```\n\nEs können auch defaults exportiert werden. Diese werden dann importiert, wenn man das Modul importiert, ohne namentlich zu bestimmen, was importiert werden soll:\n\n```javascript\nexport default function f() {}\n\n```",
      "metadata": {}
    },
    {
      "cell_type": "markdown",
      "source": "Importiert wird dann so:\n\n```java\nimport {f, one as o} from './some-module.mjs';\n\n```\n\noder wenn ein Default importiert werden soll:\n\n```java\nimport someModule from './some-module.mjs';\n\n```",
      "metadata": {}
    },
    {
      "cell_type": "markdown",
      "source": "## Ältere Art mit `require`\n\nBevor es offiziell Module gab, sind für die/von den NodeJS Leute(n) CommonJS-Module eingeführt worden. Das sieht man noch oft in Code:\n\n\n```javascript\n// Imports\nvar importedFunc1 = require('./other-module1.js').importedFunc1;\nvar importedFunc2 = require('./other-module2.js').importedFunc2;\n\nfunction exportedFunc() {\n     importedFunc1();\n     importedFunc2();\n     internalFunc();\n}\n// Exports\n   module.exports = {\n     exportedFunc: exportedFunc,\n};\n```",
      "metadata": {}
    },
    {
      "cell_type": "code",
      "source": "",
      "metadata": {},
      "execution_count": null,
      "outputs": []
    }
  ]
}
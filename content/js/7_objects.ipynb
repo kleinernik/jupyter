{
 "cells": [
  {
   "cell_type": "markdown",
   "metadata": {},
   "source": [
    "# Objekte\n",
    "\n",
    "Objekte bestehen aus einer Reihe von Schlüssel-Wert-Paaren (Key-Value).\n",
    "\n",
    "Die Keys sind alle Strings, müssen aber nicht als String angegeben werden (also ohne Anführungstzeichen)."
   ]
  },
  {
   "cell_type": "code",
   "execution_count": 1,
   "metadata": {},
   "outputs": [
    {
     "name": "stdout",
     "output_type": "stream",
     "text": [
      "\u001b[33m1\u001b[39m\n",
      "\u001b[33m2\u001b[39m\n"
     ]
    }
   ],
   "source": [
    "const myObject = {\n",
    "  myProperty: 1,\n",
    "  myMethod() {\n",
    "    return 2;\n",
    "  },\n",
    "  get myAccessor() {\n",
    "    return this.myProperty;\n",
    "  },\n",
    "  set myAccessor(value) {\n",
    "    this.myProperty = value;\n",
    "  },\n",
    "};\n",
    "\n",
    "console.log(myObject.myAccessor);\n",
    "console.log(myObject.myMethod())"
   ]
  },
  {
   "cell_type": "markdown",
   "metadata": {},
   "source": [
    "## Zufügen von Eigenschaften"
   ]
  },
  {
   "cell_type": "code",
   "execution_count": 2,
   "metadata": {},
   "outputs": [
    {
     "name": "stdout",
     "output_type": "stream",
     "text": [
      "{\"property1\":1}\n",
      "{\"property1\":1,\"property2\":2}\n"
     ]
    }
   ],
   "source": [
    "const myObject = {\n",
    "    property1: 1\n",
    "}\n",
    "\n",
    "console.log(JSON.stringify(myObject));\n",
    "\n",
    "myObject.property2 = 2;\n",
    "\n",
    "console.log(JSON.stringify(myObject));"
   ]
  },
  {
   "cell_type": "markdown",
   "metadata": {},
   "source": [
    "## Entfernen von Eigenschaften"
   ]
  },
  {
   "cell_type": "code",
   "execution_count": 3,
   "metadata": {},
   "outputs": [
    {
     "name": "stdout",
     "output_type": "stream",
     "text": [
      "{\"property1\":1,\"property2\":2}\n",
      "{\"property1\":1}\n"
     ]
    }
   ],
   "source": [
    "const myObject = {\n",
    "    property1: 1,\n",
    "    property2: 2\n",
    "}\n",
    "\n",
    "console.log(JSON.stringify(myObject));\n",
    "\n",
    "delete myObject.property2;\n",
    "\n",
    "console.log(JSON.stringify(myObject));"
   ]
  },
  {
   "cell_type": "markdown",
   "metadata": {},
   "source": [
    "## Zugriff auf Eigenschaften\n",
    "\n",
    "In der Regel wird mit dem `.` Operator auf die Eigenschaften und Methoden zugegriffen."
   ]
  },
  {
   "cell_type": "code",
   "execution_count": 4,
   "metadata": {},
   "outputs": [
    {
     "name": "stdout",
     "output_type": "stream",
     "text": [
      "\u001b[33m1\u001b[39m\n"
     ]
    }
   ],
   "source": [
    "const myObject = {\n",
    "    property1: 1,\n",
    "    property2: 2\n",
    "}\n",
    "\n",
    "console.log(myObject.property1)"
   ]
  },
  {
   "cell_type": "markdown",
   "metadata": {},
   "source": [
    "Wenn der Eigenschaftsname evaluiert werden muss, dann können `[]` verwendet werden:"
   ]
  },
  {
   "cell_type": "code",
   "execution_count": 5,
   "metadata": {},
   "outputs": [
    {
     "name": "stdout",
     "output_type": "stream",
     "text": [
      "property1: \u001b[33m1\u001b[39m\n",
      "property2: \u001b[33m2\u001b[39m\n"
     ]
    }
   ],
   "source": [
    "const myObject = {\n",
    "    property1: 1,\n",
    "    property2: 2\n",
    "}\n",
    "\n",
    "for(const p of [1, 2]) {\n",
    "    console.log(`property${p}:`, myObject[`property${p}`])\n",
    "}"
   ]
  },
  {
   "cell_type": "markdown",
   "metadata": {},
   "source": [
    "Ob eine Eigenschaft existiert kann mit typeof geprüft werden:"
   ]
  },
  {
   "cell_type": "code",
   "execution_count": 6,
   "metadata": {},
   "outputs": [
    {
     "name": "stdout",
     "output_type": "stream",
     "text": [
      "\u001b[33mtrue\u001b[39m\n"
     ]
    }
   ],
   "source": [
    "const myObject = {\n",
    "    property1: 1,\n",
    "    property2: 2\n",
    "}\n",
    "\n",
    "console.log(myObject.property3 === undefined)"
   ]
  },
  {
   "cell_type": "markdown",
   "metadata": {},
   "source": [
    "Optional Chaning `?.`"
   ]
  },
  {
   "cell_type": "code",
   "execution_count": 33,
   "metadata": {},
   "outputs": [
    {
     "name": "stdout",
     "output_type": "stream",
     "text": [
      "property2 \u001b[33m1\u001b[39m\n",
      "property1 \u001b[90mundefined\u001b[39m\n"
     ]
    }
   ],
   "source": [
    "const myObject = {\n",
    "    property1: {x: 1},\n",
    "    property2: {nestet: 1}\n",
    "}\n",
    "\n",
    "console.log(\"property2\", myObject?.property2?.nestet)\n",
    "console.log(\"property1\", myObject?.property1?.nestet)"
   ]
  },
  {
   "cell_type": "markdown",
   "metadata": {},
   "source": [
    "## Kurzform beim Erzeugen von Objekten\n",
    "\n",
    "Wenn ein Wert einer Objekteigenschaft durch eine Variable definiert wird, die den selben Namen hat, wie die Eigenschaft, kann der Key/Schlüssel bei der Objektdefinition weggelassen werden."
   ]
  },
  {
   "cell_type": "code",
   "execution_count": 8,
   "metadata": {},
   "outputs": [
    {
     "name": "stdout",
     "output_type": "stream",
     "text": [
      "{\"x\":1,\"y\":5}\n"
     ]
    }
   ],
   "source": [
    "const x = 1;\n",
    "const y = 5;\n",
    "\n",
    "const point = {x, y}\n",
    "\n",
    "console.log(JSON.stringify(point));"
   ]
  },
  {
   "cell_type": "code",
   "execution_count": 9,
   "metadata": {},
   "outputs": [
    {
     "name": "stdout",
     "output_type": "stream",
     "text": [
      "{\"x\":1,\"y\":5}\n"
     ]
    }
   ],
   "source": [
    "// lange Form\n",
    "const x = 1;\n",
    "const y = 5;\n",
    "\n",
    "const point = {x: x, y: y}\n",
    "\n",
    "console.log(JSON.stringify(point));"
   ]
  },
  {
   "cell_type": "markdown",
   "metadata": {},
   "source": [
    "## Accessors\n",
    "\n",
    "Es können getter und setter definiert werden."
   ]
  },
  {
   "cell_type": "code",
   "execution_count": 34,
   "metadata": {},
   "outputs": [
    {
     "name": "stdout",
     "output_type": "stream",
     "text": [
      "Jane Doe\n",
      "Porter\n"
     ]
    }
   ],
   "source": [
    "const jane = {\n",
    "    first: 'Jane',\n",
    "    last: 'Doe',\n",
    "    get full() {\n",
    "        return `${this.first} ${this.last}`;\n",
    "    },\n",
    "    set full(fullName) {\n",
    "        const parts = fullName.split(' ');\n",
    "        this.first = parts[0];\n",
    "        this.last = parts[1];\n",
    "    } \n",
    "};\n",
    "\n",
    "console.log(jane.full)\n",
    "\n",
    "jane.full = 'Jane Porter'\n",
    "jane.last"
   ]
  },
  {
   "cell_type": "markdown",
   "metadata": {},
   "source": [
    "## Spread Operator bei Objekten\n",
    "\n",
    "Mit dem Spread-Operator `...` können Objekt-Eigenschaften von einem Objekt einem anderen Zugeweisen werden."
   ]
  },
  {
   "cell_type": "code",
   "execution_count": 11,
   "metadata": {},
   "outputs": [
    {
     "name": "stdout",
     "output_type": "stream",
     "text": [
      "{\"one\":1,\"two\":2}\n"
     ]
    }
   ],
   "source": [
    "const obj = {one: 1, two: 2};\n",
    "const obj2 = {...obj} // ein Weg eine Kopie von obj zu erzeugen\n",
    "\n",
    "console.log(JSON.stringify(obj2));"
   ]
  },
  {
   "cell_type": "markdown",
   "metadata": {},
   "source": [
    "Dabei können auch weiter Eigenschaften angegeben werden:"
   ]
  },
  {
   "cell_type": "code",
   "execution_count": 12,
   "metadata": {},
   "outputs": [
    {
     "name": "stdout",
     "output_type": "stream",
     "text": [
      "{\"one\":1,\"two\":2,\"three\":3}\n"
     ]
    }
   ],
   "source": [
    "const obj = {one: 1, two: 2};\n",
    "const obj2 = {...obj, three: 3}\n",
    "\n",
    "console.log(JSON.stringify(obj2));"
   ]
  },
  {
   "cell_type": "markdown",
   "metadata": {},
   "source": [
    "Bei doppelten Keys \"gewinnt\" der letzte der angegeben wird:"
   ]
  },
  {
   "cell_type": "code",
   "execution_count": 13,
   "metadata": {},
   "outputs": [
    {
     "name": "stdout",
     "output_type": "stream",
     "text": [
      "{\"one\":1,\"two\":3}\n"
     ]
    }
   ],
   "source": [
    "const obj = {one: 1, two: 2};\n",
    "const obj2 = {...obj, two: 3}\n",
    "\n",
    "console.log(JSON.stringify(obj2));"
   ]
  },
  {
   "cell_type": "markdown",
   "metadata": {},
   "source": [
    "Geht auch mit mehreren Objekten"
   ]
  },
  {
   "cell_type": "code",
   "execution_count": 14,
   "metadata": {},
   "outputs": [
    {
     "name": "stdout",
     "output_type": "stream",
     "text": [
      "{\"one\":2,\"two\":2,\"three\":3}\n"
     ]
    }
   ],
   "source": [
    "const obj = {one: 1, two: 2};\n",
    "const obj2 = {one: 2, three: 3};\n",
    "const obj3 = {...obj, ...obj2}\n",
    "\n",
    "console.log(JSON.stringify(obj3));"
   ]
  },
  {
   "cell_type": "markdown",
   "metadata": {},
   "source": [
    "Arrays sind intern Objekte mit den Keys 0, 1, 2, 3 usw."
   ]
  },
  {
   "cell_type": "code",
   "execution_count": 15,
   "metadata": {},
   "outputs": [
    {
     "name": "stdout",
     "output_type": "stream",
     "text": [
      "{\"0\":\"A\",\"1\":\"B\",\"2\":\"C\"}\n"
     ]
    }
   ],
   "source": [
    "const myArray = ['A', 'B', 'C']  \n",
    "console.log(JSON.stringify({...myArray}));"
   ]
  },
  {
   "cell_type": "markdown",
   "metadata": {},
   "source": [
    "## `this`\n",
    "\n",
    "Innerhalb eine Objektliterals ist das Objekt selber über die Variable `this` zugreifbar."
   ]
  },
  {
   "cell_type": "code",
   "execution_count": 16,
   "metadata": {},
   "outputs": [],
   "source": [
    "const jane = {\n",
    "    first: 'Jane',\n",
    "    says(text) {\n",
    "        return `${this.first} says “${text}”`;\n",
    "    },\n",
    "};"
   ]
  },
  {
   "cell_type": "markdown",
   "metadata": {},
   "source": [
    "## Objekte als \"Wörterbücher\"\n",
    "\n",
    "Objekte-Keys können dynamisch berechnet werden, wenn sie `[]` stehen:"
   ]
  },
  {
   "cell_type": "code",
   "execution_count": 17,
   "metadata": {},
   "outputs": [
    {
     "name": "stdout",
     "output_type": "stream",
     "text": [
      "{\"Hello world!\":true,\"prop\":123}\n"
     ]
    }
   ],
   "source": [
    "const obj = {\n",
    "    ['Hello world!']: true,\n",
    "    ['p'+'r'+'o'+'p']: 123\n",
    "};\n",
    "\n",
    "console.log(JSON.stringify(obj));"
   ]
  },
  {
   "cell_type": "markdown",
   "metadata": {},
   "source": [
    "Hat ein Objekt einen Key?"
   ]
  },
  {
   "cell_type": "code",
   "execution_count": 18,
   "metadata": {},
   "outputs": [
    {
     "name": "stdout",
     "output_type": "stream",
     "text": [
      "\u001b[33mtrue\u001b[39m\n"
     ]
    }
   ],
   "source": [
    "const jane = {\n",
    "    first: 'Jane'\n",
    "};\n",
    "\n",
    "console.log('first' in jane)"
   ]
  },
  {
   "cell_type": "markdown",
   "metadata": {},
   "source": [
    "Welche Keys hat ein Objekt:"
   ]
  },
  {
   "cell_type": "code",
   "execution_count": 19,
   "metadata": {},
   "outputs": [
    {
     "name": "stdout",
     "output_type": "stream",
     "text": [
      "[\"first\",\"last\"]\n"
     ]
    }
   ],
   "source": [
    "const jane = {\n",
    "    first: 'Jane',\n",
    "    last: 'Porter'\n",
    "};\n",
    "\n",
    "console.log(JSON.stringify(Object.keys(jane)))"
   ]
  },
  {
   "cell_type": "markdown",
   "metadata": {},
   "source": [
    "Welche Werte hat ein Objekt:"
   ]
  },
  {
   "cell_type": "code",
   "execution_count": 20,
   "metadata": {},
   "outputs": [
    {
     "name": "stdout",
     "output_type": "stream",
     "text": [
      "[\"Jane\",\"Porter\"]\n"
     ]
    }
   ],
   "source": [
    "const jane = {\n",
    "    first: 'Jane',\n",
    "    last: 'Porter'\n",
    "};\n",
    "\n",
    "console.log(JSON.stringify(Object.values(jane)))"
   ]
  },
  {
   "cell_type": "markdown",
   "metadata": {},
   "source": [
    "Welche Keys-Value-Paare:"
   ]
  },
  {
   "cell_type": "code",
   "execution_count": 21,
   "metadata": {},
   "outputs": [
    {
     "name": "stdout",
     "output_type": "stream",
     "text": [
      "[[\"first\",\"Jane\"],[\"last\",\"Porter\"]]\n"
     ]
    }
   ],
   "source": [
    "const jane = {\n",
    "    first: 'Jane',\n",
    "    last: 'Porter'\n",
    "};\n",
    "\n",
    "console.log(JSON.stringify(Object.entries(jane)))"
   ]
  },
  {
   "cell_type": "markdown",
   "metadata": {},
   "source": [
    "## Exkurs besser Map nutzen\n",
    "\n",
    "Wenn wirklich dynamisch Key-Value-Paare gespeichert werden sollen, dann sollte Map genutzt werden:"
   ]
  },
  {
   "cell_type": "code",
   "execution_count": 22,
   "metadata": {},
   "outputs": [
    {
     "name": "stdout",
     "output_type": "stream",
     "text": [
      "Jane\n",
      "\u001b[33mtrue\u001b[39m\n",
      "first Jane\n",
      "last Porter\n"
     ]
    }
   ],
   "source": [
    "const myMap = new Map();\n",
    "\n",
    "myMap.set('first', 'Jane')\n",
    "\n",
    "console.log(myMap.get('first'))\n",
    "console.log(myMap.has('first'))\n",
    "myMap.delete('first')\n",
    "\n",
    "myMap.set('first', 'Jane')\n",
    "myMap.set('last', 'Porter')\n",
    "for(const [k, v] of myMap.entries()) {\n",
    "    console.log(k, v)\n",
    "}"
   ]
  },
  {
   "cell_type": "markdown",
   "metadata": {},
   "source": [
    "## Objekt \"einfrieren\"\n",
    "\n",
    "Objekte können Immutable gemacht werden:"
   ]
  },
  {
   "cell_type": "code",
   "execution_count": 23,
   "metadata": {},
   "outputs": [
    {
     "name": "stderr",
     "output_type": "stream",
     "text": [
      "5:12 - Cannot assign to 'x' because it is a read-only property.\n"
     ]
    }
   ],
   "source": [
    "function myFun() {\n",
    "    'use strict'\n",
    "    const frozen = Object.freeze({ x: 2, y: 5 });\n",
    "\n",
    "    frozen.x = 7\n",
    "}\n",
    "\n",
    "myFun()"
   ]
  },
  {
   "cell_type": "markdown",
   "metadata": {},
   "source": [
    "## Vererbung\n",
    "\n",
    "In JavaScript gibt es nur \"Prototypische\" Vererbung. Das heißt ein Objekt erbt von einem anderen Objekt - das andere ist der Prototyp."
   ]
  },
  {
   "cell_type": "code",
   "execution_count": 24,
   "metadata": {},
   "outputs": [
    {
     "name": "stdout",
     "output_type": "stream",
     "text": [
      "a\n"
     ]
    }
   ],
   "source": [
    "const proto = { \n",
    "    protoProp: 'a',\n",
    "};\n",
    "\n",
    "const obj = {\n",
    "     __proto__: proto,\n",
    "     objProp: 'b',\n",
    "};\n",
    "\n",
    "console.log(obj.protoProp)"
   ]
  },
  {
   "cell_type": "markdown",
   "metadata": {},
   "source": [
    "Der Prototyp kann selber wieder von einem anderen Prototyp erben, dadurch entsteht eine Kette - die Prototyp-Chain.\n",
    "\n",
    "Wenn eine Eingenschaft gesetzt wird, die zu einem Prototypen in der Kette gehört, nicht zum Objekt selber, dann wird nicht der Prototyp geändert, sondern das Objekt bekommt eine neue eigenen Eigenschaft mit dem Wert, die dann die Eigenschaft vom Prototyp überdeckt."
   ]
  },
  {
   "cell_type": "code",
   "execution_count": 25,
   "metadata": {},
   "outputs": [
    {
     "name": "stdout",
     "output_type": "stream",
     "text": [
      "a\n",
      "c\n",
      "a\n"
     ]
    }
   ],
   "source": [
    "const proto = { \n",
    "    protoProp: 'a',\n",
    "};\n",
    "\n",
    "const obj = {\n",
    "     __proto__: proto,\n",
    "     objProp: 'b',\n",
    "};\n",
    "\n",
    "console.log(obj.protoProp);\n",
    "\n",
    "obj.protoProp = 'c';\n",
    "\n",
    "console.log(obj.protoProp);\n",
    "\n",
    "delete obj.protoProp;\n",
    "\n",
    "console.log(obj.protoProp);"
   ]
  },
  {
   "cell_type": "markdown",
   "metadata": {},
   "source": [
    "### Erzeugen mit `Object.create` "
   ]
  },
  {
   "cell_type": "code",
   "execution_count": 26,
   "metadata": {},
   "outputs": [
    {
     "name": "stdout",
     "output_type": "stream",
     "text": [
      "a\n"
     ]
    }
   ],
   "source": [
    "const proto = { \n",
    "    protoProp: 'a',\n",
    "};\n",
    "\n",
    "const obj = Object.create(proto);\n",
    "\n",
    "console.log(obj.protoProp);"
   ]
  },
  {
   "cell_type": "markdown",
   "metadata": {},
   "source": [
    "### Prototyp rausfinden"
   ]
  },
  {
   "cell_type": "code",
   "execution_count": 27,
   "metadata": {},
   "outputs": [
    {
     "name": "stdout",
     "output_type": "stream",
     "text": [
      "{\"protoProp\":\"a\"}\n"
     ]
    }
   ],
   "source": [
    "const proto = { \n",
    "    protoProp: 'a',\n",
    "};\n",
    "\n",
    "const obj = Object.create(proto);\n",
    "\n",
    "console.log(JSON.stringify(Object.getPrototypeOf(obj)));"
   ]
  },
  {
   "cell_type": "markdown",
   "metadata": {},
   "source": [
    "### Beispiel"
   ]
  },
  {
   "cell_type": "code",
   "execution_count": 28,
   "metadata": {},
   "outputs": [],
   "source": [
    "const jane = {\n",
    "    firstName: 'Jane',\n",
    "    describe() {\n",
    "        return 'Person named ' + this.firstName;\n",
    "      },\n",
    "};\n",
    "const tarzan = {\n",
    "    firstName: 'Tarzan',\n",
    "    describe() {\n",
    "        return 'Person named ' + this.firstName;\n",
    "    },\n",
    "};"
   ]
  },
  {
   "cell_type": "markdown",
   "metadata": {},
   "source": [
    "Doppelten Code vermeiden:"
   ]
  },
  {
   "cell_type": "code",
   "execution_count": 35,
   "metadata": {},
   "outputs": [],
   "source": [
    "const PersonProto = {\n",
    "  describe() {\n",
    "    return 'Person named ' + this.firstName;\n",
    "  },\n",
    "};\n",
    "const jane = {\n",
    "    __proto__: PersonProto,\n",
    "    firstName: 'Jane',\n",
    "};\n",
    "const tarzan = {\n",
    "    __proto__: PersonProto,\n",
    "    firstName: 'Tarzan',\n",
    "};"
   ]
  },
  {
   "cell_type": "markdown",
   "metadata": {},
   "source": [
    "## Klassen\n",
    "\n",
    "... gibt es auch seit ES6. Man kommt aber gut ohne aus ;)"
   ]
  },
  {
   "cell_type": "code",
   "execution_count": 29,
   "metadata": {},
   "outputs": [],
   "source": [
    "class Person {\n",
    "  #firstName; // das # davor mach die Eigenschaft \"private\"\n",
    "  constructor(firstName) {\n",
    "    this.#firstName = firstName;\n",
    "  }\n",
    "  describe() {\n",
    "    return `Person named ${this.#firstName}`;\n",
    "  }\n",
    "  static extractNames(persons) {\n",
    "    return persons.map(person => person.#firstName);\n",
    "  }\n",
    "}\n",
    "\n",
    "const tarzan = new Person(\"Tarzan\");"
   ]
  },
  {
   "cell_type": "markdown",
   "metadata": {},
   "source": [
    "und Vererbung mit Klassen"
   ]
  },
  {
   "cell_type": "code",
   "execution_count": 36,
   "metadata": {},
   "outputs": [
    {
     "name": "stdout",
     "output_type": "stream",
     "text": [
      "\u001b[33mtrue\u001b[39m \u001b[33mtrue\u001b[39m\n"
     ]
    }
   ],
   "source": [
    "class Person {\n",
    "  #firstName; // das # davor mach die Eigenschaft \"private\"\n",
    "  constructor(firstName) {\n",
    "    this.#firstName = firstName;\n",
    "  }\n",
    "  describe() {\n",
    "    return `Person named ${this.#firstName}`;\n",
    "  }\n",
    "  static extractNames(persons) {\n",
    "    return persons.map(person => person.#firstName);\n",
    "  }\n",
    "}\n",
    "\n",
    "class Employee extends Person {\n",
    "    constructor(firstName, title) {\n",
    "        super(firstName);\n",
    "        this.title = title;\n",
    "    }\n",
    "    describe() {\n",
    "        return super.describe() + ` (${this.title})`;\n",
    "    }\n",
    "}\n",
    "\n",
    "const jane = new Employee('Jane', 'CTO');\n",
    "\n",
    "console.log(jane instanceof Employee, jane instanceof Person)"
   ]
  },
  {
   "cell_type": "code",
   "execution_count": null,
   "metadata": {},
   "outputs": [],
   "source": []
  }
 ],
 "metadata": {
  "kernelspec": {
   "display_name": "JavaScript",
   "language": "javascript",
   "name": "jslab"
  },
  "language_info": {
   "file_extension": ".js",
   "mimetype": "text/javascript",
   "name": "javascript",
   "version": ""
  }
 },
 "nbformat": 4,
 "nbformat_minor": 4
}

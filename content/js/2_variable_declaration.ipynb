{
 "cells": [
  {
   "cell_type": "markdown",
   "metadata": {},
   "source": [
    "# Variablendeklaration\n",
    "\n",
    "Es gibt zwei aktuelle und eine veraltete Art um Variablen zu deklarieren:\n",
    "\n",
    "1. `const` um Konstanten zu deklarieren\n",
    "2. `let` um veränderliche Variablen zu deklarieren\n",
    "3. `var`, die veraltet Art, aus einer Zeit, als es 1. und 2. noch nicht gab"
   ]
  },
  {
   "cell_type": "markdown",
   "metadata": {},
   "source": [
    "## Konstanten\n",
    "\n",
    "Eine Variable als Konstante zu deklarieren, schützt vor versehentlicher Veränderung später im Code.\n",
    "\n",
    "Konstanten müssen in einem Schritt deklariert und initialisiert werden.\n",
    "\n",
    "Wenn immer möglich, nutzen Sie `const`."
   ]
  },
  {
   "cell_type": "code",
   "execution_count": 1,
   "metadata": {},
   "outputs": [
    {
     "name": "stdout",
     "output_type": "stream",
     "text": [
      "\u001b[33m42\u001b[39m\n"
     ]
    }
   ],
   "source": [
    "const myConstant = 42;\n",
    "console.log(myConstant);"
   ]
  },
  {
   "cell_type": "code",
   "execution_count": 2,
   "metadata": {},
   "outputs": [
    {
     "name": "stderr",
     "output_type": "stream",
     "text": [
      "1:7 - 'const' declarations must be initialized.\n"
     ]
    }
   ],
   "source": [
    "const myConstant;"
   ]
  },
  {
   "cell_type": "markdown",
   "metadata": {},
   "source": [
    "### Konstanten und Unveränderlichkeit\n",
    "\n",
    "Konstant bedeute, der Wert, der an die konstante Variable gebunden ist, kann nicht mehr geändert werden. Es können aber auch \"Zeiger\" auf veränderliche Objekte in der Konstanten gespeichert werden. Die sind weiterhin veränderlich."
   ]
  },
  {
   "cell_type": "code",
   "execution_count": 3,
   "metadata": {},
   "outputs": [
    {
     "name": "stdout",
     "output_type": "stream",
     "text": [
      "[ \u001b[33m0\u001b[39m, \u001b[33m2\u001b[39m, \u001b[33m3\u001b[39m ]\n"
     ]
    }
   ],
   "source": [
    "const myArray = [1, 2, 3]\n",
    "myArray[0] = 0\n",
    "console.log(myArray)"
   ]
  },
  {
   "cell_type": "code",
   "execution_count": 4,
   "metadata": {},
   "outputs": [
    {
     "name": "stderr",
     "output_type": "stream",
     "text": [
      "1:7 - Cannot redeclare block-scoped variable 'myArray'.\n",
      "2:7 - Cannot redeclare block-scoped variable 'myArray'.\n"
     ]
    }
   ],
   "source": [
    "const myArray = [1, 2, 3]\n",
    "const myArray = []"
   ]
  },
  {
   "cell_type": "markdown",
   "metadata": {},
   "source": [
    "## Variablen\n",
    "\n",
    "Variablen können in einem Schritt deklariert und initialisiert werden.\n",
    "Oder erst deklariert und später initialisert werden."
   ]
  },
  {
   "cell_type": "code",
   "execution_count": 5,
   "metadata": {},
   "outputs": [
    {
     "name": "stdout",
     "output_type": "stream",
     "text": [
      "\u001b[33m1\u001b[39m\n"
     ]
    }
   ],
   "source": [
    "let x = 1;\n",
    "console.log(x);"
   ]
  },
  {
   "cell_type": "code",
   "execution_count": 6,
   "metadata": {},
   "outputs": [
    {
     "name": "stdout",
     "output_type": "stream",
     "text": [
      "\u001b[33m2\u001b[39m\n"
     ]
    }
   ],
   "source": [
    "let x;\n",
    "x = 2;\n",
    "console.log(x);"
   ]
  },
  {
   "cell_type": "markdown",
   "metadata": {},
   "source": [
    "## Variablen, auf die alte Art (in neuem Code einfach nicht nutzen!)\n",
    "\n",
    "Sie werden diese Variante in altem Code finden, daher behandeln wir das hier kurz. Vermeinden Sie das einfach in neuem Code."
   ]
  },
  {
   "cell_type": "code",
   "execution_count": 7,
   "metadata": {},
   "outputs": [
    {
     "name": "stdout",
     "output_type": "stream",
     "text": [
      "\u001b[33m1\u001b[39m\n"
     ]
    }
   ],
   "source": [
    "var x = 1;\n",
    "console.log(x);"
   ]
  },
  {
   "cell_type": "markdown",
   "metadata": {},
   "source": [
    "Im 'strict'-Modus kann man eine Variable nur nutzen, wenn sie auch deklariert wurde."
   ]
  },
  {
   "cell_type": "code",
   "execution_count": 8,
   "metadata": {},
   "outputs": [
    {
     "name": "stderr",
     "output_type": "stream",
     "text": [
      "3:5 - Cannot find name 'undeclared'.\n",
      "4:17 - Cannot find name 'undeclared'.\n"
     ]
    }
   ],
   "source": [
    "function myFun() {\n",
    "    'use strict'\n",
    "    undeclared = 1;\n",
    "    console.log(undeclared);\n",
    "}\n",
    "myFun();"
   ]
  },
  {
   "cell_type": "markdown",
   "metadata": {},
   "source": [
    "### Hoisting\n",
    "\n",
    "Die Deklaration mit `var`kann nach der Initialisierung und weiteren Nutzung erfolgen.\n",
    "\n",
    "Der Compiler zieht die Deklaration einfach an den Anfang des Scopes (Geltungsbereichs). Dies wird Hoisting genannt (hochziehen)."
   ]
  },
  {
   "cell_type": "code",
   "execution_count": 9,
   "metadata": {},
   "outputs": [
    {
     "name": "stdout",
     "output_type": "stream",
     "text": [
      "\u001b[33m1\u001b[39m\n"
     ]
    }
   ],
   "source": [
    "function myFun() {\n",
    "    'use strict'\n",
    "    undeclared2 = 1;\n",
    "    console.log(undeclared2);\n",
    "    var undeclared2;\n",
    "}\n",
    "myFun();"
   ]
  },
  {
   "cell_type": "markdown",
   "metadata": {},
   "source": [
    "Mit `let` geht dies nicht und das ist auch gut so. Es gibt eigentlich keinen vernüftigen Grund eine Variable zu nutzen, bevor sie deklariert wurde."
   ]
  },
  {
   "cell_type": "code",
   "execution_count": 10,
   "metadata": {},
   "outputs": [
    {
     "name": "stderr",
     "output_type": "stream",
     "text": [
      "3:5 - Block-scoped variable 'undeclared3' used before its declaration.\n",
      "4:17 - Block-scoped variable 'undeclared3' used before its declaration.\n"
     ]
    }
   ],
   "source": [
    "function myFun() {\n",
    "    'use strict'\n",
    "    undeclared3 = 1;\n",
    "    console.log(undeclared3);\n",
    "    let undeclared3;\n",
    "}\n",
    "myFun();"
   ]
  },
  {
   "cell_type": "markdown",
   "metadata": {},
   "source": [
    "# Scope (Geltungsbereich)\n",
    "\n",
    "Es gibt drei Arten von Scopes:\n",
    "\n",
    "1. *Global* - Im gesamten Code \n",
    "2. *Block* - In den direkt umgebenden geschweiften Klammern und allen Unterblöcken darin\n",
    "3. *Funktion* - In einem gesamten Funktionsrumpf"
   ]
  },
  {
   "cell_type": "code",
   "execution_count": 11,
   "metadata": {},
   "outputs": [
    {
     "name": "stderr",
     "output_type": "stream",
     "text": [
      "4:13 - Cannot find name 'scopedConstant'.\n"
     ]
    }
   ],
   "source": [
    "{ // Block\n",
    "    const scopedConstant = 1;\n",
    "}\n",
    "console.log(scopedConstant);"
   ]
  },
  {
   "cell_type": "code",
   "execution_count": null,
   "metadata": {},
   "outputs": [],
   "source": [
    "{\n",
    "    let scopedVar2 = 1;\n",
    "}\n",
    "console.log(scopedVar2);"
   ]
  },
  {
   "cell_type": "markdown",
   "metadata": {},
   "source": [
    "## Scope von `var`\n",
    "\n",
    "`var`ist \"function-scoped\", d.h. die Variable ist in der gesamten umgebenden Funktion gültig, oder wenn es keine umgebende Funktion gibt, dann \"global\" (kommt gleich)."
   ]
  },
  {
   "cell_type": "code",
   "execution_count": 12,
   "metadata": {},
   "outputs": [
    {
     "name": "stdout",
     "output_type": "stream",
     "text": [
      "\u001b[33m1\u001b[39m\n"
     ]
    }
   ],
   "source": [
    "{\n",
    "    var scopedVar = 1;\n",
    "}\n",
    "console.log(scopedVar);"
   ]
  },
  {
   "cell_type": "markdown",
   "metadata": {},
   "source": [
    "## Geschachtelte Blöcke"
   ]
  },
  {
   "cell_type": "code",
   "execution_count": 13,
   "metadata": {},
   "outputs": [
    {
     "name": "stderr",
     "output_type": "stream",
     "text": [
      "7:17 - Cannot find name 'innerConst'.\n"
     ]
    }
   ],
   "source": [
    "{ // Äußerer Block\n",
    "    const outerConst = 1;\n",
    "    { // Innerer Block\n",
    "        const innerConst = 2;\n",
    "        console.log(outerConst); // das geht\n",
    "    }\n",
    "    console.log(innerConst); // das geht nicht\n",
    "}"
   ]
  },
  {
   "cell_type": "markdown",
   "metadata": {},
   "source": [
    "In einem Block kann eine Variable aus dem äußeren Scope überdeckt werden (shadowing):"
   ]
  },
  {
   "cell_type": "code",
   "execution_count": 14,
   "metadata": {},
   "outputs": [
    {
     "name": "stdout",
     "output_type": "stream",
     "text": [
      "\u001b[33m2\u001b[39m\n",
      "\u001b[33m1\u001b[39m\n"
     ]
    }
   ],
   "source": [
    "{ // Äußerer Block\n",
    "    const outerConst = 1;\n",
    "    { // Innerer Block\n",
    "        const outerConst = 2;\n",
    "        console.log(outerConst); // gibt 2 aus\n",
    "    }\n",
    "    console.log(outerConst); // gibt 1 aus\n",
    "}"
   ]
  },
  {
   "cell_type": "markdown",
   "metadata": {},
   "source": [
    "Gilt analog für `let`"
   ]
  },
  {
   "cell_type": "code",
   "execution_count": 15,
   "metadata": {},
   "outputs": [
    {
     "name": "stdout",
     "output_type": "stream",
     "text": [
      "\u001b[33m2\u001b[39m\n",
      "\u001b[33m1\u001b[39m\n"
     ]
    }
   ],
   "source": [
    "{ // Äußerer Block\n",
    "    let outerVar = 1;\n",
    "    { // Innerer Block\n",
    "        let outerVar = 2;\n",
    "        console.log(outerVar); // gibt 2 aus\n",
    "    }\n",
    "    console.log(outerVar); // gibt 1 aus\n",
    "}"
   ]
  },
  {
   "cell_type": "markdown",
   "metadata": {},
   "source": [
    "## Global\n",
    "\n",
    "In Skripten, außerhalb von Blöcken oder Funktionen können auch Variablen und Konstanten deklariert werden. Diese sind dann global erreichbar."
   ]
  },
  {
   "cell_type": "markdown",
   "metadata": {},
   "source": [
    "### globalThis\n",
    "\n",
    "Es gibt ein globales Object, dass immer da ist und globalen Scope hat. Dieses heißt `globalThis`.\n",
    "\n",
    "Es ist also von überall her erreichbar und es können dort auch neue Eigenschaften zugefügt werden.\n",
    "\n",
    "Im Browser ist `globalThis` ein Object vom Typ Window - dem Browser-Fenster. Es kann auch mit `window` zugegriffen werden."
   ]
  },
  {
   "cell_type": "code",
   "execution_count": 16,
   "metadata": {},
   "outputs": [
    {
     "name": "stderr",
     "output_type": "stream",
     "text": [
      "1:16 - Cannot find name 'window'.\n"
     ]
    }
   ],
   "source": [
    "globalThis === window"
   ]
  },
  {
   "cell_type": "code",
   "execution_count": null,
   "metadata": {},
   "outputs": [],
   "source": [
    "console.log(globalThis)"
   ]
  },
  {
   "cell_type": "code",
   "execution_count": 17,
   "metadata": {},
   "outputs": [
    {
     "name": "stdout",
     "output_type": "stream",
     "text": [
      "\u001b[33m1\u001b[39m\n"
     ]
    }
   ],
   "source": [
    "{\n",
    "    globalThis.myGlobalVar = 1;\n",
    "}\n",
    "console.log(globalThis.myGlobalVar)"
   ]
  },
  {
   "cell_type": "markdown",
   "metadata": {},
   "source": [
    "`var`außerhalb einer Funktion erzeugt eine Eigenschaft von globalThis."
   ]
  },
  {
   "cell_type": "code",
   "execution_count": 18,
   "metadata": {},
   "outputs": [
    {
     "name": "stdout",
     "output_type": "stream",
     "text": [
      "\u001b[90mundefined\u001b[39m\n"
     ]
    }
   ],
   "source": [
    "var myGlobalVar2 = 1;\n",
    "console.log(globalThis.myGlobalVar2)"
   ]
  },
  {
   "cell_type": "markdown",
   "metadata": {},
   "source": [
    "`const` und `let` auf dem obersten Level eines Skript erzeugen auch globale Variablen, aber nicht als Eigenschaften von globalThis"
   ]
  },
  {
   "cell_type": "code",
   "execution_count": 19,
   "metadata": {},
   "outputs": [
    {
     "name": "stdout",
     "output_type": "stream",
     "text": [
      "\u001b[33mtrue\u001b[39m\n",
      "\u001b[33mfalse\u001b[39m\n"
     ]
    }
   ],
   "source": [
    "let myGlobalVar3 = 1;\n",
    "console.log(globalThis.myGlobalVar3 === undefined)\n",
    "console.log(myGlobalVar3 === undefined)"
   ]
  },
  {
   "cell_type": "markdown",
   "metadata": {},
   "source": [
    "## Function-Scoped\n",
    "\n",
    "Functions-Scoped gibt es nur für `var`, die alte Art Variablen zu deklarieren. Da Function-Scoped eher verwirrend ist, ist dies ein weitere Grund, `var` nicht zu verwenden."
   ]
  },
  {
   "cell_type": "code",
   "execution_count": 20,
   "metadata": {},
   "outputs": [
    {
     "name": "stdout",
     "output_type": "stream",
     "text": [
      "\u001b[33m1\u001b[39m\n"
     ]
    }
   ],
   "source": [
    "function myFun(){\n",
    "    {\n",
    "        var myVar = 1;\n",
    "    }\n",
    "    console.log(myVar); // würde mit let nicht klappen\n",
    "}\n",
    "myFun();"
   ]
  },
  {
   "cell_type": "code",
   "execution_count": 21,
   "metadata": {},
   "outputs": [
    {
     "name": "stderr",
     "output_type": "stream",
     "text": [
      "5:17 - Cannot find name 'myVar2'.\n"
     ]
    }
   ],
   "source": [
    "function myFun2(){\n",
    "    {\n",
    "        let myVar2 = 1;\n",
    "    }\n",
    "    console.log(myVar2); // würde mit let nicht klappen\n",
    "}\n",
    "myFun2();"
   ]
  },
  {
   "cell_type": "markdown",
   "metadata": {},
   "source": [
    "## Scope und Funktionsdeklarationen\n",
    "\n",
    "Bei Funktionen gibt es etwas ähnliches wie Hoisting: Early Activation.\n",
    "\n",
    "Early Activation bedeutet, dass alle Funktionsdeklarationen ausgeführt werden, wenn der Scope betretten wird.\n",
    "\n",
    "Daher kann eine Funktion aufgerufen werden, bevor sie deklariert wird:"
   ]
  },
  {
   "cell_type": "code",
   "execution_count": 22,
   "metadata": {},
   "outputs": [
    {
     "name": "stdout",
     "output_type": "stream",
     "text": [
      "Isn't it fun?\n"
     ]
    }
   ],
   "source": [
    "{\n",
    "    myEarlyActivatedFun()\n",
    "    function myEarlyActivatedFun(){console.log(\"Isn't it fun?\")}\n",
    "}"
   ]
  },
  {
   "cell_type": "markdown",
   "metadata": {},
   "source": [
    "Das gilt nur für Funktionen, die deklarativ definiert wurde; d.h. mit dem `function`-Keyword.\n",
    "\n",
    "Funktionen die mit Funktionsausdrücken definiert wurden, werden nicht \"Early activated\":"
   ]
  },
  {
   "cell_type": "code",
   "execution_count": 23,
   "metadata": {},
   "outputs": [
    {
     "name": "stderr",
     "output_type": "stream",
     "text": [
      "1:1 - Block-scoped variable 'test' used before its declaration.\n"
     ]
    }
   ],
   "source": [
    "test()\n",
    "const test = () => 1;"
   ]
  }
 ],
 "metadata": {
  "kernelspec": {
   "display_name": "JavaScript",
   "language": "javascript",
   "name": "jslab"
  },
  "language_info": {
   "file_extension": ".js",
   "mimetype": "text/javascript",
   "name": "javascript",
   "version": ""
  }
 },
 "nbformat": 4,
 "nbformat_minor": 4
}

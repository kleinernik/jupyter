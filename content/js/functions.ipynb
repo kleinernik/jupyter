{
  "metadata": {
    "language_info": {
      "codemirror_mode": {
        "name": "javascript"
      },
      "file_extension": ".js",
      "mimetype": "text/javascript",
      "name": "javascript",
      "nbconvert_exporter": "javascript",
      "pygments_lexer": "javascript",
      "version": "es2017"
    },
    "kernelspec": {
      "name": "javascript",
      "display_name": "JavaScript",
      "language": "javascript"
    }
  },
  "nbformat_minor": 4,
  "nbformat": 4,
  "cells": [
    {
      "cell_type": "markdown",
      "source": "# Funktionen\n\n## Deklaration",
      "metadata": {}
    },
    {
      "cell_type": "code",
      "source": "function sayHey() {\n    console.log('Hey')\n}\n\nsayHey();",
      "metadata": {
        "trusted": true
      },
      "execution_count": 45,
      "outputs": [
        {
          "execution_count": 45,
          "output_type": "execute_result",
          "data": {},
          "metadata": {}
        },
        {
          "event": "stream",
          "name": "stdout",
          "text": "Hey\n",
          "output_type": "stream"
        }
      ]
    },
    {
      "cell_type": "markdown",
      "source": "## Ausdruck",
      "metadata": {}
    },
    {
      "cell_type": "code",
      "source": "const sayHo = function() {\n    console.log('Ho')\n}\n\nsayHo();",
      "metadata": {
        "trusted": true
      },
      "execution_count": 46,
      "outputs": [
        {
          "execution_count": 46,
          "output_type": "execute_result",
          "data": {},
          "metadata": {}
        },
        {
          "event": "stream",
          "name": "stdout",
          "text": "Ho\n",
          "output_type": "stream"
        }
      ]
    },
    {
      "cell_type": "code",
      "source": "const sayHeyHo = () => console.log('HeyHo')\n\nsayHeyHo();",
      "metadata": {
        "trusted": true
      },
      "execution_count": 47,
      "outputs": [
        {
          "execution_count": 47,
          "output_type": "execute_result",
          "data": {},
          "metadata": {}
        },
        {
          "event": "stream",
          "name": "stdout",
          "text": "HeyHo\n",
          "output_type": "stream"
        }
      ]
    },
    {
      "cell_type": "code",
      "source": "const func = function myFunc() {\n    console.log(myFunc)\n}\n\nfunc();",
      "metadata": {
        "trusted": true
      },
      "execution_count": 48,
      "outputs": [
        {
          "execution_count": 48,
          "output_type": "execute_result",
          "data": {},
          "metadata": {}
        },
        {
          "event": "stream",
          "name": "stdout",
          "text": "function myFunc() {\n    console.log(myFunc)\n}\n",
          "output_type": "stream"
        }
      ]
    },
    {
      "cell_type": "markdown",
      "source": "## Teile der Funktionsdeklaration",
      "metadata": {}
    },
    {
      "cell_type": "code",
      "source": "function add(x, y) {\n    return x + y;\n}",
      "metadata": {
        "trusted": true
      },
      "execution_count": 49,
      "outputs": [
        {
          "execution_count": 49,
          "output_type": "execute_result",
          "data": {},
          "metadata": {}
        }
      ]
    },
    {
      "cell_type": "markdown",
      "source": "`add` ist der Name der Funktion\n\n`add(x, y)` ist der Kopf der Funktion (head)\n\n`x` und `y` sind die Parameter\n\ndanach, ich den geschweiften Klammern kommt der Rumpf der Funkion (body)\n\nmit `return` wird ein Wert zurückgegeben.",
      "metadata": {}
    },
    {
      "cell_type": "markdown",
      "source": "## Early Return\n\nMit `return` wird sofort ein Wert zurückgegeben und der Rest der Funktion nicht weiter ausgeführt.\n",
      "metadata": {}
    },
    {
      "cell_type": "code",
      "source": "function biggerThenFive(a) {\n    let r;\n    if(a > 5) {\n        r = true;\n    } else {\n        r = false;\n    }\n    return r;\n}\n\nbiggerThenFive(6);",
      "metadata": {
        "trusted": true
      },
      "execution_count": 50,
      "outputs": [
        {
          "execution_count": 50,
          "output_type": "execute_result",
          "data": {
            "text/plain": true
          },
          "metadata": {}
        }
      ]
    },
    {
      "cell_type": "code",
      "source": "function biggerThenFive(a) {\n    if(a > 5) return true;\n    return false;\n}\n\nbiggerThenFive(6);",
      "metadata": {
        "trusted": true
      },
      "execution_count": 51,
      "outputs": [
        {
          "execution_count": 51,
          "output_type": "execute_result",
          "data": {
            "text/plain": true
          },
          "metadata": {}
        }
      ]
    },
    {
      "cell_type": "code",
      "source": "function biggerThenFive(a) {\n    return a > 5;\n}\n\nbiggerThenFive(6);",
      "metadata": {
        "trusted": true
      },
      "execution_count": 52,
      "outputs": [
        {
          "execution_count": 52,
          "output_type": "execute_result",
          "data": {
            "text/plain": true
          },
          "metadata": {}
        }
      ]
    },
    {
      "cell_type": "code",
      "source": "const biggerThenFive = (a) => a > 5\n\nbiggerThenFive(6);",
      "metadata": {
        "trusted": true
      },
      "execution_count": 53,
      "outputs": [
        {
          "execution_count": 53,
          "output_type": "execute_result",
          "data": {
            "text/plain": true
          },
          "metadata": {}
        }
      ]
    },
    {
      "cell_type": "markdown",
      "source": "## Parameter\n\nParameter sind Teil der Funktionsdeklaration, Argumente sind konkrete Werte mit denen die Funktion aufgerufen wird und die Parameter belegt werden.",
      "metadata": {}
    },
    {
      "cell_type": "code",
      "source": "function add(x, y) {\n    return x + y;\n}\n\nadd(3, 4);",
      "metadata": {
        "trusted": true
      },
      "execution_count": 54,
      "outputs": [
        {
          "execution_count": 54,
          "output_type": "execute_result",
          "data": {
            "text/plain": 7
          },
          "metadata": {}
        }
      ]
    },
    {
      "cell_type": "markdown",
      "source": "`x` und `y` sind die Parameter, `3` und `4` die Argumente. Das Argument `3` wird an den Parameter `x` gebunden.",
      "metadata": {}
    },
    {
      "cell_type": "markdown",
      "source": "### Zu viele Parameter\n\n... werden ignoriert.",
      "metadata": {}
    },
    {
      "cell_type": "code",
      "source": "function add(x, y) {\n    return x + y;\n}\n\nadd(3, 4, 5, 6);",
      "metadata": {
        "trusted": true
      },
      "execution_count": 55,
      "outputs": [
        {
          "execution_count": 55,
          "output_type": "execute_result",
          "data": {
            "text/plain": 7
          },
          "metadata": {}
        }
      ]
    },
    {
      "cell_type": "markdown",
      "source": "### Zu wenig Parameter\n\nFehlende sind dann `undefined`.",
      "metadata": {}
    },
    {
      "cell_type": "code",
      "source": "function add(x, y) {\n    return x + y;\n}\n\nadd(3);",
      "metadata": {
        "trusted": true
      },
      "execution_count": 56,
      "outputs": [
        {
          "execution_count": 56,
          "output_type": "execute_result",
          "data": {
            "text/plain": null
          },
          "metadata": {}
        }
      ]
    },
    {
      "cell_type": "code",
      "source": "function add(x, y) {\n    if(typeof a === 'undefined' || typeof b === 'undefined') throw new Error('Missing Arguments')\n    return x + y;\n}\n\nadd(3, 4, 5, 6);",
      "metadata": {
        "trusted": true
      },
      "execution_count": 57,
      "outputs": [
        {
          "ename": "Error",
          "evalue": "Missing Arguments",
          "traceback": [
            "Error: Missing Arguments\n    at add (eval at <anonymous> (eval at s (https://kleinernik.github.io/jupyter/build/1013.37ec5b5.js:1:1)), <anonymous>:2:68)\n    at eval (eval at <anonymous> (eval at s (https://kleinernik.github.io/jupyter/build/1013.37ec5b5.js:1:1)), <anonymous>:6:1)\n    at eval (<anonymous>)\n    at s.eval [as _evalFunc] (eval at s (https://kleinernik.github.io/jupyter/build/1013.37ec5b5.js:1:1), <anonymous>:3:15)\n    at s._eval (https://kleinernik.github.io/jupyter/build/1013.37ec5b5.js:1:2501)\n    at s.executeRequest (https://kleinernik.github.io/jupyter/build/1013.37ec5b5.js:1:1372)\n    at s._execute (https://kleinernik.github.io/jupyter/build/6433.a5fc382.js:1:6015)\n    at s.handleMessage (https://kleinernik.github.io/jupyter/build/6433.a5fc382.js:1:2290)\n    at https://kleinernik.github.io/jupyter/build/6433.a5fc382.js:1:10032\n    at https://kleinernik.github.io/jupyter/build/6433.a5fc382.js:1:9106"
          ],
          "output_type": "error"
        }
      ]
    },
    {
      "cell_type": "markdown",
      "source": "## Default Parameter",
      "metadata": {}
    },
    {
      "cell_type": "code",
      "source": "function add(x = 1, y = 1) {\n    return x + y;\n}\n\nadd(3);",
      "metadata": {
        "trusted": true
      },
      "execution_count": 58,
      "outputs": [
        {
          "execution_count": 58,
          "output_type": "execute_result",
          "data": {
            "text/plain": 4
          },
          "metadata": {}
        }
      ]
    },
    {
      "cell_type": "markdown",
      "source": "## \"Rest\"-Parameter\n\n`...` vor dem letzten Parameter \"sammelt\" alle zusätzlich gegebenen Argumente in einem Array.\n\nAn anderen Stellen ist `...` der Spread-Operator, der aus einem Array wieder eine Argument-Liste macht.",
      "metadata": {}
    },
    {
      "cell_type": "code",
      "source": "function add(x, ...y) {\n    console.log(y)\n    if(y.length === 0) return x;\n    return x + add(...y);\n}\n\nadd(3, 3, 5, 6);",
      "metadata": {
        "trusted": true
      },
      "execution_count": 59,
      "outputs": [
        {
          "execution_count": 59,
          "output_type": "execute_result",
          "data": {
            "text/plain": 17
          },
          "metadata": {}
        },
        {
          "event": "stream",
          "name": "stdout",
          "text": "3,5,6\n5,6\n6\n\n",
          "output_type": "stream"
        }
      ]
    },
    {
      "cell_type": "code",
      "source": "function add(x = 1, y = 1) {\n    return x + y;\n}\n\nconst myArray = [1, 3]\n\nadd(...myArray);",
      "metadata": {
        "trusted": true
      },
      "execution_count": 60,
      "outputs": [
        {
          "execution_count": 60,
          "output_type": "execute_result",
          "data": {
            "text/plain": 4
          },
          "metadata": {}
        }
      ]
    },
    {
      "cell_type": "markdown",
      "source": "## Funktionen als Parameter",
      "metadata": {}
    },
    {
      "cell_type": "code",
      "source": "function map(x, mapper) {\n    return mapper(x);\n}\n\nmap(2, (x) => x * x)",
      "metadata": {
        "trusted": true
      },
      "execution_count": 61,
      "outputs": [
        {
          "execution_count": 61,
          "output_type": "execute_result",
          "data": {
            "text/plain": 4
          },
          "metadata": {}
        }
      ]
    },
    {
      "cell_type": "code",
      "source": "function map(x, mapper) {\n    return mapper(x);\n}\n\nconst timesFour = (x) =>  map(x, (x) => x * 4 )\n\ntimesFour(4)",
      "metadata": {
        "trusted": true
      },
      "execution_count": 62,
      "outputs": [
        {
          "execution_count": 62,
          "output_type": "execute_result",
          "data": {
            "text/plain": 16
          },
          "metadata": {}
        }
      ]
    },
    {
      "cell_type": "code",
      "source": "",
      "metadata": {},
      "execution_count": null,
      "outputs": []
    }
  ]
}
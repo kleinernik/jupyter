{
  "metadata": {
    "language_info": {
      "codemirror_mode": {
        "name": "javascript"
      },
      "file_extension": ".js",
      "mimetype": "text/javascript",
      "name": "javascript",
      "nbconvert_exporter": "javascript",
      "pygments_lexer": "javascript",
      "version": "es2017"
    },
    "kernelspec": {
      "name": "javascript",
      "display_name": "JavaScript",
      "language": "javascript"
    }
  },
  "nbformat_minor": 4,
  "nbformat": 4,
  "cells": [
    {
      "cell_type": "markdown",
      "source": "# Variablendeklaration\n\nEs gibt zwei aktuelle und eine veraltete Art um Variablen zu deklarieren:\n\n1. `const` um Konstanten zu deklarieren\n2. `let` um veränderliche Variablen zu deklarieren\n3. `var`, die veraltet Art, aus einer Zeit, als es 1. und 2. noch nicht gab",
      "metadata": {}
    },
    {
      "cell_type": "markdown",
      "source": "## Konstanten\n\nEine Variable als Konstante zu deklarieren, schützt vor versehentlicher Veränderung später im Code.\n\nKonstanten müssen in einem Schritt deklariert und initialisiert werden.\n\nWenn immer möglich, nutzen Sie `const`.",
      "metadata": {}
    },
    {
      "cell_type": "code",
      "source": "const myConstant = 42;\nconsole.log(myConstant);",
      "metadata": {
        "trusted": true
      },
      "execution_count": 17,
      "outputs": [
        {
          "execution_count": 17,
          "output_type": "execute_result",
          "data": {},
          "metadata": {}
        },
        {
          "event": "stream",
          "name": "stdout",
          "text": "42\n",
          "output_type": "stream"
        }
      ]
    },
    {
      "cell_type": "code",
      "source": "const myConstant;",
      "metadata": {
        "trusted": true
      },
      "execution_count": 18,
      "outputs": []
    },
    {
      "cell_type": "markdown",
      "source": "### Konstanten und Unveränderlichkeit\n\nKonstant bedeute, der Wert, der an die konstante Variable gebunden ist, kann nicht mehr geändert werden. Es können aber auch \"Zeiger\" auf veränderliche Objekte in der Konstanten gespeichert werden. Die sind weiterhin veränderlich.",
      "metadata": {}
    },
    {
      "cell_type": "code",
      "source": "const myArray = [1, 2, 3]\nmyArray[0] = 0\nconsole.log(myArray)",
      "metadata": {
        "trusted": true
      },
      "execution_count": 4,
      "outputs": [
        {
          "execution_count": 4,
          "output_type": "execute_result",
          "data": {},
          "metadata": {}
        },
        {
          "event": "stream",
          "name": "stdout",
          "text": "0,2,3\n",
          "output_type": "stream"
        }
      ]
    },
    {
      "cell_type": "code",
      "source": "const myArray = [1, 2, 3]\nconst myArray = []",
      "metadata": {
        "trusted": true
      },
      "execution_count": 5,
      "outputs": [
        {
          "ename": "SyntaxError",
          "evalue": "Identifier 'myArray' has already been declared",
          "traceback": [
            "SyntaxError: Identifier 'myArray' has already been declared\n    at eval (<anonymous>)\n    at s.eval [as _evalFunc] (eval at s (http://127.0.0.1:8000/build/1013.37ec5b5.js:1:1), <anonymous>:3:15)\n    at s._eval (http://127.0.0.1:8000/build/1013.37ec5b5.js:1:2501)\n    at s.executeRequest (http://127.0.0.1:8000/build/1013.37ec5b5.js:1:1372)\n    at s._execute (http://127.0.0.1:8000/build/6433.a5fc382.js:1:6015)\n    at s.handleMessage (http://127.0.0.1:8000/build/6433.a5fc382.js:1:2290)\n    at http://127.0.0.1:8000/build/6433.a5fc382.js:1:10032\n    at http://127.0.0.1:8000/build/6433.a5fc382.js:1:9106\n    at d.<anonymous> (http://127.0.0.1:8000/build/6433.a5fc382.js:1:7792)\n    at Generator.next (<anonymous>)"
          ],
          "output_type": "error"
        }
      ]
    },
    {
      "cell_type": "markdown",
      "source": "## Variablen\n\nVariablen können in einem Schritt deklariert und initialisiert werden.\nOder erst deklariert und später initialisert werden.",
      "metadata": {}
    },
    {
      "cell_type": "code",
      "source": "let x = 1;\nconsole.log(x);",
      "metadata": {
        "trusted": true
      },
      "execution_count": 19,
      "outputs": [
        {
          "execution_count": 19,
          "output_type": "execute_result",
          "data": {},
          "metadata": {}
        },
        {
          "event": "stream",
          "name": "stdout",
          "text": "1\n",
          "output_type": "stream"
        }
      ]
    },
    {
      "cell_type": "code",
      "source": "let x;\nx = 2;\nconsole.log(x);",
      "metadata": {
        "trusted": true
      },
      "execution_count": 20,
      "outputs": [
        {
          "execution_count": 20,
          "output_type": "execute_result",
          "data": {},
          "metadata": {}
        },
        {
          "event": "stream",
          "name": "stdout",
          "text": "2\n",
          "output_type": "stream"
        }
      ]
    },
    {
      "cell_type": "markdown",
      "source": "## Variablen, auf die alte Art (in neuem Code einfach nicht nutzen!)\n\nSie werden diese Variante in altem Code finden, daher behandeln wir das hier kurz. Vermeinden Sie das einfach in neuem Code.",
      "metadata": {}
    },
    {
      "cell_type": "code",
      "source": "var x = 1;\nconsole.log(x);",
      "metadata": {
        "trusted": true
      },
      "execution_count": 21,
      "outputs": [
        {
          "execution_count": 21,
          "output_type": "execute_result",
          "data": {},
          "metadata": {}
        },
        {
          "event": "stream",
          "name": "stdout",
          "text": "1\n",
          "output_type": "stream"
        }
      ]
    },
    {
      "cell_type": "markdown",
      "source": "Im 'strict'-Modus kann man eine Variable nur nutzen, wenn sie auch deklariert wurde.",
      "metadata": {}
    },
    {
      "cell_type": "code",
      "source": "function myFun() {\n    'use strict'\n    undeclared = 1;\n    console.log(undeclared);\n}\nmyFun();",
      "metadata": {
        "trusted": true
      },
      "execution_count": 22,
      "outputs": [
        {
          "ename": "ReferenceError",
          "evalue": "undeclared is not defined",
          "traceback": [
            "ReferenceError: undeclared is not defined\n    at myFun (eval at <anonymous> (eval at s (https://kleinernik.github.io/jupyter/build/1013.37ec5b5.js:1:270)), <anonymous>:3:16)\n    at eval (eval at <anonymous> (eval at s (https://kleinernik.github.io/jupyter/build/1013.37ec5b5.js:1:270)), <anonymous>:6:1)\n    at eval (<anonymous>)\n    at s.eval [as _evalFunc] (eval at s (https://kleinernik.github.io/jupyter/build/1013.37ec5b5.js:1:270), <anonymous>:3:15)\n    at s._eval (https://kleinernik.github.io/jupyter/build/1013.37ec5b5.js:1:2501)\n    at s.executeRequest (https://kleinernik.github.io/jupyter/build/1013.37ec5b5.js:1:1372)\n    at s._execute (https://kleinernik.github.io/jupyter/build/6433.a5fc382.js:1:6015)\n    at s.handleMessage (https://kleinernik.github.io/jupyter/build/6433.a5fc382.js:1:2290)\n    at https://kleinernik.github.io/jupyter/build/6433.a5fc382.js:1:10032\n    at https://kleinernik.github.io/jupyter/build/6433.a5fc382.js:1:9106"
          ],
          "output_type": "error"
        }
      ]
    },
    {
      "cell_type": "markdown",
      "source": "### Hoisting\n\nDie Deklaration mit `var`kann nach der Initialisierung und weiteren Nutzung erfolgen.\n\nDer Compiler zieht die Deklaration einfach an den Anfang des Scopes (Geltungsbereichs). Dies wird Hoisting genannt (hochziehen).",
      "metadata": {}
    },
    {
      "cell_type": "code",
      "source": "function myFun() {\n    'use strict'\n    undeclared2 = 1;\n    console.log(undeclared2);\n    var undeclared2;\n}\nmyFun();",
      "metadata": {
        "trusted": true
      },
      "execution_count": 23,
      "outputs": [
        {
          "execution_count": 23,
          "output_type": "execute_result",
          "data": {},
          "metadata": {}
        },
        {
          "event": "stream",
          "name": "stdout",
          "text": "1\n",
          "output_type": "stream"
        }
      ]
    },
    {
      "cell_type": "markdown",
      "source": "Mit `let` geht dies nicht und das ist auch gut so. Es gibt eigentlich keinen vernüftigen Grund eine Variable zu nutzen, bevor sie deklariert wurde.",
      "metadata": {}
    },
    {
      "cell_type": "code",
      "source": "function myFun() {\n    'use strict'\n    undeclared3 = 1;\n    console.log(undeclared3);\n    let undeclared3;\n}\nmyFun();",
      "metadata": {
        "trusted": true
      },
      "execution_count": 24,
      "outputs": [
        {
          "ename": "ReferenceError",
          "evalue": "Cannot access 'undeclared3' before initialization",
          "traceback": [
            "ReferenceError: Cannot access 'undeclared3' before initialization\n    at myFun (eval at <anonymous> (eval at s (https://kleinernik.github.io/jupyter/build/1013.37ec5b5.js:1:270)), <anonymous>:3:17)\n    at eval (eval at <anonymous> (eval at s (https://kleinernik.github.io/jupyter/build/1013.37ec5b5.js:1:270)), <anonymous>:7:1)\n    at eval (<anonymous>)\n    at s.eval [as _evalFunc] (eval at s (https://kleinernik.github.io/jupyter/build/1013.37ec5b5.js:1:270), <anonymous>:3:15)\n    at s._eval (https://kleinernik.github.io/jupyter/build/1013.37ec5b5.js:1:2501)\n    at s.executeRequest (https://kleinernik.github.io/jupyter/build/1013.37ec5b5.js:1:1372)\n    at s._execute (https://kleinernik.github.io/jupyter/build/6433.a5fc382.js:1:6015)\n    at s.handleMessage (https://kleinernik.github.io/jupyter/build/6433.a5fc382.js:1:2290)\n    at https://kleinernik.github.io/jupyter/build/6433.a5fc382.js:1:10032\n    at https://kleinernik.github.io/jupyter/build/6433.a5fc382.js:1:9106"
          ],
          "output_type": "error"
        }
      ]
    },
    {
      "cell_type": "markdown",
      "source": "# Scope (Geltungsbereich)\n\nEs gibt drei Arten von Scopes:\n\n1. *Global* - Im gesamten Code \n2. *Block* - In den direkt umgebenden geschweiften Klammern und allen Unterblöcken darin\n3. *Funktion* - In einem gesamten Funktionsrumpf",
      "metadata": {}
    },
    {
      "cell_type": "code",
      "source": "{ // Block\n    const scopedConstant = 1;\n}\nconsole.log(scopedConstant);",
      "metadata": {
        "trusted": true
      },
      "execution_count": 25,
      "outputs": [
        {
          "ename": "ReferenceError",
          "evalue": "scopedConstant is not defined",
          "traceback": [
            "ReferenceError: scopedConstant is not defined\n    at eval (eval at <anonymous> (eval at s (https://kleinernik.github.io/jupyter/build/1013.37ec5b5.js:1:270)), <anonymous>:4:13)\n    at eval (<anonymous>)\n    at s.eval [as _evalFunc] (eval at s (https://kleinernik.github.io/jupyter/build/1013.37ec5b5.js:1:270), <anonymous>:3:15)\n    at s._eval (https://kleinernik.github.io/jupyter/build/1013.37ec5b5.js:1:2501)\n    at s.executeRequest (https://kleinernik.github.io/jupyter/build/1013.37ec5b5.js:1:1372)\n    at s._execute (https://kleinernik.github.io/jupyter/build/6433.a5fc382.js:1:6015)\n    at s.handleMessage (https://kleinernik.github.io/jupyter/build/6433.a5fc382.js:1:2290)\n    at https://kleinernik.github.io/jupyter/build/6433.a5fc382.js:1:10032\n    at https://kleinernik.github.io/jupyter/build/6433.a5fc382.js:1:9106\n    at d.<anonymous> (https://kleinernik.github.io/jupyter/build/6433.a5fc382.js:1:7792)"
          ],
          "output_type": "error"
        }
      ]
    },
    {
      "cell_type": "code",
      "source": "{\n    let scopedVar2 = 1;\n}\nconsole.log(scopedVar2);",
      "metadata": {
        "trusted": true
      },
      "execution_count": 26,
      "outputs": [
        {
          "ename": "ReferenceError",
          "evalue": "scopedVar2 is not defined",
          "traceback": [
            "ReferenceError: scopedVar2 is not defined\n    at eval (eval at <anonymous> (eval at s (https://kleinernik.github.io/jupyter/build/1013.37ec5b5.js:1:270)), <anonymous>:4:13)\n    at eval (<anonymous>)\n    at s.eval [as _evalFunc] (eval at s (https://kleinernik.github.io/jupyter/build/1013.37ec5b5.js:1:270), <anonymous>:3:15)\n    at s._eval (https://kleinernik.github.io/jupyter/build/1013.37ec5b5.js:1:2501)\n    at s.executeRequest (https://kleinernik.github.io/jupyter/build/1013.37ec5b5.js:1:1372)\n    at s._execute (https://kleinernik.github.io/jupyter/build/6433.a5fc382.js:1:6015)\n    at s.handleMessage (https://kleinernik.github.io/jupyter/build/6433.a5fc382.js:1:2290)\n    at https://kleinernik.github.io/jupyter/build/6433.a5fc382.js:1:10032\n    at https://kleinernik.github.io/jupyter/build/6433.a5fc382.js:1:9106\n    at d.<anonymous> (https://kleinernik.github.io/jupyter/build/6433.a5fc382.js:1:7792)"
          ],
          "output_type": "error"
        }
      ]
    },
    {
      "cell_type": "markdown",
      "source": "## Scope von `var`\n\n`var`ist \"function-scoped\", d.h. die Variable ist in der gesamten umgebenden Funktion gültig, oder wenn es keine umgebende Funktion gibt, dann \"global\" (kommt gleich).",
      "metadata": {}
    },
    {
      "cell_type": "code",
      "source": "{\n    var scopedVar = 1;\n}\nconsole.log(scopedVar);",
      "metadata": {
        "trusted": true
      },
      "execution_count": 27,
      "outputs": [
        {
          "execution_count": 27,
          "output_type": "execute_result",
          "data": {},
          "metadata": {}
        },
        {
          "event": "stream",
          "name": "stdout",
          "text": "1\n",
          "output_type": "stream"
        }
      ]
    },
    {
      "cell_type": "markdown",
      "source": "## Geschachtelte Blöcke",
      "metadata": {}
    },
    {
      "cell_type": "code",
      "source": "{ // Äußerer Block\n    const outerConst = 1;\n    { // Innerer Block\n        const innerConst = 2;\n        console.log(outerConst); // das geht\n    }\n    console.log(innerConst); // das geht nicht\n}",
      "metadata": {
        "trusted": true
      },
      "execution_count": 28,
      "outputs": [
        {
          "ename": "ReferenceError",
          "evalue": "innerConst is not defined",
          "traceback": [
            "ReferenceError: innerConst is not defined\n    at eval (eval at <anonymous> (eval at s (https://kleinernik.github.io/jupyter/build/1013.37ec5b5.js:1:270)), <anonymous>:7:17)\n    at eval (<anonymous>)\n    at s.eval [as _evalFunc] (eval at s (https://kleinernik.github.io/jupyter/build/1013.37ec5b5.js:1:270), <anonymous>:3:15)\n    at s._eval (https://kleinernik.github.io/jupyter/build/1013.37ec5b5.js:1:2501)\n    at s.executeRequest (https://kleinernik.github.io/jupyter/build/1013.37ec5b5.js:1:1372)\n    at s._execute (https://kleinernik.github.io/jupyter/build/6433.a5fc382.js:1:6015)\n    at s.handleMessage (https://kleinernik.github.io/jupyter/build/6433.a5fc382.js:1:2290)\n    at https://kleinernik.github.io/jupyter/build/6433.a5fc382.js:1:10032\n    at https://kleinernik.github.io/jupyter/build/6433.a5fc382.js:1:9106\n    at d.<anonymous> (https://kleinernik.github.io/jupyter/build/6433.a5fc382.js:1:7792)"
          ],
          "output_type": "error"
        },
        {
          "event": "stream",
          "name": "stdout",
          "text": "1\n",
          "output_type": "stream"
        }
      ]
    },
    {
      "cell_type": "markdown",
      "source": "In einem Block kann eine Variable aus dem äußeren Scope überdeckt werden (shadowing):",
      "metadata": {}
    },
    {
      "cell_type": "code",
      "source": "{ // Äußerer Block\n    const outerConst = 1;\n    { // Innerer Block\n        const outerConst = 2;\n        console.log(outerConst); // gibt 2 aus\n    }\n    console.log(outerConst); // gibt 1 aus\n}",
      "metadata": {
        "trusted": true
      },
      "execution_count": 29,
      "outputs": []
    },
    {
      "cell_type": "markdown",
      "source": "Gilt analog für `let`",
      "metadata": {}
    },
    {
      "cell_type": "code",
      "source": "{ // Äußerer Block\n    let outerVar = 1;\n    { // Innerer Block\n        let outerVar = 2;\n        console.log(outerVar); // gibt 2 aus\n    }\n    console.log(outerVar); // gibt 1 aus\n}",
      "metadata": {
        "trusted": true
      },
      "execution_count": 6,
      "outputs": [
        {
          "execution_count": 6,
          "output_type": "execute_result",
          "data": {},
          "metadata": {}
        },
        {
          "event": "stream",
          "name": "stdout",
          "text": "2\n1\n",
          "output_type": "stream"
        }
      ]
    },
    {
      "cell_type": "markdown",
      "source": "## Global\n\nIn Skripten, außerhalb von Blöcken oder Funktionen können auch Variablen und Konstanten deklariert werden. Diese sind dann global erreichbar.",
      "metadata": {}
    },
    {
      "cell_type": "markdown",
      "source": "### globalThis\n\nEs gibt ein globales Object, dass immer da ist und globalen Scope hat. Dieses heißt `globalThis`.\n\nEs ist also von überall her erreichbar und es können dort auch neue Eigenschaften zugefügt werden.\n\nIm Browser ist `globalThis` ein Object vom Typ Window - dem Browser-Fenster. Es kann auch mit `window` zugegriffen werden.",
      "metadata": {}
    },
    {
      "cell_type": "code",
      "source": "globalThis === window",
      "metadata": {
        "trusted": true
      },
      "execution_count": 30,
      "outputs": [
        {
          "execution_count": 30,
          "output_type": "execute_result",
          "data": {
            "text/plain": true
          },
          "metadata": {}
        }
      ]
    },
    {
      "cell_type": "code",
      "source": "console.log(globalThis)",
      "metadata": {
        "trusted": true
      },
      "execution_count": 31,
      "outputs": [
        {
          "execution_count": 31,
          "output_type": "execute_result",
          "data": {},
          "metadata": {}
        },
        {
          "event": "stream",
          "name": "stdout",
          "text": "[object Window]\n",
          "output_type": "stream"
        }
      ]
    },
    {
      "cell_type": "code",
      "source": "{\n    globalThis.myGlobalVar = 1;\n}\nconsole.log(globalThis.myGlobalVar)",
      "metadata": {
        "trusted": true
      },
      "execution_count": 32,
      "outputs": []
    },
    {
      "cell_type": "markdown",
      "source": "`var`außerhalb einer Funktion erzeugt eine Eigenschaft von globalThis.",
      "metadata": {}
    },
    {
      "cell_type": "code",
      "source": "var myGlobalVar2 = 1;\nconsole.log(globalThis.myGlobalVar2)",
      "metadata": {
        "trusted": true
      },
      "execution_count": 8,
      "outputs": []
    },
    {
      "cell_type": "markdown",
      "source": "`const` und `let` auf dem obersten Level eines Skript erzeugen auch globale Variablen, aber nicht als Eigenschaften von globalThis",
      "metadata": {}
    },
    {
      "cell_type": "code",
      "source": "let myGlobalVar3 = 1;\nconsole.log(globalThis.myGlobalVar3 === undefined)\nconsole.log(myGlobalVar3 === undefined)",
      "metadata": {
        "trusted": true
      },
      "execution_count": 13,
      "outputs": [
        {
          "execution_count": 13,
          "output_type": "execute_result",
          "data": {},
          "metadata": {}
        },
        {
          "event": "stream",
          "name": "stdout",
          "text": "true\nfalse\n",
          "output_type": "stream"
        }
      ]
    },
    {
      "cell_type": "markdown",
      "source": "## Function-Scoped\n\nFunctions-Scoped gibt es nur für `var`, die alte Art Variablen zu deklarieren. Da Function-Scoped eher verwirrend ist, ist dies ein weitere Grund, `var` nicht zu verwenden.",
      "metadata": {}
    },
    {
      "cell_type": "code",
      "source": "function myFun(){\n    {\n        var myVar = 1;\n    }\n    console.log(myVar); // würde mit let nicht klappen\n}\nmyFun();",
      "metadata": {
        "trusted": true
      },
      "execution_count": 35,
      "outputs": [
        {
          "execution_count": 35,
          "output_type": "execute_result",
          "data": {},
          "metadata": {}
        },
        {
          "event": "stream",
          "name": "stdout",
          "text": "1\n",
          "output_type": "stream"
        }
      ]
    },
    {
      "cell_type": "code",
      "source": "function myFun2(){\n    {\n        let myVar2 = 1;\n    }\n    console.log(myVar2); // würde mit let nicht klappen\n}\nmyFun2();",
      "metadata": {
        "trusted": true
      },
      "execution_count": 37,
      "outputs": [
        {
          "ename": "ReferenceError",
          "evalue": "myVar2 is not defined",
          "traceback": [
            "ReferenceError: myVar2 is not defined\n    at myFun2 (eval at <anonymous> (eval at s (https://kleinernik.github.io/jupyter/build/1013.37ec5b5.js:1:270)), <anonymous>:5:17)\n    at eval (eval at <anonymous> (eval at s (https://kleinernik.github.io/jupyter/build/1013.37ec5b5.js:1:270)), <anonymous>:7:1)\n    at eval (<anonymous>)\n    at s.eval [as _evalFunc] (eval at s (https://kleinernik.github.io/jupyter/build/1013.37ec5b5.js:1:270), <anonymous>:3:15)\n    at s._eval (https://kleinernik.github.io/jupyter/build/1013.37ec5b5.js:1:2501)\n    at s.executeRequest (https://kleinernik.github.io/jupyter/build/1013.37ec5b5.js:1:1372)\n    at s._execute (https://kleinernik.github.io/jupyter/build/6433.a5fc382.js:1:6015)\n    at s.handleMessage (https://kleinernik.github.io/jupyter/build/6433.a5fc382.js:1:2290)\n    at https://kleinernik.github.io/jupyter/build/6433.a5fc382.js:1:10032\n    at https://kleinernik.github.io/jupyter/build/6433.a5fc382.js:1:9106"
          ],
          "output_type": "error"
        }
      ]
    },
    {
      "cell_type": "markdown",
      "source": "## Scope und Funktionsdeklarationen\n\nBei Funktionen gibt es etwas ähnliches wie Hoisting: Early Activation.\n\nEarly Activation bedeutet, dass alle Funktionsdeklarationen ausgeführt werden, wenn der Scope betretten wird.\n\nDaher kann eine Funktion aufgerufen werden, bevor sie deklariert wird:",
      "metadata": {}
    },
    {
      "cell_type": "code",
      "source": "{\n    myEarlyActivatedFun()\n    function myEarlyActivatedFun(){console.log(\"Isn't it fun?\")}\n}",
      "metadata": {
        "trusted": true
      },
      "execution_count": 39,
      "outputs": [
        {
          "execution_count": 39,
          "output_type": "execute_result",
          "data": {},
          "metadata": {}
        },
        {
          "event": "stream",
          "name": "stdout",
          "text": "Isn't it fun?\n",
          "output_type": "stream"
        }
      ]
    },
    {
      "cell_type": "markdown",
      "source": "Das gilt nur für Funktionen, die deklarativ definiert wurde; d.h. mit dem `function`-Keyword.\n\nFunktionen die mit Funktionsausdrücken definiert wurden, werden nicht \"Early activated\":",
      "metadata": {}
    },
    {
      "cell_type": "code",
      "source": "test()\nconst test = () => 1;",
      "metadata": {
        "trusted": true
      },
      "execution_count": 15,
      "outputs": [
        {
          "ename": "ReferenceError",
          "evalue": "Cannot access 'test' before initialization",
          "traceback": [
            "ReferenceError: Cannot access 'test' before initialization\n    at eval (eval at <anonymous> (eval at s (http://127.0.0.1:8000/build/1013.37ec5b5.js:1:1)), <anonymous>:1:1)\n    at eval (<anonymous>)\n    at s.eval [as _evalFunc] (eval at s (http://127.0.0.1:8000/build/1013.37ec5b5.js:1:1), <anonymous>:3:15)\n    at s._eval (http://127.0.0.1:8000/build/1013.37ec5b5.js:1:2501)\n    at s.executeRequest (http://127.0.0.1:8000/build/1013.37ec5b5.js:1:1372)\n    at s._execute (http://127.0.0.1:8000/build/6433.a5fc382.js:1:6015)\n    at s.handleMessage (http://127.0.0.1:8000/build/6433.a5fc382.js:1:2290)\n    at http://127.0.0.1:8000/build/6433.a5fc382.js:1:10032\n    at http://127.0.0.1:8000/build/6433.a5fc382.js:1:9106\n    at d.<anonymous> (http://127.0.0.1:8000/build/6433.a5fc382.js:1:7792)"
          ],
          "output_type": "error"
        },
        {
          "event": "stream",
          "name": "stdout",
          "text": "1\n[object Object]\nNiklas Klein\n1\nNiklas Klein\n6\nNiklas\n4\n1,2\n\nx has no value\ndefault\ndefault\n1\nIst wahr\n0,1\n1,1\n0,-1\n-1,-1\n0,0\n1,0\n{\"name\":\"Niklas\",\"age\":42}\n41\nNaN\nInfinity\nInfinity\n-Infinity\ntrue\n",
          "output_type": "stream"
        }
      ]
    },
    {
      "cell_type": "code",
      "source": "",
      "metadata": {},
      "execution_count": null,
      "outputs": []
    }
  ]
}
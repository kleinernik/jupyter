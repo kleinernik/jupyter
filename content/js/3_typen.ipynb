{
 "cells": [
  {
   "cell_type": "markdown",
   "metadata": {},
   "source": [
    "# Typen\n",
    "\n",
    "JavaScript hat grundsätzlich zwei Arten von Typen:\n",
    "\n",
    "1. primitive Typen\n",
    "2. Objekte\n",
    "\n",
    "## Primitive Typen\n",
    "\n",
    "Es gibt die folgenden primitiven Typen:\n",
    "\n",
    "1. boolean\n",
    "2. number\n",
    "3. string\n",
    "4. symbol\n",
    "5. undefined\n",
    "6. null\n",
    "7. bigint\n",
    "\n",
    "Alle anderen Werte sind vom Typ `object`.\n",
    "\n",
    "Der `typeof`-Operator kann verwendet werden, um zu Prüfen, welchen Typ ein Wert hat. Er gibt einen _string_ zurück."
   ]
  },
  {
   "cell_type": "code",
   "execution_count": 1,
   "metadata": {},
   "outputs": [
    {
     "name": "stdout",
     "output_type": "stream",
     "text": [
      "boolean\n"
     ]
    }
   ],
   "source": [
    "typeof false === 'boolean'"
   ]
  },
  {
   "cell_type": "code",
   "execution_count": 2,
   "metadata": {},
   "outputs": [
    {
     "name": "stdout",
     "output_type": "stream",
     "text": [
      "boolean\n"
     ]
    }
   ],
   "source": [
    "typeof true"
   ]
  },
  {
   "cell_type": "code",
   "execution_count": 4,
   "metadata": {},
   "outputs": [
    {
     "name": "stdout",
     "output_type": "stream",
     "text": [
      "number\n"
     ]
    }
   ],
   "source": [
    "typeof 1.1"
   ]
  },
  {
   "cell_type": "code",
   "execution_count": 5,
   "metadata": {},
   "outputs": [
    {
     "name": "stdout",
     "output_type": "stream",
     "text": [
      "bigint\n"
     ]
    }
   ],
   "source": [
    "typeof 1n"
   ]
  },
  {
   "cell_type": "code",
   "execution_count": 6,
   "metadata": {},
   "outputs": [
    {
     "name": "stdout",
     "output_type": "stream",
     "text": [
      "symbol\n"
     ]
    }
   ],
   "source": [
    "typeof Symbol('mySymbol')"
   ]
  },
  {
   "cell_type": "code",
   "execution_count": 7,
   "metadata": {},
   "outputs": [
    {
     "name": "stdout",
     "output_type": "stream",
     "text": [
      "undefined\n"
     ]
    }
   ],
   "source": [
    "typeof undefined"
   ]
  },
  {
   "cell_type": "markdown",
   "metadata": {},
   "source": [
    "Achtung, aus historischen Gründen funktioniert das für `null` nicht wie erwartet:"
   ]
  },
  {
   "cell_type": "code",
   "execution_count": 8,
   "metadata": {},
   "outputs": [
    {
     "name": "stdout",
     "output_type": "stream",
     "text": [
      "object\n"
     ]
    }
   ],
   "source": [
    "typeof null"
   ]
  },
  {
   "cell_type": "markdown",
   "metadata": {},
   "source": [
    "## Objekte\n",
    "\n",
    "Alle anderen Werte sind Objekte."
   ]
  },
  {
   "cell_type": "code",
   "execution_count": 9,
   "metadata": {},
   "outputs": [
    {
     "name": "stdout",
     "output_type": "stream",
     "text": [
      "object\n"
     ]
    }
   ],
   "source": [
    "typeof []"
   ]
  },
  {
   "cell_type": "code",
   "execution_count": 10,
   "metadata": {},
   "outputs": [
    {
     "name": "stdout",
     "output_type": "stream",
     "text": [
      "object\n"
     ]
    }
   ],
   "source": [
    "typeof {fistName: 'Niklas'}"
   ]
  },
  {
   "cell_type": "markdown",
   "metadata": {},
   "source": [
    "## Unterschiede\n",
    "\n",
    "### Pass by value vs. pass by referenz\n",
    "\n",
    "Primitive Werte werden immer als Wert übergeben (_pass by value_), d.h. wenn ein primitiver Wert einer Variable zugewiesen wird, oder einer Funktion übergeben wird, dann wird der Wert kopiert:"
   ]
  },
  {
   "cell_type": "code",
   "execution_count": 11,
   "metadata": {},
   "outputs": [
    {
     "name": "stdout",
     "output_type": "stream",
     "text": [
      "\u001b[33m1\u001b[39m\n"
     ]
    }
   ],
   "source": [
    "let x1 = 1;\n",
    "let x2 = x1; // Wert von x1 wird kopiert\n",
    "\n",
    "x1 = 2;\n",
    "console.log(x2)"
   ]
  },
  {
   "cell_type": "markdown",
   "metadata": {},
   "source": [
    "Objekte werden als _Referenz_ übergeben (_pass by referenz_), dass kann man sich vorstellen wie ein Zeiger, dessen Wert kopiert wird, der zeigt dann immer noch auf das selbe Objekt:"
   ]
  },
  {
   "cell_type": "code",
   "execution_count": 12,
   "metadata": {},
   "outputs": [
    {
     "name": "stdout",
     "output_type": "stream",
     "text": [
      "Niklas Klein\n"
     ]
    }
   ],
   "source": [
    "let o1 = {name: 'Niklas'};\n",
    "let o2 = o1; // o2 zeigt auf o1\n",
    "\n",
    "o1.name = 'Niklas Klein';\n",
    "\n",
    "console.log(o2.name);"
   ]
  },
  {
   "cell_type": "markdown",
   "metadata": {},
   "source": [
    "### Vergleichen\n",
    "\n",
    "Primitive Werte werden bzgl. ihrers Inhalts verglichen:"
   ]
  },
  {
   "cell_type": "code",
   "execution_count": 17,
   "metadata": {},
   "outputs": [
    {
     "name": "stdout",
     "output_type": "stream",
     "text": [
      "\u001b[33mtrue\u001b[39m\n"
     ]
    }
   ],
   "source": [
    "let x1 = 1;\n",
    "let x2 = 1;\n",
    "\n",
    "x1 === x2;"
   ]
  },
  {
   "cell_type": "markdown",
   "metadata": {},
   "source": [
    "Objekte werden hinsichtlich ihrer Referenz verglichen; d.h. nur wenn es das selbe Object ist, ist es auch gleich."
   ]
  },
  {
   "cell_type": "code",
   "execution_count": 18,
   "metadata": {},
   "outputs": [
    {
     "name": "stdout",
     "output_type": "stream",
     "text": [
      "\u001b[33mfalse\u001b[39m\n"
     ]
    }
   ],
   "source": [
    "let o1 = {name: 'Niklas'};\n",
    "let o2 = {name: 'Niklas'};\n",
    "\n",
    "o1 === o2;"
   ]
  },
  {
   "cell_type": "code",
   "execution_count": 21,
   "metadata": {},
   "outputs": [
    {
     "name": "stdout",
     "output_type": "stream",
     "text": [
      "\u001b[33mtrue\u001b[39m\n"
     ]
    }
   ],
   "source": [
    "let o1 = {name: 'Niklas'};\n",
    "let o2 = o1;\n",
    "\n",
    "o1 === o2;"
   ]
  },
  {
   "cell_type": "markdown",
   "metadata": {},
   "source": [
    "### Unterschiede zu Java\n",
    "\n",
    "Anders als in Java haben primitive Werte Eigenschaften, diese sind unveränderlich (_immutable_)."
   ]
  },
  {
   "cell_type": "code",
   "execution_count": 26,
   "metadata": {},
   "outputs": [
    {
     "name": "stdout",
     "output_type": "stream",
     "text": [
      "\u001b[33m6\u001b[39m\n"
     ]
    }
   ],
   "source": [
    "const str = 'Niklas';\n",
    "console.log(str.length);"
   ]
  },
  {
   "cell_type": "markdown",
   "metadata": {},
   "source": [
    "## Objekte\n",
    "\n",
    "Objekte werden u.a. mit dem Objekt-Literal (`{}`) erzeugt."
   ]
  },
  {
   "cell_type": "code",
   "execution_count": null,
   "metadata": {},
   "outputs": [],
   "source": [
    "const person = {\n",
    "    firstName: 'Niklas',\n",
    "    lastName: 'Klein'\n",
    "}"
   ]
  },
  {
   "cell_type": "markdown",
   "metadata": {},
   "source": [
    "Objekte sind vom Typ `object`\n"
   ]
  },
  {
   "cell_type": "code",
   "execution_count": 27,
   "metadata": {},
   "outputs": [
    {
     "name": "stdout",
     "output_type": "stream",
     "text": [
      "object\n"
     ]
    }
   ],
   "source": [
    "const person = {\n",
    "    firstName: 'Niklas',\n",
    "    lastName: 'Klein'\n",
    "}\n",
    "typeof person"
   ]
  },
  {
   "cell_type": "markdown",
   "metadata": {},
   "source": [
    "Ein mit dem Array-Literal erzeugtes Array (`[]`) ist auch ein Objekt"
   ]
  },
  {
   "cell_type": "code",
   "execution_count": 28,
   "metadata": {},
   "outputs": [
    {
     "name": "stdout",
     "output_type": "stream",
     "text": [
      "object\n"
     ]
    }
   ],
   "source": [
    "typeof []"
   ]
  },
  {
   "cell_type": "markdown",
   "metadata": {},
   "source": [
    "Objekte sind per default veränderlich, d.h. die Eingeschaften können geschrieben werden"
   ]
  },
  {
   "cell_type": "code",
   "execution_count": 29,
   "metadata": {},
   "outputs": [
    {
     "name": "stdout",
     "output_type": "stream",
     "text": [
      "\u001b[33m4\u001b[39m\n",
      "[ \u001b[33m1\u001b[39m, \u001b[33m2\u001b[39m ]\n"
     ]
    }
   ],
   "source": [
    "const myArray = [1, 2, 3, 4];\n",
    "console.log(myArray.length);\n",
    "\n",
    "myArray.length = 2;\n",
    "console.log(myArray)\n"
   ]
  },
  {
   "cell_type": "markdown",
   "metadata": {},
   "source": [
    "## `instanceof`"
   ]
  },
  {
   "cell_type": "markdown",
   "metadata": {},
   "source": [
    "Während mit `typeof`bei Objekten nur festgestellt werden kann, ob sie den Typ `object` haben, kann mit `instanceof` festgestellt werden, von welcher Klasse sie erzeugt wurde."
   ]
  },
  {
   "cell_type": "code",
   "execution_count": 30,
   "metadata": {},
   "outputs": [
    {
     "name": "stdout",
     "output_type": "stream",
     "text": [
      "object\n"
     ]
    }
   ],
   "source": [
    "typeof []"
   ]
  },
  {
   "cell_type": "code",
   "execution_count": 32,
   "metadata": {},
   "outputs": [
    {
     "name": "stdout",
     "output_type": "stream",
     "text": [
      "\u001b[33mtrue\u001b[39m\n"
     ]
    }
   ],
   "source": [
    "[] instanceof Array"
   ]
  },
  {
   "cell_type": "code",
   "execution_count": 33,
   "metadata": {},
   "outputs": [
    {
     "name": "stdout",
     "output_type": "stream",
     "text": [
      "\u001b[33mtrue\u001b[39m\n"
     ]
    }
   ],
   "source": [
    "const person = {\n",
    "    firstName: 'Niklas',\n",
    "    lastName: 'Klein'\n",
    "}\n",
    "person instanceof Object"
   ]
  },
  {
   "cell_type": "markdown",
   "metadata": {},
   "source": [
    "`person` wurde mit dem Objekt-Literal erzeugt und nicht mit einer speziellen Klasse, daher ist es eine Instanz von `Object` und vom Typ `object`.\n",
    "\n",
    "Funktionen sind auch Objekte:"
   ]
  },
  {
   "cell_type": "code",
   "execution_count": 36,
   "metadata": {},
   "outputs": [
    {
     "name": "stdout",
     "output_type": "stream",
     "text": [
      "\u001b[33mtrue\u001b[39m\n"
     ]
    }
   ],
   "source": [
    "(function() {}) instanceof Function"
   ]
  },
  {
   "cell_type": "markdown",
   "metadata": {},
   "source": [
    "## Primitive Werte und Klassen\n",
    "\n",
    "Zu jedem primitiven Typ gibt es eine Kontruktor-Funktion - das war der Vorläufer von Klassen in JavaScript. Praktisch verhalten sich die Konsturktorfunktionen fast wie Klassen (aber nicht mit `new` nutzen, dass geht zwar, macht aber was anderes als man denkt)."
   ]
  },
  {
   "cell_type": "code",
   "execution_count": 56,
   "metadata": {},
   "outputs": [
    {
     "name": "stdout",
     "output_type": "stream",
     "text": [
      "\u001b[33m0\u001b[39m\n"
     ]
    }
   ],
   "source": [
    "Number(false)"
   ]
  },
  {
   "cell_type": "code",
   "execution_count": 57,
   "metadata": {},
   "outputs": [
    {
     "name": "stdout",
     "output_type": "stream",
     "text": [
      "\u001b[33mtrue\u001b[39m\n"
     ]
    }
   ],
   "source": [
    "Boolean('true')"
   ]
  },
  {
   "cell_type": "code",
   "execution_count": 58,
   "metadata": {},
   "outputs": [
    {
     "name": "stdout",
     "output_type": "stream",
     "text": [
      "test\n"
     ]
    }
   ],
   "source": [
    "String('test')"
   ]
  },
  {
   "cell_type": "markdown",
   "metadata": {},
   "source": [
    "Die Konstruktor-Funktionen haben mehrere praktische Aufgaben:\n",
    "\n",
    "1. Wie oben gesehen, um `strings` zu dem Typ umzuwandeln.\n",
    "2. Um Werte von einem Typ zu `strings` umzuwandeln\n",
    "3. Kontainer für typspezifische Hilfsfunktionen"
   ]
  },
  {
   "cell_type": "code",
   "execution_count": 59,
   "metadata": {},
   "outputs": [
    {
     "name": "stdout",
     "output_type": "stream",
     "text": [
      "\u001b[33mtrue\u001b[39m\n"
     ]
    }
   ],
   "source": [
    "Number.isInteger(100)"
   ]
  },
  {
   "cell_type": "code",
   "execution_count": 60,
   "metadata": {},
   "outputs": [
    {
     "name": "stdout",
     "output_type": "stream",
     "text": [
      "\u001b[33mfalse\u001b[39m\n"
     ]
    }
   ],
   "source": [
    "Number.isInteger(1.1)"
   ]
  },
  {
   "cell_type": "markdown",
   "metadata": {},
   "source": [
    "## Typumwandlung\n",
    "\n",
    "Die Konsturktor-Funktion kann, wie oben gesehen, für expliziete Typumwandlung genutzt werden:"
   ]
  },
  {
   "cell_type": "code",
   "execution_count": 44,
   "metadata": {},
   "outputs": [
    {
     "name": "stdout",
     "output_type": "stream",
     "text": [
      "\u001b[33mfalse\u001b[39m\n"
     ]
    }
   ],
   "source": [
    "Boolean(0)"
   ]
  },
  {
   "cell_type": "code",
   "execution_count": 45,
   "metadata": {},
   "outputs": [
    {
     "name": "stdout",
     "output_type": "stream",
     "text": [
      "\u001b[33mtrue\u001b[39m\n"
     ]
    }
   ],
   "source": [
    "Boolean(1)"
   ]
  },
  {
   "cell_type": "code",
   "execution_count": 46,
   "metadata": {},
   "outputs": [
    {
     "name": "stdout",
     "output_type": "stream",
     "text": [
      "\u001b[33mtrue\u001b[39m\n"
     ]
    }
   ],
   "source": [
    "Boolean('test')"
   ]
  },
  {
   "cell_type": "code",
   "execution_count": 48,
   "metadata": {},
   "outputs": [
    {
     "name": "stdout",
     "output_type": "stream",
     "text": [
      "\u001b[33mfalse\u001b[39m\n"
     ]
    }
   ],
   "source": [
    "Boolean('')"
   ]
  },
  {
   "cell_type": "markdown",
   "metadata": {},
   "source": [
    "### Automatische Typumwandung (_coercion_)"
   ]
  },
  {
   "cell_type": "code",
   "execution_count": 66,
   "metadata": {},
   "outputs": [
    {
     "name": "stderr",
     "output_type": "stream",
     "text": [
      "1:1 - The left-hand side of an arithmetic operation must be of type 'any', 'number', 'bigint' or an enum type.\n"
     ]
    }
   ],
   "source": [
    "'2' * 3"
   ]
  },
  {
   "cell_type": "markdown",
   "metadata": {},
   "source": [
    "## `undefined` und `null`\n",
    "\n",
    "In Java gibt es nur einen \"non-value\"; einen Wert der für Nicht steht. In JavaScript gibt es zwei:\n",
    "\n",
    "1. `undefined` - bei uninitialisierten Variablen oder nicht-existenten Objekteigenschaften\n",
    "2. `null` - als Ausdruck von beabsichtigter Anwesenheit eines Werts"
   ]
  },
  {
   "cell_type": "code",
   "execution_count": 67,
   "metadata": {},
   "outputs": [
    {
     "name": "stdout",
     "output_type": "stream",
     "text": [
      "\u001b[33mtrue\u001b[39m\n"
     ]
    }
   ],
   "source": [
    "let x;\n",
    "x === undefined;"
   ]
  },
  {
   "cell_type": "code",
   "execution_count": 68,
   "metadata": {},
   "outputs": [
    {
     "name": "stdout",
     "output_type": "stream",
     "text": [
      "\u001b[33mfalse\u001b[39m\n"
     ]
    }
   ],
   "source": [
    "let x = null;\n",
    "x === undefined;"
   ]
  },
  {
   "cell_type": "code",
   "execution_count": 69,
   "metadata": {},
   "outputs": [
    {
     "name": "stdout",
     "output_type": "stream",
     "text": [
      "\u001b[33mtrue\u001b[39m\n"
     ]
    }
   ],
   "source": [
    "let x = null;\n",
    "x === null;"
   ]
  },
  {
   "cell_type": "markdown",
   "metadata": {},
   "source": [
    "Wenn Funktionen zu wenig Parameter übergeben bekommen, sind diese `undefined` - die Funktione kann ohne das eine Exception geworfen wird, aufgerufen werden."
   ]
  },
  {
   "cell_type": "code",
   "execution_count": 70,
   "metadata": {},
   "outputs": [
    {
     "name": "stdout",
     "output_type": "stream",
     "text": [
      "\u001b[33mtrue\u001b[39m\n"
     ]
    }
   ],
   "source": [
    "function func(x) { return x;}\n",
    "\n",
    "func() === undefined;"
   ]
  },
  {
   "cell_type": "markdown",
   "metadata": {},
   "source": [
    "Nicht-existente Eigenschaften von Objekten sind `undefined`"
   ]
  },
  {
   "cell_type": "code",
   "execution_count": 71,
   "metadata": {},
   "outputs": [
    {
     "name": "stdout",
     "output_type": "stream",
     "text": [
      "\u001b[33mtrue\u001b[39m\n"
     ]
    }
   ],
   "source": [
    "const person = {\n",
    "    firstName: 'Niklas',\n",
    "    lastName: 'Klein'\n",
    "}\n",
    "person.age === undefined"
   ]
  },
  {
   "cell_type": "markdown",
   "metadata": {},
   "source": [
    "### Test auf `undefined` oder `null`"
   ]
  },
  {
   "cell_type": "code",
   "execution_count": 72,
   "metadata": {},
   "outputs": [
    {
     "name": "stdout",
     "output_type": "stream",
     "text": [
      "x has no value\n"
     ]
    }
   ],
   "source": [
    "let x;\n",
    "if (x !== undefined && x !== null) {\n",
    "    console.log('x has a value')\n",
    "} else {\n",
    "    console.log('x has no value')\n",
    "}"
   ]
  },
  {
   "cell_type": "markdown",
   "metadata": {},
   "source": [
    "## nullish coalescing operator (??)\n",
    "\n",
    "Es gibt einen Operator speziell für `undefined` und `null`"
   ]
  },
  {
   "cell_type": "code",
   "execution_count": 73,
   "metadata": {},
   "outputs": [
    {
     "name": "stdout",
     "output_type": "stream",
     "text": [
      "default\n"
     ]
    }
   ],
   "source": [
    "let x = null ?? 'default';\n",
    "console.log(x);"
   ]
  },
  {
   "cell_type": "code",
   "execution_count": 74,
   "metadata": {},
   "outputs": [
    {
     "name": "stdout",
     "output_type": "stream",
     "text": [
      "default\n"
     ]
    }
   ],
   "source": [
    "let x = undefined ?? 'default';\n",
    "console.log(x);"
   ]
  },
  {
   "cell_type": "code",
   "execution_count": 75,
   "metadata": {},
   "outputs": [
    {
     "name": "stdout",
     "output_type": "stream",
     "text": [
      "\u001b[33m1\u001b[39m\n"
     ]
    }
   ],
   "source": [
    "let x = 1 ?? 'default';\n",
    "console.log(x);"
   ]
  },
  {
   "cell_type": "markdown",
   "metadata": {},
   "source": [
    "## Boolean\n",
    "\n",
    "Wahrheitswerte"
   ]
  },
  {
   "cell_type": "code",
   "execution_count": 76,
   "metadata": {},
   "outputs": [
    {
     "name": "stdout",
     "output_type": "stream",
     "text": [
      "boolean\n"
     ]
    }
   ],
   "source": [
    "typeof true"
   ]
  },
  {
   "cell_type": "code",
   "execution_count": 77,
   "metadata": {},
   "outputs": [
    {
     "name": "stdout",
     "output_type": "stream",
     "text": [
      "boolean\n"
     ]
    }
   ],
   "source": [
    "typeof false"
   ]
  },
  {
   "cell_type": "markdown",
   "metadata": {},
   "source": [
    "### Umwandlung zu `boolean`"
   ]
  },
  {
   "cell_type": "code",
   "execution_count": 86,
   "metadata": {},
   "outputs": [
    {
     "name": "stdout",
     "output_type": "stream",
     "text": [
      "\u001b[33mtrue\u001b[39m\n"
     ]
    }
   ],
   "source": [
    "Boolean(\"test\")"
   ]
  },
  {
   "cell_type": "code",
   "execution_count": 82,
   "metadata": {},
   "outputs": [
    {
     "name": "stdout",
     "output_type": "stream",
     "text": [
      "\u001b[33mtrue\u001b[39m\n"
     ]
    }
   ],
   "source": [
    "1 ? true : false"
   ]
  },
  {
   "cell_type": "code",
   "execution_count": 88,
   "metadata": {},
   "outputs": [
    {
     "name": "stdout",
     "output_type": "stream",
     "text": [
      "\u001b[33mtrue\u001b[39m\n"
     ]
    }
   ],
   "source": [
    "!!'test'"
   ]
  },
  {
   "cell_type": "markdown",
   "metadata": {},
   "source": [
    "### Falsy / Truthy"
   ]
  },
  {
   "cell_type": "code",
   "execution_count": 90,
   "metadata": {},
   "outputs": [
    {
     "name": "stdout",
     "output_type": "stream",
     "text": [
      "Ist wahr\n"
     ]
    }
   ],
   "source": [
    "if('test') {\n",
    "    console.log('Ist wahr')\n",
    "}"
   ]
  },
  {
   "cell_type": "markdown",
   "metadata": {},
   "source": [
    "In JavaScript gibt sind alle Werte, egal von welchem Typ, also nicht nur Typ Boolean, entweder _falsy_ oder _truthy_.\n",
    "\n",
    "_Falsy_ sind alle Werte x für die Boolean(x) `false` ergibt.\n",
    "\n",
    "_Truthy_ sind alle Werte x für die Boolean(x) `true` ergibt.\n",
    "\n",
    "In Kontexten wo ein `boolean` erwartet wird, wie in der Bedingung von `if`, macht JavaScript sozusagen im Hintergrund diese Typ-Konversion. Für das `if`-Beispiel ist die Bedingung nicht nur für `true` erfüllt, sondern für alles was _truthy_ ist."
   ]
  },
  {
   "cell_type": "code",
   "execution_count": 91,
   "metadata": {},
   "outputs": [
    {
     "name": "stdout",
     "output_type": "stream",
     "text": [
      "x = undefined\t Boolean(x) = false\n",
      "x = null\t Boolean(x) = false\n",
      "x = 0\t\t Boolean(x) = false\n",
      "x = null\t Boolean(x) = false\n",
      "x = 1\t\t Boolean(x) = true\n",
      "x = 2\t\t Boolean(x) = true\n",
      "x = 3\t\t Boolean(x) = true\n",
      "x = \"\"\t\t Boolean(x) = false\n",
      "x = \"test\"\t Boolean(x) = true\n",
      "x = {}\t\t Boolean(x) = true\n"
     ]
    }
   ],
   "source": [
    "const tabs = (x) => JSON.stringify(x)?.length < 3 ? '\\t\\t' : '\\t';\n",
    "\n",
    "[undefined, null, 0, NaN, 1, 2, 3, '', 'test', {}]\n",
    "    .map((x) => `x = ${JSON.stringify(x)}${tabs(x)} Boolean(x) = ${Boolean(x)}`)\n",
    "    .join(\"\\n\")"
   ]
  },
  {
   "cell_type": "markdown",
   "metadata": {},
   "source": [
    "Die Liste der _falsy_ Werte ist also (alles Andere ist _truthy_):\n",
    "\n",
    "* undefined\n",
    "* null\n",
    "* false\n",
    "* 0\n",
    "* NaN\n",
    "* 0n\n",
    "* ''"
   ]
  },
  {
   "cell_type": "markdown",
   "metadata": {},
   "source": [
    "### Nutzen von _Falsy_/_truthy_ \n",
    "\n",
    "1. Prüfung ob eine Objekteigenschaft oder eine Variable existiert.\n",
    "2. Prüfung ob ein Parameter übergeben wurde."
   ]
  },
  {
   "cell_type": "code",
   "execution_count": 102,
   "metadata": {},
   "outputs": [],
   "source": [
    "const person = {name: 0};\n",
    "\n",
    "if(person.name) {console.log('Hat einen Namen')};"
   ]
  },
  {
   "cell_type": "markdown",
   "metadata": {},
   "source": [
    "Wir in der Praxis häufig verwendet, aber Achtung, funktioniert nicht, falls jemand `null`, `0` oder `NaN` usw. heißt."
   ]
  },
  {
   "cell_type": "markdown",
   "metadata": {},
   "source": [
    "### Conditional Operator"
   ]
  },
  {
   "cell_type": "code",
   "execution_count": 103,
   "metadata": {},
   "outputs": [
    {
     "name": "stdout",
     "output_type": "stream",
     "text": [
      "yes\n"
     ]
    }
   ],
   "source": [
    "true ? 'yes' : 'no'"
   ]
  },
  {
   "cell_type": "code",
   "execution_count": 104,
   "metadata": {},
   "outputs": [
    {
     "name": "stdout",
     "output_type": "stream",
     "text": [
      "no\n"
     ]
    }
   ],
   "source": [
    "false ? 'yes' : 'no'"
   ]
  },
  {
   "cell_type": "code",
   "execution_count": 107,
   "metadata": {},
   "outputs": [
    {
     "name": "stdout",
     "output_type": "stream",
     "text": [
      "yes\n"
     ]
    }
   ],
   "source": [
    "1 ? 'yes' : 'no'"
   ]
  },
  {
   "cell_type": "markdown",
   "metadata": {},
   "source": [
    "### Binäre Logische Operatoren `&&` und `||`\n",
    "\n",
    "Die Operanden werden als booleans ausgewertet, aber unverändert zurückgegeben.\n",
    "\n",
    "Die Operatoren sind \"kurzschließend\" (short-circuiting), d.h. wenn der erste Operand schon das Ergebniss entscheidet, dann wird der zweite Operand nicht evaluiert."
   ]
  },
  {
   "cell_type": "code",
   "execution_count": 110,
   "metadata": {},
   "outputs": [
    {
     "name": "stdout",
     "output_type": "stream",
     "text": [
      "test\n"
     ]
    }
   ],
   "source": [
    "0 || 'test'"
   ]
  },
  {
   "cell_type": "code",
   "execution_count": 112,
   "metadata": {},
   "outputs": [
    {
     "name": "stdout",
     "output_type": "stream",
     "text": [
      "\u001b[33m0\u001b[39m\n"
     ]
    }
   ],
   "source": [
    "0 && true"
   ]
  },
  {
   "cell_type": "code",
   "execution_count": 114,
   "metadata": {},
   "outputs": [
    {
     "name": "stdout",
     "output_type": "stream",
     "text": [
      "\u001b[33m1\u001b[39m\n"
     ]
    }
   ],
   "source": [
    "true && 1"
   ]
  },
  {
   "cell_type": "markdown",
   "metadata": {},
   "source": [
    "### Veraltetet Nutzen von `||`\n",
    "\n",
    "Oft wird `||` verwendet um default-Werte anzugeben, dazu wird heute der `??` Operator verwendet"
   ]
  },
  {
   "cell_type": "markdown",
   "metadata": {},
   "source": [
    "### Unnärer Logischer Operator `!`\n",
    "\n",
    "Der Not Operator `!` negiert den Operand. D.h. wenn der Operand _truthy_ ist, wird `false` zurückgegeben, sonst `true`"
   ]
  },
  {
   "cell_type": "code",
   "execution_count": 115,
   "metadata": {},
   "outputs": [
    {
     "name": "stdout",
     "output_type": "stream",
     "text": [
      "\u001b[33mtrue\u001b[39m\n"
     ]
    }
   ],
   "source": [
    "!0"
   ]
  },
  {
   "cell_type": "code",
   "execution_count": 116,
   "metadata": {},
   "outputs": [
    {
     "name": "stdout",
     "output_type": "stream",
     "text": [
      "\u001b[33mtrue\u001b[39m\n"
     ]
    }
   ],
   "source": [
    "!''"
   ]
  },
  {
   "cell_type": "code",
   "execution_count": 117,
   "metadata": {},
   "outputs": [
    {
     "name": "stdout",
     "output_type": "stream",
     "text": [
      "\u001b[33mfalse\u001b[39m\n"
     ]
    }
   ],
   "source": [
    "!1"
   ]
  },
  {
   "cell_type": "markdown",
   "metadata": {},
   "source": [
    "## Zahlen\n",
    "\n",
    "Der JavaScript Typ `number` ist intern eine 64-bit Fließkommazahl (Float nach IEEE 754); das was in Java in `double` ist.\n",
    "\n",
    "Die Nachkommastellen von Ganzzahlen werden dann einfach nicht angegeben (also das `.0`)."
   ]
  },
  {
   "cell_type": "code",
   "execution_count": 120,
   "metadata": {},
   "outputs": [
    {
     "name": "stdout",
     "output_type": "stream",
     "text": [
      "\u001b[33mtrue\u001b[39m\n"
     ]
    }
   ],
   "source": [
    "1 === 1.0"
   ]
  },
  {
   "cell_type": "markdown",
   "metadata": {},
   "source": [
    "### Literale\n",
    "\n",
    "Litarale für Ganzzahlen (Integer) zur Angabe mit anderer Basis:\n",
    "\n",
    "* 0b für Basis 2 (binär)\n",
    "* 0o für Basis 8 (octal)\n",
    "* 0x für Basis 16 (hex)"
   ]
  },
  {
   "cell_type": "code",
   "execution_count": 121,
   "metadata": {},
   "outputs": [
    {
     "name": "stdout",
     "output_type": "stream",
     "text": [
      "\u001b[33mtrue\u001b[39m\n"
     ]
    }
   ],
   "source": [
    "10 === 0x0A"
   ]
  },
  {
   "cell_type": "code",
   "execution_count": 122,
   "metadata": {},
   "outputs": [
    {
     "name": "stdout",
     "output_type": "stream",
     "text": [
      "\u001b[33mtrue\u001b[39m\n"
     ]
    }
   ],
   "source": [
    "0b00000010 == 2"
   ]
  },
  {
   "cell_type": "markdown",
   "metadata": {},
   "source": [
    "Fließkommazahlen / Floats können nur zur Basis 10 angegeben werden, aber es kann ein Exponent angegben werden mit dem postfix `eN`.\n",
    "\n",
    "`eN` bedeutet x10^N"
   ]
  },
  {
   "cell_type": "code",
   "execution_count": null,
   "metadata": {},
   "outputs": [],
   "source": []
  },
  {
   "cell_type": "code",
   "execution_count": 125,
   "metadata": {},
   "outputs": [
    {
     "name": "stdout",
     "output_type": "stream",
     "text": [
      "\u001b[33mtrue\u001b[39m\n"
     ]
    }
   ],
   "source": [
    "3e2 === 300"
   ]
  },
  {
   "cell_type": "markdown",
   "metadata": {},
   "source": [
    "Da Zahlen auch Eingeschaften und Methoden haben, der `.` aber schon als Dezimalpunkt verwendet wird, muss man etwas aufpassen, wenn man die Methoden aufrufen will:"
   ]
  },
  {
   "cell_type": "code",
   "execution_count": 126,
   "metadata": {},
   "outputs": [
    {
     "name": "stdout",
     "output_type": "stream",
     "text": [
      "1\n"
     ]
    }
   ],
   "source": [
    "(1).toString()"
   ]
  },
  {
   "cell_type": "code",
   "execution_count": 127,
   "metadata": {},
   "outputs": [
    {
     "name": "stdout",
     "output_type": "stream",
     "text": [
      "1\n"
     ]
    }
   ],
   "source": [
    "1..toString()"
   ]
  },
  {
   "cell_type": "code",
   "execution_count": 128,
   "metadata": {},
   "outputs": [
    {
     "name": "stdout",
     "output_type": "stream",
     "text": [
      "1\n"
     ]
    }
   ],
   "source": [
    "1 .toString()"
   ]
  },
  {
   "cell_type": "markdown",
   "metadata": {},
   "source": [
    "### Unterstrich zur optischen Trennung\n",
    "\n",
    "Seit ES2021 kann ein `_` verwendet werden:"
   ]
  },
  {
   "cell_type": "code",
   "execution_count": null,
   "metadata": {},
   "outputs": [],
   "source": [
    "1_000_000"
   ]
  },
  {
   "cell_type": "code",
   "execution_count": 130,
   "metadata": {},
   "outputs": [
    {
     "name": "stdout",
     "output_type": "stream",
     "text": [
      "\u001b[33m65535\u001b[39m\n"
     ]
    }
   ],
   "source": [
    "0xFF_FF"
   ]
  },
  {
   "cell_type": "markdown",
   "metadata": {},
   "source": [
    "Achtung, geht nicht beim Parsen von Zahlen mit Number usw.:"
   ]
  },
  {
   "cell_type": "code",
   "execution_count": 133,
   "metadata": {},
   "outputs": [
    {
     "name": "stdout",
     "output_type": "stream",
     "text": [
      "\u001b[33mNaN\u001b[39m\n"
     ]
    }
   ],
   "source": [
    "Number('1_000')"
   ]
  },
  {
   "cell_type": "markdown",
   "metadata": {},
   "source": [
    "### Binäre Operatoren\n",
    "\n",
    "|Operator  |Name          |Beispiel      |\n",
    "| :-       | :-           | :-           |\n",
    "|n + m     |Addition      |3 + 4 → 7    |\n",
    "|n - m     |Substraktion  |9 - 1 → 8    |\n",
    "|n * m     |Multiplikation|2 * 2 → 4    |\n",
    "|n / m     |Division      |5.5 / 5 → 1.1|    \n",
    "|n % m     |Rest          | -8 % 5 → -3 |\n",
    "|n ** m    |Potenzierung  | 2 ** 2 → 16 |"
   ]
  },
  {
   "cell_type": "code",
   "execution_count": 134,
   "metadata": {},
   "outputs": [
    {
     "name": "stdout",
     "output_type": "stream",
     "text": [
      "7 + -4 = 3\n",
      "7 - -4 = 11\n",
      "7 * -4 = -28\n",
      "7 / -4 = -1.75\n",
      "7 % -4 = 3\n",
      "7 ** -4 = 0.00041649312786339027\n"
     ]
    }
   ],
   "source": [
    "let n = 7;\n",
    "let m = -4;\n",
    "['+', '-', '*', '/', '%', '**'].map((op) => {\n",
    "    const expression = `${n} ${op} ${m}`;\n",
    "    return `${expression} = ${eval(expression)}`\n",
    "})\n",
    ".join('\\n');"
   ]
  },
  {
   "cell_type": "code",
   "execution_count": 135,
   "metadata": {},
   "outputs": [
    {
     "name": "stdout",
     "output_type": "stream",
     "text": [
      "\u001b[33m0.0000152587890625\u001b[39m\n"
     ]
    }
   ],
   "source": [
    "16 ** -4"
   ]
  },
  {
   "cell_type": "markdown",
   "metadata": {},
   "source": [
    "### Unäre Operatoren\n",
    "\n",
    "`+` und `-`"
   ]
  },
  {
   "cell_type": "code",
   "execution_count": 137,
   "metadata": {},
   "outputs": [
    {
     "name": "stdout",
     "output_type": "stream",
     "text": [
      "\u001b[33m-1\u001b[39m\n"
     ]
    }
   ],
   "source": [
    "+(-1)"
   ]
  },
  {
   "cell_type": "code",
   "execution_count": 136,
   "metadata": {},
   "outputs": [
    {
     "name": "stdout",
     "output_type": "stream",
     "text": [
      "\u001b[33m1\u001b[39m\n"
     ]
    }
   ],
   "source": [
    "-(-1)"
   ]
  },
  {
   "cell_type": "markdown",
   "metadata": {},
   "source": [
    "### Inkrementieren `++` / Dekrementieren `--`"
   ]
  },
  {
   "cell_type": "code",
   "execution_count": 138,
   "metadata": {},
   "outputs": [
    {
     "name": "stdout",
     "output_type": "stream",
     "text": [
      "[ \u001b[33m0\u001b[39m, \u001b[33m1\u001b[39m ]\n"
     ]
    }
   ],
   "source": [
    "let x = 0;\n",
    "console.log([x++, x]);"
   ]
  },
  {
   "cell_type": "code",
   "execution_count": 139,
   "metadata": {},
   "outputs": [
    {
     "name": "stdout",
     "output_type": "stream",
     "text": [
      "[ \u001b[33m1\u001b[39m, \u001b[33m1\u001b[39m ]\n"
     ]
    }
   ],
   "source": [
    "let x = 0;\n",
    "console.log([++x, x]);"
   ]
  },
  {
   "cell_type": "code",
   "execution_count": 140,
   "metadata": {},
   "outputs": [
    {
     "name": "stdout",
     "output_type": "stream",
     "text": [
      "[ \u001b[33m1\u001b[39m, \u001b[33m0\u001b[39m ]\n"
     ]
    }
   ],
   "source": [
    "let x = 1;\n",
    "console.log([x--, x]);"
   ]
  },
  {
   "cell_type": "code",
   "execution_count": 141,
   "metadata": {},
   "outputs": [
    {
     "name": "stdout",
     "output_type": "stream",
     "text": [
      "[ \u001b[33m0\u001b[39m, \u001b[33m0\u001b[39m ]\n"
     ]
    }
   ],
   "source": [
    "let x = 1;\n",
    "console.log([--x, x]);"
   ]
  },
  {
   "cell_type": "markdown",
   "metadata": {},
   "source": [
    "Geht auch mit Objekteigenschaften"
   ]
  },
  {
   "cell_type": "code",
   "execution_count": 142,
   "metadata": {},
   "outputs": [
    {
     "name": "stderr",
     "output_type": "stream",
     "text": [
      "2:3 - An arithmetic operand must be of type 'any', 'number', 'bigint' or an enum type.\n"
     ]
    }
   ],
   "source": [
    "const person = {name: 'Niklas', age: '41'};\n",
    "++person.age;\n",
    "console.log(JSON.stringify(person))"
   ]
  },
  {
   "cell_type": "markdown",
   "metadata": {},
   "source": [
    "### Typkonvertierung zu number\n",
    "\n",
    "1. `Number(x)`\n",
    "2. `+value`"
   ]
  },
  {
   "cell_type": "code",
   "execution_count": null,
   "metadata": {},
   "outputs": [],
   "source": [
    "Number('1')"
   ]
  },
  {
   "cell_type": "code",
   "execution_count": null,
   "metadata": {},
   "outputs": [],
   "source": [
    "+'1'"
   ]
  },
  {
   "cell_type": "code",
   "execution_count": 143,
   "metadata": {},
   "outputs": [
    {
     "name": "stdout",
     "output_type": "stream",
     "text": [
      "x = undefined\t Number(x) = NaN\n",
      "x = null\t Number(x) = 0\n",
      "x = 0\t\t Number(x) = 0\n",
      "x = null\t Number(x) = NaN\n",
      "x = 1\t\t Number(x) = 1\n",
      "x = 2\t\t Number(x) = 2\n",
      "x = 3\t\t Number(x) = 3\n",
      "x = \"\"\t\t Number(x) = 0\n",
      "x = \"test\"\t Number(x) = NaN\n",
      "x = {}\t\t Number(x) = NaN\n"
     ]
    }
   ],
   "source": [
    "const tabs = (x) => JSON.stringify(x)?.length < 3 ? '\\t\\t' : '\\t';\n",
    "\n",
    "[undefined, null, 0, NaN, 1, 2, 3, '', 'test', {}]\n",
    "    .map((x) => `x = ${JSON.stringify(x)}${tabs(x)} Number(x) = ${Number(x)}`)\n",
    "    .join(\"\\n\")"
   ]
  },
  {
   "cell_type": "markdown",
   "metadata": {},
   "source": [
    "Bei Objekten ist dies über die valueOf-Methode konfigurierbar"
   ]
  },
  {
   "cell_type": "code",
   "execution_count": 144,
   "metadata": {},
   "outputs": [
    {
     "name": "stdout",
     "output_type": "stream",
     "text": [
      "\u001b[33m41\u001b[39m\n"
     ]
    }
   ],
   "source": [
    "const person = {\n",
    "    name: 'Niklas',\n",
    "    age: '41',\n",
    "    valueOf() {\n",
    "        return this.age;\n",
    "    }\n",
    "};\n",
    "console.log(Number(person))"
   ]
  },
  {
   "cell_type": "markdown",
   "metadata": {},
   "source": [
    "### Fehlerwerte `NaN` und `infinity`\n",
    "\n",
    "`NaN` steht für \"Not a Number\" und entsteht wenn versucht wird, etwas zu `number` zu konvertieren, dass nicht sinnvoll zu einer Zahl konvertierbar ist.\n",
    "\n",
    "`Infinity` / `-Infinity` entsteht wenn durch Rechnoperation der Wertebereich von Float64 \"gesprengt\" wird und bei Division durch 0."
   ]
  },
  {
   "cell_type": "code",
   "execution_count": 145,
   "metadata": {},
   "outputs": [
    {
     "name": "stdout",
     "output_type": "stream",
     "text": [
      "\u001b[33mNaN\u001b[39m\n"
     ]
    }
   ],
   "source": [
    "console.log(Number('blub'));"
   ]
  },
  {
   "cell_type": "code",
   "execution_count": 146,
   "metadata": {},
   "outputs": [
    {
     "name": "stdout",
     "output_type": "stream",
     "text": [
      "\u001b[33mInfinity\u001b[39m\n"
     ]
    }
   ],
   "source": [
    "console.log(2 ** 1024);"
   ]
  },
  {
   "cell_type": "code",
   "execution_count": 147,
   "metadata": {},
   "outputs": [
    {
     "name": "stdout",
     "output_type": "stream",
     "text": [
      "\u001b[33mInfinity\u001b[39m\n"
     ]
    }
   ],
   "source": [
    "console.log(2 / 0);"
   ]
  },
  {
   "cell_type": "code",
   "execution_count": 148,
   "metadata": {},
   "outputs": [
    {
     "name": "stdout",
     "output_type": "stream",
     "text": [
      "\u001b[33m-Infinity\u001b[39m\n"
     ]
    }
   ],
   "source": [
    "console.log(-2 / 0);"
   ]
  },
  {
   "cell_type": "markdown",
   "metadata": {},
   "source": [
    "### Bitweise\n",
    "\n",
    "Nur der Vollständigkeit halber aufgeführt:\n",
    "\n",
    "* `~N` N bitweise Negieren\n",
    "* `n & m` bitweises Und\n",
    "* `n | m` bitweises Oder\n",
    "* `n ^ m` bitweises Xor (Ausschließendes Oder)\n",
    "* `n << m` n um m Bit nach Links schieben\n",
    "* `n >> m` n um m Bit nach Rechts schieben, inkl. dabei das Vorzeichen zu beachten\n",
    "* `n >>> m` n um m Bit nach Rechts schieben, ohne das Vorzeichen zu beachten\n",
    "\n",
    "Aufpassen, Verwechselungsgefahr mit boolschen Operatoren `&&` und `||`.\n"
   ]
  },
  {
   "cell_type": "code",
   "execution_count": 150,
   "metadata": {},
   "outputs": [
    {
     "name": "stdout",
     "output_type": "stream",
     "text": [
      "\u001b[33mtrue\u001b[39m\n"
     ]
    }
   ],
   "source": [
    "const x = 0b1111_1111 << 2\n",
    "\n",
    "console.log(x === 0b1111_111100)"
   ]
  },
  {
   "cell_type": "markdown",
   "metadata": {},
   "source": [
    "### Das `Math`-Objekt\n",
    "\n",
    "Das `Math`-Objekt stellt diverse Methoden für Zahlen bereit.\n",
    "\n",
    "[Math-Referenz bei MDM](https://developer.mozilla.org/de/docs/Web/JavaScript/Reference/Global_Objects/Math)"
   ]
  },
  {
   "cell_type": "code",
   "execution_count": null,
   "metadata": {},
   "outputs": [],
   "source": [
    "Math.sqrt(9)"
   ]
  },
  {
   "cell_type": "code",
   "execution_count": 151,
   "metadata": {},
   "outputs": [
    {
     "name": "stdout",
     "output_type": "stream",
     "text": [
      "\u001b[33m3\u001b[39m\n"
     ]
    }
   ],
   "source": [
    "Math.ceil(2.1)"
   ]
  },
  {
   "cell_type": "code",
   "execution_count": 156,
   "metadata": {},
   "outputs": [
    {
     "name": "stdout",
     "output_type": "stream",
     "text": [
      "\u001b[33m-3\u001b[39m\n"
     ]
    }
   ],
   "source": [
    "Math.floor(-2.1)"
   ]
  },
  {
   "cell_type": "code",
   "execution_count": null,
   "metadata": {},
   "outputs": [],
   "source": [
    "Math.round(2.4)"
   ]
  },
  {
   "cell_type": "code",
   "execution_count": null,
   "metadata": {},
   "outputs": [],
   "source": [
    "Math.round(2.5)"
   ]
  },
  {
   "cell_type": "code",
   "execution_count": 155,
   "metadata": {},
   "outputs": [
    {
     "name": "stdout",
     "output_type": "stream",
     "text": [
      "\u001b[33m2\u001b[39m\n"
     ]
    }
   ],
   "source": [
    "Math.trunc(2.1)"
   ]
  },
  {
   "cell_type": "code",
   "execution_count": null,
   "metadata": {},
   "outputs": [],
   "source": [
    "Math.floor(-2.9)"
   ]
  },
  {
   "cell_type": "code",
   "execution_count": null,
   "metadata": {},
   "outputs": [],
   "source": [
    "Math.abs(-3)"
   ]
  },
  {
   "cell_type": "code",
   "execution_count": null,
   "metadata": {},
   "outputs": [],
   "source": [
    "Math.max(4, 5)"
   ]
  },
  {
   "cell_type": "code",
   "execution_count": null,
   "metadata": {},
   "outputs": [],
   "source": [
    "Math.min(4, 5, -3 , -10)"
   ]
  },
  {
   "cell_type": "code",
   "execution_count": null,
   "metadata": {},
   "outputs": [],
   "source": [
    "Math.random()"
   ]
  },
  {
   "cell_type": "markdown",
   "metadata": {},
   "source": [
    "### Bigint\n",
    "\n",
    "Wenn die 53 Bit, die bei `number` für Integer zur Verfügung stehen, nicht reichen, dann gibt es Bigint, dieser wird eingegeben indem ein `n` an die Zahl angehangen wird:\n",
    "\n",
    "`10n` oder `0xFFn`\n",
    "\n",
    "Alle Operatoren für `number` können auch genutzt werden, aber in der Regel müssen alle Operanden vom Typ BigInt sein."
   ]
  }
 ],
 "metadata": {
  "kernelspec": {
   "display_name": "JavaScript",
   "language": "javascript",
   "name": "jslab"
  },
  "language_info": {
   "file_extension": ".js",
   "mimetype": "text/javascript",
   "name": "javascript",
   "version": ""
  }
 },
 "nbformat": 4,
 "nbformat_minor": 4
}

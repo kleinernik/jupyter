{
 "cells": [
  {
   "cell_type": "markdown",
   "metadata": {},
   "source": [
    "# Module\n",
    "\n",
    "Module sind Datein mit Code und werden zur Code-Organisation verwendet.\n",
    "\n",
    "In einer .js oder .mjs Datei können Funktionen und Konstanten exportiert werden, d.h. sie können in anderen Module importiert werden."
   ]
  },
  {
   "cell_type": "markdown",
   "metadata": {},
   "source": [
    "In ES6 und späteren Versionen von JavaScript ermöglichen Module eine klarere Strukturierung des Codes durch Import und Export von Funktionalitäten:\n",
    "\n",
    "1. **Export**: Mit dem `export`-Schlüsselwort können Sie Variablen, Funktionen, Klassen oder andere Objekte aus einer JavaScript-Datei exportieren. Dies ermöglicht es anderen Dateien, auf die exportierten Elemente zuzugreifen. Es gibt zwei Hauptarten des Exports:\n",
    "   - **Named Export**: Dabei wird jedes exportierte Element mit seinem eigenen Namen exportiert. Zum Beispiel:\n",
    "     ```javascript\n",
    "     export const number = 1;\n",
    "     export function multiply(x, y) {\n",
    "       return x * y;\n",
    "     }\n",
    "     ```\n",
    "   - **Default Export**: Jede Datei kann genau ein Default-Export haben, der häufig für die Hauptfunktionalität der Datei verwendet wird. Zum Beispiel:\n",
    "     ```javascript\n",
    "     export default class Calculator {\n",
    "       multiply(x, y) {\n",
    "         return x * y;\n",
    "       }\n",
    "     }\n",
    "     ```\n",
    "\n",
    "2. **Import**: Mit dem `import`-Schlüsselwort können Sie Funktionen, Objekte oder Primitives, die in anderen Dateien exportiert wurden, in eine Datei importieren. Sie können entweder spezifische benannte Exporte oder den Default-Export einer Datei importieren. Zum Beispiel:\n",
    "   - Importieren von Named Exports:\n",
    "     ```javascript\n",
    "     import { number, multiply } from './math.js';\n",
    "     ```\n",
    "   - Importieren eines Default Exports:\n",
    "     ```javascript\n",
    "     import Calculator from './Calculator.js';\n",
    "     ```\n",
    "\n",
    "3. **Module laden**: JavaScript-Module sind standardmäßig im „strict mode“. Jedes Modul lädt nur einmal, auch wenn es in mehreren Dateien importiert wird. Dies erhöht die Effizienz und verhindert Probleme durch mehrfaches Laden des gleichen Moduls.\n",
    "\n",
    "4. **Dynamische Importe**: ES6 unterstützt auch dynamische Importe, die es ermöglichen, Module auf Anforderung zu laden. Dies kann mit der `import()` Funktion erfolgen, die eine Promise zurückgibt. Beispiel:\n",
    "   ```javascript\n",
    "   import('./module.js').then(module => {\n",
    "     // Verwendung des Moduls\n",
    "   });\n",
    "   ```\n",
    "\n",
    "Diese Modularisierung fördert die Wiederverwendbarkeit von Code, verbessert die Übersichtlichkeit und unterstützt das Laden von Code on Demand, was besonders nützlich in großen Projekten ist."
   ]
  },
  {
   "cell_type": "markdown",
   "metadata": {},
   "source": [
    "## Ältere Art mit `require`\n",
    "\n",
    "Bevor es offiziell Module gab, sind für die/von den NodeJS Leute(n) CommonJS-Module eingeführt worden. Das sieht man noch oft in Code:\n",
    "\n",
    "\n",
    "```javascript\n",
    "// Imports\n",
    "var importedFunc1 = require('./other-module1.js').importedFunc1;\n",
    "var importedFunc2 = require('./other-module2.js').importedFunc2;\n",
    "\n",
    "function exportedFunc() {\n",
    "     importedFunc1();\n",
    "     importedFunc2();\n",
    "     internalFunc();\n",
    "}\n",
    "// Exports\n",
    "   module.exports = {\n",
    "     exportedFunc: exportedFunc,\n",
    "};\n",
    "```"
   ]
  }
 ],
 "metadata": {
  "kernelspec": {
   "display_name": "JavaScript",
   "language": "javascript",
   "name": "jslab"
  },
  "language_info": {
   "file_extension": ".js",
   "mimetype": "text/javascript",
   "name": "javascript",
   "version": ""
  }
 },
 "nbformat": 4,
 "nbformat_minor": 4
}

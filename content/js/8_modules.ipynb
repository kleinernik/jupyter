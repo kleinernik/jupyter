{
 "cells": [
  {
   "cell_type": "markdown",
   "metadata": {},
   "source": [
    "# Module\n",
    "\n",
    "Module sind Datein mit Code und werden zur Code-Organisation verwendet.\n",
    "\n",
    "In einer .js oder .mjs Datei können Funktionen und Konstanten exportiert werden, d.h. sie können in anderen Module importiert werden."
   ]
  },
  {
   "cell_type": "markdown",
   "metadata": {},
   "source": [
    "```javascript\n",
    "export function f() {}\n",
    "export const one = 1;\n",
    "export {foo, b as bar};\n",
    "```\n",
    "\n",
    "Es können auch defaults exportiert werden. Diese werden dann importiert, wenn man das Modul importiert, ohne namentlich zu bestimmen, was importiert werden soll:\n",
    "\n",
    "```javascript\n",
    "export default function f() {}\n",
    "\n",
    "```"
   ]
  },
  {
   "cell_type": "markdown",
   "metadata": {},
   "source": [
    "Importiert wird dann so:\n",
    "\n",
    "```java\n",
    "import {f, one as o} from './some-module.mjs';\n",
    "\n",
    "```\n",
    "\n",
    "oder wenn ein Default importiert werden soll:\n",
    "\n",
    "```java\n",
    "import someModule from './some-module.mjs';\n",
    "\n",
    "```"
   ]
  },
  {
   "cell_type": "markdown",
   "metadata": {},
   "source": [
    "## Ältere Art mit `require`\n",
    "\n",
    "Bevor es offiziell Module gab, sind für die/von den NodeJS Leute(n) CommonJS-Module eingeführt worden. Das sieht man noch oft in Code:\n",
    "\n",
    "\n",
    "```javascript\n",
    "// Imports\n",
    "var importedFunc1 = require('./other-module1.js').importedFunc1;\n",
    "var importedFunc2 = require('./other-module2.js').importedFunc2;\n",
    "\n",
    "function exportedFunc() {\n",
    "     importedFunc1();\n",
    "     importedFunc2();\n",
    "     internalFunc();\n",
    "}\n",
    "// Exports\n",
    "   module.exports = {\n",
    "     exportedFunc: exportedFunc,\n",
    "};\n",
    "```"
   ]
  }
 ],
 "metadata": {
  "kernelspec": {
   "display_name": "JavaScript",
   "language": "javascript",
   "name": "jslab"
  },
  "language_info": {
   "file_extension": ".js",
   "mimetype": "text/javascript",
   "name": "javascript",
   "version": ""
  }
 },
 "nbformat": 4,
 "nbformat_minor": 4
}

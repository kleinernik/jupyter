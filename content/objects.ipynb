{
  "metadata": {
    "language_info": {
      "codemirror_mode": {
        "name": "javascript"
      },
      "file_extension": ".js",
      "mimetype": "text/javascript",
      "name": "javascript",
      "nbconvert_exporter": "javascript",
      "pygments_lexer": "javascript",
      "version": "es2017"
    },
    "kernelspec": {
      "name": "javascript",
      "display_name": "JavaScript",
      "language": "javascript"
    }
  },
  "nbformat_minor": 4,
  "nbformat": 4,
  "cells": [
    {
      "cell_type": "markdown",
      "source": "# Objekte\n\nObjekte bestehen aus einer Reihe von Schlüssel-Wert-Paaren (Key-Value).\n\nDie Keys sind alle Strings, müssen aber nicht als String angegeben werden (also ohne Anführungstzeichen).",
      "metadata": {}
    },
    {
      "cell_type": "code",
      "source": "const myObject = {\n  myProperty: 1,\n  myMethod() {\n    return 2;\n  },\n  get myAccessor() {\n    return this.myProperty;\n  },\n  set myAccessor(value) {\n    this.myProperty = value;\n  },\n};\n\nconsole.log(myObject.myAccessor);\nconsole.log(myObject.myMethod())",
      "metadata": {
        "trusted": true
      },
      "execution_count": 4,
      "outputs": [
        {
          "execution_count": 4,
          "output_type": "execute_result",
          "data": {},
          "metadata": {}
        },
        {
          "event": "stream",
          "name": "stdout",
          "text": "1\n2\n",
          "output_type": "stream"
        }
      ]
    },
    {
      "cell_type": "markdown",
      "source": "## Zufügen von Eigenschaften",
      "metadata": {}
    },
    {
      "cell_type": "code",
      "source": "const myObject = {\n    property1: 1\n}\n\nconsole.log(JSON.stringify(myObject));\n\nmyObject.property2 = 2;\n\nconsole.log(JSON.stringify(myObject));",
      "metadata": {
        "trusted": true
      },
      "execution_count": 7,
      "outputs": [
        {
          "execution_count": 7,
          "output_type": "execute_result",
          "data": {},
          "metadata": {}
        },
        {
          "event": "stream",
          "name": "stdout",
          "text": "{\"property1\":1}\n{\"property1\":1,\"property2\":2}\n",
          "output_type": "stream"
        }
      ]
    },
    {
      "cell_type": "markdown",
      "source": "## Entfernen von Eigenschaften",
      "metadata": {}
    },
    {
      "cell_type": "code",
      "source": "const myObject = {\n    property1: 1,\n    property2: 2\n}\n\nconsole.log(JSON.stringify(myObject));\n\ndelete myObject.property2;\n\nconsole.log(JSON.stringify(myObject));",
      "metadata": {
        "trusted": true
      },
      "execution_count": 9,
      "outputs": [
        {
          "execution_count": 9,
          "output_type": "execute_result",
          "data": {},
          "metadata": {}
        },
        {
          "event": "stream",
          "name": "stdout",
          "text": "{\"property1\":1,\"property2\":2}\n{\"property1\":1}\n",
          "output_type": "stream"
        }
      ]
    },
    {
      "cell_type": "markdown",
      "source": "## Zugriff auf Eigenschaften\n\nIn der Regel wird mit dem `.` Operator auf die Eigenschaften und Methoden zugegriffen.",
      "metadata": {}
    },
    {
      "cell_type": "code",
      "source": "const myObject = {\n    property1: 1,\n    property2: 2\n}\n\nconsole.log(myObject.property1)",
      "metadata": {
        "trusted": true
      },
      "execution_count": 10,
      "outputs": [
        {
          "execution_count": 10,
          "output_type": "execute_result",
          "data": {},
          "metadata": {}
        },
        {
          "event": "stream",
          "name": "stdout",
          "text": "1\n",
          "output_type": "stream"
        }
      ]
    },
    {
      "cell_type": "markdown",
      "source": "Wenn der Eigenschaftsname evaluiert werden muss, dann können `[]` verwendet werden:",
      "metadata": {}
    },
    {
      "cell_type": "code",
      "source": "const myObject = {\n    property1: 1,\n    property2: 2\n}\n\nfor(const p of [1, 2]) {\n    console.log(`property${p}:`, myObject[`property${p}`])\n}",
      "metadata": {
        "trusted": true
      },
      "execution_count": 20,
      "outputs": [
        {
          "execution_count": 20,
          "output_type": "execute_result",
          "data": {},
          "metadata": {}
        },
        {
          "event": "stream",
          "name": "stdout",
          "text": "property1: 1\nproperty2: 2\n",
          "output_type": "stream"
        }
      ]
    },
    {
      "cell_type": "markdown",
      "source": "Ob eine Eigenschaft existiert kann mit typeof geprüft werden:",
      "metadata": {}
    },
    {
      "cell_type": "code",
      "source": "const myObject = {\n    property1: 1,\n    property2: 2\n}\n\nconsole.log(myObject.property3 === undefined)",
      "metadata": {
        "trusted": true
      },
      "execution_count": 49,
      "outputs": [
        {
          "execution_count": 49,
          "output_type": "execute_result",
          "data": {},
          "metadata": {}
        },
        {
          "event": "stream",
          "name": "stdout",
          "text": "true\n",
          "output_type": "stream"
        }
      ]
    },
    {
      "cell_type": "markdown",
      "source": "Optional Chaning `?.`",
      "metadata": {}
    },
    {
      "cell_type": "code",
      "source": "const myObject = {\n    property1: 1,\n    property2: {nestet: 1}\n}\n\nconsole.log(\"property2\", myObject?.property2?.nestet)\nconsole.log(\"property1\", myObject?.property1?.nestet === undefined)",
      "metadata": {
        "trusted": true
      },
      "execution_count": 48,
      "outputs": [
        {
          "execution_count": 48,
          "output_type": "execute_result",
          "data": {},
          "metadata": {}
        },
        {
          "event": "stream",
          "name": "stdout",
          "text": "property2 1\nproperty1 true\n",
          "output_type": "stream"
        }
      ]
    },
    {
      "cell_type": "markdown",
      "source": "## Kurzform beim Erzeugen von Objekten\n\nWenn ein Wert einer Objekteigenschaft durch eine Variable definiert wird, die den selben Namen hat, wie die Eigenschaft, kann der Key/Schlüssel bei der Objektdefinition weggelassen werden.",
      "metadata": {}
    },
    {
      "cell_type": "code",
      "source": "const x = 1;\nconst y = 5;\n\nconst point = {x, y}\n\nconsole.log(JSON.stringify(point));",
      "metadata": {
        "trusted": true
      },
      "execution_count": 38,
      "outputs": [
        {
          "execution_count": 38,
          "output_type": "execute_result",
          "data": {},
          "metadata": {}
        },
        {
          "event": "stream",
          "name": "stdout",
          "text": "{\"x\":1,\"y\":5}\n",
          "output_type": "stream"
        }
      ]
    },
    {
      "cell_type": "code",
      "source": "// lange form\nconst x = 1;\nconst y = 5;\n\nconst point = {x: x, y: y}\n\nconsole.log(JSON.stringify(point));",
      "metadata": {
        "trusted": true
      },
      "execution_count": 19,
      "outputs": [
        {
          "execution_count": 19,
          "output_type": "execute_result",
          "data": {},
          "metadata": {}
        },
        {
          "event": "stream",
          "name": "stdout",
          "text": "{\"x\":1,\"y\":5}\n",
          "output_type": "stream"
        }
      ]
    },
    {
      "cell_type": "markdown",
      "source": "## Accessors\n\nEs können getter und setter definiert werden.",
      "metadata": {}
    },
    {
      "cell_type": "code",
      "source": "const jane = {\n    first: 'Jane',\n    last: 'Doe',\n    get full() {\n        return `${this.first} ${this.last}`;\n    },\n    set full(fullName) {\n        const parts = fullName.split(' ');\n        this.first = parts[0];\n        this.last = parts[1];\n    } \n};\n\nconsole.log(jane.full)\n\njane.full = 'Jane Porter'",
      "metadata": {
        "trusted": true
      },
      "execution_count": 26,
      "outputs": [
        {
          "execution_count": 26,
          "output_type": "execute_result",
          "data": {
            "text/plain": "Jane Porter"
          },
          "metadata": {}
        },
        {
          "event": "stream",
          "name": "stdout",
          "text": "Jane Doe\n",
          "output_type": "stream"
        }
      ]
    },
    {
      "cell_type": "markdown",
      "source": "## Spread Operator bei Objekten\n\nMit dem Spread-Operator `...` können Objekt-Eigenschaften von einem Objekt einem anderen Zugeweisen werden.",
      "metadata": {}
    },
    {
      "cell_type": "code",
      "source": "const obj = {one: 1, two: 2};\nconst obj2 = {...obj} // ein Weg eine Kopie von obj zu erzeugen\n\nconsole.log(JSON.stringify(obj2));",
      "metadata": {
        "trusted": true
      },
      "execution_count": 28,
      "outputs": [
        {
          "execution_count": 28,
          "output_type": "execute_result",
          "data": {},
          "metadata": {}
        },
        {
          "event": "stream",
          "name": "stdout",
          "text": "{\"one\":1,\"two\":2}\n",
          "output_type": "stream"
        }
      ]
    },
    {
      "cell_type": "markdown",
      "source": "Dabei können auch weiter Eigenschaften angegeben werden:",
      "metadata": {}
    },
    {
      "cell_type": "code",
      "source": "const obj = {one: 1, two: 2};\nconst obj2 = {...obj, three: 3}\n\nconsole.log(JSON.stringify(obj2));",
      "metadata": {
        "trusted": true
      },
      "execution_count": 29,
      "outputs": [
        {
          "execution_count": 29,
          "output_type": "execute_result",
          "data": {},
          "metadata": {}
        },
        {
          "event": "stream",
          "name": "stdout",
          "text": "{\"one\":1,\"two\":2,\"three\":3}\n",
          "output_type": "stream"
        }
      ]
    },
    {
      "cell_type": "markdown",
      "source": "Bei doppelten Keys \"gewinnt\" der letzte der angegeben wird:",
      "metadata": {}
    },
    {
      "cell_type": "code",
      "source": "const obj = {one: 1, two: 2};\nconst obj2 = {...obj, two: 3}\n\nconsole.log(JSON.stringify(obj2));",
      "metadata": {
        "trusted": true
      },
      "execution_count": 30,
      "outputs": [
        {
          "execution_count": 30,
          "output_type": "execute_result",
          "data": {},
          "metadata": {}
        },
        {
          "event": "stream",
          "name": "stdout",
          "text": "{\"one\":1,\"two\":3}\n",
          "output_type": "stream"
        }
      ]
    },
    {
      "cell_type": "markdown",
      "source": "Geht auch mit mehreren Objekten",
      "metadata": {}
    },
    {
      "cell_type": "code",
      "source": "const obj = {one: 1, two: 2};\nconst obj2 = {one: 2, three: 3};\nconst obj3 = {...obj, ...obj2}\n\nconsole.log(JSON.stringify(obj3));",
      "metadata": {
        "trusted": true
      },
      "execution_count": 32,
      "outputs": [
        {
          "execution_count": 32,
          "output_type": "execute_result",
          "data": {},
          "metadata": {}
        },
        {
          "event": "stream",
          "name": "stdout",
          "text": "{\"one\":2,\"two\":2,\"three\":3}\n",
          "output_type": "stream"
        }
      ]
    },
    {
      "cell_type": "markdown",
      "source": "Arrays sind intern Objekte mit den Keys 0, 1, 2, 3 usw.",
      "metadata": {}
    },
    {
      "cell_type": "code",
      "source": "const myArray = ['A', 'B', 'C']  \nconsole.log(JSON.stringify({...myArray}));",
      "metadata": {
        "trusted": true
      },
      "execution_count": 34,
      "outputs": [
        {
          "execution_count": 34,
          "output_type": "execute_result",
          "data": {},
          "metadata": {}
        },
        {
          "event": "stream",
          "name": "stdout",
          "text": "{\"0\":\"A\",\"1\":\"B\",\"2\":\"C\"}\n",
          "output_type": "stream"
        }
      ]
    },
    {
      "cell_type": "markdown",
      "source": "## `this`\n\nInnerhalb eine Objektliterals ist das Objekt selber über die Variable `this` zugreifbar.",
      "metadata": {}
    },
    {
      "cell_type": "code",
      "source": "const jane = {\n    first: 'Jane',\n    says(text) {\n        return `${this.first} says “${text}”`;\n    },\n};",
      "metadata": {
        "trusted": true
      },
      "execution_count": 37,
      "outputs": [
        {
          "execution_count": 37,
          "output_type": "execute_result",
          "data": {},
          "metadata": {}
        }
      ]
    },
    {
      "cell_type": "markdown",
      "source": "## Objekte als \"Wörterbücher\"\n\nObjekte-Keys können dynamisch berechnet werden, wenn sie `[]` stehen:",
      "metadata": {}
    },
    {
      "cell_type": "code",
      "source": "const obj = {\n    ['Hello world!']: true,\n    ['p'+'r'+'o'+'p']: 123\n};\n\nconsole.log(JSON.stringify(obj));",
      "metadata": {
        "trusted": true
      },
      "execution_count": 51,
      "outputs": [
        {
          "execution_count": 51,
          "output_type": "execute_result",
          "data": {},
          "metadata": {}
        },
        {
          "event": "stream",
          "name": "stdout",
          "text": "{\"Hello world!\":true,\"prop\":123}\n",
          "output_type": "stream"
        }
      ]
    },
    {
      "cell_type": "markdown",
      "source": "Hat ein Objekt einen Key?",
      "metadata": {}
    },
    {
      "cell_type": "code",
      "source": "const jane = {\n    first: 'Jane'\n};\n\nconsole.log('first' in jane)",
      "metadata": {
        "trusted": true
      },
      "execution_count": 52,
      "outputs": [
        {
          "execution_count": 52,
          "output_type": "execute_result",
          "data": {},
          "metadata": {}
        },
        {
          "event": "stream",
          "name": "stdout",
          "text": "true\n",
          "output_type": "stream"
        }
      ]
    },
    {
      "cell_type": "markdown",
      "source": "Welche Keys hat ein Objekt:",
      "metadata": {}
    },
    {
      "cell_type": "code",
      "source": "const jane = {\n    first: 'Jane',\n    last: 'Porter'\n};\n\nconsole.log(JSON.stringify(Object.keys(jane)))",
      "metadata": {
        "trusted": true
      },
      "execution_count": 56,
      "outputs": [
        {
          "execution_count": 56,
          "output_type": "execute_result",
          "data": {},
          "metadata": {}
        },
        {
          "event": "stream",
          "name": "stdout",
          "text": "[\"first\",\"last\"]\n",
          "output_type": "stream"
        }
      ]
    },
    {
      "cell_type": "markdown",
      "source": "Welche Werte hat ein Objekt:",
      "metadata": {}
    },
    {
      "cell_type": "code",
      "source": "const jane = {\n    first: 'Jane',\n    last: 'Porter'\n};\n\nconsole.log(JSON.stringify(Object.values(jane)))",
      "metadata": {
        "trusted": true
      },
      "execution_count": 57,
      "outputs": [
        {
          "execution_count": 57,
          "output_type": "execute_result",
          "data": {},
          "metadata": {}
        },
        {
          "event": "stream",
          "name": "stdout",
          "text": "[\"Jane\",\"Porter\"]\n",
          "output_type": "stream"
        }
      ]
    },
    {
      "cell_type": "markdown",
      "source": "Welche Keys-Value-Paare:",
      "metadata": {}
    },
    {
      "cell_type": "code",
      "source": "const jane = {\n    first: 'Jane',\n    last: 'Porter'\n};\n\nconsole.log(JSON.stringify(Object.entries(jane)))",
      "metadata": {
        "trusted": true
      },
      "execution_count": 58,
      "outputs": [
        {
          "execution_count": 58,
          "output_type": "execute_result",
          "data": {},
          "metadata": {}
        },
        {
          "event": "stream",
          "name": "stdout",
          "text": "[[\"first\",\"Jane\"],[\"last\",\"Porter\"]]\n",
          "output_type": "stream"
        }
      ]
    },
    {
      "cell_type": "markdown",
      "source": "## Exkurs besser Map nutzen\n\nWenn wirklich dynamisch Key-Value-Paare gespeichert werden sollen, dann sollte Map genutzt werden:",
      "metadata": {}
    },
    {
      "cell_type": "code",
      "source": "const myMap = new Map();\n\nmyMap.set('first', 'Jane')\n\nconsole.log(myMap.get('first'))\nconsole.log(myMap.has('first'))\nmyMap.delete('first')\n\nmyMap.set('first', 'Jane')\nmyMap.set('last', 'Porter')\nfor(const [k, v] of myMap.entries()) {\n    console.log(k, v)\n}",
      "metadata": {
        "trusted": true
      },
      "execution_count": 69,
      "outputs": [
        {
          "execution_count": 69,
          "output_type": "execute_result",
          "data": {},
          "metadata": {}
        },
        {
          "event": "stream",
          "name": "stdout",
          "text": "Jane\ntrue\nfirst Jane\nlast Porter\n",
          "output_type": "stream"
        }
      ]
    },
    {
      "cell_type": "markdown",
      "source": "## Objekt \"einfrieren\"\n\nObjekte können Immutable gemacht werden:",
      "metadata": {}
    },
    {
      "cell_type": "code",
      "source": "function myFun() {\n    'use strict'\n    const frozen = Object.freeze({ x: 2, y: 5 });\n\n    frozen.x = 7\n}\n\nmyFun()",
      "metadata": {
        "trusted": true
      },
      "execution_count": 74,
      "outputs": [
        {
          "ename": "TypeError",
          "evalue": "Cannot assign to read only property 'x' of object '#<Object>'",
          "traceback": [
            "TypeError: Cannot assign to read only property 'x' of object '#<Object>'\n    at myFun (eval at <anonymous> (eval at s (https://kleinernik.github.io/jupyter/build/1013.37ec5b5.js:1:1)), <anonymous>:5:14)\n    at eval (eval at <anonymous> (eval at s (https://kleinernik.github.io/jupyter/build/1013.37ec5b5.js:1:1)), <anonymous>:8:1)\n    at eval (<anonymous>)\n    at s.eval [as _evalFunc] (eval at s (https://kleinernik.github.io/jupyter/build/1013.37ec5b5.js:1:1), <anonymous>:3:15)\n    at s._eval (https://kleinernik.github.io/jupyter/build/1013.37ec5b5.js:1:2501)\n    at s.executeRequest (https://kleinernik.github.io/jupyter/build/1013.37ec5b5.js:1:1372)\n    at s._execute (https://kleinernik.github.io/jupyter/build/6433.a5fc382.js:1:6015)\n    at s.handleMessage (https://kleinernik.github.io/jupyter/build/6433.a5fc382.js:1:2290)\n    at https://kleinernik.github.io/jupyter/build/6433.a5fc382.js:1:10032\n    at https://kleinernik.github.io/jupyter/build/6433.a5fc382.js:1:9106"
          ],
          "output_type": "error"
        }
      ]
    },
    {
      "cell_type": "markdown",
      "source": "## Vererbung\n\nIn JavaScript gibt es nur \"Prototypische\" Vererbung. Das heißt ein Objekt erbt von einem anderen Objekt - das andere ist der Prototyp.",
      "metadata": {}
    },
    {
      "cell_type": "code",
      "source": "const proto = { \n    protoProp: 'a',\n};\n\nconst obj = {\n     __proto__: proto,\n     objProp: 'b',\n};\n\nconsole.log(obj.protoProp)",
      "metadata": {
        "trusted": true
      },
      "execution_count": 78,
      "outputs": [
        {
          "execution_count": 78,
          "output_type": "execute_result",
          "data": {},
          "metadata": {}
        },
        {
          "event": "stream",
          "name": "stdout",
          "text": "a\n",
          "output_type": "stream"
        }
      ]
    },
    {
      "cell_type": "markdown",
      "source": "Der Prototyp kann selber wieder von einem anderen Prototyp erben, dadurch entsteht eine Kette - die Prototyp-Chain.\n\nWenn eine Eingenschaft gesetzt wird, die zu einem Prototypen in der Kette gehört, nicht zum Objekt selber, dann wird nicht der Prototyp geändert, sondern das Objekt bekommt eine neue eigenen Eigenschaft mit dem Wert, die dann die Eigenschaft vom Prototyp überdeckt.",
      "metadata": {}
    },
    {
      "cell_type": "code",
      "source": "const proto = { \n    protoProp: 'a',\n};\n\nconst obj = {\n     __proto__: proto,\n     objProp: 'b',\n};\n\nconsole.log(obj.protoProp);\n\nobj.protoProp = 'c';\n\nconsole.log(obj.protoProp);\n\ndelete obj.protoProp;\n\nconsole.log(obj.protoProp);",
      "metadata": {
        "trusted": true
      },
      "execution_count": 83,
      "outputs": [
        {
          "execution_count": 83,
          "output_type": "execute_result",
          "data": {},
          "metadata": {}
        },
        {
          "event": "stream",
          "name": "stdout",
          "text": "a\nc\na\n",
          "output_type": "stream"
        }
      ]
    },
    {
      "cell_type": "markdown",
      "source": "### Erzeugen mit `Object.create` ",
      "metadata": {}
    },
    {
      "cell_type": "code",
      "source": "const proto = { \n    protoProp: 'a',\n};\n\nconst obj = Object.create(proto);\n\nconsole.log(obj.protoProp);",
      "metadata": {
        "trusted": true
      },
      "execution_count": 87,
      "outputs": [
        {
          "execution_count": 87,
          "output_type": "execute_result",
          "data": {},
          "metadata": {}
        },
        {
          "event": "stream",
          "name": "stdout",
          "text": "a\n",
          "output_type": "stream"
        }
      ]
    },
    {
      "cell_type": "markdown",
      "source": "### Prototyp rausfinden",
      "metadata": {}
    },
    {
      "cell_type": "code",
      "source": "const proto = { \n    protoProp: 'a',\n};\n\nconst obj = Object.create(proto);\n\nconsole.log(JSON.stringify(Object.getPrototypeOf(obj)));",
      "metadata": {
        "trusted": true
      },
      "execution_count": 90,
      "outputs": [
        {
          "execution_count": 90,
          "output_type": "execute_result",
          "data": {},
          "metadata": {}
        },
        {
          "event": "stream",
          "name": "stdout",
          "text": "{\"protoProp\":\"a\"}\n",
          "output_type": "stream"
        }
      ]
    },
    {
      "cell_type": "markdown",
      "source": "### Beispiel",
      "metadata": {}
    },
    {
      "cell_type": "code",
      "source": "const jane = {\n    firstName: 'Jane',\n    describe() {\n        return 'Person named ' + this.firstName;\n      },\n};\nconst tarzan = {\n    firstName: 'Tarzan',\n    describe() {\n        return 'Person named ' + this.firstName;\n    },\n};",
      "metadata": {
        "trusted": true
      },
      "execution_count": 92,
      "outputs": [
        {
          "execution_count": 92,
          "output_type": "execute_result",
          "data": {},
          "metadata": {}
        }
      ]
    },
    {
      "cell_type": "markdown",
      "source": "Doppelten Code vermeiden:",
      "metadata": {}
    },
    {
      "cell_type": "markdown",
      "source": "const PersonProto = {\n  describe() {\n    return 'Person named ' + this.firstName;\n  },\n};\nconst jane = {\n    __proto__: PersonProto,\n    firstName: 'Jane',\n};\nconst tarzan = {\n    __proto__: PersonProto,\n    firstName: 'Tarzan',\n};",
      "metadata": {}
    },
    {
      "cell_type": "markdown",
      "source": "## Klassen\n\n... gibt es auch seit ES6. Man kommt aber gut ohne aus ;)",
      "metadata": {}
    },
    {
      "cell_type": "code",
      "source": "class Person {\n  #firstName; // das # davor mach die Eigenschaft \"private\"\n  constructor(firstName) {\n    this.#firstName = firstName;\n  }\n  describe() {\n    return `Person named ${this.#firstName}`;\n  }\n  static extractNames(persons) {\n    return persons.map(person => person.#firstName);\n  }\n}\n\nconst tarzan = new Person(\"Tarzan\");",
      "metadata": {
        "trusted": true
      },
      "execution_count": 98,
      "outputs": [
        {
          "execution_count": 98,
          "output_type": "execute_result",
          "data": {},
          "metadata": {}
        }
      ]
    },
    {
      "cell_type": "markdown",
      "source": "und Vererbung mit Klassen",
      "metadata": {}
    },
    {
      "cell_type": "code",
      "source": "class Person {\n  #firstName; // das # davor mach die Eigenschaft \"private\"\n  constructor(firstName) {\n    this.#firstName = firstName;\n  }\n  describe() {\n    return `Person named ${this.#firstName}`;\n  }\n  static extractNames(persons) {\n    return persons.map(person => person.#firstName);\n  }\n}\nclass Employee extends Person {\n    constructor(firstName, title) {\n        super(firstName);\n        this.title = title;\n    }\n    describe() {\n        return super.describe() + ` (${this.title})`;\n    }\n}\n\nconst jane = new Employee('Jane', 'CTO');\n\nconsole.log(jane instanceof Employee, jane instanceof Person)",
      "metadata": {
        "trusted": true
      },
      "execution_count": 103,
      "outputs": [
        {
          "execution_count": 103,
          "output_type": "execute_result",
          "data": {},
          "metadata": {}
        },
        {
          "event": "stream",
          "name": "stdout",
          "text": "true true\n",
          "output_type": "stream"
        }
      ]
    },
    {
      "cell_type": "code",
      "source": "",
      "metadata": {},
      "execution_count": null,
      "outputs": []
    }
  ]
}
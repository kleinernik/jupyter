{
 "cells": [
  {
   "cell_type": "markdown",
   "id": "c35c9bd7",
   "metadata": {},
   "source": [
    "# Control Flow\n",
    "\n",
    "## Looping\n",
    "\n",
    "Es gibt nur 2 Sprachkonstrukte für Schleifen"
   ]
  },
  {
   "cell_type": "code",
   "execution_count": 1,
   "id": "e7f0ac14",
   "metadata": {},
   "outputs": [
    {
     "name": "stdout",
     "output_type": "stream",
     "text": [
      "1\n",
      "2\n",
      "3\n",
      "4\n",
      "5\n",
      "6\n",
      "7\n",
      "8\n",
      "9\n",
      "10\n"
     ]
    }
   ],
   "source": [
    "x = 1\n",
    "while x < 11:\n",
    "    print(x)\n",
    "    x += 1\n",
    "    "
   ]
  },
  {
   "cell_type": "code",
   "execution_count": 2,
   "id": "8ca8acc9",
   "metadata": {},
   "outputs": [
    {
     "name": "stdout",
     "output_type": "stream",
     "text": [
      "1\n",
      "2\n",
      "3\n",
      "4\n",
      "5\n",
      "6\n",
      "7\n",
      "8\n",
      "9\n",
      "10\n"
     ]
    }
   ],
   "source": [
    "for x in range(1, 11):\n",
    "    print(x)"
   ]
  },
  {
   "cell_type": "markdown",
   "id": "67c4d205",
   "metadata": {},
   "source": [
    "Range hat 3 Parameter, die denen beim Slicing von Sequenztypen entsprechen. `range(start, stop[, step])`\n",
    "\n",
    "\n",
    "Statt rang kann da jeder Sequenztyp stehen"
   ]
  },
  {
   "cell_type": "code",
   "execution_count": 3,
   "id": "0df0a55b",
   "metadata": {},
   "outputs": [
    {
     "name": "stdout",
     "output_type": "stream",
     "text": [
      "H\n",
      "e\n",
      "l\n",
      "l\n",
      "o\n"
     ]
    }
   ],
   "source": [
    "for x in \"Hello\":\n",
    "    print(x)"
   ]
  },
  {
   "cell_type": "code",
   "execution_count": 4,
   "id": "82619c59",
   "metadata": {},
   "outputs": [
    {
     "name": "stdout",
     "output_type": "stream",
     "text": [
      "H\n",
      "l\n",
      "o\n"
     ]
    }
   ],
   "source": [
    "for x in \"Hello\"[::2]:\n",
    "    print(x)"
   ]
  },
  {
   "cell_type": "code",
   "execution_count": 5,
   "id": "8b10172d",
   "metadata": {},
   "outputs": [
    {
     "name": "stdout",
     "output_type": "stream",
     "text": [
      "1\n",
      "2\n",
      "3\n"
     ]
    }
   ],
   "source": [
    "for x in (1, 2, 3):\n",
    "    print(x)"
   ]
  },
  {
   "cell_type": "code",
   "execution_count": 6,
   "id": "c6f67af1",
   "metadata": {},
   "outputs": [
    {
     "name": "stdout",
     "output_type": "stream",
     "text": [
      "3\n"
     ]
    }
   ],
   "source": [
    "for x in [1, 2, 3][2:]:\n",
    "    print(x)"
   ]
  },
  {
   "cell_type": "markdown",
   "id": "c32773b0",
   "metadata": {},
   "source": [
    "### List Comprehension\n",
    "\n",
    "Oft werden Schleifen genutzt, um eine Liste zu durchlaufen und auf Basis der Elemente eine neue Liste zu erzeugen:"
   ]
  },
  {
   "cell_type": "code",
   "execution_count": 7,
   "id": "0b13bc66",
   "metadata": {},
   "outputs": [
    {
     "data": {
      "text/plain": [
       "[4, 8, 12, 16, 20]"
      ]
     },
     "execution_count": 7,
     "metadata": {},
     "output_type": "execute_result"
    }
   ],
   "source": [
    "old_list = [1, 2, 3, 4, 5, 6, 7, 8, 9, 10]\n",
    "new_list = []\n",
    "\n",
    "for x in old_list:\n",
    "    if x % 2 == 0:\n",
    "        new_list.append(x * 2)\n",
    "        \n",
    "new_list"
   ]
  },
  {
   "cell_type": "markdown",
   "id": "67ebb27f",
   "metadata": {},
   "source": [
    "Dafür können dann List Comprehensions genutzt werden"
   ]
  },
  {
   "cell_type": "code",
   "execution_count": 8,
   "id": "5b4a3dee",
   "metadata": {},
   "outputs": [
    {
     "data": {
      "text/plain": [
       "[4, 8, 12, 16, 20]"
      ]
     },
     "execution_count": 8,
     "metadata": {},
     "output_type": "execute_result"
    }
   ],
   "source": [
    "old_list = [1, 2, 3, 4, 5, 6, 7, 8, 9, 10]\n",
    "new_list = [x * 2 for x in old_list if x % 2 == 0]\n",
    "\n",
    "new_list"
   ]
  },
  {
   "cell_type": "markdown",
   "id": "c27c668a",
   "metadata": {},
   "source": [
    "### Dict Comprehension"
   ]
  },
  {
   "cell_type": "code",
   "execution_count": 9,
   "id": "a574e6de",
   "metadata": {},
   "outputs": [
    {
     "data": {
      "text/plain": [
       "{'A': 1, 'B': 2, 'D': 3}"
      ]
     },
     "execution_count": 9,
     "metadata": {},
     "output_type": "execute_result"
    }
   ],
   "source": [
    "old_dict = {1: 'A', 2: 'B', 3: 'D'}\n",
    "new_dict = {v:k for k, v in old_dict.items()}\n",
    "\n",
    "new_dict"
   ]
  },
  {
   "cell_type": "markdown",
   "id": "55a6b6e2",
   "metadata": {},
   "source": [
    "### Set Comprehension"
   ]
  },
  {
   "cell_type": "code",
   "execution_count": 10,
   "id": "38d4b283",
   "metadata": {},
   "outputs": [
    {
     "data": {
      "text/plain": [
       "{4, 8, 12, 16, 20}"
      ]
     },
     "execution_count": 10,
     "metadata": {},
     "output_type": "execute_result"
    }
   ],
   "source": [
    "old_list = [1, 2, 3, 4, 4, 4, 5, 6, 7, 8, 9, 10]\n",
    "new_set = {x * 2 for x in old_list if x % 2 == 0}\n",
    "\n",
    "new_set"
   ]
  },
  {
   "cell_type": "markdown",
   "id": "f7b4848d",
   "metadata": {},
   "source": [
    "### Comprehension mit mehreren `for`"
   ]
  },
  {
   "cell_type": "code",
   "execution_count": 11,
   "id": "69a7228b",
   "metadata": {},
   "outputs": [
    {
     "data": {
      "text/plain": [
       "[(1, 'a'),\n",
       " (1, 'b'),\n",
       " (2, 'a'),\n",
       " (2, 'b'),\n",
       " (3, 'a'),\n",
       " (3, 'b'),\n",
       " (4, 'a'),\n",
       " (4, 'b'),\n",
       " (5, 'a'),\n",
       " (5, 'b'),\n",
       " (6, 'a'),\n",
       " (6, 'b'),\n",
       " (7, 'a'),\n",
       " (7, 'b'),\n",
       " (8, 'a'),\n",
       " (8, 'b'),\n",
       " (9, 'a'),\n",
       " (9, 'b'),\n",
       " (10, 'a'),\n",
       " (10, 'b')]"
      ]
     },
     "execution_count": 11,
     "metadata": {},
     "output_type": "execute_result"
    }
   ],
   "source": [
    "old_list = [1, 2, 3, 4, 5, 6, 7, 8, 9, 10]\n",
    "old_list2 = ['a', 'b']\n",
    "new_list = [(x, y) for x in old_list for y in old_list2]\n",
    "\n",
    "new_list"
   ]
  },
  {
   "cell_type": "code",
   "execution_count": 12,
   "id": "159e88c8",
   "metadata": {},
   "outputs": [
    {
     "data": {
      "text/plain": [
       "[(0, 1), (0, 2), (1, 0), (1, 2), (2, 0), (2, 1)]"
      ]
     },
     "execution_count": 12,
     "metadata": {},
     "output_type": "execute_result"
    }
   ],
   "source": [
    "new_list = [(x, y) for x in range(3) for y in range(3) if x != y]\n",
    "\n",
    "new_list"
   ]
  },
  {
   "cell_type": "markdown",
   "id": "951c5f81",
   "metadata": {},
   "source": [
    "### Geschachtelte Comprehensions"
   ]
  },
  {
   "cell_type": "code",
   "execution_count": 13,
   "id": "2d87ff82",
   "metadata": {},
   "outputs": [
    {
     "data": {
      "text/plain": [
       "[[0, 0, 0], [0, 1, 2], [0, 2, 4]]"
      ]
     },
     "execution_count": 13,
     "metadata": {},
     "output_type": "execute_result"
    }
   ],
   "source": [
    "new_list = [[x * y for y in range(3)] for x in range(3)]\n",
    "\n",
    "new_list"
   ]
  },
  {
   "cell_type": "markdown",
   "id": "10065527",
   "metadata": {},
   "source": [
    "## Bedingungen\n",
    "\n",
    "### if"
   ]
  },
  {
   "cell_type": "code",
   "execution_count": 14,
   "id": "ca7bbb5f",
   "metadata": {},
   "outputs": [
    {
     "name": "stdout",
     "output_type": "stream",
     "text": [
      "just right\n"
     ]
    }
   ],
   "source": [
    "x = 1\n",
    "\n",
    "if x < 1:\n",
    "    print(\"too small\")\n",
    "elif x > 10:\n",
    "    print(\"too big\")\n",
    "elif x > 100:\n",
    "    print(\"way too big\")\n",
    "else:\n",
    "    print(\"just right\")"
   ]
  },
  {
   "cell_type": "markdown",
   "id": "40f48d24",
   "metadata": {},
   "source": [
    "`elif` und `else` sind optional, es können beliebig viele `elif` sein"
   ]
  },
  {
   "cell_type": "markdown",
   "id": "ebfe87ab",
   "metadata": {},
   "source": [
    "## `break` und `else` für `for` "
   ]
  },
  {
   "cell_type": "code",
   "execution_count": 15,
   "id": "efc4428b",
   "metadata": {},
   "outputs": [
    {
     "name": "stdout",
     "output_type": "stream",
     "text": [
      "looking at 0\n",
      "looking at 1\n",
      "looking at 2\n",
      "looking at 3\n",
      "looking at 4\n",
      "looking at 5\n",
      "found\n"
     ]
    }
   ],
   "source": [
    "search = 5\n",
    "\n",
    "for x in range(10):\n",
    "    print(\"looking at\", x)\n",
    "    if x == search:\n",
    "        print(\"found\")\n",
    "        break\n",
    "else:\n",
    "    print(\"not found\")"
   ]
  },
  {
   "cell_type": "markdown",
   "id": "66e91da5",
   "metadata": {},
   "source": [
    "## `continue`"
   ]
  },
  {
   "cell_type": "code",
   "execution_count": 16,
   "id": "db30319a",
   "metadata": {},
   "outputs": [
    {
     "name": "stdout",
     "output_type": "stream",
     "text": [
      "1\n",
      "3\n",
      "5\n",
      "7\n",
      "9\n"
     ]
    },
    {
     "data": {
      "text/plain": [
       "[1, 3, 5, 7, 9]"
      ]
     },
     "execution_count": 16,
     "metadata": {},
     "output_type": "execute_result"
    }
   ],
   "source": [
    "odd = []\n",
    "for x in range(10):\n",
    "    if x % 2 == 0:\n",
    "        continue\n",
    "    odd.append(x)\n",
    "    print(x)\n",
    "    \n",
    "odd"
   ]
  },
  {
   "cell_type": "markdown",
   "id": "596acb77",
   "metadata": {},
   "source": [
    "## match"
   ]
  },
  {
   "cell_type": "code",
   "execution_count": 17,
   "id": "3e0ba89f",
   "metadata": {},
   "outputs": [
    {
     "name": "stdout",
     "output_type": "stream",
     "text": [
      "Steelers win\n"
     ]
    }
   ],
   "source": [
    "pairing = ('Buccaneers', 'Steelers')\n",
    "\n",
    "match pairing:\n",
    "    case ('Steelers', _):\n",
    "        print('Steelers win')\n",
    "    case (_, 'Steelers'):\n",
    "        print('Steelers win')\n",
    "    case _:\n",
    "        print(\"Don't care\")"
   ]
  },
  {
   "cell_type": "code",
   "execution_count": 18,
   "id": "6d664bbe",
   "metadata": {},
   "outputs": [
    {
     "name": "stdout",
     "output_type": "stream",
     "text": [
      "at least one element\n"
     ]
    }
   ],
   "source": [
    "my_list = [1,2,3]\n",
    "\n",
    "match my_list:\n",
    "    case []:\n",
    "        print('empty')\n",
    "    case [_]:\n",
    "        print('one element')\n",
    "    case [_, *_]:\n",
    "        print('at least one element')\n",
    "    case _:\n",
    "        print('not a list')"
   ]
  },
  {
   "cell_type": "markdown",
   "id": "0d8f4ef0",
   "metadata": {},
   "source": [
    "## `pass`\n",
    "\n",
    "Das pass-Statement tut einfach nichts und wird z.B. als Platzhalter verwendet"
   ]
  },
  {
   "cell_type": "markdown",
   "id": "934d065a",
   "metadata": {},
   "source": [
    "## Ausnahmebehandlung"
   ]
  },
  {
   "cell_type": "code",
   "execution_count": 19,
   "id": "e2576233",
   "metadata": {},
   "outputs": [
    {
     "name": "stdout",
     "output_type": "stream",
     "text": [
      "OSError\n"
     ]
    }
   ],
   "source": [
    "try:\n",
    "    raise OSError\n",
    "except OSError:\n",
    "    print(\"OSError\")\n",
    "except BaseError:\n",
    "    print(\"BaseError\")"
   ]
  },
  {
   "cell_type": "markdown",
   "id": "1bd9878e",
   "metadata": {},
   "source": [
    "`raise`ohne Parameter in einem `except`-Block wirft die Ausnahme nochmal"
   ]
  },
  {
   "cell_type": "code",
   "execution_count": 20,
   "id": "e1e0def7",
   "metadata": {
    "scrolled": true
   },
   "outputs": [
    {
     "name": "stdout",
     "output_type": "stream",
     "text": [
      "OSError\n"
     ]
    },
    {
     "ename": "OSError",
     "evalue": "",
     "output_type": "error",
     "traceback": [
      "\u001b[0;31m---------------------------------------------------------------------------\u001b[0m",
      "\u001b[0;31mOSError\u001b[0m                                   Traceback (most recent call last)",
      "Cell \u001b[0;32mIn[20], line 2\u001b[0m\n\u001b[1;32m      1\u001b[0m \u001b[38;5;28;01mtry\u001b[39;00m:\n\u001b[0;32m----> 2\u001b[0m     \u001b[38;5;28;01mraise\u001b[39;00m \u001b[38;5;167;01mOSError\u001b[39;00m\n\u001b[1;32m      3\u001b[0m \u001b[38;5;28;01mexcept\u001b[39;00m \u001b[38;5;167;01mOSError\u001b[39;00m:\n\u001b[1;32m      4\u001b[0m     \u001b[38;5;28mprint\u001b[39m(\u001b[38;5;124m\"\u001b[39m\u001b[38;5;124mOSError\u001b[39m\u001b[38;5;124m\"\u001b[39m)\n",
      "\u001b[0;31mOSError\u001b[0m: "
     ]
    }
   ],
   "source": [
    "try:\n",
    "    raise OSError\n",
    "except OSError:\n",
    "    print(\"OSError\")\n",
    "    raise\n",
    "except BaseError:\n",
    "    print(\"BaseError\")"
   ]
  },
  {
   "cell_type": "markdown",
   "id": "d5b3a9e1",
   "metadata": {},
   "source": [
    "`try` kann einen `else`-Clause haben, nach alle `except`. Der `else`-Teil wird ausgeführt, wenn keine Ausnahme geworfen wird, z.B. um \"Aufzuräumen\""
   ]
  },
  {
   "cell_type": "code",
   "execution_count": 21,
   "id": "f826eac3",
   "metadata": {},
   "outputs": [
    {
     "name": "stdout",
     "output_type": "stream",
     "text": [
      "['<!DOCTYPE html>\\n', '<html>\\n', '<head><meta charset=\"utf-8\" />\\n']\n"
     ]
    }
   ],
   "source": [
    "try:\n",
    "    f = open(\"2_Typen.html\", \"r\")\n",
    "except FileNotFoundError:\n",
    "    print(\"No such file\")\n",
    "else:\n",
    "    print(f.readlines()[:3])\n",
    "    f.close()"
   ]
  },
  {
   "cell_type": "markdown",
   "id": "ab3ea24c",
   "metadata": {},
   "source": [
    "Nach den `except` und `else` kann noch ein `finally` folgen, mit \"Aufräumaktionen\" die immer passieren sollen, egal ob es eine Ausnahme gab oder nicht"
   ]
  },
  {
   "cell_type": "code",
   "execution_count": 22,
   "id": "f0700349",
   "metadata": {},
   "outputs": [
    {
     "name": "stdout",
     "output_type": "stream",
     "text": [
      "No such file\n",
      "done\n"
     ]
    }
   ],
   "source": [
    "try:\n",
    "    f = open(\"2_Typen.htm\", \"r\")\n",
    "except FileNotFoundError:\n",
    "    print(\"No such file\")\n",
    "else:\n",
    "    print(f.readlines())\n",
    "    f.close()\n",
    "finally:\n",
    "    print(\"done\")"
   ]
  },
  {
   "cell_type": "markdown",
   "id": "74627427",
   "metadata": {},
   "source": [
    "### `with` und vordefinierte Aufräumaktionen\n",
    "\n",
    "Das z.B. ein File immer geschlossen werden muss, ist so ein häufiger Fall, dass es vordefinierte Aktionen gibt. Dazu wird dann das `with`-Statement verwendet:"
   ]
  },
  {
   "cell_type": "code",
   "execution_count": 23,
   "id": "94ba5728",
   "metadata": {},
   "outputs": [
    {
     "name": "stdout",
     "output_type": "stream",
     "text": [
      "<!DOCTYPE html>\n",
      "<html>\n",
      "<head><meta charset=\"utf-8\" />\n",
      "<meta name=\"viewport\" content=\"width=device-width, initial-scale=1.0\">\n",
      "\n",
      "\n"
     ]
    }
   ],
   "source": [
    "with open(\"2_Typen.html\", \"r\") as f:\n",
    "    print(''.join(f.readlines()[:5]))"
   ]
  },
  {
   "cell_type": "markdown",
   "id": "79ff5def",
   "metadata": {},
   "source": [
    "## Eigene Ausnahmen definieren"
   ]
  },
  {
   "cell_type": "code",
   "execution_count": 24,
   "id": "14e997b6",
   "metadata": {},
   "outputs": [
    {
     "ename": "MyError",
     "evalue": "",
     "output_type": "error",
     "traceback": [
      "\u001b[0;31m---------------------------------------------------------------------------\u001b[0m",
      "\u001b[0;31mMyError\u001b[0m                                   Traceback (most recent call last)",
      "Cell \u001b[0;32mIn[24], line 4\u001b[0m\n\u001b[1;32m      1\u001b[0m \u001b[38;5;28;01mclass\u001b[39;00m \u001b[38;5;21;01mMyError\u001b[39;00m(\u001b[38;5;167;01mException\u001b[39;00m):\n\u001b[1;32m      2\u001b[0m     \u001b[38;5;28;01mpass\u001b[39;00m\n\u001b[0;32m----> 4\u001b[0m \u001b[38;5;28;01mraise\u001b[39;00m MyError\n",
      "\u001b[0;31mMyError\u001b[0m: "
     ]
    }
   ],
   "source": [
    "class MyError(Exception):\n",
    "    pass\n",
    "\n",
    "raise MyError"
   ]
  },
  {
   "cell_type": "code",
   "execution_count": 25,
   "id": "18dcc392",
   "metadata": {},
   "outputs": [
    {
     "ename": "MyError",
     "evalue": "Es ist was schlimmes passiert",
     "output_type": "error",
     "traceback": [
      "\u001b[0;31m---------------------------------------------------------------------------\u001b[0m",
      "\u001b[0;31mMyError\u001b[0m                                   Traceback (most recent call last)",
      "Cell \u001b[0;32mIn[25], line 1\u001b[0m\n\u001b[0;32m----> 1\u001b[0m \u001b[38;5;28;01mraise\u001b[39;00m MyError(\u001b[38;5;124m\"\u001b[39m\u001b[38;5;124mEs ist was schlimmes passiert\u001b[39m\u001b[38;5;124m\"\u001b[39m)\n",
      "\u001b[0;31mMyError\u001b[0m: Es ist was schlimmes passiert"
     ]
    }
   ],
   "source": [
    "raise MyError(\"Es ist was schlimmes passiert\")"
   ]
  },
  {
   "cell_type": "code",
   "execution_count": 26,
   "id": "7369ed21",
   "metadata": {},
   "outputs": [
    {
     "ename": "MyOtherError",
     "evalue": "Pass doch besser auf",
     "output_type": "error",
     "traceback": [
      "\u001b[0;31m---------------------------------------------------------------------------\u001b[0m",
      "\u001b[0;31mMyOtherError\u001b[0m                              Traceback (most recent call last)",
      "Cell \u001b[0;32mIn[26], line 6\u001b[0m\n\u001b[1;32m      3\u001b[0m         \u001b[38;5;28mself\u001b[39m\u001b[38;5;241m.\u001b[39mmessage \u001b[38;5;241m=\u001b[39m message\n\u001b[1;32m      4\u001b[0m         \u001b[38;5;28msuper\u001b[39m()\u001b[38;5;241m.\u001b[39m\u001b[38;5;21m__init__\u001b[39m(\u001b[38;5;28mself\u001b[39m\u001b[38;5;241m.\u001b[39mmessage)\n\u001b[0;32m----> 6\u001b[0m \u001b[38;5;28;01mraise\u001b[39;00m MyOtherError\n",
      "\u001b[0;31mMyOtherError\u001b[0m: Pass doch besser auf"
     ]
    }
   ],
   "source": [
    "class MyOtherError(Exception):\n",
    "    def __init__(self, message=\"Pass doch besser auf\"):\n",
    "        self.message = message\n",
    "        super().__init__(self.message)\n",
    "\n",
    "raise MyOtherError"
   ]
  }
 ],
 "metadata": {
  "kernelspec": {
   "display_name": "Python 3 (ipykernel)",
   "language": "python",
   "name": "python3"
  },
  "language_info": {
   "codemirror_mode": {
    "name": "ipython",
    "version": 3
   },
   "file_extension": ".py",
   "mimetype": "text/x-python",
   "name": "python",
   "nbconvert_exporter": "python",
   "pygments_lexer": "ipython3",
   "version": "3.11.5"
  }
 },
 "nbformat": 4,
 "nbformat_minor": 5
}

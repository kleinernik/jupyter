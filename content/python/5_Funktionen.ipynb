{
 "cells": [
  {
   "cell_type": "markdown",
   "id": "76cc1013",
   "metadata": {},
   "source": [
    "# Funktionen"
   ]
  },
  {
   "cell_type": "code",
   "execution_count": 1,
   "id": "acdfd844",
   "metadata": {},
   "outputs": [
    {
     "name": "stdout",
     "output_type": "stream",
     "text": [
      "Hello Niklas\n"
     ]
    }
   ],
   "source": [
    "def print_hello(name):\n",
    "    print('Hello ' + name)\n",
    "    \n",
    "print_hello('Niklas')"
   ]
  },
  {
   "cell_type": "markdown",
   "id": "48a2bce1",
   "metadata": {},
   "source": [
    "## Default Parameter"
   ]
  },
  {
   "cell_type": "code",
   "execution_count": 2,
   "id": "ae8555e4",
   "metadata": {},
   "outputs": [
    {
     "name": "stdout",
     "output_type": "stream",
     "text": [
      "Hello Niklas\n"
     ]
    }
   ],
   "source": [
    "def print_hello(name = 'Niklas'):\n",
    "    print('Hello ' + name)\n",
    "    \n",
    "print_hello()"
   ]
  },
  {
   "cell_type": "code",
   "execution_count": 3,
   "id": "72bc44c5",
   "metadata": {},
   "outputs": [
    {
     "name": "stdout",
     "output_type": "stream",
     "text": [
      "Hello Niklas\n",
      "Moin Niklas\n"
     ]
    }
   ],
   "source": [
    "def print_hello(name, greeting = 'Hello'): # Parameter ohne default müssen zuerst kommen\n",
    "    print(greeting, name)\n",
    "    \n",
    "print_hello('Niklas')\n",
    "print_hello('Niklas', 'Moin')"
   ]
  },
  {
   "cell_type": "markdown",
   "id": "e2c00bf4",
   "metadata": {},
   "source": [
    "Achtung, defaults werden nur einem ausgewertet, d.h. bei mutables aupassen:"
   ]
  },
  {
   "cell_type": "code",
   "execution_count": 4,
   "id": "af60807f",
   "metadata": {},
   "outputs": [
    {
     "name": "stdout",
     "output_type": "stream",
     "text": [
      "[1]\n",
      "[1, 2]\n",
      "[1, 2, 3]\n"
     ]
    }
   ],
   "source": [
    "def f(a, l=[]):\n",
    "    l.append(a)\n",
    "    return l\n",
    "\n",
    "print(f(1))\n",
    "print(f(2))\n",
    "print(f(3))"
   ]
  },
  {
   "cell_type": "markdown",
   "id": "7d6df2a2",
   "metadata": {},
   "source": [
    "## Keyword Parameter"
   ]
  },
  {
   "cell_type": "code",
   "execution_count": 5,
   "id": "17ffc31a",
   "metadata": {},
   "outputs": [
    {
     "name": "stdout",
     "output_type": "stream",
     "text": [
      "Moin Niklas\n"
     ]
    }
   ],
   "source": [
    "def print_hello(name, greeting = 'Hello'):\n",
    "    print(greeting, name)\n",
    "    \n",
    "print_hello(greeting = 'Moin', name = 'Niklas')"
   ]
  },
  {
   "cell_type": "markdown",
   "id": "527ea27b",
   "metadata": {},
   "source": [
    "Parameter ohne Keyword-Angabe sind sog. Positional-Parameter und müssen zu erst kommen:"
   ]
  },
  {
   "cell_type": "markdown",
   "id": "868c647e",
   "metadata": {},
   "source": [
    "```\n",
    "\n",
    "print_hello(greeting = 'Moin', 'Niklas')\n",
    "\n",
    "\n",
    "  Cell In [38], line 2\n",
    "    print_hello(greeting = 'Moin', 'Niklas')\n",
    "                                           ^\n",
    "SyntaxError: positional argument follows keyword argument\n",
    "\n",
    "\n",
    "```"
   ]
  },
  {
   "cell_type": "markdown",
   "id": "265b10ea",
   "metadata": {},
   "source": [
    "## Beliebig viele Parameter"
   ]
  },
  {
   "cell_type": "code",
   "execution_count": 6,
   "id": "782a69ef",
   "metadata": {},
   "outputs": [
    {
     "name": "stdout",
     "output_type": "stream",
     "text": [
      "Hallo Niklas !\n"
     ]
    }
   ],
   "source": [
    "def my_print(*args):\n",
    "    print(' '.join(args))\n",
    "    \n",
    "my_print('Hallo', 'Niklas', '!')"
   ]
  },
  {
   "cell_type": "markdown",
   "id": "b1d594ef",
   "metadata": {},
   "source": [
    "## Parameter-Dictionary"
   ]
  },
  {
   "cell_type": "code",
   "execution_count": 7,
   "id": "32fc3c34",
   "metadata": {},
   "outputs": [
    {
     "name": "stdout",
     "output_type": "stream",
     "text": [
      "{'a': 'Hallo', 'b': 'Niklas', 'c': '!'}\n"
     ]
    }
   ],
   "source": [
    "def dict_print(**args):\n",
    "    print(args)\n",
    "    \n",
    "dict_print(a='Hallo', b='Niklas', c='!')"
   ]
  },
  {
   "cell_type": "markdown",
   "id": "7f459f1a",
   "metadata": {},
   "source": [
    "## Alles kombiniert"
   ]
  },
  {
   "cell_type": "code",
   "execution_count": 8,
   "id": "1cbb9276",
   "metadata": {},
   "outputs": [
    {
     "name": "stdout",
     "output_type": "stream",
     "text": [
      "1 2\n",
      "(3, 4, 5)\n",
      "{'a': 'Hallo', 'b': 'Niklas', 'c': '!'}\n"
     ]
    }
   ],
   "source": [
    "def comb_print(first, second, *args,**args_dict):\n",
    "    print(first, second)\n",
    "    print(args)\n",
    "    print(args_dict)\n",
    "    \n",
    "comb_print(1, 2, 3, 4, 5, a='Hallo', b='Niklas', c='!')"
   ]
  },
  {
   "cell_type": "markdown",
   "id": "77853f44",
   "metadata": {},
   "source": [
    "Die Möglichkeiten können eingeschränkt werden, aus der Doku:\n",
    "\n",
    "\n",
    "```\n",
    "def f(pos1, pos2, /, pos_or_kwd, *, kwd1, kwd2):\n",
    "      -----------    ----------     ----------\n",
    "        |             |                  |\n",
    "        |        Positional or keyword   |\n",
    "        |                                - Keyword only\n",
    "         -- Positional only\n",
    "```"
   ]
  },
  {
   "cell_type": "markdown",
   "id": "106224c8",
   "metadata": {},
   "source": [
    "## Parameter \"auspacken\""
   ]
  },
  {
   "cell_type": "code",
   "execution_count": 9,
   "id": "dad60a26",
   "metadata": {},
   "outputs": [
    {
     "name": "stdout",
     "output_type": "stream",
     "text": [
      "[0, 1, 2, 3, 4]\n",
      "0 1 2 3 4\n"
     ]
    }
   ],
   "source": [
    "my_list = list(range(5))\n",
    "\n",
    "print(my_list)\n",
    "print(*my_list)"
   ]
  },
  {
   "cell_type": "markdown",
   "id": "0f7b4bdf",
   "metadata": {},
   "source": [
    "## Lambda"
   ]
  },
  {
   "cell_type": "code",
   "execution_count": 10,
   "id": "936bbbe5",
   "metadata": {},
   "outputs": [
    {
     "name": "stdout",
     "output_type": "stream",
     "text": [
      "[1, 3, 5, 7, 9, 0, 2, 4, 6, 8]\n"
     ]
    }
   ],
   "source": [
    "def is_odd(x):\n",
    "    return x % 2 == 0\n",
    "\n",
    "l = list(range(10))\n",
    "l.sort(key=is_odd)\n",
    "print(l)"
   ]
  },
  {
   "cell_type": "code",
   "execution_count": 11,
   "id": "c6ff54b4",
   "metadata": {},
   "outputs": [
    {
     "name": "stdout",
     "output_type": "stream",
     "text": [
      "[1, 3, 5, 7, 9, 0, 2, 4, 6, 8]\n"
     ]
    }
   ],
   "source": [
    "l = [x for x in range(10)]\n",
    "l.sort(key=lambda x: x % 2 == 0)\n",
    "print(l)"
   ]
  },
  {
   "cell_type": "code",
   "execution_count": null,
   "id": "7b3b8520",
   "metadata": {},
   "outputs": [],
   "source": []
  }
 ],
 "metadata": {
  "kernelspec": {
   "display_name": "Python 3 (ipykernel)",
   "language": "python",
   "name": "python3"
  },
  "language_info": {
   "codemirror_mode": {
    "name": "ipython",
    "version": 3
   },
   "file_extension": ".py",
   "mimetype": "text/x-python",
   "name": "python",
   "nbconvert_exporter": "python",
   "pygments_lexer": "ipython3",
   "version": "3.10.6"
  }
 },
 "nbformat": 4,
 "nbformat_minor": 5
}

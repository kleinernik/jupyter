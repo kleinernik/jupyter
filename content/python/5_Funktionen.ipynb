{
 "cells": [
  {
   "cell_type": "markdown",
   "id": "365b987d",
   "metadata": {},
   "source": [
    "# Funktionen"
   ]
  },
  {
   "cell_type": "code",
   "execution_count": 1,
   "id": "3abe5ea7",
   "metadata": {},
   "outputs": [
    {
     "name": "stdout",
     "output_type": "stream",
     "text": [
      "Hello Niklas\n"
     ]
    }
   ],
   "source": [
    "def print_hello(name):\n",
    "    print('Hello ' + name)\n",
    "    \n",
    "print_hello('Niklas')"
   ]
  },
  {
   "cell_type": "markdown",
   "id": "bffd5733",
   "metadata": {},
   "source": [
    "## Default Parameter"
   ]
  },
  {
   "cell_type": "code",
   "execution_count": 2,
   "id": "7e4d05bb",
   "metadata": {},
   "outputs": [
    {
     "name": "stdout",
     "output_type": "stream",
     "text": [
      "Hello Hi\n"
     ]
    }
   ],
   "source": [
    "def print_hello(name = 'Niklas'):\n",
    "    print('Hello ' + name)\n",
    "    \n",
    "print_hello(\"Hi\")"
   ]
  },
  {
   "cell_type": "code",
   "execution_count": 3,
   "id": "34d1552e",
   "metadata": {},
   "outputs": [
    {
     "name": "stdout",
     "output_type": "stream",
     "text": [
      "Hello Niklas\n",
      "Moin Niklas\n"
     ]
    }
   ],
   "source": [
    "def print_hello(name, greeting = 'Hello'): # Parameter ohne default müssen zuerst kommen\n",
    "    print(greeting, name)\n",
    "    \n",
    "print_hello('Niklas')\n",
    "print_hello('Niklas', 'Moin')"
   ]
  },
  {
   "cell_type": "markdown",
   "id": "25b61cef",
   "metadata": {},
   "source": [
    "Achtung, defaults werden nur einmal ausgewertet, d.h. bei mutables aupassen:"
   ]
  },
  {
   "cell_type": "code",
   "execution_count": 4,
   "id": "8f6ee791",
   "metadata": {},
   "outputs": [
    {
     "name": "stdout",
     "output_type": "stream",
     "text": [
      "[1]\n",
      "[1, 2]\n",
      "[1, 2, 3]\n"
     ]
    }
   ],
   "source": [
    "def f(a, l=[]):\n",
    "    l.append(a)\n",
    "    return l\n",
    "\n",
    "print(f(1))\n",
    "print(f(2))\n",
    "print(f(3))"
   ]
  },
  {
   "cell_type": "markdown",
   "id": "7a55a761",
   "metadata": {},
   "source": [
    "## Keyword Parameter"
   ]
  },
  {
   "cell_type": "code",
   "execution_count": 5,
   "id": "dd7b5159",
   "metadata": {},
   "outputs": [
    {
     "name": "stdout",
     "output_type": "stream",
     "text": [
      "Moin Niklas\n"
     ]
    }
   ],
   "source": [
    "def print_hello(name, greeting = 'Hello'):\n",
    "    print(greeting, name)\n",
    "    \n",
    "print_hello(greeting = 'Moin', name = 'Niklas')"
   ]
  },
  {
   "cell_type": "markdown",
   "id": "42c94ce9",
   "metadata": {},
   "source": [
    "Parameter ohne Keyword-Angabe sind sog. Positional-Parameter und müssen zu erst kommen:"
   ]
  },
  {
   "cell_type": "code",
   "execution_count": 6,
   "id": "c9514d94",
   "metadata": {},
   "outputs": [
    {
     "name": "stdout",
     "output_type": "stream",
     "text": [
      "Moin Niklas\n"
     ]
    }
   ],
   "source": [
    "\n",
    "print_hello('Niklas', greeting = 'Moin')"
   ]
  },
  {
   "cell_type": "markdown",
   "id": "303f0ec8",
   "metadata": {},
   "source": [
    "## Beliebig viele Parameter"
   ]
  },
  {
   "cell_type": "code",
   "execution_count": 7,
   "id": "ce2baab5",
   "metadata": {},
   "outputs": [
    {
     "name": "stdout",
     "output_type": "stream",
     "text": [
      "Hallo Niklas !\n"
     ]
    }
   ],
   "source": [
    "def my_print(*args):\n",
    "    print(' '.join(args))\n",
    "    \n",
    "my_print('Hallo', 'Niklas', '!')"
   ]
  },
  {
   "cell_type": "markdown",
   "id": "eba0f4d3",
   "metadata": {},
   "source": [
    "## Parameter-Dictionary"
   ]
  },
  {
   "cell_type": "code",
   "execution_count": 8,
   "id": "658007a3",
   "metadata": {},
   "outputs": [
    {
     "name": "stdout",
     "output_type": "stream",
     "text": [
      "{'a': 'Hallo', 'b': 'Niklas', 'c': '!'}\n"
     ]
    }
   ],
   "source": [
    "def dict_print(**args):\n",
    "    print(args)\n",
    "    \n",
    "dict_print(a='Hallo', b='Niklas', c='!')"
   ]
  },
  {
   "cell_type": "markdown",
   "id": "e93ea5ef",
   "metadata": {},
   "source": [
    "## Alles kombiniert"
   ]
  },
  {
   "cell_type": "code",
   "execution_count": 10,
   "id": "b750bdaa",
   "metadata": {},
   "outputs": [
    {
     "name": "stdout",
     "output_type": "stream",
     "text": [
      "1 2\n",
      "(3, 4, 5)\n",
      "{'a': 'Hallo', 'b': 'Niklas', 'c': '!'}\n"
     ]
    }
   ],
   "source": [
    "def comb_print(first, second, *args, **args_dict):\n",
    "    print(first, second)\n",
    "    print(args)\n",
    "    print(args_dict)\n",
    "    \n",
    "comb_print(1, 2, 3, 4, 5, a='Hallo', b='Niklas', c='!')"
   ]
  },
  {
   "cell_type": "markdown",
   "id": "e43dbf09",
   "metadata": {},
   "source": [
    "Die Möglichkeiten können eingeschränkt werden, aus der Doku:\n",
    "\n",
    "\n",
    "```\n",
    "def f(pos1, pos2, /, pos_or_kwd, *, kwd1, kwd2):\n",
    "      -----------    ----------     ----------\n",
    "        |             |                  |\n",
    "        |        Positional or keyword   |\n",
    "        |                                - Keyword only\n",
    "         -- Positional only\n",
    "```"
   ]
  },
  {
   "cell_type": "markdown",
   "id": "7c829b67",
   "metadata": {},
   "source": [
    "## Parameter \"auspacken\""
   ]
  },
  {
   "cell_type": "code",
   "execution_count": 11,
   "id": "28110b0f",
   "metadata": {},
   "outputs": [
    {
     "name": "stdout",
     "output_type": "stream",
     "text": [
      "[0, 1, 2, 3, 4]\n",
      "0 1 2 3 4\n"
     ]
    }
   ],
   "source": [
    "my_list = list(range(5))\n",
    "\n",
    "print(my_list)\n",
    "print(*my_list)"
   ]
  },
  {
   "cell_type": "markdown",
   "id": "f3de6439",
   "metadata": {},
   "source": [
    "## Lambda"
   ]
  },
  {
   "cell_type": "code",
   "execution_count": 12,
   "id": "73ec70c3",
   "metadata": {},
   "outputs": [
    {
     "name": "stdout",
     "output_type": "stream",
     "text": [
      "[1, 3, 5, 7, 9, 0, 2, 4, 6, 8]\n"
     ]
    }
   ],
   "source": [
    "def is_odd(x):\n",
    "    return x % 2 == 0\n",
    "\n",
    "l = list(range(10))\n",
    "l.sort(key=is_odd)\n",
    "print(l)"
   ]
  },
  {
   "cell_type": "code",
   "execution_count": 13,
   "id": "b56fa8d2",
   "metadata": {},
   "outputs": [
    {
     "name": "stdout",
     "output_type": "stream",
     "text": [
      "[1, 3, 5, 7, 9, 0, 2, 4, 6, 8]\n"
     ]
    }
   ],
   "source": [
    "l = [x for x in range(10)]\n",
    "l.sort(key=lambda x: x % 2 == 0)\n",
    "print(l)"
   ]
  }
 ],
 "metadata": {
  "kernelspec": {
   "display_name": "Python 3 (ipykernel)",
   "language": "python",
   "name": "python3"
  },
  "language_info": {
   "codemirror_mode": {
    "name": "ipython",
    "version": 3
   },
   "file_extension": ".py",
   "mimetype": "text/x-python",
   "name": "python",
   "nbconvert_exporter": "python",
   "pygments_lexer": "ipython3",
   "version": "3.11.5"
  },
  "vscode": {
   "interpreter": {
    "hash": "c6e4e9f98eb68ad3b7c296f83d20e6de614cb42e90992a65aa266555a3137d0d"
   }
  }
 },
 "nbformat": 4,
 "nbformat_minor": 5
}

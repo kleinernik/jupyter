{
 "cells": [
  {
   "cell_type": "markdown",
   "id": "6473c9a3",
   "metadata": {},
   "source": [
    "# Variablen\n",
    "\n",
    "Es gibt keine Konstanten - Konvention ist all caps um eine Variable zu kennzeichnen, die als Konstante behandelt werden soll. \n",
    "\n",
    "Variablen können nicht ohne gleichzeitige Zuweisung deklariert werden.\n",
    "\n",
    "Variablen haben keinen festen Typ, sie sind nur ein Label für ein Objekt, das einen Typ hat. Es kann jederzeit ein anderes Objekt mit anderem Typ zugewiesen werden.\n",
    "\n",
    "Es gibt kein Keyword wie let oder var."
   ]
  },
  {
   "cell_type": "code",
   "execution_count": null,
   "id": "4a0f14ef",
   "metadata": {},
   "outputs": [],
   "source": [
    "x"
   ]
  },
  {
   "cell_type": "code",
   "execution_count": null,
   "id": "a1a70510",
   "metadata": {},
   "outputs": [],
   "source": [
    "my_var = 1\n",
    "my_other_var = 2"
   ]
  },
  {
   "cell_type": "code",
   "execution_count": null,
   "id": "97c5fc3e",
   "metadata": {},
   "outputs": [],
   "source": [
    "my_var = \"Test\""
   ]
  },
  {
   "cell_type": "code",
   "execution_count": null,
   "id": "465abd25",
   "metadata": {},
   "outputs": [],
   "source": [
    "MY_CONST = 42"
   ]
  },
  {
   "cell_type": "code",
   "execution_count": null,
   "id": "0622ff86",
   "metadata": {},
   "outputs": [],
   "source": [
    "MY_CONST = 43"
   ]
  },
  {
   "cell_type": "markdown",
   "id": "fed67be6",
   "metadata": {},
   "source": [
    "## In-Place Operatoren\n",
    "\n",
    "Häufig ist sowas nötig:"
   ]
  },
  {
   "cell_type": "code",
   "execution_count": null,
   "id": "2970ad89",
   "metadata": {},
   "outputs": [],
   "source": [
    "increment = 10\n",
    "value = 1\n",
    "for x in range(0, 10):\n",
    "    value = value + increment\n",
    "    print(value)"
   ]
  },
  {
   "cell_type": "markdown",
   "id": "e0637c7b",
   "metadata": {},
   "source": [
    "Hier wird also eine Variable in einer Rechnung genutzt und das Ergebnis der Variable selbst wieder zugewiesen. Dafür gibt es sogenannte In-Place Operatoren:"
   ]
  },
  {
   "cell_type": "code",
   "execution_count": null,
   "id": "3813762c",
   "metadata": {},
   "outputs": [],
   "source": [
    "increment = 10\n",
    "value = 1\n",
    "for x in range(0, 10):\n",
    "    value += increment\n",
    "    print(value)"
   ]
  },
  {
   "cell_type": "code",
   "execution_count": null,
   "id": "359139dd",
   "metadata": {},
   "outputs": [],
   "source": [
    "v = 1\n",
    "v -= 1\n",
    "v"
   ]
  },
  {
   "cell_type": "code",
   "execution_count": null,
   "id": "cd592092",
   "metadata": {},
   "outputs": [],
   "source": [
    "v = 4\n",
    "v /= 2\n",
    "v"
   ]
  },
  {
   "cell_type": "code",
   "execution_count": null,
   "id": "329f8ecc",
   "metadata": {},
   "outputs": [],
   "source": [
    "v = 1\n",
    "v *= 2\n",
    "v"
   ]
  },
  {
   "cell_type": "code",
   "execution_count": null,
   "id": "2e664874",
   "metadata": {},
   "outputs": [],
   "source": [
    "v = 2\n",
    "v **= 2\n",
    "v"
   ]
  },
  {
   "cell_type": "code",
   "execution_count": null,
   "id": "15ff3940",
   "metadata": {},
   "outputs": [],
   "source": [
    "v = 7\n",
    "v //= 2\n",
    "v"
   ]
  },
  {
   "cell_type": "code",
   "execution_count": null,
   "id": "255b9003",
   "metadata": {},
   "outputs": [],
   "source": [
    "v = 7\n",
    "v %= 2\n",
    "v"
   ]
  },
  {
   "cell_type": "code",
   "execution_count": null,
   "id": "c84359b0",
   "metadata": {},
   "outputs": [],
   "source": [
    "v = True\n",
    "v &= False\n",
    "v"
   ]
  },
  {
   "cell_type": "code",
   "execution_count": null,
   "id": "133d7df6",
   "metadata": {},
   "outputs": [],
   "source": [
    "v = True\n",
    "v |= False\n",
    "v"
   ]
  },
  {
   "cell_type": "code",
   "execution_count": null,
   "id": "130c888e",
   "metadata": {},
   "outputs": [],
   "source": [
    "v = 0b11\n",
    "v <<= 2\n",
    "bin(v)"
   ]
  },
  {
   "cell_type": "code",
   "execution_count": null,
   "id": "562b32bb",
   "metadata": {},
   "outputs": [],
   "source": [
    "v = 0b11\n",
    "v >>= 1\n",
    "bin(v)"
   ]
  },
  {
   "cell_type": "code",
   "execution_count": null,
   "id": "c7450b60",
   "metadata": {},
   "outputs": [],
   "source": [
    "v = 0b11\n",
    "v ^= 0b10\n",
    "bin(v)"
   ]
  },
  {
   "cell_type": "markdown",
   "id": "99f61716-efe1-455a-89d9-cf4d86214b09",
   "metadata": {},
   "source": [
    "## Walrus-Operator\n",
    "\n",
    "Für Zuweisungen in Schleifen oder Bedingungen"
   ]
  },
  {
   "cell_type": "code",
   "execution_count": null,
   "id": "4ca9b85f-4cea-4417-9e5f-e8d5d98c6dcc",
   "metadata": {},
   "outputs": [],
   "source": [
    "# Ohne\n",
    "\n",
    "x = 10 + 10\n",
    "if x > 15:\n",
    "    print(str(x) + \" is bigger\")"
   ]
  },
  {
   "cell_type": "code",
   "execution_count": null,
   "id": "ac298819-1442-4d73-b60a-8222eb015cac",
   "metadata": {},
   "outputs": [],
   "source": [
    "# mit\n",
    "\n",
    "if (x := 10 + 10) > 15:\n",
    "    print(str(x) + \" is bigger\")"
   ]
  }
 ],
 "metadata": {
  "kernelspec": {
   "display_name": "Python 3 (ipykernel)",
   "language": "python",
   "name": "python3"
  },
  "language_info": {
   "codemirror_mode": {
    "name": "ipython",
    "version": 3
   },
   "file_extension": ".py",
   "mimetype": "text/x-python",
   "name": "python",
   "nbconvert_exporter": "python",
   "pygments_lexer": "ipython3",
   "version": "3.11.5"
  }
 },
 "nbformat": 4,
 "nbformat_minor": 5
}

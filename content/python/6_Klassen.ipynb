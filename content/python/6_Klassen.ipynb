{
 "cells": [
  {
   "cell_type": "markdown",
   "id": "3068a3e4",
   "metadata": {},
   "source": [
    "# Klassen\n",
    "\n",
    "Einfache Klasse ohne Attribute und Methode als Datenkontainer nutzbar"
   ]
  },
  {
   "cell_type": "code",
   "execution_count": null,
   "id": "a92c1f9e",
   "metadata": {},
   "outputs": [],
   "source": [
    "class MyClass:\n",
    "    pass"
   ]
  },
  {
   "cell_type": "markdown",
   "id": "1aa01cf3",
   "metadata": {},
   "source": [
    "Klassen sind selber Objekte und können Attribute haben und können instanziiert werden"
   ]
  },
  {
   "cell_type": "code",
   "execution_count": 23,
   "id": "983f4465",
   "metadata": {},
   "outputs": [
    {
     "data": {
      "text/plain": [
       "type"
      ]
     },
     "execution_count": 23,
     "metadata": {},
     "output_type": "execute_result"
    }
   ],
   "source": [
    "type(MyClass)"
   ]
  },
  {
   "cell_type": "code",
   "execution_count": 8,
   "id": "d6352227",
   "metadata": {},
   "outputs": [
    {
     "name": "stdout",
     "output_type": "stream",
     "text": [
      "MyClass\n"
     ]
    }
   ],
   "source": [
    "MyClass.attr1 = 'MyClass'\n",
    "print(MyClass.attr1)"
   ]
  },
  {
   "cell_type": "markdown",
   "id": "bae2806c",
   "metadata": {},
   "source": [
    "Instanziieren geht ohne `new`-Keyword"
   ]
  },
  {
   "cell_type": "code",
   "execution_count": 2,
   "id": "df742f38",
   "metadata": {},
   "outputs": [],
   "source": [
    "my_class_instance = MyClass()"
   ]
  },
  {
   "cell_type": "markdown",
   "id": "386b43c5",
   "metadata": {},
   "source": [
    "Hier wird der Klasse ein Funktion als Attribut zugewiesen"
   ]
  },
  {
   "cell_type": "code",
   "execution_count": 11,
   "id": "b2d69fec",
   "metadata": {},
   "outputs": [
    {
     "name": "stdout",
     "output_type": "stream",
     "text": [
      "MyClass\n"
     ]
    }
   ],
   "source": [
    "def print_attr1(self):\n",
    "    print(self.attr1)\n",
    "    \n",
    "MyClass.print_attr1 = print_attr1\n",
    "\n",
    "mci = MyClass()\n",
    "\n",
    "mci.print_attr1()"
   ]
  },
  {
   "cell_type": "markdown",
   "id": "b479e1a9",
   "metadata": {},
   "source": [
    "Instanzobjekte haben Attribute und Methoden. Diese müssen nicht schon durch die Klasse definiert werden"
   ]
  },
  {
   "cell_type": "code",
   "execution_count": 5,
   "id": "a729d906",
   "metadata": {},
   "outputs": [],
   "source": [
    "my_class_instance.name = \"Instance1\""
   ]
  },
  {
   "cell_type": "code",
   "execution_count": 6,
   "id": "c6101763",
   "metadata": {},
   "outputs": [
    {
     "name": "stdout",
     "output_type": "stream",
     "text": [
      "Instance1\n"
     ]
    }
   ],
   "source": [
    "print(my_class_instance.name)"
   ]
  },
  {
   "cell_type": "markdown",
   "id": "69a3ad57",
   "metadata": {},
   "source": [
    "Allen Instanzmethoden wird das Objekt selbst impliziet als erster Parameter übergeben"
   ]
  },
  {
   "cell_type": "code",
   "execution_count": 13,
   "id": "4f9df7b3",
   "metadata": {},
   "outputs": [
    {
     "name": "stdout",
     "output_type": "stream",
     "text": [
      "hallo\n"
     ]
    }
   ],
   "source": [
    "class MyNewClass:\n",
    "    \n",
    "    def __init__(self, msg):\n",
    "        self.message = msg\n",
    "        \n",
    "    def print_message(self):\n",
    "        print(self.message)\n",
    "        \n",
    "mnci = MyNewClass(\"hallo\")\n",
    "\n",
    "mnci.print_message()"
   ]
  },
  {
   "cell_type": "code",
   "execution_count": 27,
   "id": "6fb32ea1",
   "metadata": {},
   "outputs": [
    {
     "name": "stdout",
     "output_type": "stream",
     "text": [
      "hallo\n"
     ]
    }
   ],
   "source": [
    "MyNewClass.print_message(mnci)"
   ]
  },
  {
   "cell_type": "code",
   "execution_count": 28,
   "id": "ddfd6a99",
   "metadata": {},
   "outputs": [
    {
     "data": {
      "text/plain": [
       "__main__.MyNewClass"
      ]
     },
     "execution_count": 28,
     "metadata": {},
     "output_type": "execute_result"
    }
   ],
   "source": [
    "type(mnci)"
   ]
  },
  {
   "cell_type": "markdown",
   "id": "7b1f1961",
   "metadata": {},
   "source": [
    "## Vererbung\n",
    "\n",
    "In Python gibt es Mehrfachvererbung"
   ]
  },
  {
   "cell_type": "code",
   "execution_count": 20,
   "id": "b3066c4e",
   "metadata": {},
   "outputs": [
    {
     "name": "stdout",
     "output_type": "stream",
     "text": [
      "Niklas 41\n"
     ]
    }
   ],
   "source": [
    "class Person:\n",
    "    \n",
    "    def __init__(self, name, age):\n",
    "        self.name = name\n",
    "        self.age = age\n",
    "        \n",
    "    def print_info(self):\n",
    "        print(self.name, self.age)\n",
    "        \n",
    "class Dad:\n",
    "    \n",
    "    def __init__(self, kids):\n",
    "        self.kids = kids\n",
    "        \n",
    "class Professor(Person, Dad):\n",
    "    \n",
    "    def __init__(self, name, age, office):\n",
    "        super().__init__(name, age)\n",
    "        self.office = office\n",
    "        \n",
    "me = Professor(\"Niklas\", 41, \"A6\")\n",
    "me.print_info()"
   ]
  },
  {
   "cell_type": "markdown",
   "id": "d8ac28de",
   "metadata": {},
   "source": [
    "# Namensräume (Namespace) und Scope"
   ]
  },
  {
   "cell_type": "code",
   "execution_count": 41,
   "id": "3f48aa6a",
   "metadata": {},
   "outputs": [
    {
     "name": "stdout",
     "output_type": "stream",
     "text": [
      "['self', 'x']\n",
      "['Dad', 'In', 'MyClass', 'MyNewClass', 'Out', 'Person', 'Professor', 'Test', '_', '_15', '_21', '_22', '_23', '_25', '_28', '_29', '_30', '_31', '_32', '_35', '_4', '__', '___', '__builtin__', '__builtins__', '__doc__', '__loader__', '__name__', '__package__', '__spec__', '_dh', '_i', '_i1', '_i10', '_i11', '_i12', '_i13', '_i14', '_i15', '_i16', '_i17', '_i18', '_i19', '_i2', '_i20', '_i21', '_i22', '_i23', '_i24', '_i25', '_i26', '_i27', '_i28', '_i29', '_i3', '_i30', '_i31', '_i32', '_i33', '_i35', '_i36', '_i37', '_i38', '_i39', '_i4', '_i40', '_i41', '_i5', '_i6', '_i7', '_i8', '_i9', '_ih', '_ii', '_iii', '_oh', 'builtins', 'exit', 'get_ipython', 'mci', 'me', 'mnci', 'my_class_instance', 'print_attr1', 'quit', 't']\n",
      "['ArithmeticError', 'AssertionError', 'AttributeError', 'BaseException', 'BlockingIOError', 'BrokenPipeError', 'BufferError', 'BytesWarning', 'ChildProcessError', 'ConnectionAbortedError', 'ConnectionError', 'ConnectionRefusedError', 'ConnectionResetError', 'DeprecationWarning', 'EOFError', 'Ellipsis', 'EncodingWarning', 'EnvironmentError', 'Exception', 'False', 'FileExistsError', 'FileNotFoundError', 'FloatingPointError', 'FutureWarning', 'GeneratorExit', 'IOError', 'ImportError', 'ImportWarning', 'IndentationError', 'IndexError', 'InterruptedError', 'IsADirectoryError', 'KeyError', 'KeyboardInterrupt', 'LookupError', 'MemoryError', 'ModuleNotFoundError', 'NameError', 'None', 'NotADirectoryError', 'NotImplemented', 'NotImplementedError', 'OSError', 'OverflowError', 'PendingDeprecationWarning', 'PermissionError', 'ProcessLookupError', 'RecursionError', 'ReferenceError', 'ResourceWarning', 'RuntimeError', 'RuntimeWarning', 'StopAsyncIteration', 'StopIteration', 'SyntaxError', 'SyntaxWarning', 'SystemError', 'SystemExit', 'TabError', 'TimeoutError', 'True', 'TypeError', 'UnboundLocalError', 'UnicodeDecodeError', 'UnicodeEncodeError', 'UnicodeError', 'UnicodeTranslateError', 'UnicodeWarning', 'UserWarning', 'ValueError', 'Warning', 'ZeroDivisionError', '__IPYTHON__', '__build_class__', '__debug__', '__doc__', '__import__', '__loader__', '__name__', '__package__', '__spec__', 'abs', 'aiter', 'all', 'anext', 'any', 'ascii', 'bin', 'bool', 'breakpoint', 'bytearray', 'bytes', 'callable', 'chr', 'classmethod', 'compile', 'complex', 'copyright', 'credits', 'delattr', 'dict', 'dir', 'display', 'divmod', 'enumerate', 'eval', 'exec', 'execfile', 'filter', 'float', 'format', 'frozenset', 'get_ipython', 'getattr', 'globals', 'hasattr', 'hash', 'help', 'hex', 'id', 'input', 'int', 'isinstance', 'issubclass', 'iter', 'len', 'license', 'list', 'locals', 'map', 'max', 'memoryview', 'min', 'next', 'object', 'oct', 'open', 'ord', 'pow', 'print', 'property', 'range', 'repr', 'reversed', 'round', 'runfile', 'set', 'setattr', 'slice', 'sorted', 'staticmethod', 'str', 'sum', 'super', 'tuple', 'type', 'vars', 'zip']\n"
     ]
    }
   ],
   "source": [
    "class Test:\n",
    "    def dir(self):\n",
    "        x = 42\n",
    "        return dir() # local namespace\n",
    "    \n",
    "t = Test()\n",
    "print(t.dir())\n",
    "print(dir()) # global namespace (of module)\n",
    "import builtins\n",
    "print(dir(builtins)) # builtins namespace"
   ]
  },
  {
   "cell_type": "code",
   "execution_count": 51,
   "id": "a662fcc0",
   "metadata": {},
   "outputs": [
    {
     "name": "stdout",
     "output_type": "stream",
     "text": [
      "42\n"
     ]
    }
   ],
   "source": [
    "def outer():\n",
    "    x = 42\n",
    "    def inner():\n",
    "        x = 43 # local namespace, outer's namespace is non-local\n",
    "    inner()\n",
    "    print(x)\n",
    "    \n",
    "outer()"
   ]
  },
  {
   "cell_type": "code",
   "execution_count": 52,
   "id": "bbb47f6a",
   "metadata": {},
   "outputs": [
    {
     "name": "stdout",
     "output_type": "stream",
     "text": [
      "43\n"
     ]
    }
   ],
   "source": [
    "def outer():\n",
    "    x = 42\n",
    "    def inner():\n",
    "        nonlocal x\n",
    "        x = 43\n",
    "    inner()\n",
    "    print(x)\n",
    "    \n",
    "outer()"
   ]
  },
  {
   "cell_type": "code",
   "execution_count": 54,
   "id": "16750230",
   "metadata": {},
   "outputs": [
    {
     "name": "stdout",
     "output_type": "stream",
     "text": [
      "1\n",
      "42\n",
      "43\n"
     ]
    }
   ],
   "source": [
    "x = 1\n",
    "def outer():\n",
    "    x = 42\n",
    "    def inner():\n",
    "        global x\n",
    "        x = 43\n",
    "    inner()\n",
    "    print(x)\n",
    "\n",
    "print(x)\n",
    "outer()\n",
    "print(x)"
   ]
  },
  {
   "cell_type": "code",
   "execution_count": null,
   "id": "50627cc1",
   "metadata": {},
   "outputs": [],
   "source": []
  }
 ],
 "metadata": {
  "kernelspec": {
   "display_name": "Python 3 (ipykernel)",
   "language": "python",
   "name": "python3"
  },
  "language_info": {
   "codemirror_mode": {
    "name": "ipython",
    "version": 3
   },
   "file_extension": ".py",
   "mimetype": "text/x-python",
   "name": "python",
   "nbconvert_exporter": "python",
   "pygments_lexer": "ipython3",
   "version": "3.10.6"
  }
 },
 "nbformat": 4,
 "nbformat_minor": 5
}

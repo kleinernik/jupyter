{
  "cells": [
    {
      "cell_type": "markdown",
      "metadata": {},
      "source": [
        "# Typen - Fortsetzung\n",
        "\n",
        "## Zeichenketten (strings)"
      ]
    },
    {
      "cell_type": "code",
      "execution_count": 1,
      "metadata": {
        "trusted": true,
        "vscode": {
          "languageId": "javascript"
        }
      },
      "outputs": [
        {
          "ename": "SyntaxError",
          "evalue": "invalid syntax (187710193.py, line 1)",
          "output_type": "error",
          "traceback": [
            "\u001b[0;36m  Input \u001b[0;32mIn [1]\u001b[0;36m\u001b[0m\n\u001b[0;31m    typeof 'test'\u001b[0m\n\u001b[0m           ^\u001b[0m\n\u001b[0;31mSyntaxError\u001b[0m\u001b[0;31m:\u001b[0m invalid syntax\n"
          ]
        }
      ],
      "source": [
        "typeof 'test'"
      ]
    },
    {
      "cell_type": "code",
      "execution_count": 62,
      "metadata": {
        "trusted": true,
        "vscode": {
          "languageId": "javascript"
        }
      },
      "outputs": [
        {
          "data": {
            "text/plain": [
              "string"
            ]
          },
          "execution_count": 62,
          "metadata": {},
          "output_type": "execute_result"
        }
      ],
      "source": [
        "typeof \"test\""
      ]
    },
    {
      "cell_type": "code",
      "execution_count": 63,
      "metadata": {
        "trusted": true,
        "vscode": {
          "languageId": "javascript"
        }
      },
      "outputs": [
        {
          "data": {
            "text/plain": [
              "string"
            ]
          },
          "execution_count": 63,
          "metadata": {},
          "output_type": "execute_result"
        }
      ],
      "source": [
        "typeof `test`"
      ]
    },
    {
      "cell_type": "markdown",
      "metadata": {},
      "source": [
        "JavaScript strings sind UTF-16 "
      ]
    },
    {
      "cell_type": "code",
      "execution_count": 64,
      "metadata": {
        "trusted": true,
        "vscode": {
          "languageId": "javascript"
        }
      },
      "outputs": [
        {
          "data": {},
          "execution_count": 64,
          "metadata": {},
          "output_type": "execute_result"
        },
        {
          "name": "stdout",
          "output_type": "stream",
          "text": [
            "1 ☺\n"
          ]
        }
      ],
      "source": [
        "const smiley = '☺';\n",
        "console.log(smiley.length, smiley)"
      ]
    },
    {
      "cell_type": "markdown",
      "metadata": {},
      "source": [
        "### Literale\n",
        "\n",
        "Strings können in einfache oder doppelte Anführungszeichen gesetzt werden. Der Backslash `\\` wird für das \"Escapen\" benutzt.\n",
        "\n",
        "Der Backtick ist das Templateliteral."
      ]
    },
    {
      "cell_type": "code",
      "execution_count": 65,
      "metadata": {
        "trusted": true,
        "vscode": {
          "languageId": "javascript"
        }
      },
      "outputs": [
        {
          "data": {
            "text/plain": [
              "Niklas' Auto"
            ]
          },
          "execution_count": 65,
          "metadata": {},
          "output_type": "execute_result"
        }
      ],
      "source": [
        "\"Niklas' Auto\""
      ]
    },
    {
      "cell_type": "code",
      "execution_count": 66,
      "metadata": {
        "trusted": true,
        "vscode": {
          "languageId": "javascript"
        }
      },
      "outputs": [
        {
          "data": {
            "text/plain": [
              "Ich sagte \"Hallo Welt\""
            ]
          },
          "execution_count": 66,
          "metadata": {},
          "output_type": "execute_result"
        }
      ],
      "source": [
        "'Ich sagte \"Hallo Welt\"'"
      ]
    },
    {
      "cell_type": "code",
      "execution_count": 67,
      "metadata": {
        "trusted": true,
        "vscode": {
          "languageId": "javascript"
        }
      },
      "outputs": [
        {
          "data": {},
          "execution_count": 67,
          "metadata": {},
          "output_type": "execute_result"
        },
        {
          "name": "stdout",
          "output_type": "stream",
          "text": [
            "the answer to everything is 42\n"
          ]
        }
      ],
      "source": [
        "const answer = 42;\n",
        "\n",
        "console.log(`the answer to everything is ${42}`)"
      ]
    },
    {
      "cell_type": "markdown",
      "metadata": {},
      "source": [
        "Templates können mit `String.raw` \"getagged\" werden, dann wird der Backslash als normales Zeichen behandet:"
      ]
    },
    {
      "cell_type": "code",
      "execution_count": 68,
      "metadata": {
        "trusted": true,
        "vscode": {
          "languageId": "javascript"
        }
      },
      "outputs": [
        {
          "data": {
            "text/plain": [
              "\\ \\n\\t42"
            ]
          },
          "execution_count": 68,
          "metadata": {},
          "output_type": "execute_result"
        }
      ],
      "source": [
        "String.raw`\\ \\n\\t${42}`"
      ]
    },
    {
      "cell_type": "markdown",
      "metadata": {},
      "source": [
        "### Zu string konvertieren"
      ]
    },
    {
      "cell_type": "code",
      "execution_count": 69,
      "metadata": {
        "trusted": true,
        "vscode": {
          "languageId": "javascript"
        }
      },
      "outputs": [
        {
          "data": {
            "text/plain": [
              "null"
            ]
          },
          "execution_count": 69,
          "metadata": {},
          "output_type": "execute_result"
        }
      ],
      "source": [
        "String(null)"
      ]
    },
    {
      "cell_type": "code",
      "execution_count": 70,
      "metadata": {
        "trusted": true,
        "vscode": {
          "languageId": "javascript"
        }
      },
      "outputs": [
        {
          "data": {
            "text/plain": [
              "123"
            ]
          },
          "execution_count": 70,
          "metadata": {},
          "output_type": "execute_result"
        }
      ],
      "source": [
        "String(123)"
      ]
    },
    {
      "cell_type": "markdown",
      "metadata": {},
      "source": [
        "### Auf einzelnen Buchstaben eines Strings zugreifen"
      ]
    },
    {
      "cell_type": "code",
      "execution_count": 71,
      "metadata": {
        "trusted": true,
        "vscode": {
          "languageId": "javascript"
        }
      },
      "outputs": [
        {
          "data": {},
          "execution_count": 71,
          "metadata": {},
          "output_type": "execute_result"
        },
        {
          "name": "stdout",
          "output_type": "stream",
          "text": [
            "N\n"
          ]
        }
      ],
      "source": [
        "const myString = 'Niklas'\n",
        "\n",
        "console.log(myString[0])"
      ]
    },
    {
      "cell_type": "code",
      "execution_count": 72,
      "metadata": {
        "trusted": true,
        "vscode": {
          "languageId": "javascript"
        }
      },
      "outputs": [
        {
          "data": {},
          "execution_count": 72,
          "metadata": {},
          "output_type": "execute_result"
        },
        {
          "name": "stdout",
          "output_type": "stream",
          "text": [
            "l\n"
          ]
        }
      ],
      "source": [
        "const myString = 'Niklas'\n",
        "\n",
        "console.log(myString.at(3))"
      ]
    },
    {
      "cell_type": "markdown",
      "metadata": {},
      "source": [
        "### Teilstrings"
      ]
    },
    {
      "cell_type": "code",
      "execution_count": 73,
      "metadata": {
        "trusted": true,
        "vscode": {
          "languageId": "javascript"
        }
      },
      "outputs": [
        {
          "data": {
            "text/plain": [
              "Nik"
            ]
          },
          "execution_count": 73,
          "metadata": {},
          "output_type": "execute_result"
        }
      ],
      "source": [
        "'Niklas'.slice(0,3)"
      ]
    },
    {
      "cell_type": "markdown",
      "metadata": {},
      "source": [
        "### Concatenation"
      ]
    },
    {
      "cell_type": "code",
      "execution_count": 74,
      "metadata": {
        "trusted": true,
        "vscode": {
          "languageId": "javascript"
        }
      },
      "outputs": [
        {
          "data": {
            "text/plain": [
              "Niklas Klein"
            ]
          },
          "execution_count": 74,
          "metadata": {},
          "output_type": "execute_result"
        }
      ],
      "source": [
        "'Niklas' + ' ' + 'Klein'"
      ]
    },
    {
      "cell_type": "code",
      "execution_count": 75,
      "metadata": {
        "trusted": true,
        "vscode": {
          "languageId": "javascript"
        }
      },
      "outputs": [
        {
          "data": {
            "text/plain": [
              "Niklas Klein"
            ]
          },
          "execution_count": 75,
          "metadata": {},
          "output_type": "execute_result"
        }
      ],
      "source": [
        "['Niklas', 'Klein'].join(' ')"
      ]
    },
    {
      "cell_type": "markdown",
      "metadata": {},
      "source": [
        "### Weitere Methoden"
      ]
    },
    {
      "cell_type": "code",
      "execution_count": 76,
      "metadata": {
        "trusted": true,
        "vscode": {
          "languageId": "javascript"
        }
      },
      "outputs": [
        {
          "data": {
            "text/plain": [
              "true"
            ]
          },
          "execution_count": 76,
          "metadata": {},
          "output_type": "execute_result"
        }
      ],
      "source": [
        "'Niklas'.includes('i')"
      ]
    },
    {
      "cell_type": "code",
      "execution_count": 77,
      "metadata": {
        "trusted": true,
        "vscode": {
          "languageId": "javascript"
        }
      },
      "outputs": [
        {
          "data": {
            "text/plain": [
              "true"
            ]
          },
          "execution_count": 77,
          "metadata": {},
          "output_type": "execute_result"
        }
      ],
      "source": [
        "'Niklas'.startsWith('N')"
      ]
    },
    {
      "cell_type": "code",
      "execution_count": 78,
      "metadata": {
        "trusted": true,
        "vscode": {
          "languageId": "javascript"
        }
      },
      "outputs": [
        {
          "data": {
            "text/plain": [
              "true"
            ]
          },
          "execution_count": 78,
          "metadata": {},
          "output_type": "execute_result"
        }
      ],
      "source": [
        "'Niklas'.endsWith('s')"
      ]
    },
    {
      "cell_type": "code",
      "execution_count": 79,
      "metadata": {
        "trusted": true,
        "vscode": {
          "languageId": "javascript"
        }
      },
      "outputs": [
        {
          "data": {
            "text/plain": [
              "3"
            ]
          },
          "execution_count": 79,
          "metadata": {},
          "output_type": "execute_result"
        }
      ],
      "source": [
        "'Niklas Klein'.indexOf('l')"
      ]
    },
    {
      "cell_type": "code",
      "execution_count": 80,
      "metadata": {
        "trusted": true,
        "vscode": {
          "languageId": "javascript"
        }
      },
      "outputs": [
        {
          "data": {
            "text/plain": [
              "8"
            ]
          },
          "execution_count": 80,
          "metadata": {},
          "output_type": "execute_result"
        }
      ],
      "source": [
        "'Niklas Klein'.lastIndexOf('l')"
      ]
    },
    {
      "cell_type": "code",
      "execution_count": 81,
      "metadata": {
        "trusted": true,
        "vscode": {
          "languageId": "javascript"
        }
      },
      "outputs": [
        {
          "data": {
            "text/plain": [
              "[\"Niklas\",\"Klein\"]"
            ]
          },
          "execution_count": 81,
          "metadata": {},
          "output_type": "execute_result"
        }
      ],
      "source": [
        "JSON.stringify('Niklas Klein'.split(' '))"
      ]
    },
    {
      "cell_type": "code",
      "execution_count": 82,
      "metadata": {
        "trusted": true,
        "vscode": {
          "languageId": "javascript"
        }
      },
      "outputs": [
        {
          "data": {
            "text/plain": [
              "[\"Niklas\",\"Klein\"]"
            ]
          },
          "execution_count": 82,
          "metadata": {},
          "output_type": "execute_result"
        }
      ],
      "source": [
        "JSON.stringify('Niklas Klein'.split(/\\s/)) // Regulärer Ausdruck"
      ]
    },
    {
      "cell_type": "code",
      "execution_count": 83,
      "metadata": {
        "trusted": true,
        "vscode": {
          "languageId": "javascript"
        }
      },
      "outputs": [
        {
          "data": {
            "text/plain": [
              "**********"
            ]
          },
          "execution_count": 83,
          "metadata": {},
          "output_type": "execute_result"
        }
      ],
      "source": [
        "'*'.repeat(10)"
      ]
    },
    {
      "cell_type": "code",
      "execution_count": 84,
      "metadata": {
        "trusted": true,
        "vscode": {
          "languageId": "javascript"
        }
      },
      "outputs": [
        {
          "data": {
            "text/plain": [
              "NIKLAS"
            ]
          },
          "execution_count": 84,
          "metadata": {},
          "output_type": "execute_result"
        }
      ],
      "source": [
        "'Niklas'.toUpperCase()"
      ]
    },
    {
      "cell_type": "code",
      "execution_count": 85,
      "metadata": {
        "trusted": true,
        "vscode": {
          "languageId": "javascript"
        }
      },
      "outputs": [
        {
          "data": {
            "text/plain": [
              "niklas"
            ]
          },
          "execution_count": 85,
          "metadata": {},
          "output_type": "execute_result"
        }
      ],
      "source": [
        "'Niklas'.toLowerCase()"
      ]
    },
    {
      "cell_type": "code",
      "execution_count": 86,
      "metadata": {
        "trusted": true,
        "vscode": {
          "languageId": "javascript"
        }
      },
      "outputs": [
        {
          "data": {
            "text/plain": [
              "Niklas-Klein"
            ]
          },
          "execution_count": 86,
          "metadata": {},
          "output_type": "execute_result"
        }
      ],
      "source": [
        "'Niklas Klein'.replace(/\\s/, '-')"
      ]
    },
    {
      "cell_type": "code",
      "execution_count": 87,
      "metadata": {
        "trusted": true,
        "vscode": {
          "languageId": "javascript"
        }
      },
      "outputs": [
        {
          "data": {
            "text/plain": [
              "Niklas Klein"
            ]
          },
          "execution_count": 87,
          "metadata": {},
          "output_type": "execute_result"
        }
      ],
      "source": [
        "' Niklas Klein '.trim()"
      ]
    },
    {
      "cell_type": "markdown",
      "metadata": {},
      "source": [
        "### Serialisieren zu String\n",
        "\n",
        "Objekte und Arrays haben \"eingebaute\" toString-Methoden, die auch überschrieben werden können.\n",
        "\n",
        "Diese sind nicht besonders hilfreich. Mit der Ausnahme von Bigint, ist die JavaScript Object Notation (JSON) eine bessere Lösung.\n",
        "\n",
        "JSON kann auch von vielen anderen Sprachen gelesen und geschrieben werden."
      ]
    },
    {
      "cell_type": "code",
      "execution_count": 88,
      "metadata": {
        "trusted": true,
        "vscode": {
          "languageId": "javascript"
        }
      },
      "outputs": [
        {
          "data": {
            "text/plain": [
              "{\"firstname\":\"Niklas\",\"lastname\":\"Klein\"}"
            ]
          },
          "execution_count": 88,
          "metadata": {},
          "output_type": "execute_result"
        }
      ],
      "source": [
        "const person = {\n",
        "    firstname: 'Niklas',\n",
        "    lastname: 'Klein'\n",
        "};\n",
        "\n",
        "JSON.stringify(person);"
      ]
    },
    {
      "cell_type": "code",
      "execution_count": 89,
      "metadata": {
        "trusted": true,
        "vscode": {
          "languageId": "javascript"
        }
      },
      "outputs": [
        {
          "data": {
            "text/plain": [
              "Niklas"
            ]
          },
          "execution_count": 89,
          "metadata": {},
          "output_type": "execute_result"
        }
      ],
      "source": [
        "const personString = '{\"firstname\":\"Niklas\",\"lastname\":\"Klein\"}';\n",
        "\n",
        "const person = JSON.parse(personString);\n",
        "\n",
        "person.firstname"
      ]
    },
    {
      "cell_type": "markdown",
      "metadata": {},
      "source": [
        "### Strings vergleichen\n",
        "\n",
        "`===`, `<`, `<=`. `>`, `>=`"
      ]
    },
    {
      "cell_type": "code",
      "execution_count": 90,
      "metadata": {
        "trusted": true,
        "vscode": {
          "languageId": "javascript"
        }
      },
      "outputs": [
        {
          "data": {
            "text/plain": [
              "true"
            ]
          },
          "execution_count": 90,
          "metadata": {},
          "output_type": "execute_result"
        }
      ],
      "source": [
        "'Niklas' === 'Niklas'"
      ]
    },
    {
      "cell_type": "code",
      "execution_count": 91,
      "metadata": {
        "trusted": true,
        "vscode": {
          "languageId": "javascript"
        }
      },
      "outputs": [
        {
          "data": {
            "text/plain": [
              "true"
            ]
          },
          "execution_count": 91,
          "metadata": {},
          "output_type": "execute_result"
        }
      ],
      "source": [
        "'a' < 'b'"
      ]
    },
    {
      "cell_type": "code",
      "execution_count": 92,
      "metadata": {
        "trusted": true,
        "vscode": {
          "languageId": "javascript"
        }
      },
      "outputs": [
        {
          "data": {
            "text/plain": []
          },
          "execution_count": 92,
          "metadata": {},
          "output_type": "execute_result"
        }
      ],
      "source": [
        "'a' < 'B'"
      ]
    },
    {
      "cell_type": "markdown",
      "metadata": {},
      "source": [
        "Es wird nicht alphabetisch vergleichen, sondern der Codepoint."
      ]
    },
    {
      "cell_type": "code",
      "execution_count": 93,
      "metadata": {
        "trusted": true,
        "vscode": {
          "languageId": "javascript"
        }
      },
      "outputs": [
        {
          "data": {
            "text/plain": [
              "66"
            ]
          },
          "execution_count": 93,
          "metadata": {},
          "output_type": "execute_result"
        }
      ],
      "source": [
        "'B'.codePointAt(0)"
      ]
    },
    {
      "cell_type": "code",
      "execution_count": 94,
      "metadata": {
        "trusted": true,
        "vscode": {
          "languageId": "javascript"
        }
      },
      "outputs": [
        {
          "data": {
            "text/plain": [
              "97"
            ]
          },
          "execution_count": 94,
          "metadata": {},
          "output_type": "execute_result"
        }
      ],
      "source": [
        "'a'.codePointAt(0)"
      ]
    },
    {
      "cell_type": "markdown",
      "metadata": {},
      "source": [
        "So kann alphabetisch sortiert werden:"
      ]
    },
    {
      "cell_type": "code",
      "execution_count": 95,
      "metadata": {
        "trusted": true,
        "vscode": {
          "languageId": "javascript"
        }
      },
      "outputs": [
        {
          "data": {},
          "execution_count": 95,
          "metadata": {},
          "output_type": "execute_result"
        },
        {
          "name": "stdout",
          "output_type": "stream",
          "text": [
            "a,A,C,Cab,Cde,d\n"
          ]
        }
      ],
      "source": [
        "let strings = [ 'a', 'A', 'd', 'C', 'Cde', 'Cab' ];\n",
        "const collator = new Intl.Collator('de');\n",
        "strings.sort((a, b) => collator.compare(a, b)); \n",
        "console.log(strings);"
      ]
    },
    {
      "cell_type": "code",
      "execution_count": 96,
      "metadata": {
        "trusted": true,
        "vscode": {
          "languageId": "javascript"
        }
      },
      "outputs": [
        {
          "data": {},
          "execution_count": 96,
          "metadata": {},
          "output_type": "execute_result"
        },
        {
          "name": "stdout",
          "output_type": "stream",
          "text": [
            "a,A,C,Cab,Cde,d\n",
            "a is smaller\n",
            "Yes\n",
            "Yes\n",
            "a\n",
            "b\n",
            "c\n",
            ":q\n",
            "0\n",
            "1\n",
            "2\n",
            "3\n",
            "4\n",
            "5\n",
            "6\n",
            "7\n",
            "8\n",
            "9\n",
            "Niklas\n",
            "Klein\n",
            "0 Niklas\n",
            "1 Klein\n",
            "0\n",
            "1\n",
            "2\n",
            "propKey\n",
            "firstname Niklas\n",
            "lastname Klein\n",
            "a\n",
            "---\n",
            "b\n",
            "Normal line\n",
            "Another normal line\n",
            "we've got an error here: Error: Hups\n",
            "done\n"
          ]
        }
      ],
      "source": [
        "let strings = [ 'a', 'A', 'd', 'C', 'Cde', 'Cab' ];\n",
        "strings.sort((a, b) => a.localeCompare(b)); \n",
        "console.log(strings);"
      ]
    },
    {
      "cell_type": "code",
      "execution_count": null,
      "metadata": {
        "vscode": {
          "languageId": "javascript"
        }
      },
      "outputs": [],
      "source": []
    }
  ],
  "metadata": {
    "interpreter": {
      "hash": "c6e4e9f98eb68ad3b7c296f83d20e6de614cb42e90992a65aa266555a3137d0d"
    },
    "kernelspec": {
      "display_name": "JavaScript",
      "language": "python",
      "name": "python3"
    },
    "language_info": {
      "codemirror_mode": {
        "name": "ipython",
        "version": 3
      },
      "file_extension": ".py",
      "mimetype": "text/x-python",
      "name": "python",
      "nbconvert_exporter": "python",
      "pygments_lexer": "ipython3",
      "version": "3.9.10"
    }
  },
  "nbformat": 4,
  "nbformat_minor": 4
}

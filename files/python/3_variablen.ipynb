{
 "cells": [
  {
   "cell_type": "markdown",
   "id": "6473c9a3",
   "metadata": {},
   "source": [
    "# Variablen\n",
    "\n",
    "Es gibt keine Konstanten - Konvention ist all caps um eine Variable zu kennzeichnen, die als Konstante behandelt werden soll. \n",
    "\n",
    "Variablen können nicht ohne gleichzeitige Zuweisung deklariert werden.\n",
    "\n",
    "Variablen haben keinen festen Typ, sie sind nur ein Label für ein Objekt, das einen Typ hat. Es kann jederzeit ein anderes Objekt mit anderem Typ zugewiesen werden.\n",
    "\n",
    "Es gibt kein Keyword wie let oder var."
   ]
  },
  {
   "cell_type": "code",
   "execution_count": 3,
   "id": "a1a70510",
   "metadata": {},
   "outputs": [],
   "source": [
    "my_var = 1\n",
    "my_other_var = 2"
   ]
  },
  {
   "cell_type": "code",
   "execution_count": 4,
   "id": "97c5fc3e",
   "metadata": {},
   "outputs": [],
   "source": [
    "my_var = \"Test\""
   ]
  },
  {
   "cell_type": "code",
   "execution_count": 5,
   "id": "465abd25",
   "metadata": {},
   "outputs": [],
   "source": [
    "MY_CONST = 42"
   ]
  },
  {
   "cell_type": "code",
   "execution_count": 6,
   "id": "0622ff86",
   "metadata": {},
   "outputs": [],
   "source": [
    "MY_CONST = 43"
   ]
  },
  {
   "cell_type": "markdown",
   "id": "fed67be6",
   "metadata": {},
   "source": [
    "## In-Place Operatoren\n",
    "\n",
    "Häufig ist sowas nötig:"
   ]
  },
  {
   "cell_type": "code",
   "execution_count": 7,
   "id": "2970ad89",
   "metadata": {},
   "outputs": [
    {
     "name": "stdout",
     "output_type": "stream",
     "text": [
      "11\n",
      "21\n",
      "31\n",
      "41\n",
      "51\n",
      "61\n",
      "71\n",
      "81\n",
      "91\n",
      "101\n"
     ]
    }
   ],
   "source": [
    "increment = 10\n",
    "value = 1\n",
    "for x in range(0, 10):\n",
    "    value = value + increment\n",
    "    print(value)"
   ]
  },
  {
   "cell_type": "markdown",
   "id": "e0637c7b",
   "metadata": {},
   "source": [
    "Hier wird also eine Variable in einer Rechnung genutzt und das Ergebnis der Variable selbst wieder zugewiesen. Dafür gibt es sogenannte In-Place Operatoren:"
   ]
  },
  {
   "cell_type": "code",
   "execution_count": 8,
   "id": "3813762c",
   "metadata": {},
   "outputs": [
    {
     "name": "stdout",
     "output_type": "stream",
     "text": [
      "11\n",
      "21\n",
      "31\n",
      "41\n",
      "51\n",
      "61\n",
      "71\n",
      "81\n",
      "91\n",
      "101\n"
     ]
    }
   ],
   "source": [
    "increment = 10\n",
    "value = 1\n",
    "for x in range(0, 10):\n",
    "    value += increment\n",
    "    print(value)"
   ]
  },
  {
   "cell_type": "code",
   "execution_count": 10,
   "id": "359139dd",
   "metadata": {},
   "outputs": [
    {
     "data": {
      "text/plain": [
       "0"
      ]
     },
     "execution_count": 10,
     "metadata": {},
     "output_type": "execute_result"
    }
   ],
   "source": [
    "v = 1\n",
    "v -= 1\n",
    "v"
   ]
  },
  {
   "cell_type": "code",
   "execution_count": 11,
   "id": "cd592092",
   "metadata": {},
   "outputs": [
    {
     "data": {
      "text/plain": [
       "2.0"
      ]
     },
     "execution_count": 11,
     "metadata": {},
     "output_type": "execute_result"
    }
   ],
   "source": [
    "v = 4\n",
    "v /= 2\n",
    "v"
   ]
  },
  {
   "cell_type": "code",
   "execution_count": 12,
   "id": "329f8ecc",
   "metadata": {},
   "outputs": [
    {
     "data": {
      "text/plain": [
       "2"
      ]
     },
     "execution_count": 12,
     "metadata": {},
     "output_type": "execute_result"
    }
   ],
   "source": [
    "v = 1\n",
    "v *= 2\n",
    "v"
   ]
  },
  {
   "cell_type": "code",
   "execution_count": 13,
   "id": "2e664874",
   "metadata": {},
   "outputs": [
    {
     "data": {
      "text/plain": [
       "4"
      ]
     },
     "execution_count": 13,
     "metadata": {},
     "output_type": "execute_result"
    }
   ],
   "source": [
    "v = 2\n",
    "v **= 2\n",
    "v"
   ]
  },
  {
   "cell_type": "code",
   "execution_count": 14,
   "id": "15ff3940",
   "metadata": {},
   "outputs": [
    {
     "data": {
      "text/plain": [
       "3"
      ]
     },
     "execution_count": 14,
     "metadata": {},
     "output_type": "execute_result"
    }
   ],
   "source": [
    "v = 7\n",
    "v //= 2\n",
    "v"
   ]
  },
  {
   "cell_type": "code",
   "execution_count": 15,
   "id": "255b9003",
   "metadata": {},
   "outputs": [
    {
     "data": {
      "text/plain": [
       "1"
      ]
     },
     "execution_count": 15,
     "metadata": {},
     "output_type": "execute_result"
    }
   ],
   "source": [
    "v = 7\n",
    "v %= 2\n",
    "v"
   ]
  },
  {
   "cell_type": "code",
   "execution_count": 16,
   "id": "c84359b0",
   "metadata": {},
   "outputs": [
    {
     "data": {
      "text/plain": [
       "False"
      ]
     },
     "execution_count": 16,
     "metadata": {},
     "output_type": "execute_result"
    }
   ],
   "source": [
    "v = True\n",
    "v &= False\n",
    "v"
   ]
  },
  {
   "cell_type": "code",
   "execution_count": 17,
   "id": "133d7df6",
   "metadata": {},
   "outputs": [
    {
     "data": {
      "text/plain": [
       "True"
      ]
     },
     "execution_count": 17,
     "metadata": {},
     "output_type": "execute_result"
    }
   ],
   "source": [
    "v = True\n",
    "v |= False\n",
    "v"
   ]
  },
  {
   "cell_type": "code",
   "execution_count": 18,
   "id": "130c888e",
   "metadata": {},
   "outputs": [
    {
     "data": {
      "text/plain": [
       "'0b1100'"
      ]
     },
     "execution_count": 18,
     "metadata": {},
     "output_type": "execute_result"
    }
   ],
   "source": [
    "v = 0b11\n",
    "v <<= 2\n",
    "bin(v)"
   ]
  },
  {
   "cell_type": "code",
   "execution_count": 19,
   "id": "562b32bb",
   "metadata": {},
   "outputs": [
    {
     "data": {
      "text/plain": [
       "'0b1'"
      ]
     },
     "execution_count": 19,
     "metadata": {},
     "output_type": "execute_result"
    }
   ],
   "source": [
    "v = 0b11\n",
    "v >>= 1\n",
    "bin(v)"
   ]
  },
  {
   "cell_type": "code",
   "execution_count": 20,
   "id": "c7450b60",
   "metadata": {},
   "outputs": [
    {
     "data": {
      "text/plain": [
       "'0b1'"
      ]
     },
     "execution_count": 20,
     "metadata": {},
     "output_type": "execute_result"
    }
   ],
   "source": [
    "v = 0b11\n",
    "v ^= 0b10\n",
    "bin(v)"
   ]
  },
  {
   "cell_type": "code",
   "execution_count": null,
   "id": "e658f7c1",
   "metadata": {},
   "outputs": [],
   "source": []
  }
 ],
 "metadata": {
  "kernelspec": {
   "display_name": "Python 3 (ipykernel)",
   "language": "python",
   "name": "python3"
  },
  "language_info": {
   "codemirror_mode": {
    "name": "ipython",
    "version": 3
   },
   "file_extension": ".py",
   "mimetype": "text/x-python",
   "name": "python",
   "nbconvert_exporter": "python",
   "pygments_lexer": "ipython3",
   "version": "3.10.6"
  }
 },
 "nbformat": 4,
 "nbformat_minor": 5
}

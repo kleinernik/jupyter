{
  "metadata": {
    "language_info": {
      "codemirror_mode": {
        "name": "javascript"
      },
      "file_extension": ".js",
      "mimetype": "text/javascript",
      "name": "javascript",
      "nbconvert_exporter": "javascript",
      "pygments_lexer": "javascript",
      "version": "es2017"
    },
    "kernelspec": {
      "name": "javascript",
      "display_name": "JavaScript",
      "language": "javascript"
    }
  },
  "nbformat_minor": 4,
  "nbformat": 4,
  "cells": [
    {
      "cell_type": "markdown",
      "source": "# Überblick über die Syntax von JavaScript",
      "metadata": {}
    },
    {
      "cell_type": "markdown",
      "source": "## Kommentare",
      "metadata": {}
    },
    {
      "cell_type": "code",
      "source": "// Kommentar mit einer Zeile",
      "metadata": {
        "trusted": true
      },
      "execution_count": 1,
      "outputs": [
        {
          "execution_count": 1,
          "output_type": "execute_result",
          "data": {},
          "metadata": {}
        }
      ]
    },
    {
      "cell_type": "code",
      "source": "/*\nMehrzeiliges Kommentar\nmacht ebenfalls einfach nichts\n*/",
      "metadata": {
        "trusted": true
      },
      "execution_count": 2,
      "outputs": [
        {
          "execution_count": 2,
          "output_type": "execute_result",
          "data": {},
          "metadata": {}
        }
      ]
    },
    {
      "cell_type": "markdown",
      "source": "## Primitive Werte",
      "metadata": {}
    },
    {
      "cell_type": "markdown",
      "source": "### Boolean (Boolsche Werte)",
      "metadata": {}
    },
    {
      "cell_type": "code",
      "source": "true",
      "metadata": {
        "trusted": true
      },
      "execution_count": 3,
      "outputs": [
        {
          "execution_count": 3,
          "output_type": "execute_result",
          "data": {
            "text/plain": true
          },
          "metadata": {}
        }
      ]
    },
    {
      "cell_type": "code",
      "source": "false",
      "metadata": {
        "trusted": true
      },
      "execution_count": 33,
      "outputs": [
        {
          "execution_count": 33,
          "output_type": "execute_result",
          "data": {
            "text/plain": false
          },
          "metadata": {}
        }
      ]
    },
    {
      "cell_type": "markdown",
      "source": "### Zahlen\n\nJavaScript hat einen Zahlentyp für Ganzahlen und Fließkommazahlen, der einfach `Number`heißt.",
      "metadata": {}
    },
    {
      "cell_type": "code",
      "source": "1.1413",
      "metadata": {
        "trusted": true
      },
      "execution_count": 5,
      "outputs": [
        {
          "execution_count": 5,
          "output_type": "execute_result",
          "data": {
            "text/plain": 1.1413
          },
          "metadata": {}
        }
      ]
    },
    {
      "cell_type": "code",
      "source": "-1",
      "metadata": {
        "trusted": true
      },
      "execution_count": 6,
      "outputs": [
        {
          "execution_count": 6,
          "output_type": "execute_result",
          "data": {
            "text/plain": -1
          },
          "metadata": {}
        }
      ]
    },
    {
      "cell_type": "code",
      "source": "-0",
      "metadata": {
        "trusted": true
      },
      "execution_count": 7,
      "outputs": [
        {
          "execution_count": 7,
          "output_type": "execute_result",
          "data": {
            "text/plain": 0
          },
          "metadata": {}
        }
      ]
    },
    {
      "cell_type": "markdown",
      "source": "Für große Ganzzahlen die nicht in die 53 Bit passen, die mit einem Float64 abgebildet werden können, gib es BigInt. Dort wird bei der Eingabe ein `n` nachgestellt, z.B.: `17n`.",
      "metadata": {}
    },
    {
      "cell_type": "markdown",
      "source": "### Zeichenketten (Strings)",
      "metadata": {}
    },
    {
      "cell_type": "code",
      "source": "\"abc\"",
      "metadata": {
        "trusted": true
      },
      "execution_count": 9,
      "outputs": [
        {
          "execution_count": 9,
          "output_type": "execute_result",
          "data": {
            "text/plain": "abc"
          },
          "metadata": {}
        }
      ]
    },
    {
      "cell_type": "markdown",
      "source": "Es können einfache oder doppelte Anführungszeichen verwendet werden. Das ist hilfreich, wenn eins von beidem im Text vorkommt, dann muss mann nicht _escapen_.",
      "metadata": {}
    },
    {
      "cell_type": "code",
      "source": "'\\'Test\\''",
      "metadata": {
        "trusted": true
      },
      "execution_count": 10,
      "outputs": [
        {
          "execution_count": 10,
          "output_type": "execute_result",
          "data": {
            "text/plain": "'Test'"
          },
          "metadata": {}
        }
      ]
    },
    {
      "cell_type": "code",
      "source": "\"'Test'\"",
      "metadata": {
        "trusted": true
      },
      "execution_count": 11,
      "outputs": [
        {
          "execution_count": 11,
          "output_type": "execute_result",
          "data": {
            "text/plain": "'Test'"
          },
          "metadata": {}
        }
      ]
    },
    {
      "cell_type": "markdown",
      "source": "Zusätzlich sind \"`\" (Backticks) verwendbar, damit kann eine Interpolation stattfinden.",
      "metadata": {}
    },
    {
      "cell_type": "code",
      "source": "`Interpolation eines Werts: ${42}`",
      "metadata": {
        "trusted": true
      },
      "execution_count": 13,
      "outputs": [
        {
          "execution_count": 13,
          "output_type": "execute_result",
          "data": {
            "text/plain": "Interpolation eines Werts: 42"
          },
          "metadata": {}
        }
      ]
    },
    {
      "cell_type": "markdown",
      "source": "Buchstaben (Chars) gibt es nicht als separaten Typ, dafür werden auch Strings verwendet.",
      "metadata": {}
    },
    {
      "cell_type": "markdown",
      "source": "## Operatoren\n(Nicht vollständig, erstmal nur die Wichtigsten)",
      "metadata": {}
    },
    {
      "cell_type": "markdown",
      "source": "### Für Boolsche Werte",
      "metadata": {}
    },
    {
      "cell_type": "code",
      "source": "true && false // und",
      "metadata": {
        "trusted": true
      },
      "execution_count": 14,
      "outputs": [
        {
          "execution_count": 14,
          "output_type": "execute_result",
          "data": {
            "text/plain": false
          },
          "metadata": {}
        }
      ]
    },
    {
      "cell_type": "code",
      "source": "true || false // oder",
      "metadata": {
        "trusted": true
      },
      "execution_count": 34,
      "outputs": [
        {
          "execution_count": 34,
          "output_type": "execute_result",
          "data": {
            "text/plain": true
          },
          "metadata": {}
        }
      ]
    },
    {
      "cell_type": "code",
      "source": "!true // nicht",
      "metadata": {
        "trusted": true
      },
      "execution_count": 36,
      "outputs": [
        {
          "execution_count": 36,
          "output_type": "execute_result",
          "data": {
            "text/plain": false
          },
          "metadata": {}
        }
      ]
    },
    {
      "cell_type": "markdown",
      "source": "### Für Zahlen",
      "metadata": {}
    },
    {
      "cell_type": "code",
      "source": "3 + 4",
      "metadata": {
        "trusted": true
      },
      "execution_count": 17,
      "outputs": [
        {
          "execution_count": 17,
          "output_type": "execute_result",
          "data": {
            "text/plain": 7
          },
          "metadata": {}
        }
      ]
    },
    {
      "cell_type": "code",
      "source": "3 - 4",
      "metadata": {
        "trusted": true
      },
      "execution_count": 18,
      "outputs": [
        {
          "execution_count": 18,
          "output_type": "execute_result",
          "data": {
            "text/plain": -1
          },
          "metadata": {}
        }
      ]
    },
    {
      "cell_type": "code",
      "source": "2 * 2",
      "metadata": {
        "trusted": true
      },
      "execution_count": 19,
      "outputs": [
        {
          "execution_count": 19,
          "output_type": "execute_result",
          "data": {
            "text/plain": 4
          },
          "metadata": {}
        }
      ]
    },
    {
      "cell_type": "code",
      "source": "2 / 2",
      "metadata": {
        "trusted": true
      },
      "execution_count": 20,
      "outputs": [
        {
          "execution_count": 20,
          "output_type": "execute_result",
          "data": {
            "text/plain": 1
          },
          "metadata": {}
        }
      ]
    },
    {
      "cell_type": "code",
      "source": "2 ** 4 // hoch",
      "metadata": {
        "trusted": true
      },
      "execution_count": 22,
      "outputs": [
        {
          "execution_count": 22,
          "output_type": "execute_result",
          "data": {
            "text/plain": 16
          },
          "metadata": {}
        }
      ]
    },
    {
      "cell_type": "markdown",
      "source": "### Für Zeichenketten",
      "metadata": {}
    },
    {
      "cell_type": "code",
      "source": "'Hallo' + ' ' + 'Welt'",
      "metadata": {
        "trusted": true
      },
      "execution_count": 23,
      "outputs": [
        {
          "execution_count": 23,
          "output_type": "execute_result",
          "data": {
            "text/plain": "Hallo Welt"
          },
          "metadata": {}
        }
      ]
    },
    {
      "cell_type": "markdown",
      "source": "### Vergleichsoperatoren",
      "metadata": {}
    },
    {
      "cell_type": "code",
      "source": "3 < 4",
      "metadata": {
        "trusted": true
      },
      "execution_count": 25,
      "outputs": [
        {
          "execution_count": 25,
          "output_type": "execute_result",
          "data": {
            "text/plain": true
          },
          "metadata": {}
        }
      ]
    },
    {
      "cell_type": "code",
      "source": "4 >= 4",
      "metadata": {
        "trusted": true
      },
      "execution_count": 26,
      "outputs": [
        {
          "execution_count": 26,
          "output_type": "execute_result",
          "data": {
            "text/plain": true
          },
          "metadata": {}
        }
      ]
    },
    {
      "cell_type": "code",
      "source": "4 === 4",
      "metadata": {
        "trusted": true
      },
      "execution_count": 27,
      "outputs": [
        {
          "execution_count": 27,
          "output_type": "execute_result",
          "data": {
            "text/plain": true
          },
          "metadata": {}
        }
      ]
    },
    {
      "cell_type": "code",
      "source": "4 !== 4",
      "metadata": {
        "trusted": true
      },
      "execution_count": 28,
      "outputs": [
        {
          "execution_count": 28,
          "output_type": "execute_result",
          "data": {
            "text/plain": false
          },
          "metadata": {}
        }
      ]
    },
    {
      "cell_type": "markdown",
      "source": "Es gibt auch den `==` Operator, dieser sollte vermieden werden. Wir sprechen darüber wenn wir über _Coercion_ sprechen.",
      "metadata": {}
    },
    {
      "cell_type": "markdown",
      "source": "# Variablendeklaration",
      "metadata": {}
    },
    {
      "cell_type": "markdown",
      "source": "## Konstanten",
      "metadata": {}
    },
    {
      "cell_type": "code",
      "source": "const answer = 42;",
      "metadata": {
        "trusted": true
      },
      "execution_count": 30,
      "outputs": [
        {
          "execution_count": 30,
          "output_type": "execute_result",
          "data": {},
          "metadata": {}
        }
      ]
    },
    {
      "cell_type": "code",
      "source": "const answer = 42;\nanswer = 43;",
      "metadata": {
        "trusted": true
      },
      "execution_count": 32,
      "outputs": [
        {
          "ename": "TypeError",
          "evalue": "Assignment to constant variable.",
          "traceback": [
            "TypeError: Assignment to constant variable.\n    at eval (eval at <anonymous> (eval at s (https://kleinernik.github.io/jupyter/build/1013.37ec5b5.js:1:1)), <anonymous>:2:8)\n    at eval (<anonymous>)\n    at s.eval [as _evalFunc] (eval at s (https://kleinernik.github.io/jupyter/build/1013.37ec5b5.js:1:1), <anonymous>:3:15)\n    at s._eval (https://kleinernik.github.io/jupyter/build/1013.37ec5b5.js:1:2501)\n    at s.executeRequest (https://kleinernik.github.io/jupyter/build/1013.37ec5b5.js:1:1372)\n    at s._execute (https://kleinernik.github.io/jupyter/build/6433.a5fc382.js:1:6015)\n    at s.handleMessage (https://kleinernik.github.io/jupyter/build/6433.a5fc382.js:1:2290)\n    at https://kleinernik.github.io/jupyter/build/6433.a5fc382.js:1:10032\n    at https://kleinernik.github.io/jupyter/build/6433.a5fc382.js:1:9106\n    at d.<anonymous> (https://kleinernik.github.io/jupyter/build/6433.a5fc382.js:1:7792)"
          ],
          "output_type": "error"
        }
      ]
    },
    {
      "cell_type": "markdown",
      "source": "## Variablen",
      "metadata": {}
    },
    {
      "cell_type": "code",
      "source": "let myVar; // Deklaration\nmyVar = 3; // Zuweisung",
      "metadata": {
        "trusted": true
      },
      "execution_count": 40,
      "outputs": [
        {
          "execution_count": 40,
          "output_type": "execute_result",
          "data": {
            "text/plain": 3
          },
          "metadata": {}
        }
      ]
    },
    {
      "cell_type": "code",
      "source": "let myVar2 = 3; // Deklaration und Initialisierung in einem Schritt",
      "metadata": {
        "trusted": true
      },
      "execution_count": 43,
      "outputs": [
        {
          "execution_count": 43,
          "output_type": "execute_result",
          "data": {},
          "metadata": {}
        }
      ]
    },
    {
      "cell_type": "markdown",
      "source": "## Funktionen",
      "metadata": {}
    },
    {
      "cell_type": "code",
      "source": "function add(a, b) {\n    return a + b;\n}\nadd(1, 2)",
      "metadata": {
        "trusted": true
      },
      "execution_count": 44,
      "outputs": [
        {
          "execution_count": 44,
          "output_type": "execute_result",
          "data": {
            "text/plain": 3
          },
          "metadata": {}
        }
      ]
    },
    {
      "cell_type": "code",
      "source": "const add2 = (a, b) => { return a + b};\nadd2(1, 2)",
      "metadata": {
        "trusted": true
      },
      "execution_count": 45,
      "outputs": [
        {
          "execution_count": 45,
          "output_type": "execute_result",
          "data": {
            "text/plain": 3
          },
          "metadata": {}
        }
      ]
    },
    {
      "cell_type": "code",
      "source": "const add3 = (a, b) => a + b; // Kurzform, wenn der Funktionsrumpf nur einen Ausdruck enthält\n// Das Ergebniss des Ausdrucks ist der return-Wert\nadd3(2, 3)",
      "metadata": {
        "trusted": true
      },
      "execution_count": 48,
      "outputs": [
        {
          "execution_count": 48,
          "output_type": "execute_result",
          "data": {
            "text/plain": 5
          },
          "metadata": {}
        }
      ]
    },
    {
      "cell_type": "markdown",
      "source": "# Objekte",
      "metadata": {}
    },
    {
      "cell_type": "code",
      "source": "// Objekt-Literal {}\nconst niklas = {\n    firstName: 'Niklas',\n    lastName: 'Klein',\n    getFullName() {\n        return `${this.firstName} ${this.lastName}`\n    }\n}\n\nniklas.getFullName();",
      "metadata": {
        "trusted": true
      },
      "execution_count": 51,
      "outputs": [
        {
          "execution_count": 51,
          "output_type": "execute_result",
          "data": {
            "text/plain": "Niklas Klein"
          },
          "metadata": {}
        }
      ]
    },
    {
      "cell_type": "code",
      "source": "const niklas = {\n    firstName: 'Niklas',\n    lastName: 'Klein',\n    getFullName() {\n        return `${this.firstName} ${this.lastName}`\n    }\n}\n\nniklas.lastName;",
      "metadata": {
        "trusted": true
      },
      "execution_count": 53,
      "outputs": [
        {
          "execution_count": 53,
          "output_type": "execute_result",
          "data": {
            "text/plain": "Klein"
          },
          "metadata": {}
        }
      ]
    },
    {
      "cell_type": "markdown",
      "source": "## Unterschiede zu Java\n\n* Keine Klasse definiert, aber direkt ein Objekt\n* Keine Access-Modifier\n* Keine Typen für Attribute\n* ...",
      "metadata": {}
    },
    {
      "cell_type": "markdown",
      "source": "# Arrays",
      "metadata": {}
    },
    {
      "cell_type": "code",
      "source": "// Array-Literal []\nconst myArray = [1, 2, 3, 4]\nmyArray[1]",
      "metadata": {
        "trusted": true
      },
      "execution_count": 56,
      "outputs": [
        {
          "execution_count": 56,
          "output_type": "execute_result",
          "data": {
            "text/plain": 2
          },
          "metadata": {}
        }
      ]
    },
    {
      "cell_type": "code",
      "source": "const myArray = [1, 2, 3, 4]\nmyArray.push(5)",
      "metadata": {
        "trusted": true
      },
      "execution_count": 57,
      "outputs": [
        {
          "execution_count": 57,
          "output_type": "execute_result",
          "data": {
            "text/plain": 5
          },
          "metadata": {}
        }
      ]
    },
    {
      "cell_type": "markdown",
      "source": "`myArray` ist doch eine Konstante, warum kann man dort etwas ändern? Wenn in einer Konstanten nicht primitive Typen gespeichert sind, kann man zwar keinen ganz neuen Wert zufügen, aber die Objekte oder Arrays können geändert werden.",
      "metadata": {}
    },
    {
      "cell_type": "code",
      "source": "const myArray = [1, 2, 3, 4]\nmyArray = [1, 2, 3, 4, 5] // das geht also nicht",
      "metadata": {
        "trusted": true
      },
      "execution_count": 60,
      "outputs": [
        {
          "ename": "TypeError",
          "evalue": "Assignment to constant variable.",
          "traceback": [
            "TypeError: Assignment to constant variable.\n    at eval (eval at <anonymous> (eval at s (https://kleinernik.github.io/jupyter/build/1013.37ec5b5.js:1:1)), <anonymous>:2:9)\n    at eval (<anonymous>)\n    at s.eval [as _evalFunc] (eval at s (https://kleinernik.github.io/jupyter/build/1013.37ec5b5.js:1:1), <anonymous>:3:15)\n    at s._eval (https://kleinernik.github.io/jupyter/build/1013.37ec5b5.js:1:2501)\n    at s.executeRequest (https://kleinernik.github.io/jupyter/build/1013.37ec5b5.js:1:1372)\n    at s._execute (https://kleinernik.github.io/jupyter/build/6433.a5fc382.js:1:6015)\n    at s.handleMessage (https://kleinernik.github.io/jupyter/build/6433.a5fc382.js:1:2290)\n    at https://kleinernik.github.io/jupyter/build/6433.a5fc382.js:1:10032\n    at https://kleinernik.github.io/jupyter/build/6433.a5fc382.js:1:9106\n    at d.<anonymous> (https://kleinernik.github.io/jupyter/build/6433.a5fc382.js:1:7792)"
          ],
          "output_type": "error"
        }
      ]
    },
    {
      "cell_type": "markdown",
      "source": "# Kontrollfluss",
      "metadata": {}
    },
    {
      "cell_type": "code",
      "source": "let x = 1;\nif (x > 0 ) {\n    x = -x;\n} else {\n    x = x * 2\n}",
      "metadata": {
        "trusted": true
      },
      "execution_count": 61,
      "outputs": [
        {
          "execution_count": 61,
          "output_type": "execute_result",
          "data": {
            "text/plain": -1
          },
          "metadata": {}
        }
      ]
    },
    {
      "cell_type": "code",
      "source": "for(x=0; x < 10; x++) {\n    console.log(x) // so funktioniert Ausgabe. Was in Java System.out.println() wäre\n}",
      "metadata": {
        "trusted": true
      },
      "execution_count": 62,
      "outputs": [
        {
          "execution_count": 62,
          "output_type": "execute_result",
          "data": {},
          "metadata": {}
        },
        {
          "event": "stream",
          "name": "stdout",
          "text": "0\n1\n2\n3\n4\n5\n6\n7\n8\n9\n",
          "output_type": "stream"
        }
      ]
    },
    {
      "cell_type": "markdown",
      "source": "# Klassen\n\n```javascript\nclass Person {\n    constructor(name) {\n        this.name = name;\n    }\n}\n\nconst niklas = new Person(niklas);\nniklas.name;\n```",
      "metadata": {}
    },
    {
      "cell_type": "markdown",
      "source": "# Module\n\nModule sind Dateien, die zusammenhängende Funktionalitäten bereitstellen.\n\nZ.B. eine Datei math.mjs, mit folgendem Inhalt:\n\n```javascript\nexport function add(a, b) {\n    return a + b;\n}\n```\n\nDann kann in einer anderen Datei der Modul importiert werden:\n\n```javascript\nimport * as math from 'math'\n\nmath.add(a, b);\n```\n",
      "metadata": {}
    },
    {
      "cell_type": "markdown",
      "source": "# Ausnahmebehandlung",
      "metadata": {}
    },
    {
      "cell_type": "code",
      "source": "function hups() { throw new Error('Hups');\n}\nhups()",
      "metadata": {
        "trusted": true
      },
      "execution_count": 68,
      "outputs": [
        {
          "ename": "Error",
          "evalue": "Hups",
          "traceback": [
            "Error: Hups\n    at hups (eval at <anonymous> (eval at s (https://kleinernik.github.io/jupyter/build/1013.37ec5b5.js:1:1)), <anonymous>:1:25)\n    at eval (eval at <anonymous> (eval at s (https://kleinernik.github.io/jupyter/build/1013.37ec5b5.js:1:1)), <anonymous>:3:1)\n    at eval (<anonymous>)\n    at s.eval [as _evalFunc] (eval at s (https://kleinernik.github.io/jupyter/build/1013.37ec5b5.js:1:1), <anonymous>:3:15)\n    at s._eval (https://kleinernik.github.io/jupyter/build/1013.37ec5b5.js:1:2501)\n    at s.executeRequest (https://kleinernik.github.io/jupyter/build/1013.37ec5b5.js:1:1372)\n    at s._execute (https://kleinernik.github.io/jupyter/build/6433.a5fc382.js:1:6015)\n    at s.handleMessage (https://kleinernik.github.io/jupyter/build/6433.a5fc382.js:1:2290)\n    at https://kleinernik.github.io/jupyter/build/6433.a5fc382.js:1:10032\n    at https://kleinernik.github.io/jupyter/build/6433.a5fc382.js:1:9106"
          ],
          "output_type": "error"
        }
      ]
    },
    {
      "cell_type": "code",
      "source": "function hups() { throw new Error('Hups');\n}\n\nfunction catchHups() {\n    try {\n        hups()\n    } catch(error) {\n        console.log(`we've got an error here: ${error}`)\n    }\n}\n\ncatchHups()",
      "metadata": {
        "trusted": true
      },
      "execution_count": 69,
      "outputs": [
        {
          "execution_count": 69,
          "output_type": "execute_result",
          "data": {},
          "metadata": {}
        },
        {
          "event": "stream",
          "name": "stdout",
          "text": "we've got an error here: Error: Hups\n",
          "output_type": "stream"
        }
      ]
    },
    {
      "cell_type": "markdown",
      "source": "# Variablennamen und Objektattributsnamen (Identifier)\n\nErlaubt sind:\n\n* Unicode Buchstaben, A-Z, a-z usw.\n* `$`\n* `_`\n* Unicode Zahlen, 0-9 usw. (Aber keine Zahl am Anfang)\n\n`if`, `true`, `for` könnenn nicht in Variablennamen vorkommen, aber in Objektattributesnamen",
      "metadata": {}
    },
    {
      "cell_type": "markdown",
      "source": "# Semikolons\n\nUm Anweisungen abzuschließen werden Semikolons verwendet, wie in Java.\nAllerdings können diese auch in viellen Fällen weggelassen werden, JavaScript fügt die beim Parsen wieder ein. (Automatic Semicolon Insertion genannt.)\nDie Regeln dazu sind komplex und dies kann zu unerwarteten Bugs führen, daher sollten Sie besser einfach Semikolons verwenden.\n\nNach einer `}` ist kein Semikolon nötig.",
      "metadata": {}
    },
    {
      "cell_type": "code",
      "source": "const a = 1\nconst b = 2\nconst c = a + b\nconsole.log(c)",
      "metadata": {
        "trusted": true
      },
      "execution_count": 72,
      "outputs": [
        {
          "execution_count": 72,
          "output_type": "execute_result",
          "data": {},
          "metadata": {}
        },
        {
          "event": "stream",
          "name": "stdout",
          "text": "3\n",
          "output_type": "stream"
        }
      ]
    },
    {
      "cell_type": "code",
      "source": "// oder eben\nconst a = 1;\nconst b = 2;\nconst c = a + b;\nconsole.log(c);",
      "metadata": {
        "trusted": true
      },
      "execution_count": 86,
      "outputs": [
        {
          "execution_count": 86,
          "output_type": "execute_result",
          "data": {},
          "metadata": {}
        },
        {
          "event": "stream",
          "name": "stdout",
          "text": "3\n",
          "output_type": "stream"
        }
      ]
    },
    {
      "cell_type": "markdown",
      "source": "Achtung, nach einem `return` darf kein Zeilenumbruch stehen, sonst fügt ASI dort ein `;` ein, so das nichts \"returned\" wird.",
      "metadata": {}
    },
    {
      "cell_type": "markdown",
      "source": "# Ausdrücke / Expressions\n\nAusdrücke können evaluiert werden, so dass ein neuer Wert erzeugt wird, z.B.:",
      "metadata": {}
    },
    {
      "cell_type": "code",
      "source": "1 + 1",
      "metadata": {
        "trusted": true
      },
      "execution_count": 84,
      "outputs": [
        {
          "execution_count": 84,
          "output_type": "execute_result",
          "data": {
            "text/plain": 2
          },
          "metadata": {}
        }
      ]
    },
    {
      "cell_type": "markdown",
      "source": "Die Parameter von Funktionen müssen Ausdrücke sein, z.B.:",
      "metadata": {}
    },
    {
      "cell_type": "code",
      "source": "console.log(1 + 1);",
      "metadata": {
        "trusted": true
      },
      "execution_count": 85,
      "outputs": [
        {
          "execution_count": 85,
          "output_type": "execute_result",
          "data": {},
          "metadata": {}
        },
        {
          "event": "stream",
          "name": "stdout",
          "text": "2\n",
          "output_type": "stream"
        }
      ]
    },
    {
      "cell_type": "markdown",
      "source": "# Anweisungen / Statements\n\nAnweisungen sind etwas, was ausgeführt werden kann und dann eine Art Aktion durchführt, z.B.:",
      "metadata": {}
    },
    {
      "cell_type": "code",
      "source": "let x = 1 + 1;",
      "metadata": {
        "trusted": true
      },
      "execution_count": 83,
      "outputs": []
    },
    {
      "cell_type": "markdown",
      "source": "Der Rumpf von Funktionen muss ein Ausdruck sein, z.B.:\n\n```javascript\nfunction add(a, b) {\n    return a + b;\n}\n```\n",
      "metadata": {}
    },
    {
      "cell_type": "markdown",
      "source": "# Blöcke",
      "metadata": {}
    },
    {
      "cell_type": "code",
      "source": "let a = 10;\nwhile (a > 0) a--; // einzelne Anweisung als Rumpf (Body)\na",
      "metadata": {
        "trusted": true
      },
      "execution_count": 77,
      "outputs": [
        {
          "execution_count": 77,
          "output_type": "execute_result",
          "data": {
            "text/plain": 0
          },
          "metadata": {}
        }
      ]
    },
    {
      "cell_type": "code",
      "source": "let a = 10;\nwhile (a > 0) { // Blöcke (in geschweiften Klammern) sind auch Anweisungen\n    a--;\n    console.log(a)\n}",
      "metadata": {
        "trusted": true
      },
      "execution_count": 79,
      "outputs": [
        {
          "execution_count": 79,
          "output_type": "execute_result",
          "data": {},
          "metadata": {}
        },
        {
          "event": "stream",
          "name": "stdout",
          "text": "9\n8\n7\n6\n5\n4\n3\n2\n1\n0\n",
          "output_type": "stream"
        }
      ]
    },
    {
      "cell_type": "markdown",
      "source": "Achtung sowohl Blöcke als auch Objektliterale werden mit geschweiften Klammern erzeugt. Was von beidem ist kontektabhängig.\n\nDa wo ein Ausdruck erwartet wird, ist es das Objektliteral; da wo eine Anweisung erwartet wird, ist es dein Block.",
      "metadata": {}
    },
    {
      "cell_type": "code",
      "source": "[1, 2, 3][1,2]",
      "metadata": {
        "trusted": true
      },
      "execution_count": 87,
      "outputs": [
        {
          "execution_count": 87,
          "output_type": "execute_result",
          "data": {
            "text/plain": 3
          },
          "metadata": {}
        }
      ]
    },
    {
      "cell_type": "markdown",
      "source": "# Strict Mode\n\nAb der Version ECMAScript 5 hat JavsScript zwei Modi, \"strict\" (default für Module und Classen) und \"sloppy\" (default für Code-Fragmente).\n\nMit `'user strict';` als erste Zeile in einem JavaScript-Script kann der strikte Modus aktiviert werden (falls es nicht ohnehin ein Modul ist). Sie sollten immer den strikten Modus verwenden, dieser schützt vor diversen Problemfällen.\n\n## Undeklarierte Variablen\n\nIm \"sloppy\"-Modus können Sie Zuweisungen zu einer Variable schreiben (z.B. Tippfehler) und es wird dann automatisch eine globale Variable erzeugt.\n\n## Block-Scope vs. Function-Scope\n\nMit dem \"strict\"-Modus sind Variablen nur in dem umschließenden Block gültig, im \"sloppy\"-Modus im gesammten Funktionsrumpf.\n\n## Änderung von unveränderlichen Daten (immutable)\n\nIm \"sloppy\"-Modus erhalten Sie keine Fehlermeldung, wenn Sie Daten wollen, die nicht veränderbar sind.",
      "metadata": {}
    },
    {
      "cell_type": "code",
      "source": "",
      "metadata": {},
      "execution_count": null,
      "outputs": []
    }
  ]
}